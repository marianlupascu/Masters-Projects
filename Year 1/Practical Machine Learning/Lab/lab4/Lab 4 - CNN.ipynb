{
 "cells": [
  {
   "cell_type": "markdown",
   "metadata": {},
   "source": [
    "# Practical Machine Learning\n",
    "# Lab 4\n",
    "## Convolutional Neural Networks"
   ]
  },
  {
   "attachments": {
    "cnn.jpeg": {
     "image/jpeg": "[encoded data removed]"
    }
   },
   "cell_type": "markdown",
   "metadata": {},
   "source": [
    "![cnn.jpeg](attachment:cnn.jpeg)\n",
    "A ConvNet arranges its neurons in three dimensions (width, height, depth). Every layer of a ConvNet transforms the 3D input volume to a 3D output volume of neuron activations. In this example, the red input layer holds the image, so its width and height would be the dimensions of the image, and the depth would be 3 (Red, Green, Blue channels)"
   ]
  },
  {
   "cell_type": "markdown",
   "metadata": {},
   "source": [
    "## Properties of the convolution layer\n",
    " - parameter sharing\n",
    "    - in a fully connected neural network one weight is used only once during a forward step, but in a CNN one weight is used in each position of the input (when the stride is 1, excepting the edges)\n",
    " - local connectivity\n",
    "     - each neuron (unit) is connected only to a small region, this region is named receptive field\n",
    " - equivariance to translation\n",
    "     - if a filter learns to recognise a specific pattern, it will recognise that pattern no matter its location in the input\n",
    "     \n",
    "## Properties of the pooling layer\n",
    " - a pooling function replaces the output of the net at a certain location with a summary statistic of the nearby outputs\n",
    " - helps to make the representation approximately invariant to small translations of the input"
   ]
  },
  {
   "cell_type": "code",
   "execution_count": 2,
   "metadata": {},
   "outputs": [],
   "source": [
    "import numpy as np\n",
    "import matplotlib.pyplot as plt "
   ]
  },
  {
   "cell_type": "markdown",
   "metadata": {},
   "source": [
    "- Loading the images"
   ]
  },
  {
   "cell_type": "code",
   "execution_count": 3,
   "metadata": {},
   "outputs": [
    {
     "name": "stdout",
     "output_type": "stream",
     "text": [
      "The number of images for training is 10000.\n"
     ]
    }
   ],
   "source": [
    "# load the training data\n",
    "train_images_raw = np.load('data/train_images.npy')\n",
    "train_labels = np.load('data/train_labels.npy') \n",
    "print('The number of images for training is %d.' % train_images_raw.shape[0]) \n",
    "\n",
    "# load the test data\n",
    "test_images_raw = np.load('data/test_images.npy')\n",
    "test_labels = np.load('data/test_labels.npy') "
   ]
  },
  {
   "cell_type": "markdown",
   "metadata": {},
   "source": [
    "###  Prepare the data\n",
    "Convert the data from uint8 to float32, normalize the pixel data from [0, 255] to [0, 1]\n",
    "\n",
    "Compute the mean image and substract it from each training and test image."
   ]
  },
  {
   "cell_type": "code",
   "execution_count": 4,
   "metadata": {},
   "outputs": [],
   "source": [
    "# write your code here  \n",
    "# TODO: 2.1 convert int to float \n",
    "\n",
    "# TODO: 2.2 compute mean training image \n",
    "\n",
    "# TODO: 2.3 subtract the mean image from training and test data. "
   ]
  },
  {
   "cell_type": "markdown",
   "metadata": {},
   "source": [
    "### Define a conv layer"
   ]
  },
  {
   "cell_type": "code",
   "execution_count": 4,
   "metadata": {},
   "outputs": [
    {
     "data": {
      "text/plain": [
       "<tensorflow.python.keras.layers.convolutional.Conv2D at 0x2b799e59a20>"
      ]
     },
     "execution_count": 4,
     "metadata": {},
     "output_type": "execute_result"
    }
   ],
   "source": [
    "import tensorflow.keras.layers as layers\n",
    "layers.Conv2D(filters=64, kernel_size=(5, 5), activation='relu', strides=(1,1), padding='same')\n",
    "# filters - the number of conv filters\n",
    "# kernel_size - the size of the kernel, we usually use odd numbers\n",
    "# activation - the activation function\n",
    "# strides - the stride on each dimension\n",
    "# padding - same or valid"
   ]
  },
  {
   "cell_type": "markdown",
   "metadata": {},
   "source": [
    "### Define a pooling layer"
   ]
  },
  {
   "cell_type": "code",
   "execution_count": null,
   "metadata": {},
   "outputs": [],
   "source": [
    "layers.AveragePooling2D(pool_size=3, strides=(2,2), padding='same') # average pooling\n",
    "layers.MaxPool2D(pool_size=3, strides=(2,2), padding='same') # max pooling \n",
    "# pool_size - the size of the window\n",
    "# strides - the stride on each dimension\n",
    "# padding - same or valid"
   ]
  },
  {
   "cell_type": "markdown",
   "metadata": {},
   "source": [
    "- Flatten layer - it flattens the input, but does not affect the batch size. "
   ]
  },
  {
   "cell_type": "code",
   "execution_count": 3,
   "metadata": {},
   "outputs": [
    {
     "ename": "NameError",
     "evalue": "name 'layers' is not defined",
     "output_type": "error",
     "traceback": [
      "\u001b[1;31m---------------------------------------------------------------------------\u001b[0m",
      "\u001b[1;31mNameError\u001b[0m                                 Traceback (most recent call last)",
      "\u001b[1;32m<ipython-input-3-b3a3c8d75b5b>\u001b[0m in \u001b[0;36m<module>\u001b[1;34m\u001b[0m\n\u001b[1;32m----> 1\u001b[1;33m \u001b[0mlayers\u001b[0m\u001b[1;33m.\u001b[0m\u001b[0mFlatten\u001b[0m\u001b[1;33m(\u001b[0m\u001b[1;33m)\u001b[0m\u001b[1;33m\u001b[0m\u001b[0m\n\u001b[0m",
      "\u001b[1;31mNameError\u001b[0m: name 'layers' is not defined"
     ]
    }
   ],
   "source": [
    "layers.Flatten()"
   ]
  },
  {
   "cell_type": "markdown",
   "metadata": {},
   "source": [
    "## Exercises"
   ]
  },
  {
   "cell_type": "markdown",
   "metadata": {},
   "source": [
    "## 1. Train a convolutional neural network with the following configuration:\n",
    "    - L1: conv\n",
    "        - kernel-size=3, stride=1, padding=same, filters=32, activation-function=relu\n",
    "    - L2: conv\n",
    "        - kernel-size=3, stride=1, padding=same, filters=32, activation-function=relu\n",
    "    - L3: pool\n",
    "        - kernel-size=2, stride=2, padding=same\n",
    "    - L4: conv\n",
    "        - kernel-size=3, stride=1, padding=same, filters=64, activation-function=relu\n",
    "    - L5: conv\n",
    "        - kernel-size=3, stride=1, padding=same, filters=64, activation-function=relu\n",
    "    - L6: pool\n",
    "        - kernel-size=2, stride=2, padding=same\n",
    "    - L7: conv\n",
    "        - kernel-size=3, stride=1, padding=same, filters=128, activation-function=relu\n",
    "    - L8: conv\n",
    "        - kernel-size=3, stride=1, padding=same, filters=128, activation-function=relu\n",
    "    - L9: pool\n",
    "        - kernel-size=2, stride=2, padding=same\n",
    "    - L10: flatten\n",
    "    - L11: dropout\n",
    "        - dropout rate=0.3\n",
    "    - L12 - fully connected (dense) with 10 units and softmax as activation function.\n",
    " \n",
    "Train the network for 10 epochs using what optimizer you like.\n",
    "\n",
    "The loss you have to use is 'categorical_crossentropy' (you should encode the training labels using one-hot-encoding in order to use this loss).\n",
    "\n",
    "Does this network perform better than a fully connected one?\n",
    "    "
   ]
  },
  {
   "cell_type": "code",
   "execution_count": 7,
   "metadata": {},
   "outputs": [],
   "source": [
    "# write your code here\n",
    "\n",
    "# 1.1 encode the training labels in one-hot\n",
    "\n",
    "# 1.2 define the cnn\n",
    "\n",
    "# 1.3 compile the cnn\n",
    "\n",
    "# 1.4 train the cnn\n",
    "\n",
    "# 1.5 evaluate the cnn"
   ]
  },
  {
   "cell_type": "markdown",
   "metadata": {},
   "source": [
    "## 2. Train again the previous network, but without the dropout layer. What do you notice?"
   ]
  },
  {
   "cell_type": "code",
   "execution_count": null,
   "metadata": {},
   "outputs": [],
   "source": []
  }
 ],
 "metadata": {
  "kernelspec": {
   "display_name": "tf2",
   "language": "python",
   "name": "tf2"
  },
  "language_info": {
   "codemirror_mode": {
    "name": "ipython",
    "version": 3
   },
   "file_extension": ".py",
   "mimetype": "text/x-python",
   "name": "python",
   "nbconvert_exporter": "python",
   "pygments_lexer": "ipython3",
   "version": "3.6.2"
  }
 },
 "nbformat": 4,
 "nbformat_minor": 2
}
