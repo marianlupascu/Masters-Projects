{
 "cells": [
  {
   "cell_type": "markdown",
   "metadata": {},
   "source": [
    "## Computer Vision\n",
    "### Read, Write and Display a video using OpenCV"
   ]
  },
  {
   "cell_type": "code",
   "execution_count": 1,
   "metadata": {},
   "outputs": [],
   "source": [
    "import numpy as np\n",
    "import cv2 as cv \n",
    "import os"
   ]
  },
  {
   "cell_type": "code",
   "execution_count": 2,
   "metadata": {},
   "outputs": [],
   "source": [
    "# change the path to match on your machine\n",
    "base_folder = 'easy'\n",
    "path_video1 = os.path.join(base_folder, \"1.mp4\")"
   ]
  },
  {
   "cell_type": "markdown",
   "metadata": {},
   "source": [
    "### Reading and displaying a video"
   ]
  },
  {
   "cell_type": "code",
   "execution_count": 3,
   "metadata": {},
   "outputs": [
    {
     "output_type": "stream",
     "name": "stdout",
     "text": "frame_width = 1280\nframe_height = 720\ntotal number of frames = 256\nframes per second = 30\n"
    }
   ],
   "source": [
    "# Open the video \n",
    "cap = cv.VideoCapture(path_video1) \n",
    "\n",
    "if cap.isOpened() == False: \n",
    "    print(\"Error opening video stream or file\") \n",
    "    \n",
    "frame_width = int(cap.get(cv.CAP_PROP_FRAME_WIDTH))\n",
    "print('frame_width = ' + str(frame_width))\n",
    "frame_height = int(cap.get(cv.CAP_PROP_FRAME_HEIGHT))\n",
    "print('frame_height = ' + str(frame_height))\n",
    "\n",
    "length = int(cap.get(cv.CAP_PROP_FRAME_COUNT))\n",
    "print(\"total number of frames = \" + str(length))\n",
    "\n",
    "fps = int(cap.get(cv.CAP_PROP_FPS))\n",
    "print(\"frames per second = \" + str(fps))"
   ]
  },
  {
   "cell_type": "code",
   "execution_count": 4,
   "metadata": {},
   "outputs": [],
   "source": [
    "# Display the video\n",
    "current_frame = 0\n",
    "max_number_of_frame_to_run = 750\n",
    "\n",
    "while cap.isOpened(): \n",
    "    \n",
    "    ret, frame = cap.read() # Read the frame\n",
    "    if ret is True:\n",
    "        current_frame = current_frame + 1 \n",
    "        cv.imshow(\"Frame\", frame)\n",
    "        \n",
    "        if current_frame > max_number_of_frame_to_run:\n",
    "            break\n",
    "            \n",
    "        if cv.waitKey(25) & 0xFF == ord('q'):\n",
    "            break\n",
    "    else:\n",
    "        break\n",
    "\n",
    "# after playing the video, release the video capture    \n",
    "cap.release()\n",
    "# close all the frames\n",
    "cv.destroyAllWindows()"
   ]
  },
  {
   "cell_type": "code",
   "execution_count": 4,
   "metadata": {},
   "outputs": [],
   "source": [
    "# This function takes the video path and returns the a list of frames.\n",
    "def read_frames(video_path):\n",
    "    frames = []\n",
    "    cap = cv.VideoCapture(video_path)  \n",
    "    if cap.isOpened() == False: \n",
    "        print(\"Error opening video stream or file\") \n",
    "        return frames\n",
    "    \n",
    "    while cap.isOpened():  \n",
    "        ret, frame = cap.read() # Read the frame\n",
    "        if ret is True:\n",
    "            frames.append(frame)\n",
    "        else:\n",
    "            break\n",
    "    cap.release()\n",
    "    return frames"
   ]
  },
  {
   "cell_type": "markdown",
   "metadata": {},
   "source": [
    "### Writing a video"
   ]
  },
  {
   "cell_type": "code",
   "execution_count": 5,
   "metadata": {},
   "outputs": [],
   "source": [
    "# We are going to write the same video at 1 fps, first we need to read the frames.\n",
    "frames = read_frames(path_video1)\n",
    "\n",
    "# here we have the extensions and the fourcc for each of it\n",
    "video_extension_and_fourcc_dict = {'avi': cv.VideoWriter_fourcc('M', 'J', 'P', 'G'),\n",
    "                                   'mp4': 0x7634706d}   \n",
    " \n",
    "# We need to create a VideoWriter object. \n",
    "# First, we should specify the output file name with its format (eg: 1_fps_1.mp4). \n",
    "# we should specify the FourCC code and the number of frames per second (FPS). \n",
    "# Lastly, the frame size should be passed (width, height).\n",
    "\n",
    "video_output_name = \"1_fps_1.mp4\"\n",
    "output_video = cv.VideoWriter(video_output_name, video_extension_and_fourcc_dict[\"mp4\"], 1,\n",
    "                              (frames[0].shape[1], frames[0].shape[0]))\n",
    "\n",
    "num_frames = len(frames)\n",
    "# We know that the first video has 30 fps.\n",
    "for i in range(0, num_frames, 30):\n",
    "    output_video.write(frames[i]) # writing the frame\n",
    "\n",
    "# don't forget to release the video writer\n",
    "output_video.release()"
   ]
  },
  {
   "cell_type": "markdown",
   "metadata": {},
   "source": [
    "## Project 2 - Snooker\n",
    "We are going to detect the snooker table and the snooker balls based on the color using the hSV color space."
   ]
  },
  {
   "cell_type": "code",
   "execution_count": 6,
   "metadata": {},
   "outputs": [
    {
     "output_type": "stream",
     "name": "stdout",
     "text": "hsv_green [[[ 60 255 255]]]\nhsv_white [[[  0   0 255]]]\nhsv_red [[[  0 255 255]]]\nhsv_blue [[[120 255 255]]]\n"
    }
   ],
   "source": [
    "# get a feeling about detecting the snooker table and the snooker balls based on the color using the hSV color space\n",
    "# conversion from BGR to HSV\n",
    "# https://docs.opencv.org/trunk/df/d9d/tutorial_py_colorspaces.html\n",
    "\n",
    "# the snooker table is green\n",
    "bgr_green = np.uint8([[[0, 255, 0]]])\n",
    "hsv_green = cv.cvtColor(bgr_green, cv.COLOR_BGR2HSV)\n",
    "print(\"hsv_green\", hsv_green )\n",
    "\n",
    "# the cue ball is white\n",
    "bgr_white = np.uint8([[[255, 255, 255]]])\n",
    "hsv_white = cv.cvtColor(bgr_white, cv.COLOR_BGR2HSV)\n",
    "print(\"hsv_white\", hsv_white)\n",
    "\n",
    "# the other snooker balls are red, black, pink, blue, brown, green (dark), yellow\n",
    "bgr_red = np.uint8([[[0, 0, 255]]])\n",
    "hsv_red = cv.cvtColor(bgr_red, cv.COLOR_BGR2HSV)\n",
    "print(\"hsv_red\", hsv_red )\n",
    "\n",
    "bgr_blue = np.uint8([[[255 ,0 ,0]]])\n",
    "hsv_blue = cv.cvtColor(bgr_blue, cv.COLOR_BGR2HSV)\n",
    "print(\"hsv_blue\", hsv_blue )"
   ]
  },
  {
   "cell_type": "code",
   "execution_count": 17,
   "metadata": {},
   "outputs": [],
   "source": [
    "def find_color_values_using_trackbar(frame):\n",
    "    # convert the frame from BGR to HSV\n",
    "    frame_hsv = cv.cvtColor(frame, cv.COLOR_BGR2HSV)\n",
    "\n",
    "    # we need this function as a callback \n",
    "    def nothing(x):\n",
    "        pass\n",
    "\n",
    "    cv.namedWindow(\"Trackbar\") \n",
    "    cv.createTrackbar(\"LH\", \"Trackbar\", 0, 255, nothing)\n",
    "    cv.createTrackbar(\"LS\", \"Trackbar\", 0, 255, nothing)\n",
    "    cv.createTrackbar(\"LV\", \"Trackbar\", 0, 255, nothing)\n",
    "    cv.createTrackbar(\"UH\", \"Trackbar\", 255, 255, nothing)\n",
    "    cv.createTrackbar(\"US\", \"Trackbar\", 255, 255, nothing)\n",
    "    cv.createTrackbar(\"UV\", \"Trackbar\", 255, 255, nothing)\n",
    "    \n",
    "    \n",
    "    while True:\n",
    "\n",
    "        l_h = cv.getTrackbarPos(\"LH\", \"Trackbar\")\n",
    "        l_s = cv.getTrackbarPos(\"LS\", \"Trackbar\")\n",
    "        l_v = cv.getTrackbarPos(\"LV\", \"Trackbar\")\n",
    "        u_h = cv.getTrackbarPos(\"UH\", \"Trackbar\")\n",
    "        u_s = cv.getTrackbarPos(\"US\", \"Trackbar\")\n",
    "        u_v = cv.getTrackbarPos(\"UV\", \"Trackbar\")\n",
    "\n",
    "\n",
    "        l = np.array([l_h, l_s, l_v])\n",
    "        u = np.array([u_h, u_s, u_v])\n",
    "        mask_table_hsv = cv.inRange(frame_hsv, l, u)        \n",
    "\n",
    "        res = cv.bitwise_and(frame, frame, mask=mask_table_hsv)    \n",
    "        cv.imshow(\"Frame\", frame)\n",
    "        cv.imshow(\"Mask\", mask_table_hsv)\n",
    "        cv.imshow(\"Res\", res)\n",
    "\n",
    "        if cv.waitKey(25) & 0xFF == ord('q'):\n",
    "                break\n",
    "\n",
    "\n",
    "    cv.destroyAllWindows()\n",
    "    "
   ]
  },
  {
   "cell_type": "code",
   "execution_count": 18,
   "metadata": {},
   "outputs": [
    {
     "output_type": "error",
     "ename": "KeyboardInterrupt",
     "evalue": "",
     "traceback": [
      "\u001b[1;31m---------------------------------------------------------------------------\u001b[0m",
      "\u001b[1;31mKeyboardInterrupt\u001b[0m                         Traceback (most recent call last)",
      "\u001b[1;32m<ipython-input-18-3101a06f58e0>\u001b[0m in \u001b[0;36m<module>\u001b[1;34m\u001b[0m\n\u001b[0;32m      6\u001b[0m \u001b[0mret\u001b[0m\u001b[1;33m,\u001b[0m \u001b[0mframe\u001b[0m \u001b[1;33m=\u001b[0m \u001b[0mcap\u001b[0m\u001b[1;33m.\u001b[0m\u001b[0mread\u001b[0m\u001b[1;33m(\u001b[0m\u001b[1;33m)\u001b[0m  \u001b[1;31m# Read the frame\u001b[0m\u001b[1;33m\u001b[0m\u001b[0m\n\u001b[0;32m      7\u001b[0m \u001b[0mcap\u001b[0m\u001b[1;33m.\u001b[0m\u001b[0mrelease\u001b[0m\u001b[1;33m(\u001b[0m\u001b[1;33m)\u001b[0m  \u001b[1;31m# close the VideoCapture\u001b[0m\u001b[1;33m\u001b[0m\u001b[0m\n\u001b[1;32m----> 8\u001b[1;33m \u001b[0mfind_color_values_using_trackbar\u001b[0m\u001b[1;33m(\u001b[0m\u001b[0mframe\u001b[0m\u001b[1;33m)\u001b[0m\u001b[1;33m\u001b[0m\u001b[0m\n\u001b[0m",
      "\u001b[1;32m<ipython-input-17-f9859d16dc21>\u001b[0m in \u001b[0;36mfind_color_values_using_trackbar\u001b[1;34m(frame)\u001b[0m\n\u001b[0;32m     35\u001b[0m         \u001b[0mcv\u001b[0m\u001b[1;33m.\u001b[0m\u001b[0mimshow\u001b[0m\u001b[1;33m(\u001b[0m\u001b[1;34m\"Res\"\u001b[0m\u001b[1;33m,\u001b[0m \u001b[0mres\u001b[0m\u001b[1;33m)\u001b[0m\u001b[1;33m\u001b[0m\u001b[0m\n\u001b[0;32m     36\u001b[0m \u001b[1;33m\u001b[0m\u001b[0m\n\u001b[1;32m---> 37\u001b[1;33m         \u001b[1;32mif\u001b[0m \u001b[0mcv\u001b[0m\u001b[1;33m.\u001b[0m\u001b[0mwaitKey\u001b[0m\u001b[1;33m(\u001b[0m\u001b[1;36m25\u001b[0m\u001b[1;33m)\u001b[0m \u001b[1;33m&\u001b[0m \u001b[1;36m0xFF\u001b[0m \u001b[1;33m==\u001b[0m \u001b[0mord\u001b[0m\u001b[1;33m(\u001b[0m\u001b[1;34m'q'\u001b[0m\u001b[1;33m)\u001b[0m\u001b[1;33m:\u001b[0m\u001b[1;33m\u001b[0m\u001b[0m\n\u001b[0m\u001b[0;32m     38\u001b[0m                 \u001b[1;32mbreak\u001b[0m\u001b[1;33m\u001b[0m\u001b[0m\n\u001b[0;32m     39\u001b[0m \u001b[1;33m\u001b[0m\u001b[0m\n",
      "\u001b[1;31mKeyboardInterrupt\u001b[0m: "
     ]
    }
   ],
   "source": [
    "# use a trackbar to get right values for the table\n",
    "\n",
    "path_video = os.path.join(base_folder, \"1.mp4\")\n",
    "cap = cv.VideoCapture(path_video)\n",
    "cap.set(1, 15)  # where frame_no is the frame you want\n",
    "ret, frame = cap.read()  # Read the frame\n",
    "cap.release()  # close the VideoCapture\n",
    "find_color_values_using_trackbar(frame)\n"
   ]
  },
  {
   "cell_type": "code",
   "execution_count": 23,
   "metadata": {},
   "outputs": [],
   "source": [
    "# use a trackbar to get right values for balls \n",
    "# extract the table\n",
    "# these are the right colors for green\n",
    "def find_table(frame, show_results=True):\n",
    "\n",
    "    low_green = (46, 100, 0)\n",
    "    high_green = (85, 255, 255)\n",
    "\n",
    "    frame_hsv = cv.cvtColor(frame, cv.COLOR_BGR2HSV)\n",
    "    # get the mask for green\n",
    "    mask_table_hsv = cv.inRange(frame_hsv, low_green, high_green)\n",
    "    if show_results:\n",
    "        cv.imshow('mask_table_hsv', mask_table_hsv)\n",
    "        cv.waitKey(0)\n",
    "        \n",
    "\n",
    "    kernel = np.ones((15, 15), np.uint8)\n",
    "    mask_table_hsv = cv.dilate(mask_table_hsv, kernel, iterations=2)\n",
    "    if show_results: \n",
    "        cv.imshow('mask_table_hsv_dilatation', mask_table_hsv)\n",
    "        cv.waitKey(0)\n",
    "\n",
    "    mask_table_hsv = cv.erode(mask_table_hsv, kernel, iterations=2)\n",
    "    if show_results: \n",
    "        cv.imshow('mask_table_hsv_erosion', mask_table_hsv)\n",
    "        cv.waitKey(0)\n",
    "\n",
    "    table = cv.bitwise_and(frame, frame, mask=mask_table_hsv)  \n",
    "    \n",
    "    if show_results: \n",
    "        cv.imshow('table', table) \n",
    "        cv.waitKey(0)\n",
    "        cv.destroyAllWindows()\n",
    "    \n",
    "    return table, mask_table_hsv"
   ]
  },
  {
   "cell_type": "code",
   "execution_count": 24,
   "metadata": {},
   "outputs": [],
   "source": [
    "table, mask_table_hsv = find_table(frame)"
   ]
  },
  {
   "cell_type": "code",
   "execution_count": 25,
   "metadata": {},
   "outputs": [
    {
     "output_type": "error",
     "ename": "KeyboardInterrupt",
     "evalue": "",
     "traceback": [
      "\u001b[1;31m---------------------------------------------------------------------------\u001b[0m",
      "\u001b[1;31mKeyboardInterrupt\u001b[0m                         Traceback (most recent call last)",
      "\u001b[1;32m<ipython-input-25-5bd937c7392d>\u001b[0m in \u001b[0;36m<module>\u001b[1;34m\u001b[0m\n\u001b[1;32m----> 1\u001b[1;33m \u001b[0mfind_color_values_using_trackbar\u001b[0m\u001b[1;33m(\u001b[0m\u001b[0mtable\u001b[0m\u001b[1;33m)\u001b[0m\u001b[1;33m\u001b[0m\u001b[0m\n\u001b[0m",
      "\u001b[1;32m<ipython-input-17-f9859d16dc21>\u001b[0m in \u001b[0;36mfind_color_values_using_trackbar\u001b[1;34m(frame)\u001b[0m\n\u001b[0;32m     35\u001b[0m         \u001b[0mcv\u001b[0m\u001b[1;33m.\u001b[0m\u001b[0mimshow\u001b[0m\u001b[1;33m(\u001b[0m\u001b[1;34m\"Res\"\u001b[0m\u001b[1;33m,\u001b[0m \u001b[0mres\u001b[0m\u001b[1;33m)\u001b[0m\u001b[1;33m\u001b[0m\u001b[0m\n\u001b[0;32m     36\u001b[0m \u001b[1;33m\u001b[0m\u001b[0m\n\u001b[1;32m---> 37\u001b[1;33m         \u001b[1;32mif\u001b[0m \u001b[0mcv\u001b[0m\u001b[1;33m.\u001b[0m\u001b[0mwaitKey\u001b[0m\u001b[1;33m(\u001b[0m\u001b[1;36m25\u001b[0m\u001b[1;33m)\u001b[0m \u001b[1;33m&\u001b[0m \u001b[1;36m0xFF\u001b[0m \u001b[1;33m==\u001b[0m \u001b[0mord\u001b[0m\u001b[1;33m(\u001b[0m\u001b[1;34m'q'\u001b[0m\u001b[1;33m)\u001b[0m\u001b[1;33m:\u001b[0m\u001b[1;33m\u001b[0m\u001b[0m\n\u001b[0m\u001b[0;32m     38\u001b[0m                 \u001b[1;32mbreak\u001b[0m\u001b[1;33m\u001b[0m\u001b[0m\n\u001b[0;32m     39\u001b[0m \u001b[1;33m\u001b[0m\u001b[0m\n",
      "\u001b[1;31mKeyboardInterrupt\u001b[0m: "
     ]
    }
   ],
   "source": [
    "find_color_values_using_trackbar(table)"
   ]
  },
  {
   "cell_type": "code",
   "execution_count": 10,
   "metadata": {},
   "outputs": [],
   "source": [
    "def detect_balls_using_hsv(table, show_results=True):\n",
    "    low_white = np.array([80, 140, 65])\n",
    "    high_white = np.array([255, 255, 255])        \n",
    "    mask_white = cv.inRange(table, low_white, high_white)\n",
    "    white_ball = cv.bitwise_and(table,table, mask=mask_white)    \n",
    "\n",
    "    low_red = np.array([0, 0, 26])\n",
    "    high_red = np.array([26, 42, 255])\n",
    "    mask_red = cv.inRange(table,low_red,high_red)\n",
    "    red_ball = cv.bitwise_and(table,table,mask=mask_red) \n",
    " \n",
    "    low_blue = np.array([91,0,0])\n",
    "    high_blue = np.array([180,135,55])\n",
    "    mask_blue = cv.inRange(table, low_blue, high_blue)\n",
    "    blue_ball = cv.bitwise_and(table, table, mask=mask_blue)\n",
    " \n",
    "    low_pink = np.array([49, 0, 187])\n",
    "    high_pink = np.array([255, 162, 255])        \n",
    "    mask_pink = cv.inRange(table, low_pink, high_pink)\n",
    "    pink_ball = cv.bitwise_and(table, table,mask=mask_pink) \n",
    "\n",
    "    low_dark_green = np.array([37, 23, 0])\n",
    "    high_dark_green = np.array([84, 255, 30])        \n",
    "    mask_dark_green = cv.inRange(table, low_dark_green, high_dark_green)\n",
    "\n",
    "    low_brown = np.array([0, 52, 37])\n",
    "    high_brown = np.array([45, 105, 166])        \n",
    "    mask_brown = cv.inRange(table, low_brown, high_brown)\n",
    "\n",
    "    low_yellow = np.array([0, 107, 68])\n",
    "    high_yellow = np.array([114, 255, 255])        \n",
    "    mask_yellow = cv.inRange(table, low_yellow, high_yellow) \n",
    "\n",
    "    low_black = np.array([0, 0, 0])\n",
    "    high_black = np.array([45, 38, 65])        \n",
    "    mask_black = cv.inRange(table, low_black, high_black)\n",
    "\n",
    "    \n",
    "    mask_balls = mask_white + mask_red + mask_blue + mask_pink + mask_dark_green + mask_brown + mask_yellow + mask_black\n",
    "\n",
    "    balls = cv.bitwise_and(table,table,mask=mask_balls) \n",
    "    if show_results:\n",
    "        cv.imshow(\"Table\", table)\n",
    "        cv.imshow(\"BALLS\", balls)\n",
    "        cv.imshow(\"Mask balls\", mask_balls)\n",
    "\n",
    "        cv.waitKey(0)\n",
    "        cv.destroyAllWindows()\n",
    "        \n",
    "    return table, balls, mask_balls\n",
    "    "
   ]
  },
  {
   "cell_type": "code",
   "execution_count": 11,
   "metadata": {},
   "outputs": [],
   "source": [
    "_ = detect_balls_using_hsv(table, True)"
   ]
  },
  {
   "cell_type": "code",
   "execution_count": null,
   "metadata": {},
   "outputs": [],
   "source": []
  },
  {
   "cell_type": "code",
   "execution_count": 14,
   "metadata": {},
   "outputs": [
    {
     "output_type": "error",
     "ename": "ValueError",
     "evalue": "not enough values to unpack (expected 3, got 2)",
     "traceback": [
      "\u001b[1;31m---------------------------------------------------------------------------\u001b[0m",
      "\u001b[1;31mValueError\u001b[0m                                Traceback (most recent call last)",
      "\u001b[1;32m<ipython-input-14-d1503846b15d>\u001b[0m in \u001b[0;36m<module>\u001b[1;34m\u001b[0m\n\u001b[0;32m     14\u001b[0m         \u001b[0mcv\u001b[0m\u001b[1;33m.\u001b[0m\u001b[0mimshow\u001b[0m\u001b[1;33m(\u001b[0m\u001b[1;34m\"Frame\"\u001b[0m\u001b[1;33m,\u001b[0m \u001b[0mframe\u001b[0m\u001b[1;33m)\u001b[0m\u001b[1;33m\u001b[0m\u001b[0m\n\u001b[0;32m     15\u001b[0m         \u001b[0mtable\u001b[0m\u001b[1;33m,\u001b[0m \u001b[0mmask_table_hsv\u001b[0m \u001b[1;33m=\u001b[0m \u001b[0mfind_table\u001b[0m\u001b[1;33m(\u001b[0m\u001b[0mframe\u001b[0m\u001b[1;33m,\u001b[0m \u001b[0mshow_results\u001b[0m\u001b[1;33m)\u001b[0m\u001b[1;33m\u001b[0m\u001b[0m\n\u001b[1;32m---> 16\u001b[1;33m         \u001b[0m_\u001b[0m\u001b[1;33m,\u001b[0m \u001b[0mcontours\u001b[0m\u001b[1;33m,\u001b[0m \u001b[0m_\u001b[0m \u001b[1;33m=\u001b[0m \u001b[0mcv\u001b[0m\u001b[1;33m.\u001b[0m\u001b[0mfindContours\u001b[0m\u001b[1;33m(\u001b[0m\u001b[0mmask_table_hsv\u001b[0m\u001b[1;33m,\u001b[0m \u001b[0mcv\u001b[0m\u001b[1;33m.\u001b[0m\u001b[0mRETR_TREE\u001b[0m\u001b[1;33m,\u001b[0m \u001b[0mcv\u001b[0m\u001b[1;33m.\u001b[0m\u001b[0mCHAIN_APPROX_NONE\u001b[0m\u001b[1;33m)\u001b[0m\u001b[1;33m\u001b[0m\u001b[0m\n\u001b[0m\u001b[0;32m     17\u001b[0m         \u001b[0mmax_area\u001b[0m \u001b[1;33m=\u001b[0m \u001b[1;36m0\u001b[0m\u001b[1;33m\u001b[0m\u001b[0m\n\u001b[0;32m     18\u001b[0m         \u001b[0mimg_contour\u001b[0m \u001b[1;33m=\u001b[0m \u001b[0mnp\u001b[0m\u001b[1;33m.\u001b[0m\u001b[0mzeros\u001b[0m\u001b[1;33m(\u001b[0m\u001b[0mtable\u001b[0m\u001b[1;33m.\u001b[0m\u001b[0mshape\u001b[0m\u001b[1;33m,\u001b[0m \u001b[0mnp\u001b[0m\u001b[1;33m.\u001b[0m\u001b[0muint8\u001b[0m\u001b[1;33m)\u001b[0m\u001b[1;33m\u001b[0m\u001b[0m\n",
      "\u001b[1;31mValueError\u001b[0m: not enough values to unpack (expected 3, got 2)"
     ]
    }
   ],
   "source": [
    "# put all the things together until now and see if it's working on the video\n",
    "path_video = os.path.join(base_folder, \"4.mp4\")\n",
    "cap = cv.VideoCapture(path_video)\n",
    "\n",
    "current_frame = 0\n",
    "max_number_of_frame_to_run = 750\n",
    "show_results = False \n",
    "\n",
    "while cap.isOpened():\n",
    "    # Read the frame\n",
    "    ret, frame = cap.read() \n",
    "    if ret == True:        \n",
    "        current_frame = current_frame + 1\n",
    "        cv.imshow(\"Frame\", frame)\n",
    "        table, mask_table_hsv = find_table(frame, show_results)      \n",
    "        contours, _ = cv.findContours(mask_table_hsv, cv.RETR_TREE, cv.CHAIN_APPROX_NONE)   \n",
    "        max_area = 0        \n",
    "        img_contour = np.zeros(table.shape, np.uint8)\n",
    "        \n",
    "        # take the largest in area contour\n",
    "        if len(contours) > 0:\n",
    "            cnt = contours[0]\n",
    "            for i, cont in enumerate(contours):   \n",
    "                contour_area = cv.contourArea(cont)            \n",
    "                if contour_area > max_area:\n",
    "                    max_area = contour_area\n",
    "                    cnt = contours[i]     \n",
    "                    \n",
    "            epsilon = 0.01 * cv.arcLength(cnt, True) # contour perimeter\n",
    "            approx = cv.approxPolyDP(cnt, epsilon, True) # get the approximation\n",
    "            hull = cv.convexHull(cnt)\n",
    "            cv.drawContours(img_contour, cnt, -1, (0, 255, 0), 3)\n",
    "            cv.drawContours(img_contour, [approx], -1, (0, 0, 255), 3)\n",
    "            cv.drawContours(img_contour, hull, -1, (255, 0, 0), 3) # only displays a few points as well.\n",
    "            if show_results:\n",
    "                cv.imshow('img_contour', img_contour) \n",
    "            \n",
    "        table, balls, mask_balls = detect_balls_using_hsv(table, show_results)    \n",
    "        cv.imshow('balls', balls)  \n",
    "                  \n",
    "        if current_frame > max_number_of_frame_to_run:\n",
    "            break\n",
    "            \n",
    "        if cv.waitKey(25) & 0xFF == ord('q'):\n",
    "            break\n",
    "     \n",
    "    else:\n",
    "        break\n",
    "    \n",
    "# after playing the video, release the video capture    \n",
    "cap.release()\n",
    "# close all the frames\n",
    "cv.destroyAllWindows()\n",
    " "
   ]
  },
  {
   "cell_type": "code",
   "execution_count": null,
   "metadata": {},
   "outputs": [],
   "source": [
    "cv.destroyAllWindows()"
   ]
  },
  {
   "cell_type": "code",
   "execution_count": null,
   "metadata": {},
   "outputs": [],
   "source": []
  }
 ],
 "metadata": {
  "kernelspec": {
   "display_name": "Python 3",
   "language": "python",
   "name": "python3"
  },
  "language_info": {
   "codemirror_mode": {
    "name": "ipython",
    "version": 3
   },
   "file_extension": ".py",
   "mimetype": "text/x-python",
   "name": "python",
   "nbconvert_exporter": "python",
   "pygments_lexer": "ipython3",
   "version": "3.7.0-final"
  }
 },
 "nbformat": 4,
 "nbformat_minor": 2
}