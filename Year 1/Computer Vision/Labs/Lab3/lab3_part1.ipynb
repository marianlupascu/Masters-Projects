{
 "cells": [
  {
   "cell_type": "markdown",
   "metadata": {},
   "source": [
    "## Computer vision \n",
    "### Detect the marked boxes"
   ]
  },
  {
   "cell_type": "code",
   "execution_count": 1,
   "metadata": {},
   "outputs": [],
   "source": [
    "import cv2 as cv\n",
    "import numpy as np\n",
    "import glob\n",
    "import os\n",
    "import pickle\n",
    "import matplotlib.pyplot as plt"
   ]
  },
  {
   "cell_type": "code",
   "execution_count": 4,
   "metadata": {},
   "outputs": [],
   "source": [
    "base_folder = 'images\\\\' # change this on your machine\n",
    "images = glob.glob(os.path.join(base_folder, \"image_*.jpg\")) \n",
    "char_to_index = {'A': 0, 'B': 1, 'C': 2, 'D': 3}"
   ]
  },
  {
   "cell_type": "code",
   "execution_count": 5,
   "metadata": {},
   "outputs": [
    {
     "data": {
      "text/plain": [
       "['images\\\\image_21.jpg',\n",
       " 'images\\\\image_22.jpg',\n",
       " 'images\\\\image_23.jpg',\n",
       " 'images\\\\image_24.jpg',\n",
       " 'images\\\\image_25.jpg']"
      ]
     },
     "execution_count": 5,
     "metadata": {},
     "output_type": "execute_result"
    }
   ],
   "source": [
    "images"
   ]
  },
  {
   "cell_type": "code",
   "execution_count": 4,
   "metadata": {},
   "outputs": [
    {
     "name": "stdout",
     "output_type": "stream",
     "text": [
      "Vertical lines for the left frame:\n",
      " [[(901, 0), (901, 2808)], [(1046, 0), (1046, 2808)], [(1186, 0), (1186, 2808)], [(1331, 0), (1331, 2808)], [(1479, 0), (1479, 2808)]]\n",
      "Horizontal lines for the left frame:\n",
      " [[(0, 941), (2066, 941)], [(0, 1055), (2066, 1055)], [(0, 1171), (2066, 1171)], [(0, 1288), (2066, 1288)], [(0, 1398), (2066, 1398)], [(0, 1511), (2066, 1511)], [(0, 1625), (2066, 1625)], [(0, 1738), (2066, 1738)], [(0, 1851), (2066, 1851)], [(0, 1965), (2066, 1965)], [(0, 2081), (2066, 2081)], [(0, 2195), (2066, 2195)], [(0, 2308), (2066, 2308)], [(0, 2418), (2066, 2418)], [(0, 2531), (2066, 2531)], [(0, 2651), (2066, 2651)]]\n"
     ]
    }
   ],
   "source": [
    "# we assume that we have run an algorithm for finding horizontal and vertical lines \n",
    "# for the two frames (left - MATEMATICA and right - INFORMATICA or FIZICA) in the image\n",
    "\n",
    "# show this on one image\n",
    "image_name = 'image_21'\n",
    "\n",
    "# load vertical lines\n",
    "vertical_lines_left = pickle.load(open((base_folder + image_name + '_vertical_lines_left.pkl'), 'rb'))\n",
    "print('Vertical lines for the left frame:\\n', vertical_lines_left)\n",
    "vertical_lines_right = pickle.load(open((base_folder + image_name + '_vertical_lines_right.pkl'), 'rb'))\n",
    "\n",
    "# load horizontal lines\n",
    "horizontal_lines_left = pickle.load(open((base_folder + image_name + '_horizontal_lines_left.pkl'), 'rb'))\n",
    "print('Horizontal lines for the left frame:\\n', horizontal_lines_left)\n",
    "horizontal_lines_right = pickle.load(open((base_folder + image_name + '_horizontal_lines_right.pkl'), 'rb'))"
   ]
  },
  {
   "cell_type": "code",
   "execution_count": 5,
   "metadata": {},
   "outputs": [
    {
     "name": "stdout",
     "output_type": "stream",
     "text": [
      "(5847, 4132, 3)\n"
     ]
    }
   ],
   "source": [
    "# print the vertical lines in the left frame (MATEMATICA)\n",
    "image = cv.imread(base_folder + image_name + '.jpg')\n",
    "print(image.shape)\n",
    "\n",
    "grayscale_image = cv.cvtColor(image, cv.COLOR_BGR2GRAY)\n",
    "orig_h, orig_w = grayscale_image.shape  \n",
    "grayscale_image = grayscale_image[int(0.4 * orig_h):int(0.88 * orig_h)] \n",
    "\n",
    "left_image = grayscale_image[:, :int(orig_w * 0.5)].copy()\n",
    "left_image_color = np.dstack((left_image, left_image, left_image))\n",
    "\n",
    "for i in range(len(vertical_lines_left)):\n",
    "    cv.line(left_image_color,vertical_lines_left[i][0],vertical_lines_left[i][1],(0,0,255),5)\n",
    "\n",
    "cv.imshow(\"left_image_color\", cv.resize(left_image_color, (0, 0), fx=0.15, fy=0.15))\n",
    "cv.waitKey(0)\n",
    "cv.destroyAllWindows()"
   ]
  },
  {
   "cell_type": "code",
   "execution_count": 6,
   "metadata": {},
   "outputs": [],
   "source": [
    "# print the horizontal lines in the left frame (MATEMATICA)\n",
    "for i in range(len(horizontal_lines_left)):\n",
    "     # write your code here\n",
    "\n",
    "cv.imshow(\"left_image_color\", cv.resize(left_image_color, (0, 0), fx=0.15, fy=0.15))\n",
    "cv.waitKey(0)\n",
    "cv.destroyAllWindows()"
   ]
  },
  {
   "cell_type": "code",
   "execution_count": 7,
   "metadata": {},
   "outputs": [],
   "source": [
    "# print the vertical and horizontal lines in the right frame (INFORMATICA or FIZICA)\n",
    "right_image = grayscale_image[:, int(orig_w * 0.5):].copy()\n",
    "# write your code here\n",
    "    \n",
    "cv.imshow(\"right_image_color\", cv.resize(right_image_color, (0, 0), fx=0.15, fy=0.15))\n",
    "cv.waitKey(0)\n",
    "cv.destroyAllWindows()"
   ]
  },
  {
   "cell_type": "code",
   "execution_count": 8,
   "metadata": {},
   "outputs": [
    {
     "name": "stdout",
     "output_type": "stream",
     "text": [
      "[['1' 'B']\n",
      " ['2' 'B']\n",
      " ['3' 'A']\n",
      " ['4' 'B']\n",
      " ['5' 'C']\n",
      " ['6' 'A']\n",
      " ['7' 'B']\n",
      " ['8' 'D']\n",
      " ['9' 'C']\n",
      " ['10' 'C']\n",
      " ['11' 'A']\n",
      " ['12' 'C']\n",
      " ['13' 'B']\n",
      " ['14' 'D']\n",
      " ['15' 'C']]\n"
     ]
    }
   ],
   "source": [
    "# load the ground truth\n",
    "ground_truth_content = np.loadtxt(os.path.join(base_folder, '%s.txt' % image_name), dtype=str)\n",
    "# obtain the correct answers for the left frame (MATEMATICA)\n",
    "ground_truth_left = ground_truth_content[1:16]\n",
    "# print the correct answers for the left frame (MATEMATICA)\n",
    "print(ground_truth_left)"
   ]
  },
  {
   "cell_type": "code",
   "execution_count": 9,
   "metadata": {},
   "outputs": [
    {
     "name": "stdout",
     "output_type": "stream",
     "text": [
      "[['16' 'C']\n",
      " ['17' 'B']\n",
      " ['18' 'A']\n",
      " ['19' 'C']\n",
      " ['20' 'A']\n",
      " ['21' 'C']\n",
      " ['22' 'B']\n",
      " ['23' 'C']\n",
      " ['24' 'A']\n",
      " ['25' 'D']\n",
      " ['26' 'D']\n",
      " ['27' 'D']\n",
      " ['28' 'B']\n",
      " ['29' 'C']\n",
      " ['30' 'A']]\n"
     ]
    }
   ],
   "source": [
    "# obtain the correct answers for the right frame (INFORMATICA or FIZICA)\n",
    "ground_truth_right = ground_truth_content[16:-1]\n",
    "# print the correct answers for the right frame (INFORMATICA or FIZICA)\n",
    "print(ground_truth_right)"
   ]
  },
  {
   "cell_type": "code",
   "execution_count": 10,
   "metadata": {},
   "outputs": [],
   "source": [
    "# write a function that plots the patches containing X with green\n",
    "# and patches containing blanks with red\n",
    "# use here the ground thruth (train mode)\n",
    "# return the mean pixel value of each patch containing X or a blank\n",
    "\n",
    "def find_x_from_gt(grayscale_image, vertical_lines, horizontal_lines, ground_truth):\n",
    "    # grayscale_image - input image containing the frame\n",
    "    # vertical_lines - list with the vertical lines\n",
    "    # horizontal_lines - list with horizontal lines\n",
    "    # ground_truth - grounth truth content for a frame    \n",
    "    mean_x = []\n",
    "    mean_blank = [] \n",
    "    \n",
    "    image = np.dstack((grayscale_image, grayscale_image, grayscale_image))\n",
    "    x_color = (0, 255, 0)  # plot a patch containing an X with green color\n",
    "    blank_color = (0, 0, 255)  # plot a patch containing a blank with red color    \n",
    "            \n",
    "    # crop each patch and display it\n",
    "    for i in range(len(horizontal_lines) - 1):\n",
    "        for j in range(len(vertical_lines) - 1):\n",
    "            x_min = vertical_lines[j][0][0] + 15\n",
    "            x_max = vertical_lines[j + 1][1][0] - 5\n",
    "            y_min = horizontal_lines[i][0][1] + 15\n",
    "            y_max = horizontal_lines[i + 1][1][1] - 5\n",
    "            \n",
    "            # write your code here\n",
    "            \n",
    "            cv.rectangle(image, (x_min, y_min), (x_max, y_max), color=color, thickness=5)\n",
    "            cv.putText(image, str(mean_patch)[:3] ,(x_min + 10, y_min + 50), cv.FONT_HERSHEY_COMPLEX, 1, (0,0,0), 2) \n",
    "        \n",
    "    cv.imshow('image result', cv.resize(image, (0, 0), fx=0.4, fy=0.3))\n",
    "    cv.waitKey(0)\n",
    "    cv.destroyAllWindows()  \n",
    "        \n",
    "    return mean_x, mean_blank"
   ]
  },
  {
   "cell_type": "code",
   "execution_count": 11,
   "metadata": {
    "scrolled": true
   },
   "outputs": [
    {
     "name": "stdout",
     "output_type": "stream",
     "text": [
      "image_21\n",
      "image_22\n",
      "image_23\n",
      "image_24\n"
     ]
    }
   ],
   "source": [
    "# train a simple classifier on images 21, 22, 23, 24\n",
    "# test this classifier on image 25\n",
    "mean_x_values = []\n",
    "mean_blank_values = []\n",
    "for i in [21, 22, 23, 24]: \n",
    "    image_name = 'image_' + str(i)\n",
    "   \n",
    "    print(image_name)\n",
    "    # load image\n",
    "    image = cv.imread(base_folder + image_name + '.jpg')\n",
    "    grayscale_image = cv.cvtColor(image, cv.COLOR_BGR2GRAY)\n",
    "    orig_h, orig_w = grayscale_image.shape  \n",
    "    grayscale_image = grayscale_image[int(0.4 * orig_h):-int(0.12 * orig_h)] \n",
    "    left_image = grayscale_image[:, :int(orig_w * 0.5)]\n",
    "    right_image = grayscale_image[:, int(orig_w * 0.5):]\n",
    "    \n",
    "    # load vertical lines\n",
    "    vertical_lines_left = pickle.load(open((base_folder + image_name + '_vertical_lines_left.pkl'), 'rb'))\n",
    "    vertical_lines_right = pickle.load(open((base_folder + image_name + '_vertical_lines_right.pkl'), 'rb'))\n",
    "    # load horizontal lines \n",
    "    horizontal_lines_left = pickle.load(open((base_folder + image_name + '_horizontal_lines_left.pkl'), 'rb'))\n",
    "    horizontal_lines_right = pickle.load(open((base_folder + image_name + '_horizontal_lines_right.pkl'), 'rb'))\n",
    "    \n",
    "    # load ground truth\n",
    "    ground_truth_content = np.loadtxt(os.path.join(base_folder, '%s.txt' % image_name), dtype=str)\n",
    "    ground_truth_left = ground_truth_content[1:16]\n",
    "    ground_truth_right = ground_truth_content[16:-1]\n",
    "    \n",
    "    mean_x, mean_blank = find_x_from_gt(left_image, vertical_lines_left, horizontal_lines_left, ground_truth_left)\n",
    "    mean_x_values.extend(mean_x)\n",
    "    mean_blank_values.extend(mean_blank)\n",
    "    \n",
    "    mean_x, mean_blank = find_x_from_gt(right_image, vertical_lines_right, horizontal_lines_right, ground_truth_right)\n",
    "    mean_x_values.extend(mean_x)\n",
    "    mean_blank_values.extend(mean_blank)    "
   ]
  },
  {
   "cell_type": "code",
   "execution_count": null,
   "metadata": {},
   "outputs": [],
   "source": [
    "# build your classifier here"
   ]
  },
  {
   "cell_type": "code",
   "execution_count": 16,
   "metadata": {},
   "outputs": [],
   "source": [
    "# write a function that plots the patches containing X with green\n",
    "# and patches containing blanks with red\n",
    "# use here your classifier (test mode)"
   ]
  },
  {
   "cell_type": "code",
   "execution_count": 17,
   "metadata": {},
   "outputs": [
    {
     "name": "stdout",
     "output_type": "stream",
     "text": [
      "image_25\n"
     ]
    }
   ],
   "source": [
    "# test your classifier on image 25\n",
    "i = 25\n",
    "image_name = 'image_' + str(i)\n",
    "   \n",
    "print(image_name)\n",
    "# load image\n",
    "image = cv.imread(base_folder + image_name + '.jpg')\n",
    "grayscale_image = cv.cvtColor(image, cv.COLOR_BGR2GRAY)\n",
    "orig_h, orig_w = grayscale_image.shape  \n",
    "grayscale_image = grayscale_image[int(0.4 * orig_h):-int(0.12 * orig_h)] \n",
    "left_image = grayscale_image[:, :int(orig_w * 0.5)]\n",
    "right_image = grayscale_image[:, int(orig_w * 0.5):]\n",
    "    \n",
    "# load vertical lines\n",
    "vertical_lines_left = pickle.load(open(os.path.join(base_folder, '%s_vertical_lines_left.pkl' % image_name), 'rb'))\n",
    "vertical_lines_right = pickle.load(open(os.path.join(base_folder, '%s_vertical_lines_right.pkl' % image_name), 'rb'))\n",
    "# load horizontal lines \n",
    "horizontal_lines_left = pickle.load(open(os.path.join(base_folder, '%s_horizontal_lines_left.pkl' % image_name), 'rb'))\n",
    "horizontal_lines_right = pickle.load(open(os.path.join(base_folder, '%s_horizontal_lines_right.pkl' % image_name), 'rb'))  \n",
    "#write your code here"
   ]
  }
 ],
 "metadata": {
  "kernelspec": {
   "display_name": "Python 3",
   "language": "python",
   "name": "python3"
  },
  "language_info": {
   "codemirror_mode": {
    "name": "ipython",
    "version": 3
   },
   "file_extension": ".py",
   "mimetype": "text/x-python",
   "name": "python",
   "nbconvert_exporter": "python",
   "pygments_lexer": "ipython3",
   "version": "3.5.0"
  }
 },
 "nbformat": 4,
 "nbformat_minor": 2
}
