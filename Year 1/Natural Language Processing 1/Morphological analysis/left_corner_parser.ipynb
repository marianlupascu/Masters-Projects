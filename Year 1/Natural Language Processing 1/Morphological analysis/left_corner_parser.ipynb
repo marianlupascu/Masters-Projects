{
  "nbformat": 4,
  "nbformat_minor": 0,
  "metadata": {
    "colab": {
      "name": "left_corner_parser.ipynb",
      "provenance": [],
      "collapsed_sections": []
    },
    "kernelspec": {
      "name": "python3",
      "display_name": "Python 3"
    }
  },
  "cells": [
    {
      "cell_type": "code",
      "metadata": {
        "id": "haUWbgIqdmDw",
        "colab_type": "code",
        "colab": {}
      },
      "source": [
        "from google.colab import files, auth, drive"
      ],
      "execution_count": 0,
      "outputs": []
    },
    {
      "cell_type": "code",
      "metadata": {
        "id": "VELUX7LyfFR7",
        "colab_type": "code",
        "outputId": "535c9154-c789-431c-b7de-bd0b9ef88add",
        "colab": {
          "base_uri": "https://localhost:8080/",
          "height": 122
        }
      },
      "source": [
        "# Mount to drive\n",
        "drive.mount('/content/gdrive', force_remount=True)\n",
        "data_dir_drive ='/content/gdrive/My Drive/Colab Notebooks/NLP1/Lab3'"
      ],
      "execution_count": 0,
      "outputs": [
        {
          "output_type": "stream",
          "text": [
            "Go to this URL in a browser: https://accounts.google.com/o/oauth2/auth?client_id=947318989803-6bn6qk8qdgf4n4g3pfee6491hc0brc4i.apps.googleusercontent.com&redirect_uri=urn%3aietf%3awg%3aoauth%3a2.0%3aoob&response_type=code&scope=email%20https%3a%2f%2fwww.googleapis.com%2fauth%2fdocs.test%20https%3a%2f%2fwww.googleapis.com%2fauth%2fdrive%20https%3a%2f%2fwww.googleapis.com%2fauth%2fdrive.photos.readonly%20https%3a%2f%2fwww.googleapis.com%2fauth%2fpeopleapi.readonly\n",
            "\n",
            "Enter your authorization code:\n",
            "··········\n",
            "Mounted at /content/gdrive\n"
          ],
          "name": "stdout"
        }
      ]
    },
    {
      "cell_type": "code",
      "metadata": {
        "id": "l1L_WVClRhZt",
        "colab_type": "code",
        "outputId": "43a3a846-6a54-4666-c7a1-1cff4c03cf56",
        "colab": {
          "base_uri": "https://localhost:8080/",
          "height": 51
        }
      },
      "source": [
        "! pip install nltk"
      ],
      "execution_count": 355,
      "outputs": [
        {
          "output_type": "stream",
          "text": [
            "Requirement already satisfied: nltk in /usr/local/lib/python3.6/dist-packages (3.2.5)\n",
            "Requirement already satisfied: six in /usr/local/lib/python3.6/dist-packages (from nltk) (1.12.0)\n"
          ],
          "name": "stdout"
        }
      ]
    },
    {
      "cell_type": "code",
      "metadata": {
        "id": "x1dL4MpiRxEy",
        "colab_type": "code",
        "outputId": "5adbc0b9-98f3-483a-cf91-8d304949b5eb",
        "colab": {
          "base_uri": "https://localhost:8080/",
          "height": 119
        }
      },
      "source": [
        "import nltk\n",
        "import numpy as np\n",
        "\n",
        "nltk.download()"
      ],
      "execution_count": 356,
      "outputs": [
        {
          "output_type": "stream",
          "text": [
            "NLTK Downloader\n",
            "---------------------------------------------------------------------------\n",
            "    d) Download   l) List    u) Update   c) Config   h) Help   q) Quit\n",
            "---------------------------------------------------------------------------\n",
            "Downloader> q\n"
          ],
          "name": "stdout"
        },
        {
          "output_type": "execute_result",
          "data": {
            "text/plain": [
              "True"
            ]
          },
          "metadata": {
            "tags": []
          },
          "execution_count": 356
        }
      ]
    },
    {
      "cell_type": "code",
      "metadata": {
        "id": "Ailg0cgedMdq",
        "colab_type": "code",
        "outputId": "c4e6c808-e9cc-4b54-ad17-9fcf256e116d",
        "colab": {
          "base_uri": "https://localhost:8080/",
          "height": 34
        }
      },
      "source": [
        "from nltk import CFG, Nonterminal\n",
        "grammar1 = nltk.CFG.fromstring(\"\"\"  S -> NP VP | TO VB\n",
        "                                    VP -> V NP | V NP PP | V S | V PP\n",
        "                                    PP -> P NP  \n",
        "                                    V -> \"caught\" | \"ate\" | \"likes\" | \"like\" | \"chase\" | \"go\"\n",
        "                                    NP -> Det N | Det N PP | PRP\n",
        "                                    Det -> \"the\" | \"a\" | \"an\" | \"my\" | \"some\"\n",
        "                                    N -> \"mice\" | \"cat\" | \"dog\" |  \"school\"\n",
        "                                    P -> \"in\" | \"to\" | \"on\"\n",
        "                                    TO -> \"to\"\n",
        "                                    PRP -> \"I\"  \"\"\")\n",
        "\n",
        "sent=[\"I\", \"like\", \"my\", \"dog\"]\n",
        "rdp = nltk.RecursiveDescentParser(grammar1)\n",
        "for tree in rdp.parse(sent):\n",
        "    print(tree)"
      ],
      "execution_count": 357,
      "outputs": [
        {
          "output_type": "stream",
          "text": [
            "(S (NP (PRP I)) (VP (V like) (NP (Det my) (N dog))))\n"
          ],
          "name": "stdout"
        }
      ]
    },
    {
      "cell_type": "code",
      "metadata": {
        "id": "_8aK1RPFfak-",
        "colab_type": "code",
        "colab": {}
      },
      "source": [
        "nltk.app.rdparser()"
      ],
      "execution_count": 0,
      "outputs": []
    },
    {
      "cell_type": "code",
      "metadata": {
        "id": "NWESfzFrggDB",
        "colab_type": "code",
        "outputId": "2d9e480d-2555-48d5-d1ab-ad4959a5c7d5",
        "colab": {
          "base_uri": "https://localhost:8080/",
          "height": 51
        }
      },
      "source": [
        "srp = nltk.ShiftReduceParser(grammar1)\n",
        "sent=[\"I\", \"like\", \"my\", \"dog\"]\n",
        "for tree in srp.parse(sent):\n",
        "    print(tree)"
      ],
      "execution_count": 359,
      "outputs": [
        {
          "output_type": "stream",
          "text": [
            "Warning: P -> 'to' will never be used\n",
            "(S (NP (PRP I)) (VP (V like) (NP (Det my) (N dog))))\n"
          ],
          "name": "stdout"
        }
      ]
    },
    {
      "cell_type": "code",
      "metadata": {
        "id": "VhL7GWDag54D",
        "colab_type": "code",
        "colab": {}
      },
      "source": [
        "nltk.app.srparser()"
      ],
      "execution_count": 0,
      "outputs": []
    },
    {
      "cell_type": "markdown",
      "metadata": {
        "id": "w9Cc5tkeyvUq",
        "colab_type": "text"
      },
      "source": [
        "# **Left corner parser**\n",
        "The Left-Corner Parser uses also a top-down strategy. A left-corner parser does some preprocessing before the parsing itself. It creates an association between each non-terminal label and a list of all possible left corners (start of the expression). Before applying a production from the context free grammar, it searches for the next word that there is one starting label (in the left corners list) that applies to it. (http://cs.union.edu/~striegnk/courses/nlp-with-prolog/html/node53.html?fbclid=IwAR1957LMxy1A9OTm2gpzZFzrpzo97BzRWFMKXSHOdzZoAC1NEyOdmD3hEJ4)"
      ]
    },
    {
      "cell_type": "code",
      "metadata": {
        "id": "CO6Rgu83yvDd",
        "colab_type": "code",
        "outputId": "065a7e95-aeab-4bfc-849e-c6d998953f24",
        "colab": {
          "base_uri": "https://localhost:8080/",
          "height": 170
        }
      },
      "source": [
        "grammar2 = nltk.CFG.fromstring(\"\"\"  S -> NP VP\n",
        "                                    NP -> Det N | PN \n",
        "                                    VP -> IV | vincent\n",
        "                                    Det -> the\n",
        "                                    N -> robber\n",
        "                                    PN -> vincent\n",
        "                                    IV -> died  \"\"\")\n",
        "\n",
        "string = 'vincent died'\n",
        "grammar2.productions()"
      ],
      "execution_count": 360,
      "outputs": [
        {
          "output_type": "execute_result",
          "data": {
            "text/plain": [
              "[S -> NP VP,\n",
              " NP -> Det N,\n",
              " NP -> PN,\n",
              " VP -> IV,\n",
              " VP -> vincent,\n",
              " Det -> the,\n",
              " N -> robber,\n",
              " PN -> vincent,\n",
              " IV -> died]"
            ]
          },
          "metadata": {
            "tags": []
          },
          "execution_count": 360
        }
      ]
    },
    {
      "cell_type": "code",
      "metadata": {
        "id": "l_U1M5th8w-i",
        "colab_type": "code",
        "outputId": "64643396-77e8-4de4-ab65-4d8138b672b4",
        "colab": {
          "base_uri": "https://localhost:8080/",
          "height": 34
        }
      },
      "source": [
        "start = grammar2.start()\n",
        "print(start)"
      ],
      "execution_count": 361,
      "outputs": [
        {
          "output_type": "stream",
          "text": [
            "S\n"
          ],
          "name": "stdout"
        }
      ]
    },
    {
      "cell_type": "code",
      "metadata": {
        "id": "a4slrrMa8_Uk",
        "colab_type": "code",
        "outputId": "106cfb52-4001-4d44-cf48-a016a5cf755c",
        "colab": {
          "base_uri": "https://localhost:8080/",
          "height": 51
        }
      },
      "source": [
        "nltk.help.upenn_tagset('S')"
      ],
      "execution_count": 362,
      "outputs": [
        {
          "output_type": "stream",
          "text": [
            "SYM: symbol\n",
            "    % & ' '' ''. ) ). * + ,. < = > @ A[fj] U.S U.S.S.R * ** ***\n"
          ],
          "name": "stdout"
        }
      ]
    },
    {
      "cell_type": "code",
      "metadata": {
        "id": "pqfnnPzeAqNs",
        "colab_type": "code",
        "colab": {}
      },
      "source": [
        "def recognize(grammar, N):\n",
        "    return grammar.productions(lhs=N)"
      ],
      "execution_count": 0,
      "outputs": []
    },
    {
      "cell_type": "code",
      "metadata": {
        "id": "8ZClq7VyBEq1",
        "colab_type": "code",
        "colab": {}
      },
      "source": [
        "def find_productions_by_left_corners(grammar, N):\n",
        "    return grammar.productions(rhs=N) # start with N e.g. ... -> N..."
      ],
      "execution_count": 0,
      "outputs": []
    },
    {
      "cell_type": "code",
      "metadata": {
        "id": "Z1bJk_o3Kgjw",
        "colab_type": "code",
        "colab": {}
      },
      "source": [
        "def get_left_corner(production):\n",
        "    return production.rhs()[0]"
      ],
      "execution_count": 0,
      "outputs": []
    },
    {
      "cell_type": "code",
      "metadata": {
        "id": "dW0QffbKKP7x",
        "colab_type": "code",
        "outputId": "20cea759-205d-4b06-f098-dcc7d62c5a93",
        "colab": {
          "base_uri": "https://localhost:8080/",
          "height": 34
        }
      },
      "source": [
        "from collections import deque\n",
        "\n",
        "def Bottom_up_Parsing(word, top, grammar):\n",
        "    r = [] #result\n",
        "    q = deque() \n",
        "    start_productions = find_productions_by_left_corners(grammar, word) # add production where word is left corner\n",
        "    start_productions += find_productions_by_left_corners(grammar, Nonterminal(word))\n",
        "    #print(start_productions)\n",
        "    if len(start_productions) == 0:\n",
        "        return False\n",
        "    else:\n",
        "        res = []\n",
        "        for production in start_productions:\n",
        "            q.append(production)\n",
        "            if production.lhs() == top:\n",
        "                res.append([production]) # i have match\n",
        "        if len(res):\n",
        "            return res\n",
        "\n",
        "    while len(q) != 0: # i have productions\n",
        "        curr_production = q[0] # get first production\n",
        "        q.popleft() \n",
        "        #print(curr_production)\n",
        "\n",
        "        productions = find_productions_by_left_corners(grammar, curr_production.lhs()) # add new production where current start symbol is left-corner\n",
        "        #print(productions)\n",
        "        #print()\n",
        "        r.append((curr_production, len(productions))) # add current production in result\n",
        "\n",
        "        while r[-1][1] == 0: #clean result list\n",
        "            r.pop(-1)\n",
        "            if len(r):\n",
        "                r[-1] = (r[-1][0], r[-1][1]-1) \n",
        "            else:\n",
        "                break\n",
        "\n",
        "        for production in productions:\n",
        "            if production.lhs() == top:\n",
        "                r.append((production, None))\n",
        "                f = []\n",
        "                for elem in r:\n",
        "                    f.append(elem[0])\n",
        "                    \n",
        "                res.append(f)\n",
        "                r = r[:1]\n",
        "            q.appendleft(production)\n",
        "    \n",
        "    if res == []:\n",
        "        return False\n",
        "    else:\n",
        "        return res\n",
        "\n",
        "Bottom_up_Parsing('am', Nonterminal('VP'), grammar3)"
      ],
      "execution_count": 366,
      "outputs": [
        {
          "output_type": "execute_result",
          "data": {
            "text/plain": [
              "[[VBP -> 'am', VP -> VBP NP], [VBP -> 'am', VP -> VBP VP]]"
            ]
          },
          "metadata": {
            "tags": []
          },
          "execution_count": 366
        }
      ]
    },
    {
      "cell_type": "code",
      "metadata": {
        "id": "Oy4Io1fuZN_v",
        "colab_type": "code",
        "outputId": "2e6c6152-48df-4558-de69-332c55f5df04",
        "colab": {
          "base_uri": "https://localhost:8080/",
          "height": 527
        }
      },
      "source": [
        "grammar1.productions()"
      ],
      "execution_count": 367,
      "outputs": [
        {
          "output_type": "execute_result",
          "data": {
            "text/plain": [
              "[S -> NP VP,\n",
              " S -> TO VB,\n",
              " VP -> V NP,\n",
              " VP -> V NP PP,\n",
              " VP -> V S,\n",
              " VP -> V PP,\n",
              " PP -> P NP,\n",
              " V -> 'caught',\n",
              " V -> 'ate',\n",
              " V -> 'likes',\n",
              " V -> 'like',\n",
              " V -> 'chase',\n",
              " V -> 'go',\n",
              " NP -> Det N,\n",
              " NP -> Det N PP,\n",
              " NP -> PRP,\n",
              " Det -> 'the',\n",
              " Det -> 'a',\n",
              " Det -> 'an',\n",
              " Det -> 'my',\n",
              " Det -> 'some',\n",
              " N -> 'mice',\n",
              " N -> 'cat',\n",
              " N -> 'dog',\n",
              " N -> 'school',\n",
              " P -> 'in',\n",
              " P -> 'to',\n",
              " P -> 'on',\n",
              " TO -> 'to',\n",
              " PRP -> 'I']"
            ]
          },
          "metadata": {
            "tags": []
          },
          "execution_count": 367
        }
      ]
    },
    {
      "cell_type": "code",
      "metadata": {
        "id": "OJKO5eONMOXr",
        "colab_type": "code",
        "outputId": "319652ec-c8cf-4122-afbd-dca217e53be7",
        "colab": {
          "base_uri": "https://localhost:8080/",
          "height": 34
        }
      },
      "source": [
        "x = Bottom_up_Parsing('to', Nonterminal('S'), grammar1)\n",
        "print(x)"
      ],
      "execution_count": 368,
      "outputs": [
        {
          "output_type": "stream",
          "text": [
            "[[TO -> 'to', S -> TO VB]]\n"
          ],
          "name": "stdout"
        }
      ]
    },
    {
      "cell_type": "code",
      "metadata": {
        "id": "OhbxaKORVqpU",
        "colab_type": "code",
        "outputId": "88995f4c-db14-48f8-f039-db4ffe3591cd",
        "colab": {
          "base_uri": "https://localhost:8080/",
          "height": 34
        }
      },
      "source": [
        "x = Bottom_up_Parsing('robber', Nonterminal('N'), grammar2)\n",
        "print(x)"
      ],
      "execution_count": 369,
      "outputs": [
        {
          "output_type": "stream",
          "text": [
            "[[N -> robber]]\n"
          ],
          "name": "stdout"
        }
      ]
    },
    {
      "cell_type": "code",
      "metadata": {
        "id": "Pc3zncWuIWx_",
        "colab_type": "code",
        "colab": {}
      },
      "source": [
        "def left_corner_parser(grammar, string):\n",
        "\n",
        "    words = string.split()\n",
        "    flag = grammar.start() #top-down\n",
        "    index = 0\n",
        "\n",
        "    def left_corner_parser_aux(grammar = grammar, index = index, flag = flag):\n",
        "        #print(index, flag)\n",
        "        rest = 0\n",
        "        productions = Bottom_up_Parsing(words[index], flag, grammar)\n",
        "\n",
        "        if productions == False:\n",
        "            return False\n",
        "        else:\n",
        "            #print(productions[:][::-1])\n",
        "            pass\n",
        "        returnValue = True\n",
        "        for productionList in productions:\n",
        "            for production in productionList[1:]:\n",
        "                if len(production.rhs()) == 1:\n",
        "                    continue # I'm ok, there is no need for top-down\n",
        "                else: # need top-down step\n",
        "                    for symbol in production.rhs()[1:]:\n",
        "                        index += 1\n",
        "                        if index >= len(words): #case for insufficient words\n",
        "                            returnValue = False\n",
        "                            break\n",
        "                        rest = left_corner_parser_aux(grammar, index, symbol)\n",
        "                        if not rest:\n",
        "                            returnValue = False\n",
        "                            #print(index, symbol, production)\n",
        "                            break\n",
        "                        else:\n",
        "                            returnValue = True\n",
        "            index -= 1\n",
        "            if returnValue:\n",
        "                print(productionList)\n",
        "                break\n",
        "        #print(index, flag, returnValue)\n",
        "        return returnValue\n",
        "\n",
        "    val = left_corner_parser_aux()\n",
        "    return val"
      ],
      "execution_count": 0,
      "outputs": []
    },
    {
      "cell_type": "code",
      "metadata": {
        "id": "DW94qmYQiJZw",
        "colab_type": "code",
        "outputId": "b847c8c5-71c7-43fb-b23e-c91b7a62b0de",
        "colab": {
          "base_uri": "https://localhost:8080/",
          "height": 85
        }
      },
      "source": [
        "val = left_corner_parser(grammar2, 'the robber died')\n",
        "print(val)"
      ],
      "execution_count": 514,
      "outputs": [
        {
          "output_type": "stream",
          "text": [
            "[N -> robber]\n",
            "[IV -> died, VP -> IV]\n",
            "[Det -> the, NP -> Det N, S -> NP VP]\n",
            "True\n"
          ],
          "name": "stdout"
        }
      ]
    },
    {
      "cell_type": "code",
      "metadata": {
        "id": "fYTZjyKJiKjA",
        "colab_type": "code",
        "outputId": "f5fa4b91-d444-481d-dded-1c7ef9f44dc7",
        "colab": {
          "base_uri": "https://localhost:8080/",
          "height": 102
        }
      },
      "source": [
        "val = left_corner_parser(grammar1, 'I like my dog')\n",
        "print(val)"
      ],
      "execution_count": 507,
      "outputs": [
        {
          "output_type": "stream",
          "text": [
            "[N -> 'dog']\n",
            "[Det -> 'my', NP -> Det N]\n",
            "[V -> 'like', VP -> V NP]\n",
            "[PRP -> 'I', NP -> PRP, S -> NP VP]\n",
            "True\n"
          ],
          "name": "stdout"
        }
      ]
    },
    {
      "cell_type": "code",
      "metadata": {
        "id": "An9cPxE-kaiw",
        "colab_type": "code",
        "outputId": "1fc4b17e-ac1c-45a1-e1db-1508033d04c8",
        "colab": {
          "base_uri": "https://localhost:8080/",
          "height": 357
        }
      },
      "source": [
        "grammar3 = nltk.CFG.fromstring(\"\"\"  S -> NP VP\n",
        "                                    S -> VP\n",
        "                                    NP -> DT NN\n",
        "                                    NP -> DT JJ NN\n",
        "                                    NP -> PRP\n",
        "                                    VP -> VBP NP\n",
        "                                    VP -> VBP VP\n",
        "                                    VP -> VBG NP\n",
        "                                    VP -> TO VP\n",
        "                                    VP -> VB\n",
        "                                    VP -> VB NP\n",
        "                                    NN -> \"show\" | \"book\"\n",
        "                                    PRP -> \"I\"\n",
        "                                    VBP -> \"am\"\n",
        "                                    VBG -> \"watching\"\n",
        "                                    VB -> \"show\"\n",
        "                                    DT -> \"a\" | \"the\"\n",
        "                                    MD -> \"will\"  \"\"\")\n",
        "\n",
        "grammar3.productions()"
      ],
      "execution_count": 508,
      "outputs": [
        {
          "output_type": "execute_result",
          "data": {
            "text/plain": [
              "[S -> NP VP,\n",
              " S -> VP,\n",
              " NP -> DT NN,\n",
              " NP -> DT JJ NN,\n",
              " NP -> PRP,\n",
              " VP -> VBP NP,\n",
              " VP -> VBP VP,\n",
              " VP -> VBG NP,\n",
              " VP -> TO VP,\n",
              " VP -> VB,\n",
              " VP -> VB NP,\n",
              " NN -> 'show',\n",
              " NN -> 'book',\n",
              " PRP -> 'I',\n",
              " VBP -> 'am',\n",
              " VBG -> 'watching',\n",
              " VB -> 'show',\n",
              " DT -> 'a',\n",
              " DT -> 'the',\n",
              " MD -> 'will']"
            ]
          },
          "metadata": {
            "tags": []
          },
          "execution_count": 508
        }
      ]
    },
    {
      "cell_type": "code",
      "metadata": {
        "id": "EuEZbkD_l_7a",
        "colab_type": "code",
        "outputId": "6208d60d-87f9-49ca-9063-c114fe5f9e00",
        "colab": {
          "base_uri": "https://localhost:8080/",
          "height": 34
        }
      },
      "source": [
        "x = Bottom_up_Parsing('am', Nonterminal('VP'), grammar3)\n",
        "print(x)"
      ],
      "execution_count": 509,
      "outputs": [
        {
          "output_type": "stream",
          "text": [
            "[[VBP -> 'am', VP -> VBP NP], [VBP -> 'am', VP -> VBP VP]]\n"
          ],
          "name": "stdout"
        }
      ]
    },
    {
      "cell_type": "code",
      "metadata": {
        "id": "EiHsORmSkiOq",
        "colab_type": "code",
        "outputId": "bf207ff7-c173-45a1-cbae-f605feeb09f9",
        "colab": {
          "base_uri": "https://localhost:8080/",
          "height": 119
        }
      },
      "source": [
        "val = left_corner_parser(grammar3, 'I am watching a show')\n",
        "print(val)"
      ],
      "execution_count": 512,
      "outputs": [
        {
          "output_type": "stream",
          "text": [
            "[NN -> 'show']\n",
            "[DT -> 'a', NP -> DT NN]\n",
            "[VBG -> 'watching', VP -> VBG NP]\n",
            "[VBP -> 'am', VP -> VBP VP]\n",
            "[PRP -> 'I', NP -> PRP, S -> NP VP]\n",
            "True\n"
          ],
          "name": "stdout"
        }
      ]
    }
  ]
}