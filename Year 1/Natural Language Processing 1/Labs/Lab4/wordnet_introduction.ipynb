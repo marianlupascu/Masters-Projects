{
  "nbformat": 4,
  "nbformat_minor": 0,
  "metadata": {
    "colab": {
      "name": "wordnet_introduction.ipynb",
      "provenance": [],
      "collapsed_sections": []
    },
    "kernelspec": {
      "name": "python3",
      "display_name": "Python 3"
    }
  },
  "cells": [
    {
      "cell_type": "code",
      "metadata": {
        "id": "haUWbgIqdmDw",
        "colab_type": "code",
        "colab": {}
      },
      "source": [
        "from google.colab import files, auth, drive"
      ],
      "execution_count": 0,
      "outputs": []
    },
    {
      "cell_type": "code",
      "metadata": {
        "id": "VELUX7LyfFR7",
        "colab_type": "code",
        "colab": {}
      },
      "source": [
        "# Mount to drive\n",
        "drive.mount('/content/gdrive', force_remount=True)\n",
        "data_dir_drive ='/content/gdrive/My Drive/Colab Notebooks/NLP1/Lab4'"
      ],
      "execution_count": 0,
      "outputs": []
    },
    {
      "cell_type": "code",
      "metadata": {
        "id": "l1L_WVClRhZt",
        "colab_type": "code",
        "outputId": "b13fe97f-2161-4678-a7f6-5a4e7b6901f7",
        "colab": {
          "base_uri": "https://localhost:8080/",
          "height": 51
        }
      },
      "source": [
        "! pip install nltk"
      ],
      "execution_count": 1,
      "outputs": [
        {
          "output_type": "stream",
          "text": [
            "Requirement already satisfied: nltk in /usr/local/lib/python3.6/dist-packages (3.2.5)\n",
            "Requirement already satisfied: six in /usr/local/lib/python3.6/dist-packages (from nltk) (1.12.0)\n"
          ],
          "name": "stdout"
        }
      ]
    },
    {
      "cell_type": "code",
      "metadata": {
        "id": "x1dL4MpiRxEy",
        "colab_type": "code",
        "outputId": "a1bf181c-5693-4849-cdd6-8799b3d23517",
        "colab": {
          "base_uri": "https://localhost:8080/",
          "height": 289
        }
      },
      "source": [
        "import nltk\n",
        "nltk.download()"
      ],
      "execution_count": 4,
      "outputs": [
        {
          "output_type": "stream",
          "text": [
            "NLTK Downloader\n",
            "---------------------------------------------------------------------------\n",
            "    d) Download   l) List    u) Update   c) Config   h) Help   q) Quit\n",
            "---------------------------------------------------------------------------\n",
            "Downloader> d\n",
            "\n",
            "Download which package (l=list; x=cancel)?\n",
            "  Identifier> wordnet\n",
            "    Downloading package wordnet to /root/nltk_data...\n",
            "      Unzipping corpora/wordnet.zip.\n",
            "\n",
            "---------------------------------------------------------------------------\n",
            "    d) Download   l) List    u) Update   c) Config   h) Help   q) Quit\n",
            "---------------------------------------------------------------------------\n",
            "Downloader> q\n"
          ],
          "name": "stdout"
        },
        {
          "output_type": "execute_result",
          "data": {
            "text/plain": [
              "True"
            ]
          },
          "metadata": {
            "tags": []
          },
          "execution_count": 4
        }
      ]
    },
    {
      "cell_type": "markdown",
      "metadata": {
        "id": "x6_JZvqwb-lQ",
        "colab_type": "text"
      },
      "source": [
        "# **Wordnet**"
      ]
    },
    {
      "cell_type": "code",
      "metadata": {
        "id": "qQ4US3PTaUc_",
        "colab_type": "code",
        "outputId": "8cfec6a3-03d2-4db4-c092-35ec7bc58fcc",
        "colab": {
          "base_uri": "https://localhost:8080/",
          "height": 88
        }
      },
      "source": [
        "# Wordnet is a semantic dictionary organized into synsets (synonim rings). \n",
        "# A synset is a group of synonym words and has an associated id and sense \n",
        "# (a word can appear in multiple synsets if that word (or collocation) \n",
        "# is polysemantic) illustrated by a brief gloss.\n",
        "# To easily visualize the links between words, you can use this web based \n",
        "\n",
        "from nltk.corpus import wordnet\n",
        "print(wordnet.synsets('school'))\n",
        "print(wordnet.synsets('schooled'))\n",
        "print(wordnet.synsets('cats'))"
      ],
      "execution_count": 5,
      "outputs": [
        {
          "output_type": "stream",
          "text": [
            "[Synset('school.n.01'), Synset('school.n.02'), Synset('school.n.03'), Synset('school.n.04'), Synset('school.n.05'), Synset('school.n.06'), Synset('school.n.07'), Synset('school.v.01'), Synset('educate.v.03'), Synset('school.v.03')]\n",
            "[Synset('school.v.01'), Synset('educate.v.03'), Synset('school.v.03')]\n",
            "[Synset('cat.n.01'), Synset('guy.n.01'), Synset('cat.n.03'), Synset('kat.n.01'), Synset('cat-o'-nine-tails.n.01'), Synset('caterpillar.n.02'), Synset('big_cat.n.01'), Synset('computerized_tomography.n.01'), Synset('cat.v.01'), Synset('vomit.v.01')]\n"
          ],
          "name": "stdout"
        }
      ]
    },
    {
      "cell_type": "markdown",
      "metadata": {
        "id": "YyHH3fD6czqr",
        "colab_type": "text"
      },
      "source": [
        "Types of relations (for nouns):"
      ]
    },
    {
      "cell_type": "code",
      "metadata": {
        "id": "ya33IP3daojX",
        "colab_type": "code",
        "outputId": "20d0f629-341a-4c7f-efa0-3bf59d6baf77",
        "colab": {
          "base_uri": "https://localhost:8080/",
          "height": 71
        }
      },
      "source": [
        "# hypernyms/hyponyms\n",
        "sch=wordnet.synset('school.n.01')\n",
        "print(sch.hyponyms())\n",
        "                                            \n",
        "print(sch.hypernyms())                              "
      ],
      "execution_count": 6,
      "outputs": [
        {
          "output_type": "stream",
          "text": [
            "[Synset('academy.n.03'), Synset('alma_mater.n.01'), Synset('conservatory.n.01'), Synset('correspondence_school.n.01'), Synset('crammer.n.03'), Synset('dance_school.n.01'), Synset('dancing_school.n.01'), Synset('day_school.n.02'), Synset('direct-grant_school.n.01'), Synset('driving_school.n.01'), Synset('finishing_school.n.01'), Synset('flying_school.n.01'), Synset('grade_school.n.01'), Synset('graduate_school.n.01'), Synset('language_school.n.01'), Synset('night_school.n.01'), Synset('nursing_school.n.01'), Synset('private_school.n.01'), Synset('public_school.n.01'), Synset('religious_school.n.01'), Synset('riding_school.n.01'), Synset('secondary_school.n.01'), Synset('secretarial_school.n.01'), Synset('sunday_school.n.01'), Synset('technical_school.n.01'), Synset('training_school.n.01'), Synset('veterinary_school.n.01')]\n",
            "[Synset('educational_institution.n.01')]\n"
          ],
          "name": "stdout"
        }
      ]
    },
    {
      "cell_type": "code",
      "metadata": {
        "id": "FYvOiguLa28N",
        "colab_type": "code",
        "outputId": "15d7ddde-9d3b-4c0a-fdd0-391390550df2",
        "colab": {
          "base_uri": "https://localhost:8080/",
          "height": 136
        }
      },
      "source": [
        "# meronyms/holonyms of three types (withe the prefixes in parentheses): \n",
        "# \"part of\" (\"part_\"), \"substance\" (\"substance_\"), \"member of\" (\"member_\").\n",
        "aer=wordnet.synset('air.n.01')\n",
        "print(aer.substance_holonyms())\n",
        "print(aer.substance_meronyms())\n",
        "                                            \n",
        "house=wordnet.synset('house.n.01')\n",
        "print(house.part_holonyms())\n",
        "print(house.part_meronyms())\n",
        "                                            \n",
        "tree=wordnet.synset('tree.n.01')\n",
        "print(tree.member_holonyms())\n",
        "print(tree.member_meronyms())\n",
        "print(tree.part_meronyms())"
      ],
      "execution_count": 7,
      "outputs": [
        {
          "output_type": "stream",
          "text": [
            "[Synset('wind.n.01')]\n",
            "[Synset('argon.n.01'), Synset('krypton.n.01'), Synset('neon.n.01'), Synset('nitrogen.n.01'), Synset('oxygen.n.01'), Synset('xenon.n.01')]\n",
            "[]\n",
            "[Synset('library.n.01'), Synset('loft.n.02'), Synset('porch.n.01'), Synset('study.n.05')]\n",
            "[Synset('forest.n.01')]\n",
            "[]\n",
            "[Synset('burl.n.02'), Synset('crown.n.07'), Synset('limb.n.02'), Synset('stump.n.01'), Synset('trunk.n.01')]\n"
          ],
          "name": "stdout"
        }
      ]
    },
    {
      "cell_type": "code",
      "metadata": {
        "id": "4f3rYzrEbQZg",
        "colab_type": "code",
        "outputId": "45be4ed3-a953-455a-ba5d-7e760a374828",
        "colab": {
          "base_uri": "https://localhost:8080/",
          "height": 85
        }
      },
      "source": [
        "# attributes (relation to adjective synsets)\n",
        "wordnet.synset('strength.n.01').attributes()"
      ],
      "execution_count": 8,
      "outputs": [
        {
          "output_type": "execute_result",
          "data": {
            "text/plain": [
              "[Synset('delicate.a.01'),\n",
              " Synset('rugged.a.01'),\n",
              " Synset('strong.a.01'),\n",
              " Synset('weak.a.01')]"
            ]
          },
          "metadata": {
            "tags": []
          },
          "execution_count": 8
        }
      ]
    },
    {
      "cell_type": "markdown",
      "metadata": {
        "id": "8f9LxNI6dA35",
        "colab_type": "text"
      },
      "source": [
        "Types of relations (for verbs):"
      ]
    },
    {
      "cell_type": "code",
      "metadata": {
        "id": "ju7TjBVpbU53",
        "colab_type": "code",
        "outputId": "573d5ffb-97d9-4ad4-fae5-394b3a214070",
        "colab": {
          "base_uri": "https://localhost:8080/",
          "height": 71
        }
      },
      "source": [
        "# hypernyms/troponyms. Troponyms give a specification for the verb (a verb that \n",
        "# specifies the same action but in a certain context. For example, diving is a \n",
        "# type of swimming, therefore the verb dive is a troponym for the verb swim).\n",
        "vb=wordnet.synset('run.v.01')\n",
        "print(vb.hypernyms())\n",
        "print(vb.hyponyms())"
      ],
      "execution_count": 9,
      "outputs": [
        {
          "output_type": "stream",
          "text": [
            "[Synset('travel_rapidly.v.01')]\n",
            "[Synset('hare.v.01'), Synset('jog.v.03'), Synset('lope.v.01'), Synset('outrun.v.01'), Synset('romp.v.02'), Synset('run.v.33'), Synset('run_bases.v.01'), Synset('rush.v.05'), Synset('scurry.v.01'), Synset('sprint.v.01'), Synset('streak.v.02'), Synset('trot.v.01')]\n"
          ],
          "name": "stdout"
        }
      ]
    },
    {
      "cell_type": "code",
      "metadata": {
        "id": "1SRlmqmxbbsZ",
        "colab_type": "code",
        "outputId": "7df66822-7565-42b5-c224-dc7036ea79fa",
        "colab": {
          "base_uri": "https://localhost:8080/",
          "height": 34
        }
      },
      "source": [
        "# entailments (an action(verb) is dependent on another action (verb) - the \n",
        "# first action needs the other action to take place)\n",
        "wordnet.synset('look.v.01').entailments()"
      ],
      "execution_count": 10,
      "outputs": [
        {
          "output_type": "execute_result",
          "data": {
            "text/plain": [
              "[Synset('see.v.01')]"
            ]
          },
          "metadata": {
            "tags": []
          },
          "execution_count": 10
        }
      ]
    },
    {
      "cell_type": "code",
      "metadata": {
        "id": "qA-V7bo4beCZ",
        "colab_type": "code",
        "outputId": "221dca38-1169-4a21-eeb2-27defde9b3c9",
        "colab": {
          "base_uri": "https://localhost:8080/",
          "height": 34
        }
      },
      "source": [
        "# verb_groups\n",
        "wordnet.synset('quiz.v.01').verb_groups()"
      ],
      "execution_count": 11,
      "outputs": [
        {
          "output_type": "execute_result",
          "data": {
            "text/plain": [
              "[Synset('test.v.07')]"
            ]
          },
          "metadata": {
            "tags": []
          },
          "execution_count": 11
        }
      ]
    },
    {
      "cell_type": "markdown",
      "metadata": {
        "id": "EEbasY0ldQT-",
        "colab_type": "text"
      },
      "source": [
        "Types of relations (for adjectives):"
      ]
    },
    {
      "cell_type": "code",
      "metadata": {
        "id": "FZzTft9wbgp3",
        "colab_type": "code",
        "outputId": "245f8384-f27f-4436-9e01-cd8bedc8e84a",
        "colab": {
          "base_uri": "https://localhost:8080/",
          "height": 34
        }
      },
      "source": [
        "# antonyms\n",
        "lem=wordnet.synset('good.a.01').lemmas()[0]\n",
        "lem.antonyms()"
      ],
      "execution_count": 12,
      "outputs": [
        {
          "output_type": "execute_result",
          "data": {
            "text/plain": [
              "[Lemma('bad.a.01.bad')]"
            ]
          },
          "metadata": {
            "tags": []
          },
          "execution_count": 12
        }
      ]
    },
    {
      "cell_type": "code",
      "metadata": {
        "id": "QFBd8bbmbjzy",
        "colab_type": "code",
        "outputId": "0c5388cf-2220-4e5d-8e18-f10488b7fb40",
        "colab": {
          "base_uri": "https://localhost:8080/",
          "height": 306
        }
      },
      "source": [
        "# similar to (also for adjective satellites)\n",
        "wordnet.synset('strong.a.01').similar_tos()"
      ],
      "execution_count": 13,
      "outputs": [
        {
          "output_type": "execute_result",
          "data": {
            "text/plain": [
              "[Synset('beardown.s.01'),\n",
              " Synset('beefed-up.s.01'),\n",
              " Synset('brawny.s.01'),\n",
              " Synset('bullnecked.s.01'),\n",
              " Synset('bullocky.s.01'),\n",
              " Synset('fortified.s.02'),\n",
              " Synset('hard.s.04'),\n",
              " Synset('industrial-strength.s.01'),\n",
              " Synset('ironlike.s.01'),\n",
              " Synset('knock-down.s.01'),\n",
              " Synset('noticeable.s.04'),\n",
              " Synset('reinforced.s.01'),\n",
              " Synset('robust.s.03'),\n",
              " Synset('stiff.s.02'),\n",
              " Synset('vehement.s.02'),\n",
              " Synset('virile.s.01'),\n",
              " Synset('well-knit.s.01')]"
            ]
          },
          "metadata": {
            "tags": []
          },
          "execution_count": 13
        }
      ]
    },
    {
      "cell_type": "code",
      "metadata": {
        "id": "hQ71nwJabnN4",
        "colab_type": "code",
        "outputId": "72a8215c-22d1-444c-8dbd-8b23d813b575",
        "colab": {
          "base_uri": "https://localhost:8080/",
          "height": 34
        }
      },
      "source": [
        "# pertainyms (can be nouns or other adjectives). Concepts(synsets) that pertain to the given synset\n",
        "lem=wordnet.synset('technical.a.01').lemmas()[0]\n",
        "lem.pertainyms()"
      ],
      "execution_count": 14,
      "outputs": [
        {
          "output_type": "execute_result",
          "data": {
            "text/plain": [
              "[Lemma('technique.n.01.technique')]"
            ]
          },
          "metadata": {
            "tags": []
          },
          "execution_count": 14
        }
      ]
    },
    {
      "cell_type": "code",
      "metadata": {
        "id": "9G8UYidTbqs_",
        "colab_type": "code",
        "outputId": "bd4e3e2c-6086-46de-d125-4a8db0b1562a",
        "colab": {
          "base_uri": "https://localhost:8080/",
          "height": 34
        }
      },
      "source": [
        "# attributes (relation to noun synsets)\n",
        "wordnet.synset('strong.a.01').attributes()"
      ],
      "execution_count": 15,
      "outputs": [
        {
          "output_type": "execute_result",
          "data": {
            "text/plain": [
              "[Synset('strength.n.01')]"
            ]
          },
          "metadata": {
            "tags": []
          },
          "execution_count": 15
        }
      ]
    },
    {
      "cell_type": "markdown",
      "metadata": {
        "id": "fycxYFq4dcX3",
        "colab_type": "text"
      },
      "source": [
        "Types of relations (for adverbs):"
      ]
    },
    {
      "cell_type": "code",
      "metadata": {
        "id": "H9iNiNy_btJ2",
        "colab_type": "code",
        "outputId": "ec27d04a-6ba8-45d8-855e-b050a91ec4f5",
        "colab": {
          "base_uri": "https://localhost:8080/",
          "height": 34
        }
      },
      "source": [
        "# antonyms\n",
        "wordnet.synset('quickly.r.01').lemmas()[0].antonyms()"
      ],
      "execution_count": 16,
      "outputs": [
        {
          "output_type": "execute_result",
          "data": {
            "text/plain": [
              "[Lemma('slowly.r.01.slowly')]"
            ]
          },
          "metadata": {
            "tags": []
          },
          "execution_count": 16
        }
      ]
    },
    {
      "cell_type": "code",
      "metadata": {
        "id": "ZUPgAEmfbtIQ",
        "colab_type": "code",
        "outputId": "2226cfa9-3097-476a-ac50-e1a84b05cf6b",
        "colab": {
          "base_uri": "https://localhost:8080/",
          "height": 34
        }
      },
      "source": [
        "# pertainyms (can be nouns or other adjectives). Concepts(synsets) that pertain to the given synset\n",
        "wordnet.synset('quickly.r.01').lemmas()[0].pertainyms()"
      ],
      "execution_count": 17,
      "outputs": [
        {
          "output_type": "execute_result",
          "data": {
            "text/plain": [
              "[Lemma('quick.s.01.quick')]"
            ]
          },
          "metadata": {
            "tags": []
          },
          "execution_count": 17
        }
      ]
    },
    {
      "cell_type": "code",
      "metadata": {
        "id": "7oV_xjRqbyuf",
        "colab_type": "code",
        "outputId": "8c0a169b-26bb-42b9-ad33-d4f1c657073f",
        "colab": {
          "base_uri": "https://localhost:8080/",
          "height": 68
        }
      },
      "source": [
        "# The similarity of two synsets:\n",
        "tree=wordnet.synset('tree.n.01')\n",
        "print(tree.path_similarity(wordnet.synset('plant.n.01')))\n",
        "print(tree.path_similarity(wordnet.synset('car.n.01')))\n",
        "print(tree.path_similarity(wordnet.synset('public_school.n.01')))"
      ],
      "execution_count": 18,
      "outputs": [
        {
          "output_type": "stream",
          "text": [
            "0.09090909090909091\n",
            "0.07142857142857142\n",
            "0.05555555555555555\n"
          ],
          "name": "stdout"
        }
      ]
    },
    {
      "cell_type": "markdown",
      "metadata": {
        "id": "ZplCHbFtcE7e",
        "colab_type": "text"
      },
      "source": [
        "# **Exercises and homework**"
      ]
    },
    {
      "cell_type": "markdown",
      "metadata": {
        "id": "5Mo4le1KcHxY",
        "colab_type": "text"
      },
      "source": [
        "# **1**\n",
        "Create a function that receives a word and prints the associated glosses for all the possible senses of that word (you must find all its corresponding synsets and print the gloss for each)."
      ]
    },
    {
      "cell_type": "code",
      "metadata": {
        "id": "8tEStM_Ibysp",
        "colab_type": "code",
        "outputId": "4c48a9b8-2158-4447-fca5-748fdf55a73c",
        "colab": {
          "base_uri": "https://localhost:8080/",
          "height": 102
        }
      },
      "source": [
        "def get_all_definitions(word):\n",
        "    syn_sets = wordnet.synsets(word)\n",
        "    for i, syn in enumerate(syn_sets):\n",
        "        print(i + 1, syn.definition())\n",
        "\n",
        "get_all_definitions('car')"
      ],
      "execution_count": 19,
      "outputs": [
        {
          "output_type": "stream",
          "text": [
            "1 a motor vehicle with four wheels; usually propelled by an internal combustion engine\n",
            "2 a wheeled vehicle adapted to the rails of railroad\n",
            "3 the compartment that is suspended from an airship and that carries personnel and the cargo and the power plant\n",
            "4 where passengers ride up and down\n",
            "5 a conveyance for passengers or freight on a cable railway\n"
          ],
          "name": "stdout"
        }
      ]
    },
    {
      "cell_type": "markdown",
      "metadata": {
        "id": "iZHbZqM4j6n0",
        "colab_type": "text"
      },
      "source": [
        "# **2**\n",
        "Create a function that receives two words as parameters. The function will check, using WordNet if the two words can be synonyms (there is at least one synset that contains the two words). If such synset is found, print the gloss for that synset."
      ]
    },
    {
      "cell_type": "code",
      "metadata": {
        "id": "25xy41g0j6KE",
        "colab_type": "code",
        "outputId": "e01930f6-de24-4704-8fc6-edbc9b12a955",
        "colab": {
          "base_uri": "https://localhost:8080/",
          "height": 34
        }
      },
      "source": [
        "def check_synonyms(word1, word2):\n",
        "    syn_sets1 = wordnet.synsets(word1)\n",
        "    syn_sets2 = wordnet.synsets(word2)\n",
        "    #print(syn_sets1)\n",
        "    #print(syn_sets2)\n",
        "    for syn in syn_sets1:\n",
        "        if syn in syn_sets2:\n",
        "            return syn.definition()\n",
        "    return \"words are not synonyms\"\n",
        "\n",
        "syn = check_synonyms('end', 'finish')\n",
        "print(syn)"
      ],
      "execution_count": 20,
      "outputs": [
        {
          "output_type": "stream",
          "text": [
            "have an end, in a temporal, spatial, or quantitative sense; either spatial or metaphorical\n"
          ],
          "name": "stdout"
        }
      ]
    },
    {
      "cell_type": "markdown",
      "metadata": {
        "id": "vurPIlf8s1Mr",
        "colab_type": "text"
      },
      "source": [
        "# **3**\n",
        "Create a function that receives a synset object and returns a tuple with 2 lists. The first list contains the holonyms (all types of holonyms) and the second one the meronyms (all types). Find a word that has either holonyms or meronyms of different types. Print them separately (on cathegories of holonyms/meronyms) and then all together using the created function (in order to check that it prints them all)."
      ]
    },
    {
      "cell_type": "code",
      "metadata": {
        "id": "UQXlTolEs09B",
        "colab_type": "code",
        "colab": {
          "base_uri": "https://localhost:8080/",
          "height": 190
        },
        "outputId": "3db8d102-cfbc-4c49-a5dc-6d280bf65b8c"
      },
      "source": [
        "def get_holonyms_meronyms(synset):\n",
        "    return (synset.substance_holonyms() + synset.part_holonyms() + synset.member_holonyms(), synset.substance_meronyms() + synset.part_meronyms() + synset.member_meronyms())\n",
        "\n",
        "synset = wordnet.synsets('earth')[0]\n",
        "(holonyms, meronyms) = get_holonyms_meronyms(synset)\n",
        "print(holonyms)\n",
        "print(meronyms)\n",
        "print()\n",
        "\n",
        "print(synset.substance_holonyms())\n",
        "print(synset.part_holonyms())\n",
        "print(synset.member_holonyms())\n",
        "\n",
        "print(synset.substance_meronyms())\n",
        "print(synset.part_meronyms())\n",
        "print(synset.member_meronyms())"
      ],
      "execution_count": 21,
      "outputs": [
        {
          "output_type": "stream",
          "text": [
            "[Synset('solar_system.n.01')]\n",
            "[Synset('atmosphere.n.03'), Synset('hemisphere.n.01'), Synset('hydrosphere.n.01'), Synset('land.n.04'), Synset('lithosphere.n.01'), Synset('sky.n.01'), Synset('van_allen_belt.n.01')]\n",
            "\n",
            "[]\n",
            "[]\n",
            "[Synset('solar_system.n.01')]\n",
            "[]\n",
            "[Synset('atmosphere.n.03'), Synset('hemisphere.n.01'), Synset('hydrosphere.n.01'), Synset('land.n.04'), Synset('lithosphere.n.01'), Synset('sky.n.01'), Synset('van_allen_belt.n.01')]\n",
            "[]\n"
          ],
          "name": "stdout"
        }
      ]
    },
    {
      "cell_type": "markdown",
      "metadata": {
        "id": "tKsdjyG7tEa6",
        "colab_type": "text"
      },
      "source": [
        "# **4**\n",
        "Create a function that for a given synset, prints the path of hypernyms (going to the next hypernym, and from that hypernym to the next one and so on, until it reaches the root)."
      ]
    },
    {
      "cell_type": "code",
      "metadata": {
        "id": "WaZmXbKQtHPl",
        "colab_type": "code",
        "colab": {
          "base_uri": "https://localhost:8080/",
          "height": 136
        },
        "outputId": "1a4b20f3-6afb-42ca-e1cf-ae8261830096"
      },
      "source": [
        "def get_all_hypernyms(synset):\n",
        "    print(synset)\n",
        "    synset = synset.hypernyms()\n",
        "    if synset != []:\n",
        "        get_all_hypernyms(synset[0])\n",
        "\n",
        "get_all_hypernyms(wordnet.synsets('iron')[0])"
      ],
      "execution_count": 22,
      "outputs": [
        {
          "output_type": "stream",
          "text": [
            "Synset('iron.n.01')\n",
            "Synset('metallic_element.n.01')\n",
            "Synset('chemical_element.n.01')\n",
            "Synset('substance.n.01')\n",
            "Synset('matter.n.03')\n",
            "Synset('physical_entity.n.01')\n",
            "Synset('entity.n.01')\n"
          ],
          "name": "stdout"
        }
      ]
    },
    {
      "cell_type": "markdown",
      "metadata": {
        "id": "V_xu-BnotHnt",
        "colab_type": "text"
      },
      "source": [
        "# **5**\n",
        "Create a function that receives two synsets as parameters. We consider d1(k) the length of the path from the first word to the hypernym k (the length of the path is the number of hypernyms it goes through, to reach k) and d2(k) the length of the path from the second word to the hypernym k. The function will return the list of hypernyms having the property that d1(k)+d2(k) is minimum (there can be multiple hypernyms with this property ; all having equal distances that are this minimum number; you must print them all)."
      ]
    },
    {
      "cell_type": "code",
      "metadata": {
        "id": "dXNUbAPztJKJ",
        "colab_type": "code",
        "colab": {
          "base_uri": "https://localhost:8080/",
          "height": 751
        },
        "outputId": "27d3a925-f54b-4cf0-ae98-53fec039261d"
      },
      "source": [
        "def print_LCA_paths(synset1, synset2):\n",
        "    def get_all_paths_hypernyms(synset, depth = 0):\n",
        "        L = []\n",
        "        L.append((synset, depth))\n",
        "        synset = synset.hypernyms()\n",
        "        for syn in synset:\n",
        "            L += (get_all_paths_hypernyms(syn, depth + 1))\n",
        "        return L\n",
        "\n",
        "    L1 = get_all_paths_hypernyms(synset1)\n",
        "    L2 = get_all_paths_hypernyms(synset2)\n",
        "\n",
        "    for l in L1:\n",
        "        print(l)\n",
        "    print()\n",
        "    for l in L2:\n",
        "        print(l)\n",
        "\n",
        "    def complete_all_paths_hypernyms(path):\n",
        "        L = []\n",
        "        path = path[::-1]\n",
        "        cut = 0\n",
        "        while cut is not None:\n",
        "            prev_node = path[0]\n",
        "            l = [path[0]]\n",
        "            cut = None\n",
        "            for i in range(1, len(path)):\n",
        "                if path[i][1] + 1 == prev_node[1]:\n",
        "                    l.append(path[i])\n",
        "                    prev_node = path[i]\n",
        "                else:\n",
        "                    cut = i\n",
        "                    for j in range(i+1, len(path)):\n",
        "                        if path[j][1] + 1 == prev_node[1]:\n",
        "                            l.append(path[j])\n",
        "                            prev_node = path[j]\n",
        "                        else:\n",
        "                            continue\n",
        "                    break\n",
        "            L.append(l[::-1])\n",
        "            path = path[cut:]\n",
        "        return L\n",
        "\n",
        "    L1 = complete_all_paths_hypernyms(L1)\n",
        "    L2 = complete_all_paths_hypernyms(L2)\n",
        "\n",
        "    for l in L1:\n",
        "        print(l)\n",
        "    print()\n",
        "    for l in L2:\n",
        "        print(l)\n",
        "\n",
        "    paths = []\n",
        "    for l1 in range(len(L1)):\n",
        "        for l2 in range(l1+1, len(L2)):\n",
        "            for k in range(min(len(L1[l1]), len(L2[l2]))):\n",
        "                if L1[l1][k] == L2[l2][k]:\n",
        "                    paths.append(L1[l1][:k+1] + L2[l2][:k][::-1])\n",
        "                    break\n",
        "\n",
        "    return paths\n",
        "\n",
        "paths = print_LCA_paths(wordnet.synsets('iron')[0], wordnet.synsets('copper')[0])\n",
        "print()\n",
        "print(paths)"
      ],
      "execution_count": 30,
      "outputs": [
        {
          "output_type": "stream",
          "text": [
            "(Synset('iron.n.01'), 0)\n",
            "(Synset('metallic_element.n.01'), 1)\n",
            "(Synset('chemical_element.n.01'), 2)\n",
            "(Synset('substance.n.01'), 3)\n",
            "(Synset('matter.n.03'), 4)\n",
            "(Synset('physical_entity.n.01'), 5)\n",
            "(Synset('entity.n.01'), 6)\n",
            "(Synset('part.n.01'), 4)\n",
            "(Synset('relation.n.01'), 5)\n",
            "(Synset('abstraction.n.06'), 6)\n",
            "(Synset('entity.n.01'), 7)\n",
            "\n",
            "(Synset('copper.n.01'), 0)\n",
            "(Synset('conductor.n.02'), 1)\n",
            "(Synset('material.n.01'), 2)\n",
            "(Synset('substance.n.01'), 3)\n",
            "(Synset('matter.n.03'), 4)\n",
            "(Synset('physical_entity.n.01'), 5)\n",
            "(Synset('entity.n.01'), 6)\n",
            "(Synset('part.n.01'), 4)\n",
            "(Synset('relation.n.01'), 5)\n",
            "(Synset('abstraction.n.06'), 6)\n",
            "(Synset('entity.n.01'), 7)\n",
            "(Synset('metallic_element.n.01'), 1)\n",
            "(Synset('chemical_element.n.01'), 2)\n",
            "(Synset('substance.n.01'), 3)\n",
            "(Synset('matter.n.03'), 4)\n",
            "(Synset('physical_entity.n.01'), 5)\n",
            "(Synset('entity.n.01'), 6)\n",
            "(Synset('part.n.01'), 4)\n",
            "(Synset('relation.n.01'), 5)\n",
            "(Synset('abstraction.n.06'), 6)\n",
            "(Synset('entity.n.01'), 7)\n",
            "[(Synset('iron.n.01'), 0), (Synset('metallic_element.n.01'), 1), (Synset('chemical_element.n.01'), 2), (Synset('substance.n.01'), 3), (Synset('part.n.01'), 4), (Synset('relation.n.01'), 5), (Synset('abstraction.n.06'), 6), (Synset('entity.n.01'), 7)]\n",
            "[(Synset('iron.n.01'), 0), (Synset('metallic_element.n.01'), 1), (Synset('chemical_element.n.01'), 2), (Synset('substance.n.01'), 3), (Synset('matter.n.03'), 4), (Synset('physical_entity.n.01'), 5), (Synset('entity.n.01'), 6)]\n",
            "\n",
            "[(Synset('copper.n.01'), 0), (Synset('metallic_element.n.01'), 1), (Synset('chemical_element.n.01'), 2), (Synset('substance.n.01'), 3), (Synset('part.n.01'), 4), (Synset('relation.n.01'), 5), (Synset('abstraction.n.06'), 6), (Synset('entity.n.01'), 7)]\n",
            "[(Synset('copper.n.01'), 0), (Synset('metallic_element.n.01'), 1), (Synset('chemical_element.n.01'), 2), (Synset('substance.n.01'), 3), (Synset('matter.n.03'), 4), (Synset('physical_entity.n.01'), 5), (Synset('entity.n.01'), 6)]\n",
            "[(Synset('copper.n.01'), 0), (Synset('conductor.n.02'), 1), (Synset('material.n.01'), 2), (Synset('substance.n.01'), 3), (Synset('part.n.01'), 4), (Synset('relation.n.01'), 5), (Synset('abstraction.n.06'), 6), (Synset('entity.n.01'), 7)]\n",
            "[(Synset('copper.n.01'), 0), (Synset('conductor.n.02'), 1), (Synset('material.n.01'), 2), (Synset('substance.n.01'), 3), (Synset('matter.n.03'), 4), (Synset('physical_entity.n.01'), 5), (Synset('entity.n.01'), 6)]\n",
            "\n",
            "[[(Synset('iron.n.01'), 0), (Synset('metallic_element.n.01'), 1), (Synset('copper.n.01'), 0)], [(Synset('iron.n.01'), 0), (Synset('metallic_element.n.01'), 1), (Synset('chemical_element.n.01'), 2), (Synset('substance.n.01'), 3), (Synset('material.n.01'), 2), (Synset('conductor.n.02'), 1), (Synset('copper.n.01'), 0)], [(Synset('iron.n.01'), 0), (Synset('metallic_element.n.01'), 1), (Synset('chemical_element.n.01'), 2), (Synset('substance.n.01'), 3), (Synset('material.n.01'), 2), (Synset('conductor.n.02'), 1), (Synset('copper.n.01'), 0)], [(Synset('iron.n.01'), 0), (Synset('metallic_element.n.01'), 1), (Synset('chemical_element.n.01'), 2), (Synset('substance.n.01'), 3), (Synset('material.n.01'), 2), (Synset('conductor.n.02'), 1), (Synset('copper.n.01'), 0)], [(Synset('iron.n.01'), 0), (Synset('metallic_element.n.01'), 1), (Synset('chemical_element.n.01'), 2), (Synset('substance.n.01'), 3), (Synset('material.n.01'), 2), (Synset('conductor.n.02'), 1), (Synset('copper.n.01'), 0)]]\n"
          ],
          "name": "stdout"
        }
      ]
    },
    {
      "cell_type": "markdown",
      "metadata": {
        "id": "KEyEXsQZtJk5",
        "colab_type": "text"
      },
      "source": [
        "# **6**\n",
        "Create a function that receives a synset object and a list of synsets (the list must contain at least 5 elements). The function will return a sorted list. The list will be sorted by the similarity between the first synset and the synsets in the list. For example (we consider we take the firs synset for each word) we can test for the word cat and the list: animal, tree, house, object, public_school, mouse.\n"
      ]
    },
    {
      "cell_type": "code",
      "metadata": {
        "id": "tb1e43YJtK0c",
        "colab_type": "code",
        "colab": {
          "base_uri": "https://localhost:8080/",
          "height": 54
        },
        "outputId": "96c8696f-89fd-412b-fa11-4270f4621063"
      },
      "source": [
        "def sort_by_similarity(syn, synset_list):\n",
        "    L = []\n",
        "    for s in synset_list:\n",
        "        L.append((s, syn.path_similarity(s)))\n",
        "\n",
        "    L = sorted(L, key=lambda tup: tup[1])\n",
        "    return L\n",
        "\n",
        "L = sort_by_similarity(wordnet.synsets('cat')[0], [wordnet.synsets('animal')[0], \n",
        "                                                  wordnet.synsets('tree')[0], \n",
        "                                                  wordnet.synsets('object')[0], \n",
        "                                                  wordnet.synsets('house')[0], \n",
        "                                                  wordnet.synsets('public_school')[0], \n",
        "                                                  wordnet.synsets('mouse')[0]])\n",
        "print(L)"
      ],
      "execution_count": 41,
      "outputs": [
        {
          "output_type": "stream",
          "text": [
            "[(Synset('public_school.n.01'), 0.045454545454545456), (Synset('house.n.01'), 0.06666666666666667), (Synset('tree.n.01'), 0.07692307692307693), (Synset('object.n.01'), 0.08333333333333333), (Synset('animal.n.01'), 0.125), (Synset('mouse.n.01'), 0.16666666666666666)]\n"
          ],
          "name": "stdout"
        }
      ]
    },
    {
      "cell_type": "markdown",
      "metadata": {
        "id": "AbtuWOrBtLpq",
        "colab_type": "text"
      },
      "source": [
        "# **7**\n",
        "Create a function that checks if two synsets can be indirect meronyms for the same synset. An indirect meronym is either a part of the givem element or a part of a part of the given element (and we can exten this relation as being part of part of part of etc....). This applies to any type of meronym."
      ]
    },
    {
      "cell_type": "code",
      "metadata": {
        "id": "pmi2qP8ZtMrX",
        "colab_type": "code",
        "colab": {
          "base_uri": "https://localhost:8080/",
          "height": 88
        },
        "outputId": "f0b61f2a-6a5f-4ac2-91bc-3c8f8b21b848"
      },
      "source": [
        "def check_shared_meronyms(syn1, syn2):\n",
        "\n",
        "    def get_all_meronyms(syn):\n",
        "        meronyms = set()\n",
        "        meronyms.update(syn.substance_meronyms())\n",
        "        meronyms.update(syn.part_meronyms())\n",
        "        meronyms.update(syn.member_meronyms())\n",
        "        update = True\n",
        "        while update:\n",
        "            initial_len = len(meronyms)\n",
        "            L = []\n",
        "            for meronym in meronyms:\n",
        "                L += meronym.substance_meronyms() + meronym.part_meronyms() + meronym.member_meronyms()\n",
        "            meronyms.update(L)\n",
        "            final_len = len(meronyms)\n",
        "            if initial_len == final_len:\n",
        "                update = False\n",
        "        return meronyms\n",
        "\n",
        "    meronyms1 = get_all_meronyms(syn1)\n",
        "    meronyms2 = get_all_meronyms(syn2)\n",
        "    print(meronyms1)\n",
        "    print(meronyms2)\n",
        "\n",
        "    R = []\n",
        "    for m in meronyms1:\n",
        "        if m in meronyms2:\n",
        "            R.append(m)\n",
        "\n",
        "    return R\n",
        "\n",
        "R = check_shared_meronyms(wordnet.synsets('earth')[0], wordnet.synsets('ice')[0])\n",
        "print(R)"
      ],
      "execution_count": 76,
      "outputs": [
        {
          "output_type": "stream",
          "text": [
            "{Synset('hydrogen.n.01'), Synset('ionosphere.n.01'), Synset('upper_mantle.n.01'), Synset('oxygen.n.01'), Synset('inlet.n.01'), Synset('lithosphere.n.01'), Synset('water.n.01'), Synset('asthenosphere.n.01'), Synset('rainbow.n.01'), Synset('hydrosphere.n.01'), Synset('ocean.n.01'), Synset('gulf.n.01'), Synset('van_allen_belt.n.01'), Synset('high_sea.n.01'), Synset('body_of_water.n.01'), Synset('offing.n.02'), Synset('water_vapor.n.01'), Synset('hemisphere.n.01'), Synset('lower_mantle.n.01'), Synset('mantle.n.03'), Synset('atmosphere.n.03'), Synset('land.n.04'), Synset('main.n.01'), Synset('sky.n.01'), Synset('surface.n.03'), Synset('crust.n.01'), Synset('sial.n.01'), Synset('sea.n.01'), Synset('airspace.n.01'), Synset('d-layer.n.01'), Synset('bay.n.01'), Synset('cloud.n.02'), Synset('heaviside_layer.n.01'), Synset('territorial_waters.n.01'), Synset('sima.n.01'), Synset('opening.n.01'), Synset('appleton_layer.n.01')}\n",
            "{Synset('hydrogen.n.01'), Synset('water.n.01'), Synset('oxygen.n.01')}\n",
            "[Synset('hydrogen.n.01'), Synset('oxygen.n.01'), Synset('water.n.01')]\n"
          ],
          "name": "stdout"
        }
      ]
    },
    {
      "cell_type": "markdown",
      "metadata": {
        "id": "h2mz-yq5tNFU",
        "colab_type": "text"
      },
      "source": [
        "# **8**\n",
        "Print the synonyms and antonyms of an adjective (for example, \"beautiful\"). If it's polisemantic, print them for each sense, also printing the gloss for that sense (synset)."
      ]
    },
    {
      "cell_type": "code",
      "metadata": {
        "id": "4Eb37Pz7tN_E",
        "colab_type": "code",
        "colab": {
          "base_uri": "https://localhost:8080/",
          "height": 173
        },
        "outputId": "ed0e21fc-3d6d-4a79-cd36-c52cadee28d7"
      },
      "source": [
        "def get_synonyms_and_antonyms(adj):\n",
        "    synsets = wordnet.synsets(adj)\n",
        "    for syn in synsets:\n",
        "        print(syn.definition())\n",
        "        print(list(map(lambda x: x.lemma_names(), syn.similar_tos())))\n",
        "        print(list(map(lambda x: x.name(), syn.lemmas()[0].antonyms())))\n",
        "        print()\n",
        "\n",
        "get_synonyms_and_antonyms('beautiful')"
      ],
      "execution_count": 89,
      "outputs": [
        {
          "output_type": "stream",
          "text": [
            "delighting the senses or exciting intellectual or emotional admiration\n",
            "[['beauteous'], ['bonny', 'bonnie', 'comely', 'fair', 'sightly'], ['dishy'], ['exquisite'], ['fine-looking', 'good-looking', 'better-looking', 'handsome', 'well-favored', 'well-favoured'], ['glorious', 'resplendent', 'splendid', 'splendiferous'], ['gorgeous'], ['lovely'], ['picturesque'], ['pretty-pretty'], ['pretty'], ['pulchritudinous'], ['ravishing'], ['scenic'], ['stunning']]\n",
            "['ugly']\n",
            "\n",
            "(of weather) highly enjoyable\n",
            "[['pleasant']]\n",
            "[]\n",
            "\n"
          ],
          "name": "stdout"
        }
      ]
    }
  ]
}