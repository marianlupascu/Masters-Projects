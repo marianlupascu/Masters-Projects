{
  "nbformat": 4,
  "nbformat_minor": 0,
  "metadata": {
    "colab": {
      "name": "morpho_syntax.ipynb",
      "provenance": [],
      "collapsed_sections": []
    },
    "kernelspec": {
      "name": "python3",
      "display_name": "Python 3"
    }
  },
  "cells": [
    {
      "cell_type": "code",
      "metadata": {
        "id": "haUWbgIqdmDw",
        "colab_type": "code",
        "colab": {}
      },
      "source": [
        "from google.colab import files, auth, drive"
      ],
      "execution_count": 0,
      "outputs": []
    },
    {
      "cell_type": "code",
      "metadata": {
        "id": "VELUX7LyfFR7",
        "colab_type": "code",
        "outputId": "caaafa11-9baa-4bbc-cca2-e0f0f7af534e",
        "colab": {
          "base_uri": "https://localhost:8080/",
          "height": 122
        }
      },
      "source": [
        "# Mount to drive\n",
        "drive.mount('/content/gdrive', force_remount=True)\n",
        "data_dir_drive ='/content/gdrive/My Drive/Colab Notebooks/NLP1/Lab3'"
      ],
      "execution_count": 0,
      "outputs": [
        {
          "output_type": "stream",
          "text": [
            "Go to this URL in a browser: https://accounts.google.com/o/oauth2/auth?client_id=947318989803-6bn6qk8qdgf4n4g3pfee6491hc0brc4i.apps.googleusercontent.com&redirect_uri=urn%3aietf%3awg%3aoauth%3a2.0%3aoob&response_type=code&scope=email%20https%3a%2f%2fwww.googleapis.com%2fauth%2fdocs.test%20https%3a%2f%2fwww.googleapis.com%2fauth%2fdrive%20https%3a%2f%2fwww.googleapis.com%2fauth%2fdrive.photos.readonly%20https%3a%2f%2fwww.googleapis.com%2fauth%2fpeopleapi.readonly\n",
            "\n",
            "Enter your authorization code:\n",
            "··········\n",
            "Mounted at /content/gdrive\n"
          ],
          "name": "stdout"
        }
      ]
    },
    {
      "cell_type": "markdown",
      "metadata": {
        "id": "MADZcz2yiXBk",
        "colab_type": "text"
      },
      "source": [
        "# 1\n",
        "Choose a wikipedia article. You will download and acces the article using this python module: wikipedia. Use the content property to extract the text. Print the title of the article and the first N=200 words from the article to verify that all works well. Print the POS-tagging for the first N=20 sentences."
      ]
    },
    {
      "cell_type": "code",
      "metadata": {
        "id": "WDZUnpHOfTlC",
        "colab_type": "code",
        "outputId": "1205f466-ea90-40d0-c2c5-4f8dc4772a20",
        "colab": {
          "base_uri": "https://localhost:8080/",
          "height": 272
        }
      },
      "source": [
        "! pip install wikipedia"
      ],
      "execution_count": 0,
      "outputs": [
        {
          "output_type": "stream",
          "text": [
            "Collecting wikipedia\n",
            "  Downloading https://files.pythonhosted.org/packages/67/35/25e68fbc99e672127cc6fbb14b8ec1ba3dfef035bf1e4c90f78f24a80b7d/wikipedia-1.4.0.tar.gz\n",
            "Requirement already satisfied: beautifulsoup4 in /usr/local/lib/python3.6/dist-packages (from wikipedia) (4.6.3)\n",
            "Requirement already satisfied: requests<3.0.0,>=2.0.0 in /usr/local/lib/python3.6/dist-packages (from wikipedia) (2.21.0)\n",
            "Requirement already satisfied: certifi>=2017.4.17 in /usr/local/lib/python3.6/dist-packages (from requests<3.0.0,>=2.0.0->wikipedia) (2019.11.28)\n",
            "Requirement already satisfied: urllib3<1.25,>=1.21.1 in /usr/local/lib/python3.6/dist-packages (from requests<3.0.0,>=2.0.0->wikipedia) (1.24.3)\n",
            "Requirement already satisfied: chardet<3.1.0,>=3.0.2 in /usr/local/lib/python3.6/dist-packages (from requests<3.0.0,>=2.0.0->wikipedia) (3.0.4)\n",
            "Requirement already satisfied: idna<2.9,>=2.5 in /usr/local/lib/python3.6/dist-packages (from requests<3.0.0,>=2.0.0->wikipedia) (2.8)\n",
            "Building wheels for collected packages: wikipedia\n",
            "  Building wheel for wikipedia (setup.py) ... \u001b[?25l\u001b[?25hdone\n",
            "  Created wheel for wikipedia: filename=wikipedia-1.4.0-cp36-none-any.whl size=11686 sha256=dfb0fa38921a5f9563e5abe28b7ce788e26c919ae0089865c07c64c75c090fe8\n",
            "  Stored in directory: /root/.cache/pip/wheels/87/2a/18/4e471fd96d12114d16fe4a446d00c3b38fb9efcb744bd31f4a\n",
            "Successfully built wikipedia\n",
            "Installing collected packages: wikipedia\n",
            "Successfully installed wikipedia-1.4.0\n"
          ],
          "name": "stdout"
        }
      ]
    },
    {
      "cell_type": "code",
      "metadata": {
        "id": "l1L_WVClRhZt",
        "colab_type": "code",
        "outputId": "c3d41628-a60a-42b1-be1a-ba53554807b6",
        "colab": {
          "base_uri": "https://localhost:8080/",
          "height": 51
        }
      },
      "source": [
        "! pip install nltk"
      ],
      "execution_count": 0,
      "outputs": [
        {
          "output_type": "stream",
          "text": [
            "Requirement already satisfied: nltk in /usr/local/lib/python3.6/dist-packages (3.2.5)\n",
            "Requirement already satisfied: six in /usr/local/lib/python3.6/dist-packages (from nltk) (1.12.0)\n"
          ],
          "name": "stdout"
        }
      ]
    },
    {
      "cell_type": "code",
      "metadata": {
        "id": "x1dL4MpiRxEy",
        "colab_type": "code",
        "outputId": "6f6b6056-4281-4356-a968-d68995b86905",
        "colab": {
          "base_uri": "https://localhost:8080/",
          "height": 289
        }
      },
      "source": [
        "import nltk\n",
        "nltk.download()"
      ],
      "execution_count": 0,
      "outputs": [
        {
          "output_type": "stream",
          "text": [
            "NLTK Downloader\n",
            "---------------------------------------------------------------------------\n",
            "    d) Download   l) List    u) Update   c) Config   h) Help   q) Quit\n",
            "---------------------------------------------------------------------------\n",
            "Downloader> d\n",
            "\n",
            "Download which package (l=list; x=cancel)?\n",
            "  Identifier> tagsets\n",
            "    Downloading package tagsets to /root/nltk_data...\n",
            "      Unzipping help/tagsets.zip.\n",
            "\n",
            "---------------------------------------------------------------------------\n",
            "    d) Download   l) List    u) Update   c) Config   h) Help   q) Quit\n",
            "---------------------------------------------------------------------------\n",
            "Downloader> q\n"
          ],
          "name": "stdout"
        },
        {
          "output_type": "execute_result",
          "data": {
            "text/plain": [
              "True"
            ]
          },
          "metadata": {
            "tags": []
          },
          "execution_count": 59
        }
      ]
    },
    {
      "cell_type": "code",
      "metadata": {
        "id": "dxqCQpk0ith5",
        "colab_type": "code",
        "outputId": "71b8bd94-ba7e-4e1d-eb3d-01bb6838db70",
        "colab": {
          "base_uri": "https://localhost:8080/",
          "height": 71
        }
      },
      "source": [
        "import wikipedia\n",
        "from nltk.tokenize import sent_tokenize, word_tokenize\n",
        "\n",
        "wikipedia.set_lang(\"en\")\n",
        "palde = wikipedia.page(\"George Emil Palade\")\n",
        "print(palde.title)\n",
        "data = palde.content\n",
        "words = word_tokenize(data)\n",
        "words2 = [x for x in words]\n",
        "print(words2[:200])"
      ],
      "execution_count": 0,
      "outputs": [
        {
          "output_type": "stream",
          "text": [
            "George Emil Palade\n",
            "['George', 'Emil', 'Palade', 'ForMemRS', 'HonFRMS', '(', 'Romanian', 'pronunciation', ':', '[', 'ˈd͡ʒe̯ord͡ʒe', 'eˈmil', 'paˈlade', ']', '(', 'listen', ')', ';', 'November', '19', ',', '1912', '–', 'October', '7', ',', '2008', ')', 'was', 'a', 'Romanian-American', 'cell', 'biologist', '.', 'Described', 'as', '``', 'the', 'most', 'influential', 'cell', 'biologist', 'ever', \"''\", ',', 'in', '1974', 'he', 'was', 'awarded', 'the', 'Nobel', 'Prize', 'in', 'Physiology', 'and', 'Medicine', 'along', 'with', 'Albert', 'Claude', 'and', 'Christian', 'de', 'Duve', '.', 'The', 'prize', 'was', 'granted', 'for', 'his', 'innovations', 'in', 'electron', 'microscopy', 'and', 'cell', 'fractionation', 'which', 'together', 'laid', 'the', 'foundations', 'of', 'modern', 'molecular', 'cell', 'biology', ',', 'the', 'most', 'notable', 'discovery', 'being', 'the', 'ribosomes', 'of', 'the', 'endoplasmic', 'reticulum', '–', 'which', 'he', 'first', 'described', 'in', '1955.Palade', 'also', 'received', 'the', 'U.S.', 'National', 'Medal', 'of', 'Science', 'in', 'Biological', 'Sciences', 'for', '``', 'pioneering', 'discoveries', 'of', 'a', 'host', 'of', 'fundamental', ',', 'highly', 'organized', 'structures', 'in', 'living', 'cells', \"''\", 'in', '1986', ',', 'and', 'was', 'previously', 'elected', 'a', 'Member', 'of', 'the', 'US', 'National', 'Academy', 'of', 'Science', 'in', '1961', '.', 'In', '1968', 'he', 'elected', 'an', 'Honorary', 'Fellow', 'of', 'the', 'Royal', 'Microscopical', 'Society', '(', 'HonFRMS', ')', '.', 'and', 'in', '1984', 'he', 'was', 'elected', 'a', 'Foreign', 'Member', 'of', 'the', 'Royal', 'Society', '(', 'ForMemRS', ')', '.', '==', 'Education', 'and', 'early', 'life', '==', 'George', 'Emil', 'Palade', 'was', 'born', 'on']\n"
          ],
          "name": "stdout"
        }
      ]
    },
    {
      "cell_type": "code",
      "metadata": {
        "id": "sIr9gNGU-wGF",
        "colab_type": "code",
        "outputId": "23b1dc74-8f84-4119-a25a-4080cebee962",
        "colab": {
          "base_uri": "https://localhost:8080/",
          "height": 717
        }
      },
      "source": [
        "N=20\n",
        "\n",
        "sentences = sent_tokenize(data)\n",
        "for i in range(N):\n",
        "    w_ = word_tokenize(sentences[i])\n",
        "    w_tags = nltk.pos_tag(w_)\n",
        "    print('Sent ' + str(i + 1) + ':')\n",
        "    print(w_tags)"
      ],
      "execution_count": 0,
      "outputs": [
        {
          "output_type": "stream",
          "text": [
            "Sent 1:\n",
            "[('George', 'NNP'), ('Emil', 'NNP'), ('Palade', 'NNP'), ('ForMemRS', 'NNP'), ('HonFRMS', 'NNP'), ('(', '('), ('Romanian', 'JJ'), ('pronunciation', 'NN'), (':', ':'), ('[', 'JJ'), ('ˈd͡ʒe̯ord͡ʒe', 'NNP'), ('eˈmil', 'NN'), ('paˈlade', 'NN'), (']', 'NNP'), ('(', '('), ('listen', 'VBN'), (')', ')'), (';', ':'), ('November', 'NNP'), ('19', 'CD'), (',', ','), ('1912', 'CD'), ('–', 'NNP'), ('October', 'NNP'), ('7', 'CD'), (',', ','), ('2008', 'CD'), (')', ')'), ('was', 'VBD'), ('a', 'DT'), ('Romanian-American', 'JJ'), ('cell', 'NN'), ('biologist', 'NN'), ('.', '.')]\n",
            "Sent 2:\n",
            "[('Described', 'NNP'), ('as', 'IN'), ('``', '``'), ('the', 'DT'), ('most', 'RBS'), ('influential', 'JJ'), ('cell', 'NN'), ('biologist', 'NN'), ('ever', 'RB'), (\"''\", \"''\"), (',', ','), ('in', 'IN'), ('1974', 'CD'), ('he', 'PRP'), ('was', 'VBD'), ('awarded', 'VBN'), ('the', 'DT'), ('Nobel', 'NNP'), ('Prize', 'NNP'), ('in', 'IN'), ('Physiology', 'NNP'), ('and', 'CC'), ('Medicine', 'NNP'), ('along', 'IN'), ('with', 'IN'), ('Albert', 'NNP'), ('Claude', 'NNP'), ('and', 'CC'), ('Christian', 'NNP'), ('de', 'NNP'), ('Duve', 'NNP'), ('.', '.')]\n",
            "Sent 3:\n",
            "[('The', 'DT'), ('prize', 'NN'), ('was', 'VBD'), ('granted', 'VBN'), ('for', 'IN'), ('his', 'PRP$'), ('innovations', 'NNS'), ('in', 'IN'), ('electron', 'NN'), ('microscopy', 'NN'), ('and', 'CC'), ('cell', 'NN'), ('fractionation', 'NN'), ('which', 'WDT'), ('together', 'RB'), ('laid', 'VBD'), ('the', 'DT'), ('foundations', 'NNS'), ('of', 'IN'), ('modern', 'JJ'), ('molecular', 'JJ'), ('cell', 'NN'), ('biology', 'NN'), (',', ','), ('the', 'DT'), ('most', 'RBS'), ('notable', 'JJ'), ('discovery', 'NN'), ('being', 'VBG'), ('the', 'DT'), ('ribosomes', 'NNS'), ('of', 'IN'), ('the', 'DT'), ('endoplasmic', 'JJ'), ('reticulum', 'NN'), ('–', 'NN'), ('which', 'WDT'), ('he', 'PRP'), ('first', 'RB'), ('described', 'VBD'), ('in', 'IN'), ('1955.Palade', 'CD'), ('also', 'RB'), ('received', 'VBD'), ('the', 'DT'), ('U.S.', 'NNP'), ('National', 'NNP'), ('Medal', 'NNP'), ('of', 'IN'), ('Science', 'NNP'), ('in', 'IN'), ('Biological', 'NNP'), ('Sciences', 'NNPS'), ('for', 'IN'), ('``', '``'), ('pioneering', 'JJ'), ('discoveries', 'NNS'), ('of', 'IN'), ('a', 'DT'), ('host', 'NN'), ('of', 'IN'), ('fundamental', 'JJ'), (',', ','), ('highly', 'RB'), ('organized', 'VBN'), ('structures', 'NNS'), ('in', 'IN'), ('living', 'NN'), ('cells', 'NNS'), (\"''\", \"''\"), ('in', 'IN'), ('1986', 'CD'), (',', ','), ('and', 'CC'), ('was', 'VBD'), ('previously', 'RB'), ('elected', 'VBN'), ('a', 'DT'), ('Member', 'NNP'), ('of', 'IN'), ('the', 'DT'), ('US', 'NNP'), ('National', 'NNP'), ('Academy', 'NNP'), ('of', 'IN'), ('Science', 'NNP'), ('in', 'IN'), ('1961', 'CD'), ('.', '.')]\n",
            "Sent 4:\n",
            "[('In', 'IN'), ('1968', 'CD'), ('he', 'PRP'), ('elected', 'VBD'), ('an', 'DT'), ('Honorary', 'NNP'), ('Fellow', 'NNP'), ('of', 'IN'), ('the', 'DT'), ('Royal', 'NNP'), ('Microscopical', 'NNP'), ('Society', 'NNP'), ('(', '('), ('HonFRMS', 'NNP'), (')', ')'), ('.', '.')]\n",
            "Sent 5:\n",
            "[('and', 'CC'), ('in', 'IN'), ('1984', 'CD'), ('he', 'PRP'), ('was', 'VBD'), ('elected', 'VBN'), ('a', 'DT'), ('Foreign', 'NNP'), ('Member', 'NNP'), ('of', 'IN'), ('the', 'DT'), ('Royal', 'NNP'), ('Society', 'NNP'), ('(', '('), ('ForMemRS', 'NNP'), (')', ')'), ('.', '.')]\n",
            "Sent 6:\n",
            "[('==', 'JJ'), ('Education', 'NN'), ('and', 'CC'), ('early', 'JJ'), ('life', 'NN'), ('==', 'NNP'), ('George', 'NNP'), ('Emil', 'NNP'), ('Palade', 'NNP'), ('was', 'VBD'), ('born', 'VBN'), ('on', 'IN'), ('November', 'NNP'), ('19', 'CD'), (',', ','), ('1912', 'CD'), ('in', 'IN'), ('Iași', 'NNP'), (',', ','), ('Romania', 'NNP'), (';', ':'), ('his', 'PRP$'), ('father', 'NN'), ('was', 'VBD'), ('a', 'DT'), ('professor', 'NN'), ('of', 'IN'), ('philosophy', 'NN'), ('at', 'IN'), ('the', 'DT'), ('University', 'NNP'), ('of', 'IN'), ('Iași', 'NNP'), ('and', 'CC'), ('his', 'PRP$'), ('mother', 'NN'), ('was', 'VBD'), ('a', 'DT'), ('high', 'JJ'), ('school', 'NN'), ('teacher', 'NN'), ('.', '.')]\n",
            "Sent 7:\n",
            "[('George', 'NNP'), ('E.', 'NNP'), ('Palade', 'NNP'), ('received', 'VBD'), ('his', 'PRP$'), ('M.D', 'NNP'), ('.', '.')]\n",
            "Sent 8:\n",
            "[('in', 'IN'), ('1940', 'CD'), ('from', 'IN'), ('the', 'DT'), ('Carol', 'NNP'), ('Davila', 'NNP'), ('School', 'NNP'), ('of', 'IN'), ('Medicine', 'NNP'), ('in', 'IN'), ('Bucharest', 'NNP'), ('.', '.')]\n",
            "Sent 9:\n",
            "[('==', 'JJ'), ('Career', 'NNP'), ('and', 'CC'), ('research', 'NN'), ('==', 'NN'), ('Palade', 'NNP'), ('was', 'VBD'), ('a', 'DT'), ('member', 'NN'), ('of', 'IN'), ('the', 'DT'), ('faculty', 'NN'), ('at', 'IN'), ('Carol', 'NNP'), ('Davila', 'NNP'), ('University', 'NNP'), ('until', 'IN'), ('1946', 'CD'), (',', ','), ('when', 'WRB'), ('he', 'PRP'), ('went', 'VBD'), ('to', 'TO'), ('the', 'DT'), ('United', 'NNP'), ('States', 'NNPS'), ('to', 'TO'), ('do', 'VB'), ('postdoctoral', 'JJ'), ('research', 'NN'), ('.', '.')]\n",
            "Sent 10:\n",
            "[('While', 'IN'), ('assisting', 'VBG'), ('Robert', 'NNP'), ('Chambers', 'NNP'), ('in', 'IN'), ('the', 'DT'), ('Biology', 'NNP'), ('Laboratory', 'NNP'), ('of', 'IN'), ('New', 'NNP'), ('York', 'NNP'), ('University', 'NNP'), (',', ','), ('he', 'PRP'), ('met', 'VBD'), ('Professor', 'NNP'), ('Albert', 'NNP'), ('Claude', 'NNP'), ('.', '.')]\n",
            "Sent 11:\n",
            "[('He', 'PRP'), ('later', 'RB'), ('joined', 'VBD'), ('Claude', 'NNP'), ('at', 'IN'), ('the', 'DT'), ('Rockefeller', 'NNP'), ('Institute', 'NNP'), ('for', 'IN'), ('Medical', 'NNP'), ('Research.In', 'NNP'), ('1952', 'CD'), (',', ','), ('Palade', 'NNP'), ('became', 'VBD'), ('a', 'DT'), ('naturalized', 'JJ'), ('citizen', 'NN'), ('of', 'IN'), ('the', 'DT'), ('United', 'NNP'), ('States', 'NNPS'), ('.', '.')]\n",
            "Sent 12:\n",
            "[('He', 'PRP'), ('worked', 'VBD'), ('at', 'IN'), ('the', 'DT'), ('Rockefeller', 'NNP'), ('Institute', 'NNP'), ('(', '('), ('1958–1973', 'CD'), (')', ')'), (',', ','), ('and', 'CC'), ('was', 'VBD'), ('a', 'DT'), ('professor', 'NN'), ('at', 'IN'), ('Yale', 'NNP'), ('University', 'NNP'), ('Medical', 'NNP'), ('School', 'NNP'), ('(', '('), ('1973–1990', 'CD'), (')', ')'), (',', ','), ('and', 'CC'), ('University', 'NNP'), ('of', 'IN'), ('California', 'NNP'), (',', ','), ('San', 'NNP'), ('Diego', 'NNP'), ('(', '('), ('1990–2008', 'CD'), (')', ')'), ('.', '.')]\n",
            "Sent 13:\n",
            "[('At', 'IN'), ('UCSD', 'NNP'), (',', ','), ('Palade', 'NNP'), ('was', 'VBD'), ('Professor', 'NNP'), ('of', 'IN'), ('Medicine', 'NNP'), ('in', 'IN'), ('Residence', 'NNP'), ('(', '('), ('Emeritus', 'NNP'), (')', ')'), ('in', 'IN'), ('the', 'DT'), ('Department', 'NNP'), ('of', 'IN'), ('Cellular', 'NNP'), ('&', 'CC'), ('Molecular', 'NNP'), ('Medicine', 'NNP'), (',', ','), ('as', 'RB'), ('well', 'RB'), ('as', 'IN'), ('a', 'DT'), ('Dean', 'NNP'), ('for', 'IN'), ('Scientific', 'NNP'), ('Affairs', 'NNP'), ('(', '('), ('Emeritus', 'NNP'), (')', ')'), (',', ','), ('in', 'IN'), ('the', 'DT'), ('School', 'NNP'), ('of', 'IN'), ('Medicine', 'NNP'), ('at', 'IN'), ('La', 'NNP'), ('Jolla', 'NNP'), (',', ','), ('California.In', 'NNP'), ('1970', 'CD'), (',', ','), ('he', 'PRP'), ('was', 'VBD'), ('awarded', 'VBN'), ('the', 'DT'), ('Louisa', 'NNP'), ('Gross', 'NNP'), ('Horwitz', 'NNP'), ('Prize', 'NNP'), ('from', 'IN'), ('Columbia', 'NNP'), ('University', 'NNP'), ('together', 'RB'), ('with', 'IN'), ('Renato', 'NNP'), ('Dulbecco', 'NNP'), ('winner', 'NN'), ('of', 'IN'), ('1975', 'CD'), ('Nobel', 'NNP'), ('Prize', 'NNP'), ('in', 'IN'), ('Physiology', 'NNP'), ('or', 'CC'), ('Medicine', 'NNP'), ('``', '``'), ('for', 'IN'), ('discoveries', 'NNS'), ('concerning', 'VBG'), ('the', 'DT'), ('functional', 'JJ'), ('organization', 'NN'), ('of', 'IN'), ('the', 'DT'), ('cell', 'NN'), ('that', 'WDT'), ('were', 'VBD'), ('seminal', 'JJ'), ('events', 'NNS'), ('in', 'IN'), ('the', 'DT'), ('development', 'NN'), ('of', 'IN'), ('modern', 'JJ'), ('cell', 'NN'), ('biology', 'NN'), (\"''\", \"''\"), (',', ','), ('related', 'VBN'), ('to', 'TO'), ('his', 'PRP$'), ('previous', 'JJ'), ('research', 'NN'), ('carried', 'VBD'), ('out', 'RP'), ('at', 'IN'), ('the', 'DT'), ('Rockefeller', 'NNP'), ('Institute', 'NNP'), ('for', 'IN'), ('Medical', 'NNP'), ('Research', 'NNP'), ('.', '.')]\n",
            "Sent 14:\n",
            "[('His', 'PRP$'), ('Nobel', 'NNP'), ('lecture', 'NN'), (',', ','), ('delivered', 'VBN'), ('on', 'IN'), ('December', 'NNP'), ('12', 'CD'), (',', ','), ('1974', 'CD'), (',', ','), ('was', 'VBD'), ('entitled', 'VBN'), (':', ':'), ('``', '``'), ('Intracellular', 'JJ'), ('Aspects', 'NNS'), ('of', 'IN'), ('the', 'DT'), ('Process', 'NNP'), ('of', 'IN'), ('Protein', 'NNP'), ('Secretion', 'NNP'), (\"''\", \"''\"), (',', ','), ('published', 'VBN'), ('in', 'IN'), ('1992', 'CD'), ('by', 'IN'), ('the', 'DT'), ('Nobel', 'NNP'), ('Prize', 'NNP'), ('Foundation', 'NNP'), (',', ','), ('He', 'PRP'), ('was', 'VBD'), ('elected', 'VBN'), ('an', 'DT'), ('Honorary', 'JJ'), ('member', 'NN'), ('of', 'IN'), ('the', 'DT'), ('Romanian', 'JJ'), ('Academy', 'NNP'), ('in', 'IN'), ('1975', 'CD'), ('.', '.')]\n",
            "Sent 15:\n",
            "[('In', 'IN'), ('1981', 'CD'), (',', ','), ('Palade', 'NNP'), ('became', 'VBD'), ('a', 'DT'), ('founding', 'JJ'), ('member', 'NN'), ('of', 'IN'), ('the', 'DT'), ('World', 'NNP'), ('Cultural', 'NNP'), ('Council', 'NNP'), ('.', '.')]\n",
            "Sent 16:\n",
            "[('In', 'IN'), ('1988', 'CD'), ('he', 'PRP'), ('was', 'VBD'), ('also', 'RB'), ('elected', 'VBN'), ('an', 'DT'), ('Honorary', 'JJ'), ('Member', 'NNP'), ('of', 'IN'), ('the', 'DT'), ('American-Romanian', 'JJ'), ('Academy', 'NNP'), ('of', 'IN'), ('Arts', 'NNP'), ('and', 'CC'), ('Sciences', 'NNPS'), ('(', '('), ('ARA', 'NNP'), (')', ')'), ('.', '.')]\n",
            "Sent 17:\n",
            "[('Palade', 'NN'), ('was', 'VBD'), ('the', 'DT'), ('first', 'JJ'), ('Chairman', 'NNP'), ('of', 'IN'), ('the', 'DT'), ('Department', 'NNP'), ('of', 'IN'), ('Cell', 'NNP'), ('Biology', 'NNP'), ('at', 'IN'), ('Yale', 'NNP'), ('University', 'NNP'), ('.', '.')]\n",
            "Sent 18:\n",
            "[('Presently', 'RB'), (',', ','), ('the', 'DT'), ('Chair', 'NNP'), ('of', 'IN'), ('Cell', 'NNP'), ('Biology', 'NNP'), ('at', 'IN'), ('Yale', 'NNP'), ('is', 'VBZ'), ('named', 'VBN'), ('the', 'DT'), ('``', '``'), ('George', 'NNP'), ('Palade', 'NNP'), ('Professorship', 'NNP'), (\"''\", \"''\"), ('.', '.')]\n",
            "Sent 19:\n",
            "[('At', 'IN'), ('the', 'DT'), ('Rockefeller', 'NNP'), ('Institute', 'NNP'), ('for', 'IN'), ('Medical', 'NNP'), ('Research', 'NNP'), (',', ','), ('Palade', 'NNP'), ('used', 'VBD'), ('electron', 'RB'), ('microscopy', 'NN'), ('to', 'TO'), ('study', 'VB'), ('the', 'DT'), ('internal', 'JJ'), ('organization', 'NN'), ('of', 'IN'), ('such', 'JJ'), ('cell', 'NN'), ('structures', 'NNS'), ('as', 'IN'), ('ribosomes', 'NNS'), (',', ','), ('mitochondria', 'NNS'), (',', ','), ('chloroplasts', 'NNS'), (',', ','), ('the', 'DT'), ('Golgi', 'NNP'), ('apparatus', 'NN'), (',', ','), ('and', 'CC'), ('others', 'NNS'), ('.', '.')]\n",
            "Sent 20:\n",
            "[('His', 'PRP$'), ('most', 'RBS'), ('important', 'JJ'), ('discovery', 'NN'), ('was', 'VBD'), ('made', 'VBN'), ('while', 'IN'), ('using', 'VBG'), ('an', 'DT'), ('experimental', 'JJ'), ('strategy', 'NN'), ('known', 'VBN'), ('as', 'IN'), ('a', 'DT'), ('pulse-chase', 'JJ'), ('analysis', 'NN'), ('.', '.')]\n"
          ],
          "name": "stdout"
        }
      ]
    },
    {
      "cell_type": "markdown",
      "metadata": {
        "id": "7F9SpIyP_L4-",
        "colab_type": "text"
      },
      "source": [
        "# 2 \n",
        "Create a function that receives a part of speech tag and returns a list with all the words from the text (can be given as a parameter too) that represent that part of speech. Create a function that receives a list of POS tags and returns a list with words having any of the given POS tags (use the first function in implementing the second one)."
      ]
    },
    {
      "cell_type": "code",
      "metadata": {
        "id": "TRdTDnuHD9vG",
        "colab_type": "code",
        "outputId": "d0b96b02-adae-4aab-b650-29513e74959b",
        "colab": {
          "base_uri": "https://localhost:8080/",
          "height": 54
        }
      },
      "source": [
        "def get_all_words_that_have_part_of_speech(partOfSpeech, data = data):\n",
        "    sentences = sent_tokenize(data)\n",
        "    res = []\n",
        "    for s in sentences:\n",
        "        w_ = word_tokenize(s)\n",
        "        w_tags = nltk.pos_tag(w_)\n",
        "        for (w, tag) in w_tags:\n",
        "            if tag == partOfSpeech:\n",
        "                res.append(w)\n",
        "\n",
        "    return res\n",
        "\n",
        "print(get_all_words_that_have_part_of_speech('CD'))"
      ],
      "execution_count": 0,
      "outputs": [
        {
          "output_type": "stream",
          "text": [
            "['19', '1912', '7', '2008', '1974', '1955.Palade', '1986', '1961', '1968', '1984', '19', '1912', '1940', '1946', '1952', '1958–1973', '1973–1990', '1990–2008', '1970', '1975', '12', '1974', '1992', '1975', '1981', '1988', '1960s', '1960s', 'two', 'One', '2009', '2003', '3', '6', '518–9', '1424-3903', '14730177.Haulică', '2002', '90', '107', '2', '223–5', '12638263', '2002', '3', '11', '871–6', '1471-0072', '12415304', '2001', '106', '2', '1', '1122-6714', '11730003', '1999', '1961', '10', '12', '2645–62', '1046-6673', '10589706', '1999', '1974', '1899–1983', '1912', '1917', '354', '9185', '1219.', '05', '75433-7', '10513750', '1999', '9', '10', '413–7', '99', '10481180', '1998', '103', '2', '65–81', '1122-6714', '9719773', '1983', '97', '1', '6345553', '1975', '20', '1', '74–6', '1094498', '1975', '64', '1', '20–2', '1094070', '9', '6', '229–30', '1970', '4927031']\n"
          ],
          "name": "stdout"
        }
      ]
    },
    {
      "cell_type": "code",
      "metadata": {
        "id": "agtt9U_E-gVi",
        "colab_type": "code",
        "outputId": "095b4d0c-4fa2-46f4-db83-085eb2a55595",
        "colab": {
          "base_uri": "https://localhost:8080/",
          "height": 54
        }
      },
      "source": [
        "def get_all_words_that_have_part_of_speech_all(partsOfSpeech, data = data):\n",
        "    res = []\n",
        "    for tag in partsOfSpeech:\n",
        "        res = res + get_all_words_that_have_part_of_speech(tag, data)\n",
        "    return list(set(res))\n",
        "\n",
        "print(get_all_words_that_have_part_of_speech_all(['JJ', 'NN']))"
      ],
      "execution_count": 0,
      "outputs": [
        {
          "output_type": "stream",
          "text": [
            "['cell', '0300-8738', 'factor', 'organization', 'influential', 'transfer', 'school', 'following', 'doctor', '0019-5847', 'tribute', 'structure', 'Honorary', 'previous', 'Swiss', 'molecular', 'export', 'Intracellular', 'organelle', 'work', 'collaboration', 'notable', 'doi:10.1016/S0140-6736', 'unique', 'doi:10.1016/S0962-8924', 'prize', 'research', 'space', 'processing', 'XXI–XXXVIII', 'pathway', '0021-9525', 'naturalized', 'concise', 'first', 'paˈlade', 'excerpt', 'din', 'glomerular', 'development', 'von', 'Italian', 'good', 'current', 'appearing', 'Nature', 'microscopy', 'citizen', 'able', 'D3–7', '0039-9450', '01633-5', 'modern', 'synthesis', 'contemporary', 'early', 'wife', 'teacher', 'wall', '0962-8924', 'medico-chirurgicală', 'Education', 'intracellular', 'mother', 'Pancreatology', 'Palade', 'ribosome', 'approach', 'scientist', 'faculty', 'life', 'Weibel-Palade', 'pulse-chase', 'anatomist', 'pancreatic', 'philosophy', 'parallel', 'part', 'intact', 'winner', 'postdoctoral', 'zymogen', 'eˈmil', 'fractionation', 'fundamental', 'review', 'experiment', 'Romanian', 'living', 'histology', 'such', 'involved', 'informal', 'reticulum', 'distinguished', '0041-2597', 'secretory', 'medical', 'hypothesis', 'function', 'biologist', 'endoplasmic', 'characterization', 'endothelium', 'critical', 'electron', 'member', 'cisternal', 'age', '===', 'functional', 'literature', '–', 'second', 'seminal', '[', 'important', 'high', 'storage', 'son', 'different', 'virtuoso', 'succession', 'permeability', 'founding', 'normal', 'segregation', 'lecture', 'radioautography', 'pronunciation', 'American-Romanian', '0140-6736', 'analysis', 'charismatic', 'professor', 'internal', 'doi:10.1038/nrm953', 'apparatus', 'host', ']', 'capillary', 'biology', 'strategy', 'pioneering', 'experimental', 'Glomerular', 'birth', 'father', 'Romanian-American', 'process', '==', 'various', 'Legacy', 'anatomy', 'American', 'line', 'doi:10.1159/000076328', 'discovery', 'marriage', 'series', 'daughter']\n"
          ],
          "name": "stdout"
        }
      ]
    },
    {
      "cell_type": "markdown",
      "metadata": {
        "id": "KhLQNIU6_NZE",
        "colab_type": "text"
      },
      "source": [
        "# 3 \n",
        "Use the function above to print all the nouns (there are multiple tags for nouns), and, respectively all the verbs (corresponding to all verb tags). Also, print the percentage of content words (noun+verbs) from the entire text"
      ]
    },
    {
      "cell_type": "code",
      "metadata": {
        "id": "oWkYmtt3Dug-",
        "colab_type": "code",
        "outputId": "35f43777-4291-4452-ea4c-06cbeb3d1101",
        "colab": {
          "base_uri": "https://localhost:8080/",
          "height": 88
        }
      },
      "source": [
        "nouns = get_all_words_that_have_part_of_speech_all(['NN', 'NNS', 'NNP', 'NNPS'])\n",
        "verbs = get_all_words_that_have_part_of_speech_all(['VB', 'VBD', 'VBG', 'VBN', 'VBP', 'VBZ'])\n",
        "\n",
        "print(nouns)\n",
        "print(verbs)\n",
        "print(str((len(nouns) + len(verbs)) *100 / len(word_tokenize(data))) + '%')"
      ],
      "execution_count": 0,
      "outputs": [
        {
          "output_type": "stream",
          "text": [
            "['cell', '0300-8738', 'factor', 'organization', 'transfer', 'notes', 'National', 'Iași', 'Davila', 'Professorship', 'school', 'Cell', 'following', 'Indian', 'approaches', 'doctor', 'Prize', 'Albert', 'documents', '0019-5847', 'tribute', 'Rockefeller', 'Ada', 'N', 'structure', 'Honorary', 'University', 'export', 'Association', 'Jolla', 'Chairman', 'Chambers', 'organelle', 'work', 'Weibel', 'U.S.', 'Yale', 'collaboration', 'doi:10.1016/S0140-6736', 'Kakusan', 'unique', 'doi:10.1016/S0962-8924', 'prize', 'Dean', 'October', 'Cellular', 'Cultural', 'Lecture', 'M', 'research', 'space', 'processing', 'XXI–XXXVIII', 'pathway', '0021-9525', 'Aspects', 'Chair', 'Trends', 'David', 'concise', 'San', 'Réne', 'George', 'Autobiography', 'Colvin', 'Emil', 'Science', 'H', 'Sciences', 'paˈlade', 'Ewald', 'excerpt', 'din', 'mitochondria', 'development', 'ISSN', 'Nephrology', 'Lucien', 'von', 'Diego', 'ribosomes', 'Christian', 'Dr.', 'I.', 'appearing', 'J', 'November', 'Nature', 'others', 'Molecular', 'HonFRMS', 'Sabatini', 'microscopy', 'citizen', 'C', 'Ramakrishnan', 'Personal', 'La', 'D3–7', '0039-9450', 'Process', 'bodies', '01633-5', 'Naturalişti', 'Wissig', 'synthesis', 'Joel', 'Cahill', 'Tanpakushitsu', 'wife', 'animals', 'teacher', 'wall', '0962-8924', 'Bibliography', 'medico-chirurgicală', 'Manfred', 'Education', 'Biology', 'Professor', 'years', 'L', 'Y', 'mother', 'Pancreatology', 'Dulbecco', 'Golgi', 'Palade', 'T', 'Secretion', 'ribosome', 'Council', 'Accomplishment', 'şi', 'approach', 'scientist', 'faculty', 'proteins', 'chronicles', 'Medici', 'Jamieson', 'ForMemRS', 'de', 'life', 'Singer', 'Physiology', 'Greene', 'Revista', 'Willebrand', 'Tartakoff', 'K', 'Koso', 'anatomist', 'References', 'Foundation', 'ER', 'Medicine', 'Suppl', 'philosophy', 'parallel', 'Laboratory', 'part', 'Member', 'winner', 'Gross', 'UCSD', 'zymogen', 'Ritchie', 'eˈmil', 'fractionation', 'Triangle', 'Foreign', 'review', 'Iaşi', 'experiment', 'Anatomy', 'Thomas', 'living', 'histology', 'Society', 'reticulum', '0041-2597', 'Reviews', 'Tashiro', 'Institute', 'Scientific', 'secretory', 'Affairs', 'Caro', 'Marilyn', 'hypothesis', 'function', 'biologist', 'granules', 'Romania', 'characterization', 'colleagues', 'Microscopical', 'endothelium', 'innovations', 'Columbia', 'electron', 'member', 'Chemistry', 'A.', 'Biological', 'age', 'Academy', 'Yonath', 'Claude', '===', 'Steitz', 'literature', 'Alan', 'slices', '–', 'PMID', 'Calude', 'Raju', 'Fawcett', 'Lancet', 'Drs', 'Robert', '[', 'Don', 'Arts', 'York', 'experiments', 'US', 'Department', 'products', 'Medal', 'Research', 'storage', 'son', 'Venkatraman', 'California', 'ARA', 'foundations', 'Porter', 'virtuoso', 'Redman', 'succession', 'permeability', 'Renato', 'R.', 'discoveries', 'Societăţii', 'Ferritin', 'segregation', 'G', 'cells', 'lecture', 'radioautography', 'Rough', 'California.In', 'July', 'pronunciation', 'Royal', 'Research.In', 'Siekevitz', 'New', 'Current', 'P', 'Yutaka', 'Nobel', '0140-6736', 'analysis', 'W', 'R', 'investigations', 'ideas', 'coworkers', 'professor', 'Bucharest', 'World', 'Farquhar', 'D', 'Magner', 'Journal', 'Emeritus', 'doi:10.1038/nrm953', 'apparatus', 'events', 'Louisa', 'Wayne', 'host', ']', 'Embryology', 'States', 'capillary', 'structures', 'Lewis', 'biology', 'strategy', 'Described', 'Duve', 'James', 'V', 'chloroplasts', 'M.D', 'studies', 'United', 'birth', 'Fellow', 'Award', 'Medical', 'exists', 'father', 'E', 'Carol', 'process', 'Motta', '==', 'School', 'Legacy', 'Philip', 'anatomy', 'ˈd͡ʒe̯ord͡ʒe', 'E.', 'line', 'Career', 'December', 'doi:10.1159/000076328', 'Protein', 'S', 'Residence', 'discovery', 'marriage', 'series', 'daughter', 'Horwitz', 'January']\n",
            "['made', 'named', 'listen', 'confirm', 'born', 'was', 'entitled', 'focused', 'concerning', 'led', 'known', 'became', 'organized', 'developed', 'laid', 'continued', 'described', 'were', 'produced', 'carried', '===', 'do', 'study', 'joined', 'published', 'met', 'relied', 'using', 'elected', 'went', 'containing', 'existing', 'related', 'discovered', 'assisting', 'worked', 'presented', 'survived', 'being', 'is', 'delivered', 'granted', 'used', 'received', 'charting', 'awarded']\n",
            "25.38513060951105%\n"
          ],
          "name": "stdout"
        }
      ]
    },
    {
      "cell_type": "markdown",
      "metadata": {
        "id": "gvFHGSTO_PrE",
        "colab_type": "text"
      },
      "source": [
        "# 4 \n",
        "Print a table of four columns. The columns will be separated with the character \"|\". The head of the table will be:\n",
        "Original word | POS | Simple lemmatization | Lemmatization\n",
        " with POS\n",
        "that will compare the results of lemmatization (WordNetLemmatizer) without giving the part of speech and the lemmatization with the given part of speech for each word. The table must contain only words that give different results for the two lemmatizations (for example, the word \"running\" - without POS, the result will always be running, but with pos=\"v\" it is \"run\"). The table will contain the results for the first N sentences from the text (each row corresponding to a word). Try to print only distinct results inside the table (for example, if a word has two occurnces inside the text, and matches the requirments for appearing in the table, it should have only one corresponding row)."
      ]
    },
    {
      "cell_type": "code",
      "metadata": {
        "id": "Cgy-39swLqPf",
        "colab_type": "code",
        "outputId": "55133063-ba71-4a00-bc05-5082cc86ec88",
        "colab": {
          "base_uri": "https://localhost:8080/",
          "height": 34
        }
      },
      "source": [
        "! pip install prettytable"
      ],
      "execution_count": 0,
      "outputs": [
        {
          "output_type": "stream",
          "text": [
            "Requirement already satisfied: prettytable in /usr/local/lib/python3.6/dist-packages (0.7.2)\n"
          ],
          "name": "stdout"
        }
      ]
    },
    {
      "cell_type": "code",
      "metadata": {
        "id": "YJarIYRJOQKs",
        "colab_type": "code",
        "outputId": "d258e799-268c-4479-ae46-7be22844c9a9",
        "colab": {
          "base_uri": "https://localhost:8080/",
          "height": 309
        }
      },
      "source": [
        "import prettytable\n",
        "from nltk.stem import WordNetLemmatizer\n",
        "\n",
        "from nltk.corpus import wordnet as wn\n",
        "\n",
        "# WordNet POS tags are: NOUN = 'n', ADJ = 's', VERB = 'v', ADV = 'r', ADJ_SAT = 'a'\n",
        "# Descriptions (c) https://web.stanford.edu/~jurafsky/slp3/10.pdf\n",
        "tag_map = {\n",
        "        'CC':None, # coordin. conjunction (and, but, or)  \n",
        "        'CD':wn.NOUN, # cardinal number (one, two)             \n",
        "        'DT':None, # determiner (a, the)                    \n",
        "        'EX':wn.ADV, # existential ‘there’ (there)           \n",
        "        'FW':None, # foreign word (mea culpa)             \n",
        "        'IN':wn.ADV, # preposition/sub-conj (of, in, by)   \n",
        "        'JJ':wn.ADJ, # adjective (yellow)                  \n",
        "        'JJR':wn.ADJ, # adj., comparative (bigger)          \n",
        "        'JJS':wn.ADJ, # adj., superlative (wildest)           \n",
        "        'LS':None, # list item marker (1, 2, One)          \n",
        "        'MD':None, # modal (can, should)                    \n",
        "        'NN':wn.NOUN, # noun, sing. or mass (llama)          \n",
        "        'NNS':wn.NOUN, # noun, plural (llamas)                  \n",
        "        'NNP':wn.NOUN, # proper noun, sing. (IBM)              \n",
        "        'NNPS':wn.NOUN, # proper noun, plural (Carolinas)\n",
        "        'PDT':[wn.ADJ, wn.ADJ_SAT], # predeterminer (all, both)            \n",
        "        'POS':None, # possessive ending (’s )               \n",
        "        'PRP':None, # personal pronoun (I, you, he)     \n",
        "        'PRP$':None, # possessive pronoun (your, one’s)    \n",
        "        'RB':wn.ADV, # adverb (quickly, never)            \n",
        "        'RBR':wn.ADV, # adverb, comparative (faster)        \n",
        "        'RBS':wn.ADV, # adverb, superlative (fastest)     \n",
        "        'RP':wn.ADJ, # particle (up, off)\n",
        "        'SYM':None, # symbol (+,%, &)\n",
        "        'TO':None, # “to” (to)\n",
        "        'UH':None, # interjection (ah, oops)\n",
        "        'VB':wn.VERB, # verb base form (eat)\n",
        "        'VBD':wn.VERB, # verb past tense (ate)\n",
        "        'VBG':wn.VERB, # verb gerund (eating)\n",
        "        'VBN':wn.VERB, # verb past participle (eaten)\n",
        "        'VBP':wn.VERB, # verb non-3sg pres (eat)\n",
        "        'VBZ':wn.VERB, # verb 3sg pres (eats)\n",
        "        'WDT':None, # wh-determiner (which, that)\n",
        "        'WP':None, # wh-pronoun (what, who)\n",
        "        'WP$':None, # possessive (wh- whose)\n",
        "        'WRB':None, # wh-adverb (how, where)\n",
        "        '$':None, #  dollar sign ($)\n",
        "        '#':None, # pound sign (#)\n",
        "        '“':None, # left quote (‘ or “)\n",
        "        '”':None, # right quote (’ or ”)\n",
        "        '(':None, # left parenthesis ([, (, {, <)\n",
        "        ')':None, # right parenthesis (], ), }, >)\n",
        "        ',':None, # comma (,)\n",
        "        '.':None, # sentence-final punc (. ! ?)\n",
        "        ':':None # mid-sentence punc (: ; ... – -)\n",
        "    }\n",
        "\n",
        "t = prettytable.PrettyTable([\"Original word\", \"POS\", \"Simple lemmatization\", \"Lemmatization with POS\"])\n",
        "\n",
        "lem=WordNetLemmatizer()\n",
        "\n",
        "N = 5\n",
        "\n",
        "sentences = sent_tokenize(data)\n",
        "\n",
        "word_and_part_of_speech = []\n",
        "\n",
        "for i in range(N):\n",
        "    w_ = word_tokenize(sentences[i])\n",
        "    w_tags = nltk.pos_tag(w_)\n",
        "    word_and_part_of_speech = word_and_part_of_speech + w_tags\n",
        "\n",
        "word_and_part_of_speech = list(set(word_and_part_of_speech))\n",
        "\n",
        "print(word_and_part_of_speech)\n",
        "\n",
        "for word, tag in word_and_part_of_speech:\n",
        "    lemW = lem.lemmatize(word)\n",
        "    if tag in tag_map.keys():\n",
        "        if tag_map[tag] is not None:\n",
        "            lemWtag = lem.lemmatize(word, tag_map[tag])\n",
        "\n",
        "            if lemW != lemWtag:\n",
        "                t.add_row([word, tag, lemW, lemWtag]) \n",
        "print(t)"
      ],
      "execution_count": 0,
      "outputs": [
        {
          "output_type": "stream",
          "text": [
            "[('in', 'IN'), ('elected', 'VBD'), ('Claude', 'NNP'), ('Described', 'NNP'), ('a', 'DT'), ('which', 'WDT'), ('Prize', 'NNP'), ('ForMemRS', 'NNP'), ('de', 'NNP'), ('structures', 'NNS'), ('``', '``'), ('Nobel', 'NNP'), ('2008', 'CD'), ('Member', 'NNP'), ('Palade', 'NNP'), ('endoplasmic', 'JJ'), ('foundations', 'NNS'), ('Society', 'NNP'), ('U.S.', 'NNP'), ('with', 'IN'), ('ˈd͡ʒe̯ord͡ʒe', 'NNP'), ('prize', 'NN'), ('Academy', 'NNP'), ('1955.Palade', 'CD'), ('November', 'NNP'), ('–', 'NN'), ('electron', 'NN'), (']', 'NNP'), ('7', 'CD'), ('molecular', 'JJ'), ('(', '('), ('Romanian', 'JJ'), ('and', 'CC'), ('biology', 'NN'), (';', ':'), ('he', 'PRP'), ('awarded', 'VBN'), ('discovery', 'NN'), ('modern', 'JJ'), ('HonFRMS', 'NNP'), ('cells', 'NNS'), ('Fellow', 'NNP'), ('highly', 'RB'), ('The', 'DT'), ('.', '.'), ('Romanian-American', 'JJ'), ('Medicine', 'NNP'), ('host', 'NN'), ('1974', 'CD'), ('Emil', 'NNP'), ('Science', 'NNP'), ('In', 'IN'), ('for', 'IN'), ('discoveries', 'NNS'), ('reticulum', 'NN'), ('living', 'NN'), ('Microscopical', 'NNP'), ('innovations', 'NNS'), ('Foreign', 'NNP'), ('first', 'RB'), ('received', 'VBD'), ('described', 'VBD'), ('biologist', 'NN'), ('notable', 'JJ'), ('organized', 'VBN'), ('Sciences', 'NNPS'), ('1986', 'CD'), ('together', 'RB'), ('Medal', 'NNP'), ('was', 'VBD'), ('ever', 'RB'), (':', ':'), ('[', 'JJ'), (')', ')'), ('as', 'IN'), ('1961', 'CD'), ('laid', 'VBD'), ('1912', 'CD'), ('Biological', 'NNP'), ('fundamental', 'JJ'), ('influential', 'JJ'), ('George', 'NNP'), (',', ','), ('pronunciation', 'NN'), (\"''\", \"''\"), ('paˈlade', 'NN'), ('Christian', 'NNP'), ('Albert', 'NNP'), ('the', 'DT'), ('granted', 'VBN'), ('most', 'RBS'), ('cell', 'NN'), ('eˈmil', 'NN'), ('October', 'NNP'), ('listen', 'VBN'), ('ribosomes', 'NNS'), ('elected', 'VBN'), ('Royal', 'NNP'), ('pioneering', 'JJ'), ('1968', 'CD'), ('microscopy', 'NN'), ('Duve', 'NNP'), ('19', 'CD'), ('Physiology', 'NNP'), ('1984', 'CD'), ('–', 'NNP'), ('fractionation', 'NN'), ('being', 'VBG'), ('along', 'IN'), ('US', 'NNP'), ('his', 'PRP$'), ('National', 'NNP'), ('an', 'DT'), ('Honorary', 'NNP'), ('also', 'RB'), ('of', 'IN'), ('previously', 'RB')]\n",
            "+---------------+-----+----------------------+------------------------+\n",
            "| Original word | POS | Simple lemmatization | Lemmatization with POS |\n",
            "+---------------+-----+----------------------+------------------------+\n",
            "|    elected    | VBD |       elected        |         elect          |\n",
            "|    awarded    | VBN |       awarded        |         award          |\n",
            "|    received   | VBD |       received       |        receive         |\n",
            "|   described   | VBD |      described       |        describe        |\n",
            "|   organized   | VBN |      organized       |        organize        |\n",
            "|      was      | VBD |          wa          |           be           |\n",
            "|       as      |  IN |          a           |           as           |\n",
            "|      laid     | VBD |         laid         |          lay           |\n",
            "|    granted    | VBN |       granted        |         grant          |\n",
            "|    elected    | VBN |       elected        |         elect          |\n",
            "|     being     | VBG |        being         |           be           |\n",
            "+---------------+-----+----------------------+------------------------+\n"
          ],
          "name": "stdout"
        }
      ]
    },
    {
      "cell_type": "markdown",
      "metadata": {
        "id": "DuCJ3Wiu_SYg",
        "colab_type": "text"
      },
      "source": [
        "# 5 \n",
        "Print a graphic showing the number of words for each part of speech. If there are too many different parts of speech, you can print only those with a higher number of corresponding words."
      ]
    },
    {
      "cell_type": "code",
      "metadata": {
        "id": "W6qwkKbZbuH7",
        "colab_type": "code",
        "colab": {}
      },
      "source": [
        "from nltk.data import load\n",
        "tagdict = load('help/tagsets/upenn_tagset.pickle')\n",
        "\n",
        "nums = []\n",
        "\n",
        "for tag in tagdict.keys():\n",
        "    nums.append(len(get_all_words_that_have_part_of_speech(tag)))"
      ],
      "execution_count": 0,
      "outputs": []
    },
    {
      "cell_type": "code",
      "metadata": {
        "id": "Ktlw29AbcHC2",
        "colab_type": "code",
        "outputId": "3a0be543-4712-4cf7-95b0-2f87207e27f1",
        "colab": {
          "base_uri": "https://localhost:8080/",
          "height": 1000
        }
      },
      "source": [
        "import matplotlib.pyplot as plt; plt.rcdefaults()\n",
        "import numpy as np\n",
        "import matplotlib.pyplot as plt\n",
        "from matplotlib.pyplot import figure\n",
        "figure(num=None, figsize=(10, 15), dpi=80, facecolor='w', edgecolor='k')\n",
        "\n",
        "objects = tagdict.keys()\n",
        "y_pos = np.arange(len(objects))\n",
        "\n",
        "plt.barh(y_pos, nums, align='center', alpha=0.5)\n",
        "plt.yticks(y_pos, objects)\n",
        "plt.xlabel('Num of words')\n",
        "plt.ylabel('POS tag')\n",
        "plt.title('Words per part of speech')\n",
        "\n",
        "plt.show()"
      ],
      "execution_count": 0,
      "outputs": [
        {
          "output_type": "display_data",
          "data": {
            "image/png": "[encoded data removed]",
            "text/plain": [
              "<Figure size 800x1200 with 1 Axes>"
            ]
          },
          "metadata": {
            "tags": []
          }
        }
      ]
    }
  ]
}