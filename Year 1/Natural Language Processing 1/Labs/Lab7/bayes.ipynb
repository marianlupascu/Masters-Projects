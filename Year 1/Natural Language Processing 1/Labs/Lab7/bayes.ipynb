{
  "nbformat": 4,
  "nbformat_minor": 0,
  "metadata": {
    "colab": {
      "name": "bayes.ipynb",
      "provenance": []
    },
    "kernelspec": {
      "name": "python3",
      "display_name": "Python 3"
    }
  },
  "cells": [
    {
      "cell_type": "code",
      "metadata": {
        "id": "haUWbgIqdmDw",
        "colab_type": "code",
        "colab": {}
      },
      "source": [
        "from google.colab import files, auth, drive"
      ],
      "execution_count": 0,
      "outputs": []
    },
    {
      "cell_type": "code",
      "metadata": {
        "id": "VELUX7LyfFR7",
        "colab_type": "code",
        "outputId": "7b7ffd79-dc4d-40c6-a873-9571e30dc476",
        "colab": {
          "base_uri": "https://localhost:8080/",
          "height": 122
        }
      },
      "source": [
        "# Mount to drive\n",
        "drive.mount('/content/gdrive', force_remount=True)\n",
        "data_dir_drive ='/content/gdrive/My Drive/Colab Notebooks/NLP1/Lab7'"
      ],
      "execution_count": 2,
      "outputs": [
        {
          "output_type": "stream",
          "text": [
            "Go to this URL in a browser: https://accounts.google.com/o/oauth2/auth?client_id=947318989803-6bn6qk8qdgf4n4g3pfee6491hc0brc4i.apps.googleusercontent.com&redirect_uri=urn%3aietf%3awg%3aoauth%3a2.0%3aoob&response_type=code&scope=email%20https%3a%2f%2fwww.googleapis.com%2fauth%2fdocs.test%20https%3a%2f%2fwww.googleapis.com%2fauth%2fdrive%20https%3a%2f%2fwww.googleapis.com%2fauth%2fdrive.photos.readonly%20https%3a%2f%2fwww.googleapis.com%2fauth%2fpeopleapi.readonly\n",
            "\n",
            "Enter your authorization code:\n",
            "··········\n",
            "Mounted at /content/gdrive\n"
          ],
          "name": "stdout"
        }
      ]
    },
    {
      "cell_type": "code",
      "metadata": {
        "id": "l1L_WVClRhZt",
        "colab_type": "code",
        "outputId": "9a73c2d2-f86e-4118-dd51-239ff3a193c1",
        "colab": {
          "base_uri": "https://localhost:8080/",
          "height": 51
        }
      },
      "source": [
        "! pip install nltk"
      ],
      "execution_count": 3,
      "outputs": [
        {
          "output_type": "stream",
          "text": [
            "Requirement already satisfied: nltk in /usr/local/lib/python3.6/dist-packages (3.2.5)\n",
            "Requirement already satisfied: six in /usr/local/lib/python3.6/dist-packages (from nltk) (1.12.0)\n"
          ],
          "name": "stdout"
        }
      ]
    },
    {
      "cell_type": "code",
      "metadata": {
        "id": "x1dL4MpiRxEy",
        "colab_type": "code",
        "outputId": "9309e732-1862-4eed-bdb4-9f2290a1f851",
        "colab": {
          "base_uri": "https://localhost:8080/",
          "height": 374
        }
      },
      "source": [
        "import nltk\n",
        "nltk.download()"
      ],
      "execution_count": 11,
      "outputs": [
        {
          "output_type": "stream",
          "text": [
            "NLTK Downloader\n",
            "---------------------------------------------------------------------------\n",
            "    d) Download   l) List    u) Update   c) Config   h) Help   q) Quit\n",
            "---------------------------------------------------------------------------\n",
            "Downloader> d\n",
            "\n",
            "Download which package (l=list; x=cancel)?\n",
            "  Identifier> brown\n",
            "    Downloading package brown to /root/nltk_data...\n",
            "      Unzipping corpora/brown.zip.\n",
            "\n",
            "---------------------------------------------------------------------------\n",
            "    d) Download   l) List    u) Update   c) Config   h) Help   q) Quit\n",
            "---------------------------------------------------------------------------\n",
            "Downloader> \n",
            "\n",
            "---------------------------------------------------------------------------\n",
            "    d) Download   l) List    u) Update   c) Config   h) Help   q) Quit\n",
            "---------------------------------------------------------------------------\n",
            "Downloader> q\n"
          ],
          "name": "stdout"
        },
        {
          "output_type": "execute_result",
          "data": {
            "text/plain": [
              "True"
            ]
          },
          "metadata": {
            "tags": []
          },
          "execution_count": 11
        }
      ]
    },
    {
      "cell_type": "markdown",
      "metadata": {
        "id": "fEC9mrRHNxDY",
        "colab_type": "text"
      },
      "source": [
        "# **Supervised Word Sense Disambiguation (Bayes)**\n",
        "We use Bayes's classifier in order to label (classify) the words with e certain WordNet sense. For this we need a context window surrounding the target word (the word for which we search the sense). The context window should contain only \"content words\" (words with important meaning, that bring information, like nouns, verbs etc)\n",
        "\n",
        "We note P(s|c) the probability for sense s in the context c. For each such sense of the target word the probability is computed and we take the sense with the highest probability compared to the others.\n",
        "\n",
        "In order to compute the probability P(s|c), we use the formula: P(s|c)=P(c|s)*P(s)/P(c). P(s) is the probability of a sense without any context. However, for P(c|s) we would need a training set (with texts that contain the target word, already labeled with its correct sense).\n",
        "\n",
        "However, NLTK already has the classifier implemented. In this laboratory we will use the NLTK NaiveBayesClassifier:[https://www.nltk.org/_modules/nltk/classify/naivebayes.html](https://www.nltk.org/_modules/nltk/classify/naivebayes.html)\n",
        "\n",
        "The Naive Bayes classifier will first compute the prior probability for the senses (or, generally speaking, for the class labels) - this is determined by the abel's frequncy in the training set. the features are used to see the likelyhood of having that label in a given context."
      ]
    },
    {
      "cell_type": "code",
      "metadata": {
        "id": "ZP_3fZ2XN6CG",
        "colab_type": "code",
        "colab": {}
      },
      "source": [
        "nltk.NaiveBayesClassifier.train(train_set)"
      ],
      "execution_count": 0,
      "outputs": []
    },
    {
      "cell_type": "markdown",
      "metadata": {
        "id": "Ftxeyj_dN61T",
        "colab_type": "text"
      },
      "source": [
        "where train_set must contain a list with the classes and features for each class. The train_set list will contain tuples of two elements. First element is a dictionary with the features (name and value of each feature). The second element is the class label.\n",
        "\n",
        "Useful link: [https://www.nltk.org/book/ch06.html](https://www.nltk.org/book/ch06.html)\n",
        "\n",
        "For today's task, yo need to train the NLTK Bayes classifier on senseval, on a word of your choice."
      ]
    },
    {
      "cell_type": "code",
      "metadata": {
        "id": "oirbr_cnOBNs",
        "colab_type": "code",
        "outputId": "d9833ddc-f1e5-4d52-8894-7072a7989a84",
        "colab": {
          "base_uri": "https://localhost:8080/",
          "height": 207
        }
      },
      "source": [
        "from nltk.corpus import senseval\n",
        "inst=senseval.instances('interest.pos')\n",
        "inst[:10]"
      ],
      "execution_count": 9,
      "outputs": [
        {
          "output_type": "execute_result",
          "data": {
            "text/plain": [
              "[SensevalInstance(word='interest-n', position=18, context=[('yields', 'NNS'), ('on', 'IN'), ('money-market', 'JJ'), ('mutual', 'JJ'), ('funds', 'NNS'), ('continued', 'VBD'), ('to', 'TO'), ('slide', 'VB'), (',', ','), ('amid', 'IN'), ('signs', 'VBZ'), ('that', 'IN'), ('portfolio', 'NN'), ('managers', 'NNS'), ('expect', 'VBP'), ('further', 'JJ'), ('declines', 'NNS'), ('in', 'IN'), ('interest', 'NN'), ('rates', 'NNS'), ('.', '.')], senses=('interest_6',)),\n",
              " SensevalInstance(word='interest-n', position=7, context=[('longer', 'RB'), ('maturities', 'NNS'), ('are', 'VBP'), ('thought', 'VBN'), ('to', 'TO'), ('indicate', 'VB'), ('declining', 'VBG'), ('interest', 'NN'), ('rates', 'NNS'), ('because', 'IN'), ('they', 'PRP'), ('permit', 'VBP'), ('portfolio', 'NN'), ('managers', 'NNS'), ('to', 'TO'), ('retain', 'VB'), ('relatively', 'RB'), ('higher', 'JJR'), ('rates', 'NNS'), ('for', 'IN'), ('a', 'DT'), ('longer', 'RB'), ('period', 'NN'), ('.', '.')], senses=('interest_6',)),\n",
              " SensevalInstance(word='interest-n', position=30, context=[('nevertheless', 'RB'), (',', ','), ('said', 'VBD'), ('brenda', 'NN'), ('malizia', 'NN'), ('negus', 'JJ'), (',', ','), ('editor', 'NN'), ('of', 'IN'), ('money', 'NN'), ('fund', 'NN'), ('report', 'NN'), (',', ','), ('yields', 'NNS'), ('``', '``'), ('may', 'MD'), ('blip', 'VB'), ('up', 'IN'), ('again', 'RB'), ('before', 'IN'), ('they', 'PRP'), ('blip', 'VBP'), ('down', 'RB'), (\"''\", \"''\"), ('because', 'IN'), ('of', 'IN'), ('recent', 'JJ'), ('rises', 'NNS'), ('in', 'IN'), ('short-term', 'JJ'), ('interest', 'NN'), ('rates', 'NNS'), ('.', '.')], senses=('interest_6',)),\n",
              " SensevalInstance(word='interest-n', position=25, context=[('j', 'NN'), ('.', '.'), ('p', 'NN'), ('.', '.'), ('bolduc', 'NN'), (',', ','), ('vice', 'NN'), ('chairman', 'NN'), ('of', 'IN'), ('w', 'IN'), ('.', '.'), ('r', 'NN'), ('.', '.'), ('grace', 'NN'), ('&', 'CC'), ('co', 'VB'), ('.', '.'), (',', ','), ('which', 'WDT'), ('holds', 'VBZ'), ('a', 'DT'), ('83', 'CD'), ('.', '.'), ('4', 'CD'), ('%', 'NN'), ('interest', 'NN'), ('in', 'IN'), ('this', 'DT'), ('energy-services', 'NNS'), ('company', 'NN'), (',', ','), ('was', 'VBD'), ('elected', 'VBN'), ('a', 'DT'), ('director', 'NN'), ('.', '.')], senses=('interest_5',)),\n",
              " SensevalInstance(word='interest-n', position=8, context=[('finmeccanica', 'NN'), ('is', 'VBZ'), ('an', 'DT'), ('italian', 'NN'), ('state-owned', 'JJ'), ('holding', 'NN'), ('company', 'NN'), ('with', 'IN'), ('interests', 'NNS'), ('in', 'IN'), ('the', 'DT'), ('mechanical', 'JJ'), ('engineering', 'NN'), ('industry', 'NN'), ('.', '.')], senses=('interest_5',)),\n",
              " SensevalInstance(word='interest-n', position=29, context=[('in', 'IN'), ('august', 'JJ'), (',', ','), ('the', 'DT'), ('commission', 'NN'), ('ruled', 'VBD'), ('that', 'IN'), ('between', 'IN'), ('$', '$'), ('190', 'CD'), ('million', 'CD'), ('and', 'CC'), ('$', '$'), ('195', 'CD'), ('million', 'CD'), ('of', 'IN'), ('the', 'DT'), ('plant', 'NN'), (\"'s\", 'POS'), ('construction', 'NN'), ('cost', 'NN'), ('was', 'VBD'), ('unreasonable', 'JJ'), ('and', 'CC'), ('should', 'MD'), ('be', 'VB'), ('refunded', 'VBN'), (',', ','), ('plus', 'CC'), ('interest', 'NN'), ('.', '.')], senses=('interest_6',)),\n",
              " SensevalInstance(word='interest-n', position=7, context=[('last', 'JJ'), ('month', 'NN'), (',', ','), ('judge', 'NN'), ('curry', 'NN'), ('set', 'VBN'), ('the', 'DT'), ('interest', 'NN'), ('rate', 'NN'), ('on', 'IN'), ('the', 'DT'), ('refund', 'NN'), ('at', 'IN'), ('9', 'CD'), ('%', 'NN'), ('.', '.')], senses=('interest_6',)),\n",
              " SensevalInstance(word='interest-n', position=36, context=[('gary', 'JJ'), ('hoffman', 'NN'), (',', ','), ('a', 'DT'), ('washington', 'NN'), ('lawyer', 'NN'), ('specializing', 'VBG'), ('in', 'IN'), ('intellectual-property', 'JJ'), ('cases', 'NNS'), (',', ','), ('said', 'VBD'), ('the', 'DT'), ('threat', 'NN'), ('of', 'IN'), ('u', 'PRP'), ('.', '.'), ('s', 'PRP'), ('.', '.'), ('retaliation', 'NN'), (',', ','), ('combined', 'VBN'), ('with', 'IN'), ('a', 'DT'), ('growing', 'VBG'), ('recognition', 'NN'), ('that', 'IN'), ('protecting', 'VBG'), ('intellectual', 'JJ'), ('property', 'NN'), ('is', 'VBZ'), ('in', 'IN'), ('a', 'DT'), ('country', 'NN'), (\"'s\", 'POS'), ('own', 'JJ'), ('interest', 'NN'), (',', ','), ('prompted', 'VBD'), ('the', 'DT'), ('improvements', 'NNS'), ('made', 'VBN'), ('by', 'IN'), ('south', 'JJ'), ('korea', 'NN'), (',', ','), ('taiwan', 'NN'), ('and', 'CC'), ('saudi', 'NN'), ('arabia', 'NN'), ('.', '.')], senses=('interest_4',)),\n",
              " SensevalInstance(word='interest-n', position=26, context=[('mr', 'NN'), ('.', '.'), ('rapanelli', 'NN'), ('recently', 'RB'), ('has', 'VBZ'), ('said', 'VBD'), ('the', 'DT'), ('government', 'NN'), ('of', 'IN'), ('president', 'NN'), ('carlos', 'NNS'), ('menem', 'VBP'), (',', ','), ('who', 'WP'), ('took', 'VBD'), ('office', 'NN'), ('july', 'RB'), ('8', 'CD'), (',', ','), ('feels', 'VBZ'), ('a', 'DT'), ('significant', 'JJ'), ('reduction', 'NN'), ('of', 'IN'), ('principal', 'NN'), ('and', 'CC'), ('interest', 'NN'), ('is', 'VBZ'), ('the', 'DT'), ('only', 'JJ'), ('way', 'NN'), ('the', 'DT'), ('debt', 'NN'), ('problem', 'NN'), ('may', 'MD'), ('be', 'VB'), ('solved', 'VBN'), ('.', '.')], senses=('interest_6',)),\n",
              " SensevalInstance(word='interest-n', position=18, context=[('that', 'DT'), ('stake', 'NN'), (',', ','), ('together', 'RB'), ('with', 'IN'), ('its', 'PRP$'), ('convertible', 'JJ'), ('preferred', 'JJ'), ('stock', 'NN'), ('holdings', 'NNS'), (',', ','), ('gives', 'VBZ'), ('faulding', 'VBG'), ('the', 'DT'), ('right', 'NN'), ('to', 'TO'), ('increase', 'VB'), ('its', 'PRP$'), ('interest', 'NN'), ('to', 'TO'), ('70', 'CD'), ('%', 'NN'), ('of', 'IN'), ('moleculon', 'NN'), (\"'s\", 'POS'), ('voting', 'NN'), ('stock', 'NN'), ('.', '.')], senses=('interest_5',))]"
            ]
          },
          "metadata": {
            "tags": []
          },
          "execution_count": 9
        }
      ]
    },
    {
      "cell_type": "markdown",
      "metadata": {
        "id": "ThsXQkBrOR92",
        "colab_type": "text"
      },
      "source": [
        "For the training set, use 90% of instances to train the classifier and try to find the sense of the word on the rest of 10% of instances and compare it to the result. Print your findings.\n",
        "\n"
      ]
    },
    {
      "cell_type": "code",
      "metadata": {
        "id": "cGJM77C3WSwR",
        "colab_type": "code",
        "outputId": "f47c1935-499e-44e6-a700-1d8f60ae1e15",
        "colab": {
          "base_uri": "https://localhost:8080/",
          "height": 272
        }
      },
      "source": [
        "from nltk.corpus import brown\n",
        "\n",
        "brown.categories()"
      ],
      "execution_count": 12,
      "outputs": [
        {
          "output_type": "execute_result",
          "data": {
            "text/plain": [
              "['adventure',\n",
              " 'belles_lettres',\n",
              " 'editorial',\n",
              " 'fiction',\n",
              " 'government',\n",
              " 'hobbies',\n",
              " 'humor',\n",
              " 'learned',\n",
              " 'lore',\n",
              " 'mystery',\n",
              " 'news',\n",
              " 'religion',\n",
              " 'reviews',\n",
              " 'romance',\n",
              " 'science_fiction']"
            ]
          },
          "metadata": {
            "tags": []
          },
          "execution_count": 12
        }
      ]
    },
    {
      "cell_type": "code",
      "metadata": {
        "id": "nv7EqZF8amPy",
        "colab_type": "code",
        "outputId": "c475aed2-c18c-4600-f2e6-c2083bfb899c",
        "colab": {
          "base_uri": "https://localhost:8080/",
          "height": 867
        }
      },
      "source": [
        "brown.words(categories='adventure')[:50]"
      ],
      "execution_count": 13,
      "outputs": [
        {
          "output_type": "execute_result",
          "data": {
            "text/plain": [
              "['Dan',\n",
              " 'Morgan',\n",
              " 'told',\n",
              " 'himself',\n",
              " 'he',\n",
              " 'would',\n",
              " 'forget',\n",
              " 'Ann',\n",
              " 'Turner',\n",
              " '.',\n",
              " 'He',\n",
              " 'was',\n",
              " 'well',\n",
              " 'rid',\n",
              " 'of',\n",
              " 'her',\n",
              " '.',\n",
              " 'He',\n",
              " 'certainly',\n",
              " \"didn't\",\n",
              " 'want',\n",
              " 'a',\n",
              " 'wife',\n",
              " 'who',\n",
              " 'was',\n",
              " 'fickle',\n",
              " 'as',\n",
              " 'Ann',\n",
              " '.',\n",
              " 'If',\n",
              " 'he',\n",
              " 'had',\n",
              " 'married',\n",
              " 'her',\n",
              " ',',\n",
              " \"he'd\",\n",
              " 'have',\n",
              " 'been',\n",
              " 'asking',\n",
              " 'for',\n",
              " 'trouble',\n",
              " '.',\n",
              " 'But',\n",
              " 'all',\n",
              " 'of',\n",
              " 'this',\n",
              " 'was',\n",
              " 'rationalization',\n",
              " '.',\n",
              " 'Sometimes']"
            ]
          },
          "metadata": {
            "tags": []
          },
          "execution_count": 13
        }
      ]
    },
    {
      "cell_type": "code",
      "metadata": {
        "id": "BkT8Jw09apL2",
        "colab_type": "code",
        "outputId": "9827c586-431f-4cc8-edf2-66e26cd61a18",
        "colab": {
          "base_uri": "https://localhost:8080/",
          "height": 867
        }
      },
      "source": [
        "brown.words(categories='government')[:50]"
      ],
      "execution_count": 14,
      "outputs": [
        {
          "output_type": "execute_result",
          "data": {
            "text/plain": [
              "['The',\n",
              " 'Office',\n",
              " 'of',\n",
              " 'Business',\n",
              " 'Economics',\n",
              " '(',\n",
              " 'OBE',\n",
              " ')',\n",
              " 'of',\n",
              " 'the',\n",
              " 'U.S.',\n",
              " 'Department',\n",
              " 'of',\n",
              " 'Commerce',\n",
              " 'provides',\n",
              " 'basic',\n",
              " 'measures',\n",
              " 'of',\n",
              " 'the',\n",
              " 'national',\n",
              " 'economy',\n",
              " 'and',\n",
              " 'current',\n",
              " 'analysis',\n",
              " 'of',\n",
              " 'short-run',\n",
              " 'changes',\n",
              " 'in',\n",
              " 'the',\n",
              " 'economic',\n",
              " 'situation',\n",
              " 'and',\n",
              " 'business',\n",
              " 'outlook',\n",
              " '.',\n",
              " 'It',\n",
              " 'develops',\n",
              " 'and',\n",
              " 'analyzes',\n",
              " 'the',\n",
              " 'national',\n",
              " 'income',\n",
              " ',',\n",
              " 'balance',\n",
              " 'of',\n",
              " 'international',\n",
              " 'payments',\n",
              " ',',\n",
              " 'and',\n",
              " 'many']"
            ]
          },
          "metadata": {
            "tags": []
          },
          "execution_count": 14
        }
      ]
    },
    {
      "cell_type": "code",
      "metadata": {
        "id": "zFNkVksbOSpK",
        "colab_type": "code",
        "colab": {}
      },
      "source": [
        "def categ_features2(name):\n",
        "    features = {}\n",
        "    features[\"len\"] = len(name)\n",
        "    features[\"word\"] = name.lower()\n",
        "    features[\"suffix1\"] = name[-1:]\n",
        "    features[\"suffix2\"] = name[-2:]\n",
        "    features[\"suffix3\"] = name[-3:]\n",
        "    features[\"prefix1\"] = name[:1]\n",
        "    features[\"prefix2\"] = name[:2]\n",
        "    features[\"prefix3\"] = name[:3]\n",
        "    for letter in 'abcdefghijklmnopqrstuvwxyz':\n",
        "        features[\"count({})\".format(letter)] = name.lower().count(letter)\n",
        "        features[\"has({})\".format(letter)] = (letter in name.lower())\n",
        "    return features\n"
      ],
      "execution_count": 0,
      "outputs": []
    },
    {
      "cell_type": "code",
      "metadata": {
        "id": "fpUY4uR9b8XX",
        "colab_type": "code",
        "outputId": "f926fbd1-133f-4942-d916-27d5e3dfb229",
        "colab": {
          "base_uri": "https://localhost:8080/",
          "height": 1000
        }
      },
      "source": [
        "categ_features2('sun')"
      ],
      "execution_count": 16,
      "outputs": [
        {
          "output_type": "execute_result",
          "data": {
            "text/plain": [
              "{'count(a)': 0,\n",
              " 'count(b)': 0,\n",
              " 'count(c)': 0,\n",
              " 'count(d)': 0,\n",
              " 'count(e)': 0,\n",
              " 'count(f)': 0,\n",
              " 'count(g)': 0,\n",
              " 'count(h)': 0,\n",
              " 'count(i)': 0,\n",
              " 'count(j)': 0,\n",
              " 'count(k)': 0,\n",
              " 'count(l)': 0,\n",
              " 'count(m)': 0,\n",
              " 'count(n)': 1,\n",
              " 'count(o)': 0,\n",
              " 'count(p)': 0,\n",
              " 'count(q)': 0,\n",
              " 'count(r)': 0,\n",
              " 'count(s)': 1,\n",
              " 'count(t)': 0,\n",
              " 'count(u)': 1,\n",
              " 'count(v)': 0,\n",
              " 'count(w)': 0,\n",
              " 'count(x)': 0,\n",
              " 'count(y)': 0,\n",
              " 'count(z)': 0,\n",
              " 'has(a)': False,\n",
              " 'has(b)': False,\n",
              " 'has(c)': False,\n",
              " 'has(d)': False,\n",
              " 'has(e)': False,\n",
              " 'has(f)': False,\n",
              " 'has(g)': False,\n",
              " 'has(h)': False,\n",
              " 'has(i)': False,\n",
              " 'has(j)': False,\n",
              " 'has(k)': False,\n",
              " 'has(l)': False,\n",
              " 'has(m)': False,\n",
              " 'has(n)': True,\n",
              " 'has(o)': False,\n",
              " 'has(p)': False,\n",
              " 'has(q)': False,\n",
              " 'has(r)': False,\n",
              " 'has(s)': True,\n",
              " 'has(t)': False,\n",
              " 'has(u)': True,\n",
              " 'has(v)': False,\n",
              " 'has(w)': False,\n",
              " 'has(x)': False,\n",
              " 'has(y)': False,\n",
              " 'has(z)': False,\n",
              " 'len': 3,\n",
              " 'prefix1': 's',\n",
              " 'prefix2': 'su',\n",
              " 'prefix3': 'sun',\n",
              " 'suffix1': 'n',\n",
              " 'suffix2': 'un',\n",
              " 'suffix3': 'sun',\n",
              " 'word': 'sun'}"
            ]
          },
          "metadata": {
            "tags": []
          },
          "execution_count": 16
        }
      ]
    },
    {
      "cell_type": "code",
      "metadata": {
        "id": "66ktaNiQcGF0",
        "colab_type": "code",
        "colab": {}
      },
      "source": [
        "labeled_words = []\n",
        "import random\n",
        "\n",
        "for categ in brown.categories():\n",
        "    labeled_words += [(word, categ) for word in brown.words(categories=categ)]\n",
        "\n",
        "random.shuffle(labeled_words)"
      ],
      "execution_count": 0,
      "outputs": []
    },
    {
      "cell_type": "code",
      "metadata": {
        "id": "7p19kiplhRVR",
        "colab_type": "code",
        "colab": {}
      },
      "source": [
        "featuresets = [(categ_features2(n), gender) for (n, gender) in labeled_words]"
      ],
      "execution_count": 0,
      "outputs": []
    },
    {
      "cell_type": "code",
      "metadata": {
        "id": "swkpEFNghV_A",
        "colab_type": "code",
        "colab": {}
      },
      "source": [
        "train_size = int(0.9 * len(featuresets))\n",
        "train_set, test_set = featuresets[:train_size], featuresets[train_size:]"
      ],
      "execution_count": 0,
      "outputs": []
    },
    {
      "cell_type": "code",
      "metadata": {
        "id": "yJ9anfqUhgnn",
        "colab_type": "code",
        "colab": {}
      },
      "source": [
        "classifier = nltk.NaiveBayesClassifier.train(train_set)"
      ],
      "execution_count": 0,
      "outputs": []
    },
    {
      "cell_type": "code",
      "metadata": {
        "id": "uj68UEIUhjRg",
        "colab_type": "code",
        "outputId": "178d1e92-c318-4c27-9821-f4671a17417e",
        "colab": {
          "base_uri": "https://localhost:8080/",
          "height": 34
        }
      },
      "source": [
        "print(nltk.classify.accuracy(classifier, test_set))"
      ],
      "execution_count": 21,
      "outputs": [
        {
          "output_type": "stream",
          "text": [
            "0.1882190837065105\n"
          ],
          "name": "stdout"
        }
      ]
    },
    {
      "cell_type": "code",
      "metadata": {
        "id": "HnrkUKUshkH5",
        "colab_type": "code",
        "outputId": "c4fc983a-41fc-4dae-aa84-24599ba91640",
        "colab": {
          "base_uri": "https://localhost:8080/",
          "height": 34
        }
      },
      "source": [
        "print(\"Random = \" + str(1.0/len(brown.categories())))"
      ],
      "execution_count": 22,
      "outputs": [
        {
          "output_type": "stream",
          "text": [
            "Random = 0.06666666666666667\n"
          ],
          "name": "stdout"
        }
      ]
    },
    {
      "cell_type": "code",
      "metadata": {
        "id": "ryn5QtU9hys0",
        "colab_type": "code",
        "outputId": "b3e86509-d5f3-4f32-b3d3-355f2e959159",
        "colab": {
          "base_uri": "https://localhost:8080/",
          "height": 119
        }
      },
      "source": [
        "classifier.show_most_informative_features(5)"
      ],
      "execution_count": 23,
      "outputs": [
        {
          "output_type": "stream",
          "text": [
            "Most Informative Features\n",
            "                    word = 'she'          romanc : govern =    437.3 : 1.0\n",
            "                    word = 'af'           learne : news   =    332.9 : 1.0\n",
            "                 prefix2 = 'Ek'           scienc : learne =    196.3 : 1.0\n",
            "                 suffix2 = 'hm'           scienc : learne =    189.4 : 1.0\n",
            "                 prefix2 = '19'           govern : advent =    176.9 : 1.0\n"
          ],
          "name": "stdout"
        }
      ]
    },
    {
      "cell_type": "code",
      "metadata": {
        "id": "u8Y0DbRBoZNb",
        "colab_type": "code",
        "outputId": "d066697d-304f-4464-f72c-2672c892d0e0",
        "colab": {
          "base_uri": "https://localhost:8080/",
          "height": 34
        }
      },
      "source": [
        "! pip install prettytable"
      ],
      "execution_count": 24,
      "outputs": [
        {
          "output_type": "stream",
          "text": [
            "Requirement already satisfied: prettytable in /usr/local/lib/python3.6/dist-packages (0.7.2)\n"
          ],
          "name": "stdout"
        }
      ]
    },
    {
      "cell_type": "code",
      "metadata": {
        "id": "3GSouHSMmsfW",
        "colab_type": "code",
        "colab": {}
      },
      "source": [
        "from prettytable import PrettyTable\n",
        "\n",
        "x = PrettyTable()\n",
        "\n",
        "x.field_names = [\"Word\", \"TrueLabel\", \"MyLabel\"]\n",
        "\n",
        "for test in test_set[:1000]:\n",
        "    label = classifier.classify(categ_features2(test[0]['word']))\n",
        "    TrueLabel = test[1]\n",
        "    x.add_row([test[0]['word'], TrueLabel, label])"
      ],
      "execution_count": 0,
      "outputs": []
    },
    {
      "cell_type": "code",
      "metadata": {
        "id": "89Wk9FVIo5w2",
        "colab_type": "code",
        "colab": {}
      },
      "source": [
        "with open(data_dir_drive + '/out.txt', 'w') as w:\n",
        "    w.write(str(x))"
      ],
      "execution_count": 0,
      "outputs": []
    }
  ]
}