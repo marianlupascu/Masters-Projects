{
  "nbformat": 4,
  "nbformat_minor": 0,
  "metadata": {
    "colab": {
      "name": "Fake_News_Detection.ipynb",
      "provenance": [],
      "collapsed_sections": []
    },
    "kernelspec": {
      "name": "python3",
      "display_name": "Python 3"
    },
    "accelerator": "GPU",
    "widgets": {
      "application/vnd.jupyter.widget-state+json": {
        "dc593f9df1094b5698c84fc28e1cb55b": {
          "model_module": "@jupyter-widgets/controls",
          "model_name": "HBoxModel",
          "state": {
            "_view_name": "HBoxView",
            "_dom_classes": [],
            "_model_name": "HBoxModel",
            "_view_module": "@jupyter-widgets/controls",
            "_model_module_version": "1.5.0",
            "_view_count": null,
            "_view_module_version": "1.5.0",
            "box_style": "",
            "layout": "IPY_MODEL_d8e56b40e57649618e1d961fd187c4fc",
            "_model_module": "@jupyter-widgets/controls",
            "children": [
              "IPY_MODEL_89031517d19f4efd99adbf4bbb7d3fab",
              "IPY_MODEL_54d75c2fb8854383a9f1a1c758339ce4"
            ]
          }
        },
        "d8e56b40e57649618e1d961fd187c4fc": {
          "model_module": "@jupyter-widgets/base",
          "model_name": "LayoutModel",
          "state": {
            "_view_name": "LayoutView",
            "grid_template_rows": null,
            "right": null,
            "justify_content": null,
            "_view_module": "@jupyter-widgets/base",
            "overflow": null,
            "_model_module_version": "1.2.0",
            "_view_count": null,
            "flex_flow": null,
            "width": null,
            "min_width": null,
            "border": null,
            "align_items": null,
            "bottom": null,
            "_model_module": "@jupyter-widgets/base",
            "top": null,
            "grid_column": null,
            "overflow_y": null,
            "overflow_x": null,
            "grid_auto_flow": null,
            "grid_area": null,
            "grid_template_columns": null,
            "flex": null,
            "_model_name": "LayoutModel",
            "justify_items": null,
            "grid_row": null,
            "max_height": null,
            "align_content": null,
            "visibility": null,
            "align_self": null,
            "height": null,
            "min_height": null,
            "padding": null,
            "grid_auto_rows": null,
            "grid_gap": null,
            "max_width": null,
            "order": null,
            "_view_module_version": "1.2.0",
            "grid_template_areas": null,
            "object_position": null,
            "object_fit": null,
            "grid_auto_columns": null,
            "margin": null,
            "display": null,
            "left": null
          }
        },
        "89031517d19f4efd99adbf4bbb7d3fab": {
          "model_module": "@jupyter-widgets/controls",
          "model_name": "FloatProgressModel",
          "state": {
            "_view_name": "ProgressView",
            "style": "IPY_MODEL_406e33402d78454b97f655971fafa941",
            "_dom_classes": [],
            "description": "Downloading: 100%",
            "_model_name": "FloatProgressModel",
            "bar_style": "success",
            "max": 995526,
            "_view_module": "@jupyter-widgets/controls",
            "_model_module_version": "1.5.0",
            "value": 995526,
            "_view_count": null,
            "_view_module_version": "1.5.0",
            "orientation": "horizontal",
            "min": 0,
            "description_tooltip": null,
            "_model_module": "@jupyter-widgets/controls",
            "layout": "IPY_MODEL_34308ffac4db4468be73c47807047ab9"
          }
        },
        "54d75c2fb8854383a9f1a1c758339ce4": {
          "model_module": "@jupyter-widgets/controls",
          "model_name": "HTMLModel",
          "state": {
            "_view_name": "HTMLView",
            "style": "IPY_MODEL_ae29286603954a11b16fc9c21aee2586",
            "_dom_classes": [],
            "description": "",
            "_model_name": "HTMLModel",
            "placeholder": "​",
            "_view_module": "@jupyter-widgets/controls",
            "_model_module_version": "1.5.0",
            "value": " 996k/996k [00:00&lt;00:00, 2.10MB/s]",
            "_view_count": null,
            "_view_module_version": "1.5.0",
            "description_tooltip": null,
            "_model_module": "@jupyter-widgets/controls",
            "layout": "IPY_MODEL_2ff12178d6e14056b940309052bee180"
          }
        },
        "406e33402d78454b97f655971fafa941": {
          "model_module": "@jupyter-widgets/controls",
          "model_name": "ProgressStyleModel",
          "state": {
            "_view_name": "StyleView",
            "_model_name": "ProgressStyleModel",
            "description_width": "initial",
            "_view_module": "@jupyter-widgets/base",
            "_model_module_version": "1.5.0",
            "_view_count": null,
            "_view_module_version": "1.2.0",
            "bar_color": null,
            "_model_module": "@jupyter-widgets/controls"
          }
        },
        "34308ffac4db4468be73c47807047ab9": {
          "model_module": "@jupyter-widgets/base",
          "model_name": "LayoutModel",
          "state": {
            "_view_name": "LayoutView",
            "grid_template_rows": null,
            "right": null,
            "justify_content": null,
            "_view_module": "@jupyter-widgets/base",
            "overflow": null,
            "_model_module_version": "1.2.0",
            "_view_count": null,
            "flex_flow": null,
            "width": null,
            "min_width": null,
            "border": null,
            "align_items": null,
            "bottom": null,
            "_model_module": "@jupyter-widgets/base",
            "top": null,
            "grid_column": null,
            "overflow_y": null,
            "overflow_x": null,
            "grid_auto_flow": null,
            "grid_area": null,
            "grid_template_columns": null,
            "flex": null,
            "_model_name": "LayoutModel",
            "justify_items": null,
            "grid_row": null,
            "max_height": null,
            "align_content": null,
            "visibility": null,
            "align_self": null,
            "height": null,
            "min_height": null,
            "padding": null,
            "grid_auto_rows": null,
            "grid_gap": null,
            "max_width": null,
            "order": null,
            "_view_module_version": "1.2.0",
            "grid_template_areas": null,
            "object_position": null,
            "object_fit": null,
            "grid_auto_columns": null,
            "margin": null,
            "display": null,
            "left": null
          }
        },
        "ae29286603954a11b16fc9c21aee2586": {
          "model_module": "@jupyter-widgets/controls",
          "model_name": "DescriptionStyleModel",
          "state": {
            "_view_name": "StyleView",
            "_model_name": "DescriptionStyleModel",
            "description_width": "",
            "_view_module": "@jupyter-widgets/base",
            "_model_module_version": "1.5.0",
            "_view_count": null,
            "_view_module_version": "1.2.0",
            "_model_module": "@jupyter-widgets/controls"
          }
        },
        "2ff12178d6e14056b940309052bee180": {
          "model_module": "@jupyter-widgets/base",
          "model_name": "LayoutModel",
          "state": {
            "_view_name": "LayoutView",
            "grid_template_rows": null,
            "right": null,
            "justify_content": null,
            "_view_module": "@jupyter-widgets/base",
            "overflow": null,
            "_model_module_version": "1.2.0",
            "_view_count": null,
            "flex_flow": null,
            "width": null,
            "min_width": null,
            "border": null,
            "align_items": null,
            "bottom": null,
            "_model_module": "@jupyter-widgets/base",
            "top": null,
            "grid_column": null,
            "overflow_y": null,
            "overflow_x": null,
            "grid_auto_flow": null,
            "grid_area": null,
            "grid_template_columns": null,
            "flex": null,
            "_model_name": "LayoutModel",
            "justify_items": null,
            "grid_row": null,
            "max_height": null,
            "align_content": null,
            "visibility": null,
            "align_self": null,
            "height": null,
            "min_height": null,
            "padding": null,
            "grid_auto_rows": null,
            "grid_gap": null,
            "max_width": null,
            "order": null,
            "_view_module_version": "1.2.0",
            "grid_template_areas": null,
            "object_position": null,
            "object_fit": null,
            "grid_auto_columns": null,
            "margin": null,
            "display": null,
            "left": null
          }
        },
        "e919f44f7e9145e3864f12bbc37388a0": {
          "model_module": "@jupyter-widgets/controls",
          "model_name": "HBoxModel",
          "state": {
            "_view_name": "HBoxView",
            "_dom_classes": [],
            "_model_name": "HBoxModel",
            "_view_module": "@jupyter-widgets/controls",
            "_model_module_version": "1.5.0",
            "_view_count": null,
            "_view_module_version": "1.5.0",
            "box_style": "",
            "layout": "IPY_MODEL_6903f58e42a94723b673e827d81b95e0",
            "_model_module": "@jupyter-widgets/controls",
            "children": [
              "IPY_MODEL_bcc0d60593834dd2a9b41ed868dc3115",
              "IPY_MODEL_3a12ac47ada94266b056d38f30ad070b"
            ]
          }
        },
        "6903f58e42a94723b673e827d81b95e0": {
          "model_module": "@jupyter-widgets/base",
          "model_name": "LayoutModel",
          "state": {
            "_view_name": "LayoutView",
            "grid_template_rows": null,
            "right": null,
            "justify_content": null,
            "_view_module": "@jupyter-widgets/base",
            "overflow": null,
            "_model_module_version": "1.2.0",
            "_view_count": null,
            "flex_flow": null,
            "width": null,
            "min_width": null,
            "border": null,
            "align_items": null,
            "bottom": null,
            "_model_module": "@jupyter-widgets/base",
            "top": null,
            "grid_column": null,
            "overflow_y": null,
            "overflow_x": null,
            "grid_auto_flow": null,
            "grid_area": null,
            "grid_template_columns": null,
            "flex": null,
            "_model_name": "LayoutModel",
            "justify_items": null,
            "grid_row": null,
            "max_height": null,
            "align_content": null,
            "visibility": null,
            "align_self": null,
            "height": null,
            "min_height": null,
            "padding": null,
            "grid_auto_rows": null,
            "grid_gap": null,
            "max_width": null,
            "order": null,
            "_view_module_version": "1.2.0",
            "grid_template_areas": null,
            "object_position": null,
            "object_fit": null,
            "grid_auto_columns": null,
            "margin": null,
            "display": null,
            "left": null
          }
        },
        "bcc0d60593834dd2a9b41ed868dc3115": {
          "model_module": "@jupyter-widgets/controls",
          "model_name": "FloatProgressModel",
          "state": {
            "_view_name": "ProgressView",
            "style": "IPY_MODEL_e7748744d0b0474c8d8144808da3fa92",
            "_dom_classes": [],
            "description": "Downloading: 100%",
            "_model_name": "FloatProgressModel",
            "bar_style": "success",
            "max": 625,
            "_view_module": "@jupyter-widgets/controls",
            "_model_module_version": "1.5.0",
            "value": 625,
            "_view_count": null,
            "_view_module_version": "1.5.0",
            "orientation": "horizontal",
            "min": 0,
            "description_tooltip": null,
            "_model_module": "@jupyter-widgets/controls",
            "layout": "IPY_MODEL_0aec33061f1f4ced8849c9d479dfcadc"
          }
        },
        "3a12ac47ada94266b056d38f30ad070b": {
          "model_module": "@jupyter-widgets/controls",
          "model_name": "HTMLModel",
          "state": {
            "_view_name": "HTMLView",
            "style": "IPY_MODEL_5de9d50097da46e78830f9d38507f1b5",
            "_dom_classes": [],
            "description": "",
            "_model_name": "HTMLModel",
            "placeholder": "​",
            "_view_module": "@jupyter-widgets/controls",
            "_model_module_version": "1.5.0",
            "value": " 625/625 [00:10&lt;00:00, 58.1B/s]",
            "_view_count": null,
            "_view_module_version": "1.5.0",
            "description_tooltip": null,
            "_model_module": "@jupyter-widgets/controls",
            "layout": "IPY_MODEL_12d6e224dc1a45639d97e0b492dace7d"
          }
        },
        "e7748744d0b0474c8d8144808da3fa92": {
          "model_module": "@jupyter-widgets/controls",
          "model_name": "ProgressStyleModel",
          "state": {
            "_view_name": "StyleView",
            "_model_name": "ProgressStyleModel",
            "description_width": "initial",
            "_view_module": "@jupyter-widgets/base",
            "_model_module_version": "1.5.0",
            "_view_count": null,
            "_view_module_version": "1.2.0",
            "bar_color": null,
            "_model_module": "@jupyter-widgets/controls"
          }
        },
        "0aec33061f1f4ced8849c9d479dfcadc": {
          "model_module": "@jupyter-widgets/base",
          "model_name": "LayoutModel",
          "state": {
            "_view_name": "LayoutView",
            "grid_template_rows": null,
            "right": null,
            "justify_content": null,
            "_view_module": "@jupyter-widgets/base",
            "overflow": null,
            "_model_module_version": "1.2.0",
            "_view_count": null,
            "flex_flow": null,
            "width": null,
            "min_width": null,
            "border": null,
            "align_items": null,
            "bottom": null,
            "_model_module": "@jupyter-widgets/base",
            "top": null,
            "grid_column": null,
            "overflow_y": null,
            "overflow_x": null,
            "grid_auto_flow": null,
            "grid_area": null,
            "grid_template_columns": null,
            "flex": null,
            "_model_name": "LayoutModel",
            "justify_items": null,
            "grid_row": null,
            "max_height": null,
            "align_content": null,
            "visibility": null,
            "align_self": null,
            "height": null,
            "min_height": null,
            "padding": null,
            "grid_auto_rows": null,
            "grid_gap": null,
            "max_width": null,
            "order": null,
            "_view_module_version": "1.2.0",
            "grid_template_areas": null,
            "object_position": null,
            "object_fit": null,
            "grid_auto_columns": null,
            "margin": null,
            "display": null,
            "left": null
          }
        },
        "5de9d50097da46e78830f9d38507f1b5": {
          "model_module": "@jupyter-widgets/controls",
          "model_name": "DescriptionStyleModel",
          "state": {
            "_view_name": "StyleView",
            "_model_name": "DescriptionStyleModel",
            "description_width": "",
            "_view_module": "@jupyter-widgets/base",
            "_model_module_version": "1.5.0",
            "_view_count": null,
            "_view_module_version": "1.2.0",
            "_model_module": "@jupyter-widgets/controls"
          }
        },
        "12d6e224dc1a45639d97e0b492dace7d": {
          "model_module": "@jupyter-widgets/base",
          "model_name": "LayoutModel",
          "state": {
            "_view_name": "LayoutView",
            "grid_template_rows": null,
            "right": null,
            "justify_content": null,
            "_view_module": "@jupyter-widgets/base",
            "overflow": null,
            "_model_module_version": "1.2.0",
            "_view_count": null,
            "flex_flow": null,
            "width": null,
            "min_width": null,
            "border": null,
            "align_items": null,
            "bottom": null,
            "_model_module": "@jupyter-widgets/base",
            "top": null,
            "grid_column": null,
            "overflow_y": null,
            "overflow_x": null,
            "grid_auto_flow": null,
            "grid_area": null,
            "grid_template_columns": null,
            "flex": null,
            "_model_name": "LayoutModel",
            "justify_items": null,
            "grid_row": null,
            "max_height": null,
            "align_content": null,
            "visibility": null,
            "align_self": null,
            "height": null,
            "min_height": null,
            "padding": null,
            "grid_auto_rows": null,
            "grid_gap": null,
            "max_width": null,
            "order": null,
            "_view_module_version": "1.2.0",
            "grid_template_areas": null,
            "object_position": null,
            "object_fit": null,
            "grid_auto_columns": null,
            "margin": null,
            "display": null,
            "left": null
          }
        },
        "8ee0748d54534cdb9c05150cac44b48a": {
          "model_module": "@jupyter-widgets/controls",
          "model_name": "HBoxModel",
          "state": {
            "_view_name": "HBoxView",
            "_dom_classes": [],
            "_model_name": "HBoxModel",
            "_view_module": "@jupyter-widgets/controls",
            "_model_module_version": "1.5.0",
            "_view_count": null,
            "_view_module_version": "1.5.0",
            "box_style": "",
            "layout": "IPY_MODEL_a657d5f3167147539a80f86e6270ac11",
            "_model_module": "@jupyter-widgets/controls",
            "children": [
              "IPY_MODEL_cc5f660f879b41f0831f6df110f3458d",
              "IPY_MODEL_64192fb794054e8f9de087e896708226"
            ]
          }
        },
        "a657d5f3167147539a80f86e6270ac11": {
          "model_module": "@jupyter-widgets/base",
          "model_name": "LayoutModel",
          "state": {
            "_view_name": "LayoutView",
            "grid_template_rows": null,
            "right": null,
            "justify_content": null,
            "_view_module": "@jupyter-widgets/base",
            "overflow": null,
            "_model_module_version": "1.2.0",
            "_view_count": null,
            "flex_flow": null,
            "width": null,
            "min_width": null,
            "border": null,
            "align_items": null,
            "bottom": null,
            "_model_module": "@jupyter-widgets/base",
            "top": null,
            "grid_column": null,
            "overflow_y": null,
            "overflow_x": null,
            "grid_auto_flow": null,
            "grid_area": null,
            "grid_template_columns": null,
            "flex": null,
            "_model_name": "LayoutModel",
            "justify_items": null,
            "grid_row": null,
            "max_height": null,
            "align_content": null,
            "visibility": null,
            "align_self": null,
            "height": null,
            "min_height": null,
            "padding": null,
            "grid_auto_rows": null,
            "grid_gap": null,
            "max_width": null,
            "order": null,
            "_view_module_version": "1.2.0",
            "grid_template_areas": null,
            "object_position": null,
            "object_fit": null,
            "grid_auto_columns": null,
            "margin": null,
            "display": null,
            "left": null
          }
        },
        "cc5f660f879b41f0831f6df110f3458d": {
          "model_module": "@jupyter-widgets/controls",
          "model_name": "FloatProgressModel",
          "state": {
            "_view_name": "ProgressView",
            "style": "IPY_MODEL_81138b8ec6f145f78320f9ca05ba99b8",
            "_dom_classes": [],
            "description": "Downloading: 100%",
            "_model_name": "FloatProgressModel",
            "bar_style": "success",
            "max": 714314041,
            "_view_module": "@jupyter-widgets/controls",
            "_model_module_version": "1.5.0",
            "value": 714314041,
            "_view_count": null,
            "_view_module_version": "1.5.0",
            "orientation": "horizontal",
            "min": 0,
            "description_tooltip": null,
            "_model_module": "@jupyter-widgets/controls",
            "layout": "IPY_MODEL_f8514a7b3bae401ea3421cc309080e00"
          }
        },
        "64192fb794054e8f9de087e896708226": {
          "model_module": "@jupyter-widgets/controls",
          "model_name": "HTMLModel",
          "state": {
            "_view_name": "HTMLView",
            "style": "IPY_MODEL_3b410ee587b147ceb867b338cc784555",
            "_dom_classes": [],
            "description": "",
            "_model_name": "HTMLModel",
            "placeholder": "​",
            "_view_module": "@jupyter-widgets/controls",
            "_model_module_version": "1.5.0",
            "value": " 714M/714M [00:10&lt;00:00, 71.0MB/s]",
            "_view_count": null,
            "_view_module_version": "1.5.0",
            "description_tooltip": null,
            "_model_module": "@jupyter-widgets/controls",
            "layout": "IPY_MODEL_e7e32981b9324069aaad5e030fe42e1c"
          }
        },
        "81138b8ec6f145f78320f9ca05ba99b8": {
          "model_module": "@jupyter-widgets/controls",
          "model_name": "ProgressStyleModel",
          "state": {
            "_view_name": "StyleView",
            "_model_name": "ProgressStyleModel",
            "description_width": "initial",
            "_view_module": "@jupyter-widgets/base",
            "_model_module_version": "1.5.0",
            "_view_count": null,
            "_view_module_version": "1.2.0",
            "bar_color": null,
            "_model_module": "@jupyter-widgets/controls"
          }
        },
        "f8514a7b3bae401ea3421cc309080e00": {
          "model_module": "@jupyter-widgets/base",
          "model_name": "LayoutModel",
          "state": {
            "_view_name": "LayoutView",
            "grid_template_rows": null,
            "right": null,
            "justify_content": null,
            "_view_module": "@jupyter-widgets/base",
            "overflow": null,
            "_model_module_version": "1.2.0",
            "_view_count": null,
            "flex_flow": null,
            "width": null,
            "min_width": null,
            "border": null,
            "align_items": null,
            "bottom": null,
            "_model_module": "@jupyter-widgets/base",
            "top": null,
            "grid_column": null,
            "overflow_y": null,
            "overflow_x": null,
            "grid_auto_flow": null,
            "grid_area": null,
            "grid_template_columns": null,
            "flex": null,
            "_model_name": "LayoutModel",
            "justify_items": null,
            "grid_row": null,
            "max_height": null,
            "align_content": null,
            "visibility": null,
            "align_self": null,
            "height": null,
            "min_height": null,
            "padding": null,
            "grid_auto_rows": null,
            "grid_gap": null,
            "max_width": null,
            "order": null,
            "_view_module_version": "1.2.0",
            "grid_template_areas": null,
            "object_position": null,
            "object_fit": null,
            "grid_auto_columns": null,
            "margin": null,
            "display": null,
            "left": null
          }
        },
        "3b410ee587b147ceb867b338cc784555": {
          "model_module": "@jupyter-widgets/controls",
          "model_name": "DescriptionStyleModel",
          "state": {
            "_view_name": "StyleView",
            "_model_name": "DescriptionStyleModel",
            "description_width": "",
            "_view_module": "@jupyter-widgets/base",
            "_model_module_version": "1.5.0",
            "_view_count": null,
            "_view_module_version": "1.2.0",
            "_model_module": "@jupyter-widgets/controls"
          }
        },
        "e7e32981b9324069aaad5e030fe42e1c": {
          "model_module": "@jupyter-widgets/base",
          "model_name": "LayoutModel",
          "state": {
            "_view_name": "LayoutView",
            "grid_template_rows": null,
            "right": null,
            "justify_content": null,
            "_view_module": "@jupyter-widgets/base",
            "overflow": null,
            "_model_module_version": "1.2.0",
            "_view_count": null,
            "flex_flow": null,
            "width": null,
            "min_width": null,
            "border": null,
            "align_items": null,
            "bottom": null,
            "_model_module": "@jupyter-widgets/base",
            "top": null,
            "grid_column": null,
            "overflow_y": null,
            "overflow_x": null,
            "grid_auto_flow": null,
            "grid_area": null,
            "grid_template_columns": null,
            "flex": null,
            "_model_name": "LayoutModel",
            "justify_items": null,
            "grid_row": null,
            "max_height": null,
            "align_content": null,
            "visibility": null,
            "align_self": null,
            "height": null,
            "min_height": null,
            "padding": null,
            "grid_auto_rows": null,
            "grid_gap": null,
            "max_width": null,
            "order": null,
            "_view_module_version": "1.2.0",
            "grid_template_areas": null,
            "object_position": null,
            "object_fit": null,
            "grid_auto_columns": null,
            "margin": null,
            "display": null,
            "left": null
          }
        }
      }
    }
  },
  "cells": [
    {
      "cell_type": "markdown",
      "metadata": {
        "id": "660S-Mef9pox"
      },
      "source": [
        "## Imports and data preparation"
      ]
    },
    {
      "cell_type": "code",
      "metadata": {
        "colab": {
          "base_uri": "https://localhost:8080/"
        },
        "id": "KPegK1jC3enh",
        "outputId": "ca93bdd2-d214-4748-b598-c749ae9df5e1"
      },
      "source": [
        "from google.colab import drive\n",
        "drive.mount('/content/gdrive')"
      ],
      "execution_count": null,
      "outputs": [
        {
          "output_type": "stream",
          "text": [
            "Mounted at /content/gdrive\n"
          ],
          "name": "stdout"
        }
      ]
    },
    {
      "cell_type": "code",
      "metadata": {
        "colab": {
          "base_uri": "https://localhost:8080/"
        },
        "id": "0HjSXXao5eM7",
        "outputId": "8cf4c03c-ac8f-48c5-fd55-3cbf01a52d68"
      },
      "source": [
        "import pandas as pd\n",
        "import numpy as np\n",
        "\n",
        "FOLDER = \"gdrive/My Drive/NLP/Fake_News\"\n",
        "dataset = pd.read_csv(FOLDER + \"/train.csv\")\n",
        "\n",
        "# Display the dataset\n",
        "print(dataset.columns)\n",
        "news = dataset['text'].apply(str)\n",
        "labels = np.array(dataset['label'])\n",
        "\n",
        "print(news)"
      ],
      "execution_count": null,
      "outputs": [
        {
          "output_type": "stream",
          "text": [
            "Index(['id', 'title', 'author', 'text', 'label'], dtype='object')\n",
            "0        House Dem Aide: We Didn’t Even See Comey’s Let...\n",
            "1        Ever get the feeling your life circles the rou...\n",
            "2        Why the Truth Might Get You Fired October 29, ...\n",
            "3        Videos 15 Civilians Killed In Single US Airstr...\n",
            "4        Print \\nAn Iranian woman has been sentenced to...\n",
            "                               ...                        \n",
            "20795    Rapper T. I. unloaded on black celebrities who...\n",
            "20796    When the Green Bay Packers lost to the Washing...\n",
            "20797    The Macy’s of today grew from the union of sev...\n",
            "20798    NATO, Russia To Hold Parallel Exercises In Bal...\n",
            "20799      David Swanson is an author, activist, journa...\n",
            "Name: text, Length: 20800, dtype: object\n"
          ],
          "name": "stdout"
        }
      ]
    },
    {
      "cell_type": "markdown",
      "metadata": {
        "id": "IaGHFyJWjgJf"
      },
      "source": [
        "Preprocessing the reviews"
      ]
    },
    {
      "cell_type": "code",
      "metadata": {
        "id": "ExYM4naAjh0d",
        "colab": {
          "base_uri": "https://localhost:8080/"
        },
        "outputId": "1ad7f94e-ad84-4c54-9026-005d4258664d"
      },
      "source": [
        "import nltk\n",
        "from nltk.corpus import stopwords\n",
        "from nltk.tokenize import word_tokenize\n",
        "from nltk.stem import PorterStemmer\n",
        "nltk.download('punkt')\n",
        "\n",
        "def preprocess_data(news):\n",
        "  news = news.str.lower() # Lowercasing\n",
        "\n",
        "  # Stopwords removal\n",
        "  #nltk.download('stopwords')\n",
        "  #stop_words = stopwords.words('english')\n",
        "\n",
        "  #news = news.apply(lambda x: ' '.join([word for word in x.split() if word not in (stop_words)])) # Remove stopwords\n",
        "\n",
        "  # Stemming\n",
        "  #stemmer = PorterStemmer()\n",
        "\n",
        "  #news = news.apply(lambda x: [stemmer.stem(y) for y in word_tokenize(x) if y.isalpha()])\n",
        "\n",
        "  #print(news)\n",
        "\n",
        "  #news = [' '.join(str(x) for x in article) for article in news]\n",
        "\n",
        "  print(news)\n",
        "\n",
        "  return news"
      ],
      "execution_count": null,
      "outputs": [
        {
          "output_type": "stream",
          "text": [
            "[nltk_data] Downloading package punkt to /root/nltk_data...\n",
            "[nltk_data]   Package punkt is already up-to-date!\n"
          ],
          "name": "stdout"
        }
      ]
    },
    {
      "cell_type": "code",
      "metadata": {
        "colab": {
          "base_uri": "https://localhost:8080/"
        },
        "id": "GdjIzsQ6_F7V",
        "outputId": "657170b4-2110-45f0-850d-a33b8aec8c1c"
      },
      "source": [
        "news = preprocess_data(news)"
      ],
      "execution_count": null,
      "outputs": [
        {
          "output_type": "stream",
          "text": [
            "0        house dem aide: we didn’t even see comey’s letter until jason chaffetz tweeted it by darrell lucus on october 30, 2016 subscribe jason chaffetz on the stump in american fork, utah ( image courtesy michael jolley, available under a creative commons-by license) \\nwith apologies to keith olbermann, there is no doubt who the worst person in the world is this week–fbi director james comey. but according to a house democratic aide, it looks like we also know who the second-worst person is as well. it turns out that when comey sent his now-infamous letter announcing that the fbi was looking into emails that may be related to hillary clinton’s email server, the ranking democrats on the relevant committees didn’t hear about it from comey. they found out via a tweet from one of the republican committee chairmen. \\nas we now know, comey notified the republican chairmen and democratic ranking members of the house intelligence, judiciary, and oversight committees that his agency was reviewing emails it had recently discovered in order to see if they contained classified information. not long after this letter went out, oversight committee chairman jason chaffetz set the political world ablaze with this tweet. fbi dir just informed me, \"the fbi has learned of the existence of emails that appear to be pertinent to the investigation.\" case reopened \\n— jason chaffetz (@jasoninthehouse) october 28, 2016 \\nof course, we now know that this was not the case . comey was actually saying that it was reviewing the emails in light of “an unrelated case”–which we now know to be anthony weiner’s sexting with a teenager. but apparently such little things as facts didn’t matter to chaffetz. the utah republican had already vowed to initiate a raft of investigations if hillary wins–at least two years’ worth, and possibly an entire term’s worth of them. apparently chaffetz thought the fbi was already doing his work for him–resulting in a tweet that briefly roiled the nation before cooler heads realized it was a dud. \\nbut according to a senior house democratic aide, misreading that letter may have been the least of chaffetz’ sins. that aide told shareblue that his boss and other democrats didn’t even know about comey’s letter at the time–and only found out when they checked twitter. “democratic ranking members on the relevant committees didn’t receive comey’s letter until after the republican chairmen. in fact, the democratic ranking members didn’ receive it until after the chairman of the oversight and government reform committee, jason chaffetz, tweeted it out and made it public.” \\nso let’s see if we’ve got this right. the fbi director tells chaffetz and other gop committee chairmen about a major development in a potentially politically explosive investigation, and neither chaffetz nor his other colleagues had the courtesy to let their democratic counterparts know about it. instead, according to this aide, he made them find out about it on twitter. \\nthere has already been talk on daily kos that comey himself provided advance notice of this letter to chaffetz and other republicans, giving them time to turn on the spin machine. that may make for good theater, but there is nothing so far that even suggests this is the case. after all, there is nothing so far that suggests that comey was anything other than grossly incompetent and tone-deaf. \\nwhat it does suggest, however, is that chaffetz is acting in a way that makes dan burton and darrell issa look like models of responsibility and bipartisanship. he didn’t even have the decency to notify ranking member elijah cummings about something this explosive. if that doesn’t trample on basic standards of fairness, i don’t know what does. \\ngranted, it’s not likely that chaffetz will have to answer for this. he sits in a ridiculously republican district anchored in provo and orem; it has a cook partisan voting index of r+25, and gave mitt romney a punishing 78 percent of the vote in 2012. moreover, the republican house leadership has given its full support to chaffetz’ planned fishing expedition. but that doesn’t mean we can’t turn the hot lights on him. after all, he is a textbook example of what the house has become under republican control. and he is also the second worst person in the world. about darrell lucus \\ndarrell is a 30-something graduate of the university of north carolina who considers himself a journalist of the old school. an attempt to turn him into a member of the religious right in college only succeeded in turning him into the religious right's worst nightmare--a charismatic christian who is an unapologetic liberal. his desire to stand up for those who have been scared into silence only increased when he survived an abusive three-year marriage. you may know him on daily kos as christian dem in nc . follow him on twitter @darrelllucus or connect with him on facebook . click here to buy darrell a mello yello. connect                                                                                                                                                                                                                                                                                                                                                                                                                                                                                                                                                                                                                                                                                                                                                                                                                                                                                                                                                                                                                                                                                                                                                                                                                                                                                                                                                                                                                                                                                                                                                                                                                                                                                                                                                                                                                                                                                                                                                                                                                                                                                                                                                                                                                                                                                                                                                                                                                                                                                                                                                                                                                                                                                                                                                                                                                                                                                      \n",
            "1        ever get the feeling your life circles the roundabout rather than heads in a straight line toward the intended destination? [hillary clinton remains the big woman on campus in leafy, liberal wellesley, massachusetts. everywhere else votes her most likely to don her inauguration dress for the remainder of her days the way miss havisham forever wore that wedding dress.  speaking of great expectations, hillary rodham overflowed with them 48 years ago when she first addressed a wellesley graduating class. the president of the college informed those gathered in 1969 that the students needed “no debate so far as i could ascertain as to who their spokesman was to be” (kind of the like the democratic primaries in 2016 minus the   terms unknown then even at a seven sisters school). “i am very glad that miss adams made it clear that what i am speaking for today is all of us —  the 400 of us,” miss rodham told her classmates. after appointing herself edger bergen to the charlie mccarthys and mortimer snerds in attendance, the    bespectacled in granny glasses (awarding her matronly wisdom —  or at least john lennon wisdom) took issue with the previous speaker. despite becoming the first   to win election to a seat in the u. s. senate since reconstruction, edward brooke came in for criticism for calling for “empathy” for the goals of protestors as he criticized tactics. though clinton in her senior thesis on saul alinsky lamented “black power demagogues” and “elitist arrogance and repressive intolerance” within the new left, similar words coming out of a republican necessitated a brief rebuttal. “trust,” rodham ironically observed in 1969, “this is one word that when i asked the class at our rehearsal what it was they wanted me to say for them, everyone came up to me and said ‘talk about trust, talk about the lack of trust both for us and the way we feel about others. talk about the trust bust.’ what can you say about it? what can you say about a feeling that permeates a generation and that perhaps is not even understood by those who are distrusted?” the “trust bust” certainly busted clinton’s 2016 plans. she certainly did not even understand that people distrusted her. after whitewater, travelgate, the vast   conspiracy, benghazi, and the missing emails, clinton found herself the distrusted voice on friday. there was a load of compromising on the road to the broadening of her political horizons. and distrust from the american people —  trump edged her 48 percent to 38 percent on the question immediately prior to november’s election —  stood as a major reason for the closing of those horizons. clinton described her vanquisher and his supporters as embracing a “lie,” a “con,” “alternative facts,” and “a   assault on truth and reason. ” she failed to explain why the american people chose his lies over her truth. “as the history majors among you here today know all too well, when people in power invent their own facts and attack those who question them, it can mark the beginning of the end of a free society,” she offered. “that is not hyperbole. ” like so many people to emerge from the 1960s, hillary clinton embarked upon a long, strange trip. from high school goldwater girl and wellesley college republican president to democratic politician, clinton drank in the times and the place that gave her a degree. more significantly, she went from idealist to cynic, as a comparison of her two wellesley commencement addresses show. way back when, she lamented that “for too long our leaders have viewed politics as the art of the possible, and the challenge now is to practice politics as the art of making what appears to be impossible possible. ” now, as the big woman on campus but the odd woman out of the white house, she wonders how her current station is even possible. “why aren’t i 50 points ahead?” she asked in september. in may she asks why she isn’t president. the woman famously dubbed a “congenital liar” by bill safire concludes that lies did her in —  theirs, mind you, not hers. getting stood up on election day, like finding yourself the jilted bride on your wedding day, inspires dangerous delusions.                                                                                                                                                                                                                                                                                                                                                                                                                                                                                                                                                                                                                                                                                                                                                                                                                                                                                                                                                                                                                                                                                                                                                                                                                                                                                                                                                                                                                                                                                                                                                                                                                                                                                                                                                                                                                                                                                                                                                                                                                                                                                                                                                                                                                                                                                                                                                                                                                                                                                                                                                                                                                                                                                                                                                                                                                                                                                                                                                                                                                                                                                                                                                                                                                                                                                                                                                                                                                                                                                                                                                                                                                                                                                                  \n",
            "2        why the truth might get you fired october 29, 2016 \\nthe tension between intelligence analysts and political policymakers has always been between honest assessments and desired results, with the latter often overwhelming the former, as in the iraq war, writes lawrence davidson. \\nby lawrence davidson \\nfor those who might wonder why foreign policy makers repeatedly make bad choices, some insight might be drawn from the following analysis. the action here plays out in the united states, but the lessons are probably universal. \\nback in the early spring of 2003, george w. bush initiated the invasion of iraq. one of his key public reasons for doing so was the claim that the country’s dictator, saddam hussein, was on the verge of developing nuclear weapons and was hiding other weapons of mass destruction. the real reason went beyond that charge and included a long-range plan for “regime change” in the middle east. president george w. bush and vice president dick cheney receive an oval office briefing from cia director george tenet. also present is chief of staff andy card (on right). (white house photo) \\nfor our purposes, we will concentrate on the belief that iraq was about to become a hostile nuclear power. why did president bush and his close associates accept this scenario so readily? \\nthe short answer is bush wanted, indeed needed, to believe it as a rationale for invading iraq. at first he had tried to connect saddam hussein to the 9/11 attacks on the u.s. though he never gave up on that stratagem, the lack of evidence made it difficult to rally an american people, already fixated on afghanistan, to support a war against baghdad. \\nbut the nuclear weapons gambit proved more fruitful, not because there was any hard evidence for the charge, but because supposedly reliable witnesses, in the persons of exiled anti-saddam iraqis (many on the u.s. government’s payroll ), kept telling bush and his advisers that the nuclear story was true. \\nwhat we had was a u.s. leadership cadre whose worldview literally demanded a mortally dangerous iraq, and informants who, in order to precipitate the overthrow of saddam, were willing to tell the tale of pending atomic weapons. the strong desire to believe the tale of a nuclear iraq lowered the threshold for proof . likewise, the repeated assertions by assumed dependable iraqi sources underpinned a nationwide u.s. campaign generating both fear and war fever. \\nso the u.s. and its allies insisted that the united nations send in weapons inspectors to scour iraq for evidence of a nuclear weapons program (as well as chemical and biological weapons). that the inspectors could find no convincing evidence only frustrated the bush administration and soon forced its hand. \\non march 19, 2003, bush launched the invasion of iraq with the expectation was that, once in occupation of the country, u.s. inspectors would surely find evidence of those nukes (or at least stockpiles of chemical and biological weapons). they did not. their iraqi informants had systematically lied to them. \\nsocial and behavioral sciences to the rescue? \\nthe various u.s. intelligence agencies were thoroughly shaken by this affair, and today, 13 years later, their directors and managers are still trying to sort it out – specifically, how to tell when they are getting “true” intelligence and when they are being lied to. or, as one intelligence worker has put it, we need “ help to protect us against armies of snake oil salesmen. ” to that end the cia et al. are in the market for academic assistance. ahmed chalabi, head of the iraqi national congress, a key supplier of iraqi defectors with bogus stories of hidden wmd. \\na “partnership” is being forged between the office of the director of national intelligence (odni), which serves as the coordinating center for the sixteen independent u.s. intelligence agencies, and the national academies of sciences, engineering and medicine . the result of this collaboration will be a “ permanent intelligence community studies board” to coordinate programs in “social and behavioral science research [that] might strengthen national security .” \\ndespite this effort, it is almost certain that the “social and behavioral sciences” cannot give the spy agencies what they want – a way of detecting lies that is better than their present standard procedures of polygraph tests and interrogations. but even if they could, it might well make no difference, because the real problem is not to be found with the liars. it is to be found with the believers. \\nthe believers \\nit is simply not true, as the odni leaders seem to assert, that u.s. intelligence agency personnel cannot tell, more often than not, that they are being lied to. this is the case because there are thousands of middle-echelon intelligence workers, desk officers, and specialists who know something closely approaching the truth – that is, they know pretty well what is going on in places like afghanistan, iraq, syria, libya, israel, palestine and elsewhere. director of national intelligence james clapper (right) talks with president barack obama in the oval office, with john brennan and other national security aides present. (photo credit: office of director of national intelligence) \\ntherefore, if someone feeds them “snake oil,” they usually know it. however, having an accurate grasp of things is often to no avail because their superiors – those who got their appointments by accepting a pre-structured worldview – have different criterion for what is “true” than do the analysts. \\nlisten to charles gaukel, of the national intelligence council – yet another organization that acts as a meeting ground for the 16 intelligence agencies. referring to the search for a way to avoid getting taken in by lies, gaukel has declared, “ we’re looking for truth. but we’re particularly looking for truth that works. ” now what might that mean? \\ni can certainly tell you what it means historically. it means that for the power brokers, “truth” must match up, fit with, their worldview – their political and ideological precepts. if it does not fit, it does not “work.” so the intelligence specialists who send their usually accurate assessments up the line to the policy makers often hit a roadblock caused by “group think,” ideological blinkers, and a “we know better” attitude. \\non the other hand, as long as what you’re selling the leadership matches up with what they want to believe, you can peddle them anything: imaginary iraqi nukes, israel as a western-style democracy, saudi arabia as an indispensable ally, libya as a liberated country, bashar al-assad as the real roadblock to peace in syria, the strategic defense initiative (sdi) aka star wars, a world that is getting colder and not warmer, american exceptionalism in all its glory – the list is almost endless. \\nwhat does this sad tale tell us? if you want to spend millions of dollars on social and behavioral science research to improve the assessment and use of intelligence, forget about the liars. what you want to look for is an antidote to the narrow-mindedness of the believers – the policymakers who seem not to be able to rise above the ideological presumptions of their class – presumptions that underpin their self-confidence as they lead us all down slippery slopes. \\nit has happened this way so often, and in so many places, that it is the source of shakespeare’s determination that “what is past, is prelude.” our elites play out our destinies as if they have no free will – no capacity to break with structured ways of seeing. yet the middle-echelon specialists keep sending their relatively accurate assessments up the ladder of power. hope springs eternal.\n",
            "3        videos 15 civilians killed in single us airstrike have been identified the rate at which civilians are being killed by american airstrikes in afghanistan is now higher than it was in 2014 when the us was engaged in active combat operations.   photo of hellfire missiles being loaded onto a us military reaper drone in afghanistan by staff sgt. brian ferguson/u.s. air force. \\nthe bureau has been able to identify 15 civilians killed in a single us drone strike in afghanistan last month – the biggest loss of civilian life in one strike since the attack on the medecins sans frontieres hospital (msf) last october. \\nthe us claimed it had conducted a “counter-terrorism” strike against islamic state (is) fighters when it hit nangarhar province with missiles on september 28. but the next day the united nations issued an unusually rapid and strong statement saying the strike had killed 15 civilians and injured 13 others who had gathered at a house to celebrate a tribal elder’s return from a pilgrimage to mecca. \\nthe bureau spoke to a man named haji rais who said he was the owner of the house that was targeted. he said 15 people were killed and 19 others injured, and provided their names (listed below). the bureau was able to independently verify the identities of those who died. \\nrais’ son, a headmaster at a local school, was among them. another man, abdul hakim, lost three of his sons in the attack. \\nrais said he had no involvement with is and denied us claims that is members had visited his house before the strike. he said: “i did not even speak to those sort of people on the phone let alone receiving them in my house.” \\nthe deaths amount to the biggest confirmed loss of civilian life in a single american strike in afghanistan since the attack on the msf hospital in kunduz last october, which killed at least 42 people. \\nthe nangarhar strike was not the only us attack to kill civilians in september. the bureau’s data indicates that as many as 45 civilians and allied soldiers were killed in four american strikes in afghanistan and somalia that month. \\non september 18 a pair of strikes killed eight afghan policemen in tarinkot, the capital of urozgan provice. us jets reportedly hit a police checkpoint, killing one officer, before returning to target first responders. the use of this tactic – known as a “double-tap” strike – is controversial because they often hit civilian rescuers. \\nthe us told the bureau it had conducted the strike against individuals firing on and posing a threat to afghan forces. the email did not directly address the allegations of afghan policemen being killed. \\nat the end of the month in somalia, citizens burnt us flags on the streets of the north-central city of galcayo after it emerged a drone attack may have unintentionally killed 22 somali soldiers and civilians. the strike occurred on the same day as the one in nangarhar. \\nin both the somali and afghan incidents, the us at first denied that any non-combatants had been killed. it is now investigating both the strikes in nangarhar and galcayo. \\nthe rate at which civilians are being killed by american airstrikes in afghanistan is now higher than it was in 2014 when the us was engaged in active combat operations. name                                                                                                                                                                                                                                                                                                                                                                                                                                                                                                                                                                                                                                                                                                                                                                                                                                                                                                                                                                                                                                                                                                                                                                                                                                                                                                                                                                                                                                                                                                                                                                                                                                                                                                                                                                                                                                                                                                                                                                                                                                                                                                                                                                                                                                                                                                                                                                                                                                                                                                                                                                                                                                                                                                                                                                                                                                                                                                                                                                                                                                                                                                                                                                                                                                                                                                                                                                                                                                                                                                                                                                                                                                                                                                                                                                                                                                                                                                                                                                                                                                                                                                                                                                                                                                                                                                                                                                                                                                                                                                                                                                                                                                                 \n",
            "4        print \\nan iranian woman has been sentenced to six years in prison after iran’s revolutionary guard searched her home and found a notebook that contained a fictional story she’d written about a woman who was stoned to death, according to the eurasia review . \\ngolrokh ebrahimi iraee, 35, is the wife of political prisoner arash sadeghi, 36, who is serving a 19-year prison sentence for being a human rights activist, the publication reported. \\n“when the intelligence unit of the revolutionary guards came to arrest her husband, they raided their apartment – without a warrant – and found drafts of stories that ebrahimi iraee had written,” the article stated. \\n“one of the confiscated drafts was a story about stoning women to death for adultery – never published, never presented to anyone,” the article stated. “the narrative followed the story of a protagonist that watched a movie about stoning of women under islamic law for adultery.                                                                                                                                                                                                                                                                                                                                                                                                                                                                                                                                                                                                                                                                                                                                                                                                                                                                                                                                                                                                                                                                                                                                                                                                                                                                                                                                                                                                                                                                                                                                                                                                                                                                                                                                                                                                                                                                                                                                                                                                                                                                                                                                                                                                                                                                                                                                                                                                                                                                                                                                                                                                                                                                                                                                                                                                                                                                                                                                                                                                                                                                                                                                                                                                                                                                                                                                                                                                                                                                                                                                                                                                                                                                                                                                                                                                                                                                                                                                                                                                                                                                                                                                                                                                                                                                                                                                                                                                                                                                                                                                                                                                                                                                                                                                                                                                                                                                                                                                                                                                                                                                                                                                                                                                                                                                                                                                                                                                                                                                                                                                                                                                                                                                                                                                                                                                                                                                                                                                                                                                                                                                                                                                                                                                                                                                                                                                                                                                                                                                                                                                                                                                                                                                                                                                                                                                                                                                                                                                                                                                                                                    \n",
            "                                                                                                                                                                                                                                                                                                                                                                                                                                                                                              ...                                                                                                                                                                                                                                                                                                                                                                                                                                                                                                                                                                                                                                                                                                                                                                                                                                                                                                                                                                                                                                                                                                                                                                                                                                                                                                                                                                                                                                                                                                                                                                                                                                                                                                                                                                                                                                                                                                                                                                                                                                                                                                                                                                                                                                                                                                                                                                                                                                                                                                                                                                                                                                                                                                                                                                                                                                                                                                                                                                                                                                                                                                                                                                                                                                                                                                                                                                                                                                                                                                                                                                                                                                                                                                                                                                                                                                                                                                                                                                                                                                                                                                                                                                                                                                                                                                                                                                                                                                                                                                                                                                                                                                                                                                                                                                                                                                                                                                                                                                                                                                                                                                                                                                                                                                                                                                                                                                                                                                                                                                                                                                                                                                                                                                                                                                                                                                                                                                                                                                                                                                                                                                                                                                                                                                                                                                                                                                                                                                                                                                                                                                                                                                                                                                                                                                                                                                                                                                                                                                                                                                                                                                                                                                                                                                                                                                                                                                                                                                                                                                                                          \n",
            "20795    rapper t. i. unloaded on black celebrities who met with donald trump after the election, saying they failed to challenge the president for disrespecting and degrading black voters during the campaign. [the atlanta —  based artist told the   of the view thursday that he took issue with talk show host steve harvey,   kanye west, and football hall of famer and civil rights champion jim brown meeting with trump.  “before you stand and smile and say this is a good man and take pictures, what about addressing the disrespect and disregard for our community that was done?” t. i. said, adding “and what about him being the poster child for white supremacy and standing for the people who look to devalue our lives?” the   star of the vh1 reality show t. i.  tiny: the family hustle also defended fellow rapper snoop dogg, who recently starred in a   music video that sees the “doggystyle” rapper pull a gun on and “shoot” a parody clown version of president donald trump. “whatever snoop said, he had the right to say. he’s protected by the constitution in saying it,” t. i. said. “we have to protect our legends. we have to protect our heroes and the people who mean something to us and our community and our culture. ” the view   sunny hostin suggested that trump advisor omarosa manigault has stated the administration’s intention to “bridge the gap” between the white house and the black community, to which t. i. responded with a personal insult. “she can’t even bridge the gap in her teeth,” the rapper said. t. i. had originally defended snoop dogg and his controversial video in an instagram message, calling trump a “f*cking tangerine tanned muskrat scrotum skin, lacefront possum fur wig wearing, alternative fact, atomic dog diarrhea face ass man [sic]. ”   follow jerome hudson on twitter: @jeromeehudson                                                                                                                                                                                                                                                                                                                                                                                                                                                                                                                                                                                                                                                                                                                                                                                                                                                                                                                                                                                                                                                                                                                                                                                                                                                                                                                                                                                                                                                                                                                                                                                                                                                                                                                                                                                                                                                                                                                                                                                                                                                                                                                                                                                                                                                                                                                                                                                                                                                                                                                                                                                                                                                                                                                                                                                                                                                                                                                                                                                                                                                                                                                                                                                                                                                                                                                                                                                                                                                                                                                                                                                                                                                                                                                                                                                                                                                                                                                                                                                                                                                                                                                                                                                                                                                                                                                                                                                                                                                                                                                                                                                                                                                                                                                                                                                                                                                                                                                                                                                                                                                                                                                                                                                                                                                                                                                                                                                                                                                                                                                                                                                                                                                                                                                                                                                                                                                                                                                                                                                                                                                                                                                                            \n",
            "20796    when the green bay packers lost to the washington redskins in week 11, dropping to   aaron rodgers vowed to “run the table” in a march to the playoffs. with a   victory over the detroit lions on sunday night, the team fulfilled rodgers’ promise. much of the drama of the matchup between division rivals was eliminated earlier in the day when the redskins lost to the giants, thus guaranteeing both the packers and lions would be playoff teams, but the n. f. c. north bragging rights, and a home game in the first round of the playoffs, were sufficient motivation for green bay to push hard enough to secure the team’s sixth consecutive win and the third consecutive loss for detroit. pundits had spent the week deciphering all of the wild scenarios that could play out for positioning among the remaining teams. but when all was said and done, ten of the teams that were in line for a playoff spot remained in the same seeding order. no. 6 detroit lions at no. 3 seattle seahawks time: 8:15 p. m. eastern saturday on nbc the seahawks’ title hopes took a crushing blow when earl thomas was lost for the season with a broken leg. after the injury, the seahawks went   with the wins coming with major asterisks as they came against the   rams and 49ers. that collapse paled in comparison to the lions, who lost their final three games, blowing what had been a large division lead against green bay. line: seahawks   ( : 43) no. 5 giants at no. 4 green bay packers time: 4:40 p. m. eastern sunday on fox thanks to playing in the n. f. c. east, home of the   dallas cowboys, the giants managed to tie atlanta for the   record in the n. f. c. but got stuck with the no. 5 seed in the playoffs and a road game against a   packers squad that won its final six games. the good news for the giants is that superstitious fans will note that the last two times they played the packers on the road in the playoffs, they not only won the games but went on to win the super bowl both times. line: packers   ( : 44. 5) bye weeks: dallas, atlanta no. 5 oakland raiders at no. 4 houston texans time: 4:35 p. m. eastern saturday on espn line: texans   ( : 37) the texans were the least inspiring of the n. f. l. ’s division champions and that was complicated further when tom savage, whom the team had elevated to starting quarterback after the benching of brock osweiler, was forced to leave week 17’s loss to tennessee with a concussion. as bad as that sounds, it may still be enough against a reeling oakland squad that lost derek carr to a broken leg in week 16, matt mcgloin to a shoulder injury in week 17, and fell all the way from the no. 2 seed in the a. f. c. to no. 5. it is unclear at this point if mcgloin or rookie connor cook will start at quarterback against houston. no. 6 miami dolphins at no. 3 pittsburgh steelers time: 1:05 p. m. eastern sunday on cbs the dolphins were a contender when the team’s quarterback, ryan tannehill, was lost in week 14 with injured ligaments in his left knee. thanks to backup quarterback matt moore, and jay ajayi, the team’s   running back, they won two of three games and secured a   berth. but going up against a   offense like pittsburgh is a tough test for miami’s middling defense, even if tannehill’s knee heals enough to allow him to return. line: steelers  .5 ( : 47. 5) bye weeks: new england, kansas city with four teams vying for two n. f. c. playoff spots, all eyes were on the   game on sunday. a redskins victory could have caused movement in the seedings, with the lions and packers playing a     evening matchup. the giants, who had already locked up the no. 5 seed and had nothing to gain, threw a wrench in the redskins’ plans, eliminating their division rivals with a decisive   victory. with the drama essentially taken out of the n. f. c. all of the playoff movement sunday occurred in the a. f. c. where there was a   at the top of the standings in the a. f. c. west. just a week after losing derek carr, the team’s quarterback and a legitimate candidate for most valuable player, to a broken leg, the oakland raiders were crushed   by the denver broncos. that, combined with the kansas city chiefs’   victory over the san diego chargers vaulted the chiefs from a   spot all the way to the no. 2 seed in the a. f. c. which comes with a   bye in the playoffs. the loss for oakland added to the misery of the raiders, who have gone from super bowl contenders last week to a   team that will play on the road in houston next week potentially with a   quarterback under center as carr’s backup, matt mcgloin, injured his shoulder in the loss to the broncos. beyond the switch to the chiefs as the no.   in the a. f. c. it was business as usual for the teams that will get bye weeks in the playoffs. the new england patriots secured the no. 1 spot in the a. f. c. with a win over miami, the dallas cowboys were already guaranteed the no. 1 spot in the n. f. c. before their loss to philadelphia, and the atlanta falcons held onto the no. 2 seed in the n. f. c. with a   win over new orleans. the only remaining chance for a minor   was for the packers, who led their division by virtue of a tiebreaker, to lose to the lions, which would have forced them to play on the road in the   round of the playoffs. but the    aspect of the de facto n. f. c. north championship went away when the redskins lost to the giants, which eliminated the redskins from   contention. while most of the races were straight forward, one of the crazier playoff scenarios that had been discussed before the week was the possibility that the tampa bay buccaneers could find themselves in the playoffs. they simply had to shoot the moon by beating the carolina panthers, having the redskins tie the giants, the packers lose to the lions, and should all of that happen they simply required wins by indianapolis, dallas, tennessee and san francisco to top the packers in strength of schedule. tampa bay took care of their end by beating the panthers early in the day, but they were eliminated officially when dallas lost to philadelphia.                                                                                                                                                                                                                                                                                                                                                                                                                                                                                                                                                                                                                                                                                                                                                                                                                                                                                                                                                                                                                                                                                                                                                                                                                                                                                                                                                                                                                                                                                                                                                                                                                                                                                                                       \n",
            "20797    the macy’s of today grew from the union of several great names in american retailing, including its namesake chain, bloomingdale’s and marshall field’s. but the ambitious owner of saks fifth avenue has broached the idea of taking the union even further, combining with macy’s to create a department store juggernaut at a time when the industry is reeling. hudson’s bay company, the canadian owner of saks, has approached macy’s about a potential takeover, people briefed on the matter who were not authorized to speak publicly said on friday. talks between the two companies are at an early stage and may still fall apart or lead to a partnership of some kind rather than a sale. while it is unclear whether a deal will happen, a combination could lift the fortunes of macy’s, the country’s biggest department store, which has been struggling. investors certainly appeared to see it that way. shares of macy’s rose as much as 12 percent on friday, its biggest intraday gain since aug. 11, according to data from bloomberg. once a retail titan, macy’s has struggled to remain relevant as   and discount retailers have decimated the traditional    business. last month, macy’s announced plans to cut more than 10, 000 jobs and close some of its 880 stores. terry lundgren, its chief executive and the architect of macy’s last big merger, is expected to step down by the end of march. he will be succeeded by the company’s president, jeffrey gennette. since the recession, shoppers have grown accustomed to hunt for bargains and to not pay full price. discount stores and outlet malls have flourished. traditional stores have been compelled to respond by trimming prices, which cuts into their margins. departments stores have been hit especially hard, particularly as shoppers migrate away from malls. what has emerged, analysts say, is a virtual race to the bottom. that has been particularly difficult for macy’s, born of a series of mergers over the past two decades that made it a juggernaut in the industry. a stalwart of the middle tier of retail, the company has neither the advantages of   retailers like hm nor the   stores. in addition, macy’s faces increasingly fierce competition online from sites like amazon and elsewhere. macy’s troubles have drawn the attention of a prominent activist hedge fund, starboard value, which has urged the company to generate cash by selling the real estate beneath its stores. starboard, which held just under 1 percent of macy’s shares as of sept. 30, had previously estimated the value of that land at about $21 billion. on friday, analysts at citigroup estimated that macy’s   holdings could be worth at least $18 billion. macy’s market value, by comparison, was just under $11 billion as of friday morning. macy’s has taken some steps to sell or redevelop stores, and last year, it added an expert on real estate transactions to its board. but the company has largely resisted more ambitious efforts to divest its real estate, including     deals, in which a company sells the underlying land beneath its stores and then rents it back. the company’s suitor, hudson’s bay company, is far smaller  —   its market value was about 1. 9 billion canadian dollars, or $1. 5 billion  —   but is known for its bold steps. hudson’s bay company has assembled a growing empire that includes the hudson’s bay department store chain, lord  taylor and its crown jewel, saks. and the governor and executive chairman of the hudson’s bay company, richard baker, has shown little fear of using debt: in november 2014, the company borrowed nearly $4 billion against the saks flagship in midtown manhattan. he has spoken often of retailers’ need to highlight the value of their real estate. financing a bid for macy’s may be trickier, however, because the it carries about $6. 5 billion in   debt. that may mean that the hudson’s bay company will have to bring in a partner or borrow against more of its real estate holdings. a spokesman for the hudson’s bay company declined to comment on the talks, which were reported earlier by the wall street journal. “we do not comment on rumors and speculation,” a representative for macy’s said. a representative for starboard value did not respond to a request for comment. some analysts said that they saw the merit of a potential combination, particularly given macy’s operational woes and mr. baker’s expertise in wringing money out of real estate. “there is a clear logic, despite disparity in   cap” between macy’s and hudson’s bay company, craig johnson, the president of customer growth partners, a research firm, said in a note. referring to macy’s stock ticker symbol, he added, “the retail market has been changing faster than m has been able to keep up with, whether the flight from the mall or the migration online. ”                                                                                                                                                                                                                                                                                                                                                                                                                                                                                                                                                                                                                                                                                                                                                                                                                                                                                                                                                                                                                                                                                                                                                                                                                                                                                                                                                                                                                                                                                                                                                                                                                                                                                                                                                                                                                                                                                                                                                                                                                                                                                                                                                                                                                                                                                                                                                                                                                                                                                                                                                                                                                                                                                                                                                                                                                                                                                                                                                                                                                                   \n",
            "20798    nato, russia to hold parallel exercises in balkans 11/02/2016 \\npress tv \\nrussia’s military and nato forces are holding parallel military exercises in two neighboring balkan countries. \\nrussian troops will participate in war games in serbia while nato is conducting military drills in montenegro, media reported on monday. \\nrussian forces’ 13-day military exercise in serbia is named “the slavic brotherhood 2016” and begins on wednesday. \\nit will include 150 russian paratroopers, 50 air force staffers, three transport planes and an unspecified number of troops from serbia and belarus, russia’s defense ministry said. \\nthe five-day nato drill in montenegro started on monday and involves responding to floods and chemical attacks. it will involve 680 unarmed personnel from seven nato countries and 10 partner states. \\nin the past both serbia and montenegro were constitutional republics of the socialist federal republic of yugoslavia. \\nboth countries are socialist republics and traditional russian christian orthodox allies. in 2003 this state union was re-formed into serbia and montenegro, and in 2006 the two became independent states. \\nsince their split, the two balkan neighbors seem to have headed in different directions strategically. \\nmontenegro has taken a pro-western stance which has been awarded by nato with an offer to join the northern atlantic alliance. \\nthe nato invitation to montenegro has met strong opposition from russia. \\nmeanwhile, montenegrin officials have accused russia of staging an alleged coup in october to topple its pro-western government because of the nato accession bid. \\nserbia, a nato partner, has held exercises with the western alliance, but not such a large one or with foreign troops and equipment participating on its soil.                                                                                                                                                                                                                                                                                                                                                                                                                                                                                                                                                                                                                                                                                                                                                                                                                                                                                                                                                                                                                                                                                                                                                                                                                                                                                                                                                                                                                                                                                                                                                                                                                                                                                                                                                                                                                                                                                                                                                                                                                                                                                                                                                                                                                                                                                                                                                                                                                                                                                                                                                                                                                                                                                                                                                                                                                                                                                                                                                                                                                                                                                                                                                                                                                                                                                                                                                                                                                                                                                                                                                                                                                                                                                                                                                                                                                                                                                                                                                                                                                                                                                                                                                                                                                                                                                                                                                                                                                                                                                                                                                                                                                                                                                                                                                                                                                                                                                                                                                                                                                                                                                                                                                                                                                                                                                                                                                                                                                                                                                                                                                                                                                                                                                                                                                                                                                                                                                                                                                                                                                                                                                                                                                                        \n",
            "20799      david swanson is an author, activist, journalist, and radio host. he is a 2015 nobel peace prize nominee. he is director of worldbeyondwar.com and campaign coordinator for rootsaction.org . he hosts talk nation radio . talk nation radio is on vt radio and is syndicated by pacifica network. the show also airs on wtju, charlottesville, va; wcsx-detroit, mi; kghi, westport, wa; whus, storrs, ct; wprr, grand rapids, mi; krfp-lp, moscow, id; kzgm, cabool, mo; kmud, garberville, ca; wazu, peoria, il; wxrd, crown point, in; geneva radio, geneva, ny; kkrn, round mountain, ca; kskq-lp, ashland, or; wuow-lp, oneonta, ny; no lies radio, pinole, ca; wyap-lp, clay, wv; the detour, johnson city, tn; wzrd, chicago, il; weft, champaign, il; wxpi, pittsburgh, pa; wdrt, viroqua, wi; veracity now, online; liberty and justice radio, shirley, ma; ithaca community radio, ithaca, ny; wmcb, greenfield, ma; prx.org; kaos 89.3fm, olympia, wa; wusb 90.1 fm, stony brook, ny; wool-fm, bellow falls, vermont; wslr-lp 96.5 in sarasota, florida. he also blogs at davidswanson.org and warisacrime.org and is a prolific author. his latest books are; war is a lie , daybreak: undoing the imperial presidency and forming a more perfect union , and when the world outlawed war swanson holds a master's degree in philosophy from the university of virginia. he has worked as a newspaper reporter and as a communications director, with jobs including press secretary for dennis kucinich's 2004 presidential campaign, media coordinator for the international labor communications association, and three years as communications coordinator for acorn, the association of community organizations for reform now. read his full and complete biography at davidswanson.org and also visit book site at war is crime . what keeps the f-35 alive by david swanson on october 31, 2016 petition to stop f-35 going global \\nby david swanson \\nimagine if a local business in your town invented a brand new tool that was intended to have an almost magical effect thousands of miles away. however, where the tool was kept and used locally became an area unsafe for children. children who got near this tool tended to have increased blood pressure and increased stress hormones, lower reading skills, poorer memories, impaired auditory and speech perception, and impaired academic performance. \\nmost of us would find this situation at least a little concerning, unless the new invention was designed to murder lots of people. then it’d be just fine. \\nnow, imagine if this same new tool ruined neighborhoods because people couldn’t safely live near it. imagine if the government had to compensate people but kick them out of living near the location of this tool. again, i think, we might find that troubling if mass murder were not the mission. \\nimagine also that this tool fairly frequently explodes, emitting highly toxic chemicals, particles, and fibers unsafe to breathe into the air for miles around. normally, that’d be a problem. but if this tool is needed for killing lots of people, we’ll work with its flaws, won’t we? \\nnow, what if this new gadget was expected to cost at least $1,400,000,000,000 over 50 years? and what if that money had to be taken away from numerous other expenses more beneficial for the economy and the world? what if the $1.4 trillion was drained out of the economy causing a loss of jobs and a radical diminuition of resources for education, healthcare, housing, environmental protection, or humanitarian aid? wouldn’t that be a worry in some cases, i mean in those cases where the ability to kill tons of human beings wasn’t at stake? \\nwhat if this product, even when working perfectly, was a leading destroyer of the earth’s natural environment? \\nwhat if this high-tech toy wasn’t even designed to do what was expected of it and wasn’t even able to do what it was designed for? \\namazingly, even those shortcomings do not matter as long as the intention is massive murder and destruction. then, all is forgiven. \\nthe tool i’m describing is called the f-35. at rootsaction.org you can find a new petition launched by locally-minded people acting globally in places where the f-35 is intended to be based. also at that link you’ll find explanations of how the tool i’ve been decribing is the f-35. \\nthe petition is directed to the united states congress and the governments of australia, italy, the netherlands, norway, turkey, the united kingdom, israel, japan and south korea from the world and from the people of burlington, vermont, and fairbanks, alaska, where the f-35 is to be based. this effort is being initiated by vermont stop the f35 coalition, save our skies vermont, western maine matters, alaska peace center, university of alaska fairbanks peace club, north star chapter 146 veterans for peace, world beyond war, rootsaction.org, code pink, and ben cohen. \\nthe petition reads: \\nthe f-35 is a weapon of offensive war, serving no defensive purpose. it is planned to cost the u.s. $1.4 trillion over 50 years. because starvation on earth could be ended for $30 billion and the lack of clean drinking water for $11 billion per year, it is first and foremost through the wasting of resources that this airplane will kill. military spending, contrary to popular misconception, also hurts the u.s. economy ( see here ) and other economies. the f-35 causes negative health impacts and cognitive impairment in children living near its bases. it renders housing near airports unsuitable for residential use. it has a high crash rate and horrible consequences to those living in the area of its crashes. its emissions are a major environmental polluter. \\nwars are endangering the united states and other participating nations rather than protecting them. nonviolent tools of law, diplomacy, aid, crisis prevention, and verifiable nuclear disarmament should be substituted for continuing counterproductive wars. therefore, we, the undersigned, call for the immediate cancellation of the f-35 program as a whole, and the immediate cancellation of plans to base any such dangerous and noisy jets near populated areas. we oppose replacing the f-35 with any other weapon or basing the f-35 in any other locations. we further demand redirection of the money for the f-35 back into taxpayers’ pockets, and into environmental and human needs in the u.s., other f-35 customer nations, and around the world, including to fight climate change, pay off student debt, rebuild crumbling infrastructure, and improve education, healthcare, and housing. \\nadd your name . \\ndavid swanson is an author, activist, journalist, and radio host. he is director of worldbeyondwar.org and campaign coordinator for rootsaction.org . swanson’s books include war is a lie . he blogs at davidswanson.org and warisacrime.org . he hosts talk nation radio .he is a 2015 and 2016 nobel peace prize nominee. \\nfollow him on twitter: @davidcnswanson and facebook . \\nhelp support davidswanson.org, warisacrime.org, and talknationradio.org by clicking here: http://davidswanson.org/donate .                                                                                                                                                                                                                                                                                                                                                                                                                                                                                                                                                                                                                                                                             \n",
            "Name: text, Length: 20800, dtype: object\n"
          ],
          "name": "stdout"
        }
      ]
    },
    {
      "cell_type": "markdown",
      "metadata": {
        "id": "A89LFGrI9uNz"
      },
      "source": [
        "## Encoding"
      ]
    },
    {
      "cell_type": "code",
      "metadata": {
        "id": "gz-pTS0s7tic"
      },
      "source": [
        "from sklearn.model_selection import train_test_split\n",
        "\n",
        "def split_dataset(text, labels):\n",
        "  X_train, X_test, Y_train, Y_test = train_test_split(text, labels, test_size = 0.1)\n",
        "  return X_train, Y_train, X_test, Y_test"
      ],
      "execution_count": null,
      "outputs": []
    },
    {
      "cell_type": "code",
      "metadata": {
        "id": "WYBZUA1w7w77"
      },
      "source": [
        "X, Y, X_test, Y_test = split_dataset(news, labels)"
      ],
      "execution_count": null,
      "outputs": []
    },
    {
      "cell_type": "markdown",
      "metadata": {
        "id": "iNI1sgyZiTyh"
      },
      "source": [
        "### Tfidf"
      ]
    },
    {
      "cell_type": "code",
      "metadata": {
        "id": "4PY1OJ9xiwBG"
      },
      "source": [
        "from sklearn.feature_extraction.text import TfidfVectorizer\n",
        "\n",
        "vectorizer = TfidfVectorizer(min_df = 5,\n",
        "                             max_df = 0.8,\n",
        "                             sublinear_tf = True,\n",
        "                             use_idf = True)"
      ],
      "execution_count": null,
      "outputs": []
    },
    {
      "cell_type": "code",
      "metadata": {
        "id": "hccZt-fDFHiZ"
      },
      "source": [
        "X = vectorizer.fit_transform(X)\r\n",
        "X_test = vectorizer.transform(X_test)"
      ],
      "execution_count": null,
      "outputs": []
    },
    {
      "cell_type": "markdown",
      "metadata": {
        "id": "_FXRsvMCzuI_"
      },
      "source": [
        "### Bag of words"
      ]
    },
    {
      "cell_type": "code",
      "metadata": {
        "id": "aStiaDcezwCI"
      },
      "source": [
        "from sklearn.feature_extraction.text import CountVectorizer\n",
        "count_vect = CountVectorizer()"
      ],
      "execution_count": null,
      "outputs": []
    },
    {
      "cell_type": "code",
      "metadata": {
        "id": "uw9nbtxU0IGc"
      },
      "source": [
        "X = count_vect.fit_transform(X)\n",
        "X_test = count_vect.transform(X_test)"
      ],
      "execution_count": null,
      "outputs": []
    },
    {
      "cell_type": "markdown",
      "metadata": {
        "id": "RMmlQumv94Iy"
      },
      "source": [
        "## Models"
      ]
    },
    {
      "cell_type": "markdown",
      "metadata": {
        "id": "kW6h_rgQC7cJ"
      },
      "source": [
        "### Classical approaches"
      ]
    },
    {
      "cell_type": "markdown",
      "metadata": {
        "id": "LSgstL1O96l9"
      },
      "source": [
        "#### SVM"
      ]
    },
    {
      "cell_type": "code",
      "metadata": {
        "colab": {
          "base_uri": "https://localhost:8080/"
        },
        "id": "mMAumbSIkSSG",
        "outputId": "1b6618a7-3e52-404a-f37b-c2bfef51447d"
      },
      "source": [
        "from sklearn import svm\n",
        "\n",
        "classifier = svm.SVC(kernel = 'linear')\n",
        "classifier.fit(X, Y)"
      ],
      "execution_count": null,
      "outputs": [
        {
          "output_type": "execute_result",
          "data": {
            "text/plain": [
              "SVC(C=1.0, break_ties=False, cache_size=200, class_weight=None, coef0=0.0,\n",
              "    decision_function_shape='ovr', degree=3, gamma='scale', kernel='linear',\n",
              "    max_iter=-1, probability=False, random_state=None, shrinking=True,\n",
              "    tol=0.001, verbose=False)"
            ]
          },
          "metadata": {
            "tags": []
          },
          "execution_count": 157
        }
      ]
    },
    {
      "cell_type": "markdown",
      "metadata": {
        "id": "z6F-QkAQkYQC"
      },
      "source": [
        "Get accuracy on the test dataset"
      ]
    },
    {
      "cell_type": "code",
      "metadata": {
        "colab": {
          "base_uri": "https://localhost:8080/"
        },
        "id": "Zd47P0MhkYlv",
        "outputId": "9084a0b5-5e8e-4d41-d367-df0a409f7285"
      },
      "source": [
        "from sklearn.metrics import accuracy_score\n",
        "\n",
        "prediction = classifier.predict(X_test)\n",
        "print(accuracy_score(Y_test, prediction))"
      ],
      "execution_count": null,
      "outputs": [
        {
          "output_type": "stream",
          "text": [
            "0.9552884615384616\n"
          ],
          "name": "stdout"
        }
      ]
    },
    {
      "cell_type": "markdown",
      "metadata": {
        "id": "KsbVJTStsWAX"
      },
      "source": [
        "TFIDF:\n",
        "\n",
        "With stop words removal -> 0.9783653846153846\n",
        "\n",
        "Without stop words removal -> 0.9697115384615385\n",
        "\n",
        "Stemming without stopwords removal -> 0.9591346153846154\n",
        "\n",
        "Stemming with stopwords removal -> 0.9552884615384616\n",
        "\n",
        "BOW:\n",
        "\n",
        "With stopwords removal -> 0.9442307692307692\n",
        "\n",
        "Without stopwords removal -> 0.9552884615384616\n",
        "\n",
        "Stemming without stopwords removal -> 0.9298076923076923\n",
        "\n",
        "Stemming with stopwords removal -> 0.9278846153846154"
      ]
    },
    {
      "cell_type": "markdown",
      "metadata": {
        "id": "HV88G4KXWlid"
      },
      "source": [
        "#### NB"
      ]
    },
    {
      "cell_type": "code",
      "metadata": {
        "id": "R_gP5pgFWoFW"
      },
      "source": [
        "from sklearn.naive_bayes import MultinomialNB\r\n",
        "classifier = MultinomialNB().fit(X, Y)"
      ],
      "execution_count": null,
      "outputs": []
    },
    {
      "cell_type": "code",
      "metadata": {
        "colab": {
          "base_uri": "https://localhost:8080/"
        },
        "id": "Rtb7bPASWu1M",
        "outputId": "c2bf532a-8593-4066-8d7d-43aef693a059"
      },
      "source": [
        "from sklearn.metrics import accuracy_score\r\n",
        "\r\n",
        "prediction = classifier.predict(X_test)\r\n",
        "print(accuracy_score(Y_test, prediction))"
      ],
      "execution_count": null,
      "outputs": [
        {
          "output_type": "stream",
          "text": [
            "0.9149038461538461\n"
          ],
          "name": "stdout"
        }
      ]
    },
    {
      "cell_type": "markdown",
      "metadata": {
        "id": "FVqRigO-I8Bu"
      },
      "source": [
        "TFIDF:\n",
        "\n",
        "With stop words removal -> 0.9038461538461539\n",
        "\n",
        "Without stop words removal -> 0.9115384615384615\n",
        "\n",
        "Stemming without stopwords removal -> 0.8971153846153846\n",
        "\n",
        "Stemming with stopwords removal -> 0.8836538461538461\n",
        "\n",
        "BOW:\n",
        "\n",
        "With stopwords removal -> 0.8990384615384616\n",
        "\n",
        "Without stopwords removal -> 0.9149038461538461\n",
        "\n",
        "Stemming without stopwords removal -> 0.8682692307692308\n",
        "\n",
        "Stemming with stopwords removal -> 0.8778846153846154"
      ]
    },
    {
      "cell_type": "markdown",
      "metadata": {
        "id": "Y9TlD1BwYh2j"
      },
      "source": [
        "#### Logistic Regression"
      ]
    },
    {
      "cell_type": "code",
      "metadata": {
        "colab": {
          "base_uri": "https://localhost:8080/"
        },
        "id": "whbMXffgYj92",
        "outputId": "89eea8eb-92ee-4b69-e441-dcb582f6c827"
      },
      "source": [
        "from sklearn.linear_model import LogisticRegression\r\n",
        "LR = LogisticRegression()\r\n",
        "LR.fit(X, Y)"
      ],
      "execution_count": null,
      "outputs": [
        {
          "output_type": "stream",
          "text": [
            "/usr/local/lib/python3.6/dist-packages/sklearn/linear_model/_logistic.py:940: ConvergenceWarning: lbfgs failed to converge (status=1):\n",
            "STOP: TOTAL NO. of ITERATIONS REACHED LIMIT.\n",
            "\n",
            "Increase the number of iterations (max_iter) or scale the data as shown in:\n",
            "    https://scikit-learn.org/stable/modules/preprocessing.html\n",
            "Please also refer to the documentation for alternative solver options:\n",
            "    https://scikit-learn.org/stable/modules/linear_model.html#logistic-regression\n",
            "  extra_warning_msg=_LOGISTIC_SOLVER_CONVERGENCE_MSG)\n"
          ],
          "name": "stderr"
        },
        {
          "output_type": "execute_result",
          "data": {
            "text/plain": [
              "LogisticRegression(C=1.0, class_weight=None, dual=False, fit_intercept=True,\n",
              "                   intercept_scaling=1, l1_ratio=None, max_iter=100,\n",
              "                   multi_class='auto', n_jobs=None, penalty='l2',\n",
              "                   random_state=None, solver='lbfgs', tol=0.0001, verbose=0,\n",
              "                   warm_start=False)"
            ]
          },
          "metadata": {
            "tags": []
          },
          "execution_count": 161
        }
      ]
    },
    {
      "cell_type": "code",
      "metadata": {
        "colab": {
          "base_uri": "https://localhost:8080/"
        },
        "id": "s74YS8ymYl6o",
        "outputId": "4bd725af-c539-4c1f-94d0-6601340eb6b5"
      },
      "source": [
        "print(LR.score(X_test, Y_test))"
      ],
      "execution_count": null,
      "outputs": [
        {
          "output_type": "stream",
          "text": [
            "0.9644230769230769\n"
          ],
          "name": "stdout"
        }
      ]
    },
    {
      "cell_type": "markdown",
      "metadata": {
        "id": "tF8IK6CzJG5k"
      },
      "source": [
        "TFIDF:\n",
        "\n",
        "With stop words removal -> 0.9634615384615385\n",
        "\n",
        "Without stop words removal -> 0.9533653846153847\n",
        "\n",
        "Stemming without stopwords removal -> 0.9418269230769231\n",
        "\n",
        "Stemming with stopwords removal -> 0.948076923076923\n",
        "\n",
        "BOW:\n",
        "\n",
        "With stopwords removal -> 0.9615384615384616\n",
        "\n",
        "Without stopwords removal -> 0.9644230769230769\n",
        "\n",
        "Stemming without stopwords removal -> 0.9394230769230769\n",
        "\n",
        "Stemming with stopwords removal -> 0.94375"
      ]
    },
    {
      "cell_type": "markdown",
      "metadata": {
        "id": "egei5e5p-CzI"
      },
      "source": [
        "### Deep learning"
      ]
    },
    {
      "cell_type": "markdown",
      "metadata": {
        "id": "SZ7Hjdg2DArf"
      },
      "source": [
        "#### BERT"
      ]
    },
    {
      "cell_type": "code",
      "metadata": {
        "id": "Ha4vcGkOGoaW"
      },
      "source": [
        "X_train, Y_train, X_validation, Y_validation = split_dataset(X, Y)"
      ],
      "execution_count": null,
      "outputs": []
    },
    {
      "cell_type": "code",
      "metadata": {
        "colab": {
          "base_uri": "https://localhost:8080/"
        },
        "id": "CS-pc73EbQ8t",
        "outputId": "a5812201-acdd-4fd7-d32f-f259434abbcb"
      },
      "source": [
        "!pip install transformers"
      ],
      "execution_count": null,
      "outputs": [
        {
          "output_type": "stream",
          "text": [
            "Requirement already satisfied: transformers in /usr/local/lib/python3.6/dist-packages (4.2.2)\n",
            "Requirement already satisfied: importlib-metadata; python_version < \"3.8\" in /usr/local/lib/python3.6/dist-packages (from transformers) (3.4.0)\n",
            "Requirement already satisfied: numpy in /usr/local/lib/python3.6/dist-packages (from transformers) (1.19.5)\n",
            "Requirement already satisfied: tqdm>=4.27 in /usr/local/lib/python3.6/dist-packages (from transformers) (4.41.1)\n",
            "Requirement already satisfied: filelock in /usr/local/lib/python3.6/dist-packages (from transformers) (3.0.12)\n",
            "Requirement already satisfied: sacremoses in /usr/local/lib/python3.6/dist-packages (from transformers) (0.0.43)\n",
            "Requirement already satisfied: regex!=2019.12.17 in /usr/local/lib/python3.6/dist-packages (from transformers) (2019.12.20)\n",
            "Requirement already satisfied: packaging in /usr/local/lib/python3.6/dist-packages (from transformers) (20.9)\n",
            "Requirement already satisfied: requests in /usr/local/lib/python3.6/dist-packages (from transformers) (2.23.0)\n",
            "Requirement already satisfied: tokenizers==0.9.4 in /usr/local/lib/python3.6/dist-packages (from transformers) (0.9.4)\n",
            "Requirement already satisfied: dataclasses; python_version < \"3.7\" in /usr/local/lib/python3.6/dist-packages (from transformers) (0.8)\n",
            "Requirement already satisfied: typing-extensions>=3.6.4; python_version < \"3.8\" in /usr/local/lib/python3.6/dist-packages (from importlib-metadata; python_version < \"3.8\"->transformers) (3.7.4.3)\n",
            "Requirement already satisfied: zipp>=0.5 in /usr/local/lib/python3.6/dist-packages (from importlib-metadata; python_version < \"3.8\"->transformers) (3.4.0)\n",
            "Requirement already satisfied: six in /usr/local/lib/python3.6/dist-packages (from sacremoses->transformers) (1.15.0)\n",
            "Requirement already satisfied: joblib in /usr/local/lib/python3.6/dist-packages (from sacremoses->transformers) (1.0.0)\n",
            "Requirement already satisfied: click in /usr/local/lib/python3.6/dist-packages (from sacremoses->transformers) (7.1.2)\n",
            "Requirement already satisfied: pyparsing>=2.0.2 in /usr/local/lib/python3.6/dist-packages (from packaging->transformers) (2.4.7)\n",
            "Requirement already satisfied: certifi>=2017.4.17 in /usr/local/lib/python3.6/dist-packages (from requests->transformers) (2020.12.5)\n",
            "Requirement already satisfied: chardet<4,>=3.0.2 in /usr/local/lib/python3.6/dist-packages (from requests->transformers) (3.0.4)\n",
            "Requirement already satisfied: idna<3,>=2.5 in /usr/local/lib/python3.6/dist-packages (from requests->transformers) (2.10)\n",
            "Requirement already satisfied: urllib3!=1.25.0,!=1.25.1,<1.26,>=1.21.1 in /usr/local/lib/python3.6/dist-packages (from requests->transformers) (1.24.3)\n"
          ],
          "name": "stdout"
        }
      ]
    },
    {
      "cell_type": "code",
      "metadata": {
        "colab": {
          "base_uri": "https://localhost:8080/"
        },
        "id": "Jx5jZ2QbbSTF",
        "outputId": "ad401919-bce1-4a8d-c0bc-4bb157537122"
      },
      "source": [
        "import torch\n",
        "# We will run the model on the GPU\n",
        "\n",
        "device = torch.device('cuda:0' if torch.cuda.is_available() else 'cpu')\n",
        "print(device)"
      ],
      "execution_count": null,
      "outputs": [
        {
          "output_type": "stream",
          "text": [
            "cuda:0\n"
          ],
          "name": "stdout"
        }
      ]
    },
    {
      "cell_type": "code",
      "metadata": {
        "colab": {
          "base_uri": "https://localhost:8080/",
          "height": 66,
          "referenced_widgets": [
            "dc593f9df1094b5698c84fc28e1cb55b",
            "d8e56b40e57649618e1d961fd187c4fc",
            "89031517d19f4efd99adbf4bbb7d3fab",
            "54d75c2fb8854383a9f1a1c758339ce4",
            "406e33402d78454b97f655971fafa941",
            "34308ffac4db4468be73c47807047ab9",
            "ae29286603954a11b16fc9c21aee2586",
            "2ff12178d6e14056b940309052bee180"
          ]
        },
        "id": "_VS63VDRMsxg",
        "outputId": "643a5fc8-323d-40fb-cb48-ac2665b8a15c"
      },
      "source": [
        "from transformers import BertTokenizer\n",
        "\n",
        "# Load the BERT tokenizer\n",
        "tokenizer = BertTokenizer.from_pretrained('bert-base-multilingual-cased', do_lower_case = False)"
      ],
      "execution_count": null,
      "outputs": [
        {
          "output_type": "display_data",
          "data": {
            "application/vnd.jupyter.widget-view+json": {
              "model_id": "dc593f9df1094b5698c84fc28e1cb55b",
              "version_minor": 0,
              "version_major": 2
            },
            "text/plain": [
              "HBox(children=(FloatProgress(value=0.0, description='Downloading', max=995526.0, style=ProgressStyle(descripti…"
            ]
          },
          "metadata": {
            "tags": []
          }
        },
        {
          "output_type": "stream",
          "text": [
            "\n"
          ],
          "name": "stdout"
        }
      ]
    },
    {
      "cell_type": "code",
      "metadata": {
        "id": "7GvBKbk4Muje",
        "colab": {
          "base_uri": "https://localhost:8080/"
        },
        "outputId": "cab3974d-a164-422b-8946-c7fb2f4b0a65"
      },
      "source": [
        "train_input_ids = []\n",
        "train_attention_masks = []\n",
        "\n",
        "for news in X_train:\n",
        "\n",
        "    encoded_dict = tokenizer.encode_plus(\n",
        "                        news,\n",
        "                        add_special_tokens = True, # Add [CLS] and [SEP]\n",
        "                        max_length = 128,          # Pad and truncate to 128 characters\n",
        "                        pad_to_max_length = True,\n",
        "                        return_attention_mask = True,   # Create attention masks so that BERT knows not to look at padding tokens\n",
        "                        return_tensors = 'pt',     # Return pytorch tensors\n",
        "                   )\n",
        "    \n",
        "    # Add the encoded value to the list\n",
        "    train_input_ids.append(encoded_dict['input_ids'])\n",
        "    \n",
        "    # And the attention mask\n",
        "    train_attention_masks.append(encoded_dict['attention_mask'])\n",
        "\n",
        "# Convert the lists into tensors\n",
        "train_input_ids = torch.cat(train_input_ids, dim = 0)\n",
        "train_attention_masks = torch.cat(train_attention_masks, dim = 0)\n",
        "train_labels = torch.tensor(Y_train)"
      ],
      "execution_count": null,
      "outputs": [
        {
          "output_type": "stream",
          "text": [
            "Truncation was not explicitly activated but `max_length` is provided a specific value, please use `truncation=True` to explicitly truncate examples to max length. Defaulting to 'longest_first' truncation strategy. If you encode pairs of sequences (GLUE-style) with the tokenizer you can select this strategy more precisely by providing a specific strategy to `truncation`.\n",
            "/usr/local/lib/python3.6/dist-packages/transformers/tokenization_utils_base.py:2143: FutureWarning: The `pad_to_max_length` argument is deprecated and will be removed in a future version, use `padding=True` or `padding='longest'` to pad to the longest sequence in the batch, or use `padding='max_length'` to pad to a max length. In this case, you can give a specific length with `max_length` (e.g. `max_length=45`) or leave max_length to None to pad to the maximal input size of the model (e.g. 512 for Bert).\n",
            "  FutureWarning,\n"
          ],
          "name": "stderr"
        }
      ]
    },
    {
      "cell_type": "code",
      "metadata": {
        "id": "ybSyQ-QnPGD1",
        "colab": {
          "base_uri": "https://localhost:8080/"
        },
        "outputId": "924483fd-c3b4-433b-d158-c1ea61c0a274"
      },
      "source": [
        "validation_input_ids = []\n",
        "validation_attention_masks = []\n",
        "\n",
        "for news in X_validation:\n",
        "\n",
        "    encoded_dict = tokenizer.encode_plus(\n",
        "                        news,\n",
        "                        add_special_tokens = True, # Add [CLS] and [SEP]\n",
        "                        max_length = 128,          # Pad and truncate to 128 characters\n",
        "                        pad_to_max_length = True,\n",
        "                        return_attention_mask = True,   # Create attention masks so that BERT knows not to look at padding tokens\n",
        "                        return_tensors = 'pt',     # Return pytorch tensors\n",
        "                   )\n",
        "    \n",
        "    # Add the encoded value to the list\n",
        "    validation_input_ids.append(encoded_dict['input_ids'])\n",
        "    \n",
        "    # And the attention mask\n",
        "    validation_attention_masks.append(encoded_dict['attention_mask'])\n",
        "\n",
        "# Convert the lists into tensors\n",
        "validation_input_ids = torch.cat(validation_input_ids, dim = 0)\n",
        "validation_attention_masks = torch.cat(validation_attention_masks, dim = 0)\n",
        "validation_labels = torch.tensor(Y_validation)"
      ],
      "execution_count": null,
      "outputs": [
        {
          "output_type": "stream",
          "text": [
            "/usr/local/lib/python3.6/dist-packages/transformers/tokenization_utils_base.py:2143: FutureWarning: The `pad_to_max_length` argument is deprecated and will be removed in a future version, use `padding=True` or `padding='longest'` to pad to the longest sequence in the batch, or use `padding='max_length'` to pad to a max length. In this case, you can give a specific length with `max_length` (e.g. `max_length=45`) or leave max_length to None to pad to the maximal input size of the model (e.g. 512 for Bert).\n",
            "  FutureWarning,\n"
          ],
          "name": "stderr"
        }
      ]
    },
    {
      "cell_type": "code",
      "metadata": {
        "colab": {
          "base_uri": "https://localhost:8080/"
        },
        "id": "GqyrSmpAlJfT",
        "outputId": "7f24932d-0e2f-4b84-fb0e-67bacad0f74a"
      },
      "source": [
        "test_input_ids = []\n",
        "test_attention_masks = []\n",
        "\n",
        "for news in X_test:\n",
        "\n",
        "    encoded_dict = tokenizer.encode_plus(\n",
        "                        news,\n",
        "                        add_special_tokens = True, # Add [CLS] and [SEP]\n",
        "                        max_length = 128,          # Pad and truncate to 128 characters\n",
        "                        pad_to_max_length = True,\n",
        "                        return_attention_mask = True,   # Create attention masks so that BERT knows not to look at padding tokens\n",
        "                        return_tensors = 'pt',     # Return pytorch tensors\n",
        "                   )\n",
        "    \n",
        "    # Add the encoded value to the list\n",
        "    test_input_ids.append(encoded_dict['input_ids'])\n",
        "    \n",
        "    # And the attention mask\n",
        "    test_attention_masks.append(encoded_dict['attention_mask'])\n",
        "\n",
        "# Convert the lists into tensors\n",
        "test_input_ids = torch.cat(test_input_ids, dim = 0)\n",
        "test_attention_masks = torch.cat(test_attention_masks, dim = 0)\n",
        "test_labels = torch.tensor(Y_test)"
      ],
      "execution_count": null,
      "outputs": [
        {
          "output_type": "stream",
          "text": [
            "/usr/local/lib/python3.6/dist-packages/transformers/tokenization_utils_base.py:2143: FutureWarning: The `pad_to_max_length` argument is deprecated and will be removed in a future version, use `padding=True` or `padding='longest'` to pad to the longest sequence in the batch, or use `padding='max_length'` to pad to a max length. In this case, you can give a specific length with `max_length` (e.g. `max_length=45`) or leave max_length to None to pad to the maximal input size of the model (e.g. 512 for Bert).\n",
            "  FutureWarning,\n"
          ],
          "name": "stderr"
        }
      ]
    },
    {
      "cell_type": "code",
      "metadata": {
        "id": "CoRzq0zoOXpL"
      },
      "source": [
        "from torch.utils.data import TensorDataset\n",
        "\n",
        "# Create a tensor dataset out of the ids, attention masks and labels\n",
        "train_dataset = TensorDataset(train_input_ids, train_attention_masks, train_labels)\n",
        "validation_dataset = TensorDataset(validation_input_ids, validation_attention_masks, validation_labels)\n",
        "test_dataset = TensorDataset(test_input_ids, test_attention_masks, test_labels)"
      ],
      "execution_count": null,
      "outputs": []
    },
    {
      "cell_type": "code",
      "metadata": {
        "id": "HUtkuQrtQh99"
      },
      "source": [
        "from torch.utils.data import DataLoader, RandomSampler, SequentialSampler\n",
        "\n",
        "batch_size = 32\n",
        "\n",
        "# Create dataloaders for the training, validation and testing sets\n",
        "train_dataloader = DataLoader(\n",
        "            train_dataset,\n",
        "            sampler = RandomSampler(train_dataset), # Select batches randomly\n",
        "            batch_size = batch_size\n",
        "        )\n",
        "\n",
        "validation_dataloader = DataLoader(\n",
        "            validation_dataset,\n",
        "            sampler = SequentialSampler(validation_dataset), # The order does not matter here, so we can just read them sequentially\n",
        "            batch_size = batch_size\n",
        "        )\n",
        "test_dataloader = DataLoader(\n",
        "            test_dataset,\n",
        "            sampler = SequentialSampler(test_dataset), # The order does not matter here, so we can just read them sequentially\n",
        "            batch_size = batch_size\n",
        "        )"
      ],
      "execution_count": null,
      "outputs": []
    },
    {
      "cell_type": "code",
      "metadata": {
        "id": "LzSthVyTQkgT",
        "colab": {
          "base_uri": "https://localhost:8080/",
          "height": 1000,
          "referenced_widgets": [
            "e919f44f7e9145e3864f12bbc37388a0",
            "6903f58e42a94723b673e827d81b95e0",
            "bcc0d60593834dd2a9b41ed868dc3115",
            "3a12ac47ada94266b056d38f30ad070b",
            "e7748744d0b0474c8d8144808da3fa92",
            "0aec33061f1f4ced8849c9d479dfcadc",
            "5de9d50097da46e78830f9d38507f1b5",
            "12d6e224dc1a45639d97e0b492dace7d",
            "8ee0748d54534cdb9c05150cac44b48a",
            "a657d5f3167147539a80f86e6270ac11",
            "cc5f660f879b41f0831f6df110f3458d",
            "64192fb794054e8f9de087e896708226",
            "81138b8ec6f145f78320f9ca05ba99b8",
            "f8514a7b3bae401ea3421cc309080e00",
            "3b410ee587b147ceb867b338cc784555",
            "e7e32981b9324069aaad5e030fe42e1c"
          ]
        },
        "outputId": "6e9f2a89-c674-447f-e914-b8ed0b98b944"
      },
      "source": [
        "from transformers import BertForSequenceClassification, AdamW\n",
        " \n",
        "model = BertForSequenceClassification.from_pretrained(\n",
        "    \"bert-base-multilingual-cased\",\n",
        "    output_attentions = False, # Ww do not need the attention weights\n",
        "    output_hidden_states = False, # We do not need to see the hidden states\n",
        ")\n",
        " \n",
        "# Run the model on the GPU\n",
        "model.cuda()"
      ],
      "execution_count": null,
      "outputs": [
        {
          "output_type": "display_data",
          "data": {
            "application/vnd.jupyter.widget-view+json": {
              "model_id": "e919f44f7e9145e3864f12bbc37388a0",
              "version_minor": 0,
              "version_major": 2
            },
            "text/plain": [
              "HBox(children=(FloatProgress(value=0.0, description='Downloading', max=625.0, style=ProgressStyle(description_…"
            ]
          },
          "metadata": {
            "tags": []
          }
        },
        {
          "output_type": "stream",
          "text": [
            "\n"
          ],
          "name": "stdout"
        },
        {
          "output_type": "display_data",
          "data": {
            "application/vnd.jupyter.widget-view+json": {
              "model_id": "8ee0748d54534cdb9c05150cac44b48a",
              "version_minor": 0,
              "version_major": 2
            },
            "text/plain": [
              "HBox(children=(FloatProgress(value=0.0, description='Downloading', max=714314041.0, style=ProgressStyle(descri…"
            ]
          },
          "metadata": {
            "tags": []
          }
        },
        {
          "output_type": "stream",
          "text": [
            "\n"
          ],
          "name": "stdout"
        },
        {
          "output_type": "stream",
          "text": [
            "Some weights of the model checkpoint at bert-base-multilingual-cased were not used when initializing BertForSequenceClassification: ['cls.predictions.bias', 'cls.predictions.transform.dense.weight', 'cls.predictions.transform.dense.bias', 'cls.predictions.decoder.weight', 'cls.seq_relationship.weight', 'cls.seq_relationship.bias', 'cls.predictions.transform.LayerNorm.weight', 'cls.predictions.transform.LayerNorm.bias']\n",
            "- This IS expected if you are initializing BertForSequenceClassification from the checkpoint of a model trained on another task or with another architecture (e.g. initializing a BertForSequenceClassification model from a BertForPreTraining model).\n",
            "- This IS NOT expected if you are initializing BertForSequenceClassification from the checkpoint of a model that you expect to be exactly identical (initializing a BertForSequenceClassification model from a BertForSequenceClassification model).\n",
            "Some weights of BertForSequenceClassification were not initialized from the model checkpoint at bert-base-multilingual-cased and are newly initialized: ['classifier.weight', 'classifier.bias']\n",
            "You should probably TRAIN this model on a down-stream task to be able to use it for predictions and inference.\n"
          ],
          "name": "stderr"
        },
        {
          "output_type": "execute_result",
          "data": {
            "text/plain": [
              "BertForSequenceClassification(\n",
              "  (bert): BertModel(\n",
              "    (embeddings): BertEmbeddings(\n",
              "      (word_embeddings): Embedding(119547, 768, padding_idx=0)\n",
              "      (position_embeddings): Embedding(512, 768)\n",
              "      (token_type_embeddings): Embedding(2, 768)\n",
              "      (LayerNorm): LayerNorm((768,), eps=1e-12, elementwise_affine=True)\n",
              "      (dropout): Dropout(p=0.1, inplace=False)\n",
              "    )\n",
              "    (encoder): BertEncoder(\n",
              "      (layer): ModuleList(\n",
              "        (0): BertLayer(\n",
              "          (attention): BertAttention(\n",
              "            (self): BertSelfAttention(\n",
              "              (query): Linear(in_features=768, out_features=768, bias=True)\n",
              "              (key): Linear(in_features=768, out_features=768, bias=True)\n",
              "              (value): Linear(in_features=768, out_features=768, bias=True)\n",
              "              (dropout): Dropout(p=0.1, inplace=False)\n",
              "            )\n",
              "            (output): BertSelfOutput(\n",
              "              (dense): Linear(in_features=768, out_features=768, bias=True)\n",
              "              (LayerNorm): LayerNorm((768,), eps=1e-12, elementwise_affine=True)\n",
              "              (dropout): Dropout(p=0.1, inplace=False)\n",
              "            )\n",
              "          )\n",
              "          (intermediate): BertIntermediate(\n",
              "            (dense): Linear(in_features=768, out_features=3072, bias=True)\n",
              "          )\n",
              "          (output): BertOutput(\n",
              "            (dense): Linear(in_features=3072, out_features=768, bias=True)\n",
              "            (LayerNorm): LayerNorm((768,), eps=1e-12, elementwise_affine=True)\n",
              "            (dropout): Dropout(p=0.1, inplace=False)\n",
              "          )\n",
              "        )\n",
              "        (1): BertLayer(\n",
              "          (attention): BertAttention(\n",
              "            (self): BertSelfAttention(\n",
              "              (query): Linear(in_features=768, out_features=768, bias=True)\n",
              "              (key): Linear(in_features=768, out_features=768, bias=True)\n",
              "              (value): Linear(in_features=768, out_features=768, bias=True)\n",
              "              (dropout): Dropout(p=0.1, inplace=False)\n",
              "            )\n",
              "            (output): BertSelfOutput(\n",
              "              (dense): Linear(in_features=768, out_features=768, bias=True)\n",
              "              (LayerNorm): LayerNorm((768,), eps=1e-12, elementwise_affine=True)\n",
              "              (dropout): Dropout(p=0.1, inplace=False)\n",
              "            )\n",
              "          )\n",
              "          (intermediate): BertIntermediate(\n",
              "            (dense): Linear(in_features=768, out_features=3072, bias=True)\n",
              "          )\n",
              "          (output): BertOutput(\n",
              "            (dense): Linear(in_features=3072, out_features=768, bias=True)\n",
              "            (LayerNorm): LayerNorm((768,), eps=1e-12, elementwise_affine=True)\n",
              "            (dropout): Dropout(p=0.1, inplace=False)\n",
              "          )\n",
              "        )\n",
              "        (2): BertLayer(\n",
              "          (attention): BertAttention(\n",
              "            (self): BertSelfAttention(\n",
              "              (query): Linear(in_features=768, out_features=768, bias=True)\n",
              "              (key): Linear(in_features=768, out_features=768, bias=True)\n",
              "              (value): Linear(in_features=768, out_features=768, bias=True)\n",
              "              (dropout): Dropout(p=0.1, inplace=False)\n",
              "            )\n",
              "            (output): BertSelfOutput(\n",
              "              (dense): Linear(in_features=768, out_features=768, bias=True)\n",
              "              (LayerNorm): LayerNorm((768,), eps=1e-12, elementwise_affine=True)\n",
              "              (dropout): Dropout(p=0.1, inplace=False)\n",
              "            )\n",
              "          )\n",
              "          (intermediate): BertIntermediate(\n",
              "            (dense): Linear(in_features=768, out_features=3072, bias=True)\n",
              "          )\n",
              "          (output): BertOutput(\n",
              "            (dense): Linear(in_features=3072, out_features=768, bias=True)\n",
              "            (LayerNorm): LayerNorm((768,), eps=1e-12, elementwise_affine=True)\n",
              "            (dropout): Dropout(p=0.1, inplace=False)\n",
              "          )\n",
              "        )\n",
              "        (3): BertLayer(\n",
              "          (attention): BertAttention(\n",
              "            (self): BertSelfAttention(\n",
              "              (query): Linear(in_features=768, out_features=768, bias=True)\n",
              "              (key): Linear(in_features=768, out_features=768, bias=True)\n",
              "              (value): Linear(in_features=768, out_features=768, bias=True)\n",
              "              (dropout): Dropout(p=0.1, inplace=False)\n",
              "            )\n",
              "            (output): BertSelfOutput(\n",
              "              (dense): Linear(in_features=768, out_features=768, bias=True)\n",
              "              (LayerNorm): LayerNorm((768,), eps=1e-12, elementwise_affine=True)\n",
              "              (dropout): Dropout(p=0.1, inplace=False)\n",
              "            )\n",
              "          )\n",
              "          (intermediate): BertIntermediate(\n",
              "            (dense): Linear(in_features=768, out_features=3072, bias=True)\n",
              "          )\n",
              "          (output): BertOutput(\n",
              "            (dense): Linear(in_features=3072, out_features=768, bias=True)\n",
              "            (LayerNorm): LayerNorm((768,), eps=1e-12, elementwise_affine=True)\n",
              "            (dropout): Dropout(p=0.1, inplace=False)\n",
              "          )\n",
              "        )\n",
              "        (4): BertLayer(\n",
              "          (attention): BertAttention(\n",
              "            (self): BertSelfAttention(\n",
              "              (query): Linear(in_features=768, out_features=768, bias=True)\n",
              "              (key): Linear(in_features=768, out_features=768, bias=True)\n",
              "              (value): Linear(in_features=768, out_features=768, bias=True)\n",
              "              (dropout): Dropout(p=0.1, inplace=False)\n",
              "            )\n",
              "            (output): BertSelfOutput(\n",
              "              (dense): Linear(in_features=768, out_features=768, bias=True)\n",
              "              (LayerNorm): LayerNorm((768,), eps=1e-12, elementwise_affine=True)\n",
              "              (dropout): Dropout(p=0.1, inplace=False)\n",
              "            )\n",
              "          )\n",
              "          (intermediate): BertIntermediate(\n",
              "            (dense): Linear(in_features=768, out_features=3072, bias=True)\n",
              "          )\n",
              "          (output): BertOutput(\n",
              "            (dense): Linear(in_features=3072, out_features=768, bias=True)\n",
              "            (LayerNorm): LayerNorm((768,), eps=1e-12, elementwise_affine=True)\n",
              "            (dropout): Dropout(p=0.1, inplace=False)\n",
              "          )\n",
              "        )\n",
              "        (5): BertLayer(\n",
              "          (attention): BertAttention(\n",
              "            (self): BertSelfAttention(\n",
              "              (query): Linear(in_features=768, out_features=768, bias=True)\n",
              "              (key): Linear(in_features=768, out_features=768, bias=True)\n",
              "              (value): Linear(in_features=768, out_features=768, bias=True)\n",
              "              (dropout): Dropout(p=0.1, inplace=False)\n",
              "            )\n",
              "            (output): BertSelfOutput(\n",
              "              (dense): Linear(in_features=768, out_features=768, bias=True)\n",
              "              (LayerNorm): LayerNorm((768,), eps=1e-12, elementwise_affine=True)\n",
              "              (dropout): Dropout(p=0.1, inplace=False)\n",
              "            )\n",
              "          )\n",
              "          (intermediate): BertIntermediate(\n",
              "            (dense): Linear(in_features=768, out_features=3072, bias=True)\n",
              "          )\n",
              "          (output): BertOutput(\n",
              "            (dense): Linear(in_features=3072, out_features=768, bias=True)\n",
              "            (LayerNorm): LayerNorm((768,), eps=1e-12, elementwise_affine=True)\n",
              "            (dropout): Dropout(p=0.1, inplace=False)\n",
              "          )\n",
              "        )\n",
              "        (6): BertLayer(\n",
              "          (attention): BertAttention(\n",
              "            (self): BertSelfAttention(\n",
              "              (query): Linear(in_features=768, out_features=768, bias=True)\n",
              "              (key): Linear(in_features=768, out_features=768, bias=True)\n",
              "              (value): Linear(in_features=768, out_features=768, bias=True)\n",
              "              (dropout): Dropout(p=0.1, inplace=False)\n",
              "            )\n",
              "            (output): BertSelfOutput(\n",
              "              (dense): Linear(in_features=768, out_features=768, bias=True)\n",
              "              (LayerNorm): LayerNorm((768,), eps=1e-12, elementwise_affine=True)\n",
              "              (dropout): Dropout(p=0.1, inplace=False)\n",
              "            )\n",
              "          )\n",
              "          (intermediate): BertIntermediate(\n",
              "            (dense): Linear(in_features=768, out_features=3072, bias=True)\n",
              "          )\n",
              "          (output): BertOutput(\n",
              "            (dense): Linear(in_features=3072, out_features=768, bias=True)\n",
              "            (LayerNorm): LayerNorm((768,), eps=1e-12, elementwise_affine=True)\n",
              "            (dropout): Dropout(p=0.1, inplace=False)\n",
              "          )\n",
              "        )\n",
              "        (7): BertLayer(\n",
              "          (attention): BertAttention(\n",
              "            (self): BertSelfAttention(\n",
              "              (query): Linear(in_features=768, out_features=768, bias=True)\n",
              "              (key): Linear(in_features=768, out_features=768, bias=True)\n",
              "              (value): Linear(in_features=768, out_features=768, bias=True)\n",
              "              (dropout): Dropout(p=0.1, inplace=False)\n",
              "            )\n",
              "            (output): BertSelfOutput(\n",
              "              (dense): Linear(in_features=768, out_features=768, bias=True)\n",
              "              (LayerNorm): LayerNorm((768,), eps=1e-12, elementwise_affine=True)\n",
              "              (dropout): Dropout(p=0.1, inplace=False)\n",
              "            )\n",
              "          )\n",
              "          (intermediate): BertIntermediate(\n",
              "            (dense): Linear(in_features=768, out_features=3072, bias=True)\n",
              "          )\n",
              "          (output): BertOutput(\n",
              "            (dense): Linear(in_features=3072, out_features=768, bias=True)\n",
              "            (LayerNorm): LayerNorm((768,), eps=1e-12, elementwise_affine=True)\n",
              "            (dropout): Dropout(p=0.1, inplace=False)\n",
              "          )\n",
              "        )\n",
              "        (8): BertLayer(\n",
              "          (attention): BertAttention(\n",
              "            (self): BertSelfAttention(\n",
              "              (query): Linear(in_features=768, out_features=768, bias=True)\n",
              "              (key): Linear(in_features=768, out_features=768, bias=True)\n",
              "              (value): Linear(in_features=768, out_features=768, bias=True)\n",
              "              (dropout): Dropout(p=0.1, inplace=False)\n",
              "            )\n",
              "            (output): BertSelfOutput(\n",
              "              (dense): Linear(in_features=768, out_features=768, bias=True)\n",
              "              (LayerNorm): LayerNorm((768,), eps=1e-12, elementwise_affine=True)\n",
              "              (dropout): Dropout(p=0.1, inplace=False)\n",
              "            )\n",
              "          )\n",
              "          (intermediate): BertIntermediate(\n",
              "            (dense): Linear(in_features=768, out_features=3072, bias=True)\n",
              "          )\n",
              "          (output): BertOutput(\n",
              "            (dense): Linear(in_features=3072, out_features=768, bias=True)\n",
              "            (LayerNorm): LayerNorm((768,), eps=1e-12, elementwise_affine=True)\n",
              "            (dropout): Dropout(p=0.1, inplace=False)\n",
              "          )\n",
              "        )\n",
              "        (9): BertLayer(\n",
              "          (attention): BertAttention(\n",
              "            (self): BertSelfAttention(\n",
              "              (query): Linear(in_features=768, out_features=768, bias=True)\n",
              "              (key): Linear(in_features=768, out_features=768, bias=True)\n",
              "              (value): Linear(in_features=768, out_features=768, bias=True)\n",
              "              (dropout): Dropout(p=0.1, inplace=False)\n",
              "            )\n",
              "            (output): BertSelfOutput(\n",
              "              (dense): Linear(in_features=768, out_features=768, bias=True)\n",
              "              (LayerNorm): LayerNorm((768,), eps=1e-12, elementwise_affine=True)\n",
              "              (dropout): Dropout(p=0.1, inplace=False)\n",
              "            )\n",
              "          )\n",
              "          (intermediate): BertIntermediate(\n",
              "            (dense): Linear(in_features=768, out_features=3072, bias=True)\n",
              "          )\n",
              "          (output): BertOutput(\n",
              "            (dense): Linear(in_features=3072, out_features=768, bias=True)\n",
              "            (LayerNorm): LayerNorm((768,), eps=1e-12, elementwise_affine=True)\n",
              "            (dropout): Dropout(p=0.1, inplace=False)\n",
              "          )\n",
              "        )\n",
              "        (10): BertLayer(\n",
              "          (attention): BertAttention(\n",
              "            (self): BertSelfAttention(\n",
              "              (query): Linear(in_features=768, out_features=768, bias=True)\n",
              "              (key): Linear(in_features=768, out_features=768, bias=True)\n",
              "              (value): Linear(in_features=768, out_features=768, bias=True)\n",
              "              (dropout): Dropout(p=0.1, inplace=False)\n",
              "            )\n",
              "            (output): BertSelfOutput(\n",
              "              (dense): Linear(in_features=768, out_features=768, bias=True)\n",
              "              (LayerNorm): LayerNorm((768,), eps=1e-12, elementwise_affine=True)\n",
              "              (dropout): Dropout(p=0.1, inplace=False)\n",
              "            )\n",
              "          )\n",
              "          (intermediate): BertIntermediate(\n",
              "            (dense): Linear(in_features=768, out_features=3072, bias=True)\n",
              "          )\n",
              "          (output): BertOutput(\n",
              "            (dense): Linear(in_features=3072, out_features=768, bias=True)\n",
              "            (LayerNorm): LayerNorm((768,), eps=1e-12, elementwise_affine=True)\n",
              "            (dropout): Dropout(p=0.1, inplace=False)\n",
              "          )\n",
              "        )\n",
              "        (11): BertLayer(\n",
              "          (attention): BertAttention(\n",
              "            (self): BertSelfAttention(\n",
              "              (query): Linear(in_features=768, out_features=768, bias=True)\n",
              "              (key): Linear(in_features=768, out_features=768, bias=True)\n",
              "              (value): Linear(in_features=768, out_features=768, bias=True)\n",
              "              (dropout): Dropout(p=0.1, inplace=False)\n",
              "            )\n",
              "            (output): BertSelfOutput(\n",
              "              (dense): Linear(in_features=768, out_features=768, bias=True)\n",
              "              (LayerNorm): LayerNorm((768,), eps=1e-12, elementwise_affine=True)\n",
              "              (dropout): Dropout(p=0.1, inplace=False)\n",
              "            )\n",
              "          )\n",
              "          (intermediate): BertIntermediate(\n",
              "            (dense): Linear(in_features=768, out_features=3072, bias=True)\n",
              "          )\n",
              "          (output): BertOutput(\n",
              "            (dense): Linear(in_features=3072, out_features=768, bias=True)\n",
              "            (LayerNorm): LayerNorm((768,), eps=1e-12, elementwise_affine=True)\n",
              "            (dropout): Dropout(p=0.1, inplace=False)\n",
              "          )\n",
              "        )\n",
              "      )\n",
              "    )\n",
              "    (pooler): BertPooler(\n",
              "      (dense): Linear(in_features=768, out_features=768, bias=True)\n",
              "      (activation): Tanh()\n",
              "    )\n",
              "  )\n",
              "  (dropout): Dropout(p=0.1, inplace=False)\n",
              "  (classifier): Linear(in_features=768, out_features=2, bias=True)\n",
              ")"
            ]
          },
          "metadata": {
            "tags": []
          },
          "execution_count": 16
        }
      ]
    },
    {
      "cell_type": "code",
      "metadata": {
        "id": "Ax0eImtoQmp9"
      },
      "source": [
        "optimizer = AdamW(model.parameters(),\n",
        "                  lr = 2e-5, # Learning rate\n",
        "                  eps = 1e-8 # Epsilon\n",
        "                )"
      ],
      "execution_count": null,
      "outputs": []
    },
    {
      "cell_type": "code",
      "metadata": {
        "id": "R5qD50pmQm3C"
      },
      "source": [
        "from transformers import get_linear_schedule_with_warmup\n",
        " \n",
        "epochs = 5\n",
        " \n",
        "# The number of training steps is [number of batches] x [number of epochs] \n",
        "total_steps = len(train_dataloader) * epochs\n",
        " \n",
        "# Use a learning rate scheduler so that we can optimize the training\n",
        "scheduler = get_linear_schedule_with_warmup(optimizer, \n",
        "                                            num_warmup_steps = 0,\n",
        "                                            num_training_steps = total_steps)"
      ],
      "execution_count": null,
      "outputs": []
    },
    {
      "cell_type": "code",
      "metadata": {
        "id": "XD3BRRcPQpCd"
      },
      "source": [
        "# Calculate the accuracy of our prediction vs the ground truth\n",
        "def get_accuracy(pred, labels):\n",
        "    pred_flat = np.argmax(pred, axis = 1).flatten()\n",
        "    labels_flat = labels.flatten()\n",
        "    return np.sum(pred_flat == labels_flat) / len(labels_flat)"
      ],
      "execution_count": null,
      "outputs": []
    },
    {
      "cell_type": "code",
      "metadata": {
        "id": "8-axVovmQv2-",
        "colab": {
          "base_uri": "https://localhost:8080/"
        },
        "outputId": "f46235d6-4b94-4ab5-8aae-a650117de934"
      },
      "source": [
        "import numpy as np\n",
        " \n",
        "training_stats = []\n",
        " \n",
        "for epoch in range(0, epochs):\n",
        "    \n",
        "    # Training\n",
        " \n",
        "    print(\"\")\n",
        "    print('Epoch {:} / {:}'.format(epoch + 1, epochs))\n",
        "    print('Training...')\n",
        " \n",
        "    total_train_loss = 0\n",
        "    model.train()\n",
        " \n",
        "    for step, batch in enumerate(train_dataloader):\n",
        " \n",
        "        # Progress update\n",
        "        if step % 40 == 0 and not step == 0:\n",
        "            # Report progress.\n",
        "            print('  Batch {:>5,}  of  {:>5,}'.format(step, len(train_dataloader)))\n",
        " \n",
        "        # Copy each tensor to the GPU\n",
        "        batch_input_ids = batch[0].to(device)\n",
        "        batch_input_mask = batch[1].to(device)\n",
        "        batch_labels = batch[2].to(device)\n",
        " \n",
        "        # Clear any previously calculated gradients\n",
        "        model.zero_grad()        \n",
        " \n",
        "        output = model(batch_input_ids, attention_mask = batch_input_mask, labels = batch_labels)\n",
        "        loss = output.loss\n",
        "        \n",
        "        # We will calculate the total training loss at the end\n",
        "        total_train_loss += loss.item()\n",
        " \n",
        "        # Calculate the gradients with a backward pass\n",
        "        loss.backward()\n",
        " \n",
        "        # Clip the norm of the gradients to 1.0 so that we can prevent the \"exploding gradients\" problem\n",
        "        torch.nn.utils.clip_grad_norm_(model.parameters(), 1.0)\n",
        " \n",
        "        # Update parameters and take a step using the computed gradient\n",
        "        optimizer.step()\n",
        " \n",
        "        # Update the learning rate\n",
        "        scheduler.step()\n",
        " \n",
        "    # Average training loss over all of the batches\n",
        "    avg_train_loss = total_train_loss / len(train_dataloader)            \n",
        " \n",
        "    print(\"\")\n",
        "    print(\"  Average training loss: {0:.4f}\".format(avg_train_loss))\n",
        "        \n",
        "    # Validation\n",
        " \n",
        "    print(\"\")\n",
        "    print(\"Validation...\")\n",
        " \n",
        "    model.eval()\n",
        " \n",
        "    total_valid_accuracy = 0\n",
        "    total_valid_loss = 0\n",
        " \n",
        "    for batch in validation_dataloader:\n",
        "        \n",
        "        # Copy each tensor to the GPU\n",
        "        batch_input_ids = batch[0].to(device)\n",
        "        batch_input_mask = batch[1].to(device)\n",
        "        batch_labels = batch[2].to(device)\n",
        "        \n",
        "        with torch.no_grad():\n",
        "            output = model(batch_input_ids, attention_mask = batch_input_mask, labels = batch_labels)\n",
        "            loss = output.loss\n",
        "            logits = output.logits # Model values before activation\n",
        "            \n",
        "        # We will calculate the total validation loss at the end\n",
        "        total_valid_loss += loss.item()\n",
        " \n",
        "        # Move logits and labels to CPU\n",
        "        logits = logits.detach().cpu().numpy()\n",
        "        labels = batch_labels.to('cpu').numpy()\n",
        " \n",
        "        total_valid_accuracy += get_accuracy(logits, labels)\n",
        "        \n",
        " \n",
        "    # Report the final accuracy for this validation run.\n",
        "    avg_val_accuracy = total_valid_accuracy / len(validation_dataloader)\n",
        "    print(\"  Accuracy: {0:.4f}\".format(avg_val_accuracy))\n",
        " \n",
        "    # Calculate the average validation loss over all of the batches\n",
        "    avg_val_loss = total_valid_loss / len(validation_dataloader)\n",
        "    \n",
        "    print(\"  Validation Loss: {0:.4f}\".format(avg_val_loss))\n",
        " \n",
        "    # Record all statistics from this epoch\n",
        "    training_stats.append(\n",
        "        {\n",
        "            'epoch': epoch,\n",
        "            'Training Loss': avg_train_loss,\n",
        "            'Validation Loss': avg_val_loss,\n",
        "            'Validation Accuracy.': avg_val_accuracy,\n",
        "        }\n",
        "    )"
      ],
      "execution_count": null,
      "outputs": [
        {
          "output_type": "stream",
          "text": [
            "\n",
            "Epoch 1 / 5\n",
            "Training...\n",
            "  Batch    40  of    527\n",
            "  Batch    80  of    527\n",
            "  Batch   120  of    527\n",
            "  Batch   160  of    527\n",
            "  Batch   200  of    527\n",
            "  Batch   240  of    527\n",
            "  Batch   280  of    527\n",
            "  Batch   320  of    527\n",
            "  Batch   360  of    527\n",
            "  Batch   400  of    527\n",
            "  Batch   440  of    527\n",
            "  Batch   480  of    527\n",
            "  Batch   520  of    527\n",
            "\n",
            "  Average training loss: 0.0999\n",
            "\n",
            "Validation...\n",
            "  Accuracy: 0.9831\n",
            "  Validation Loss: 0.0666\n",
            "\n",
            "Epoch 2 / 5\n",
            "Training...\n",
            "  Batch    40  of    527\n",
            "  Batch    80  of    527\n",
            "  Batch   120  of    527\n",
            "  Batch   160  of    527\n",
            "  Batch   200  of    527\n",
            "  Batch   240  of    527\n",
            "  Batch   280  of    527\n",
            "  Batch   320  of    527\n",
            "  Batch   360  of    527\n",
            "  Batch   400  of    527\n",
            "  Batch   440  of    527\n",
            "  Batch   480  of    527\n",
            "  Batch   520  of    527\n",
            "\n",
            "  Average training loss: 0.0303\n",
            "\n",
            "Validation...\n",
            "  Accuracy: 0.9883\n",
            "  Validation Loss: 0.0591\n",
            "\n",
            "Epoch 3 / 5\n",
            "Training...\n",
            "  Batch    40  of    527\n",
            "  Batch    80  of    527\n",
            "  Batch   120  of    527\n",
            "  Batch   160  of    527\n",
            "  Batch   200  of    527\n",
            "  Batch   240  of    527\n",
            "  Batch   280  of    527\n",
            "  Batch   320  of    527\n",
            "  Batch   360  of    527\n",
            "  Batch   400  of    527\n",
            "  Batch   440  of    527\n",
            "  Batch   480  of    527\n",
            "  Batch   520  of    527\n",
            "\n",
            "  Average training loss: 0.0096\n",
            "\n",
            "Validation...\n",
            "  Accuracy: 0.9894\n",
            "  Validation Loss: 0.0656\n",
            "\n",
            "Epoch 4 / 5\n",
            "Training...\n",
            "  Batch    40  of    527\n",
            "  Batch    80  of    527\n",
            "  Batch   120  of    527\n",
            "  Batch   160  of    527\n",
            "  Batch   200  of    527\n",
            "  Batch   240  of    527\n",
            "  Batch   280  of    527\n",
            "  Batch   320  of    527\n",
            "  Batch   360  of    527\n",
            "  Batch   400  of    527\n",
            "  Batch   440  of    527\n",
            "  Batch   480  of    527\n",
            "  Batch   520  of    527\n",
            "\n",
            "  Average training loss: 0.0031\n",
            "\n",
            "Validation...\n",
            "  Accuracy: 0.9883\n",
            "  Validation Loss: 0.0766\n",
            "\n",
            "Epoch 5 / 5\n",
            "Training...\n",
            "  Batch    40  of    527\n",
            "  Batch    80  of    527\n",
            "  Batch   120  of    527\n",
            "  Batch   160  of    527\n",
            "  Batch   200  of    527\n",
            "  Batch   240  of    527\n",
            "  Batch   280  of    527\n",
            "  Batch   320  of    527\n",
            "  Batch   360  of    527\n",
            "  Batch   400  of    527\n",
            "  Batch   440  of    527\n",
            "  Batch   480  of    527\n",
            "  Batch   520  of    527\n",
            "\n",
            "  Average training loss: 0.0003\n",
            "\n",
            "Validation...\n",
            "  Accuracy: 0.9883\n",
            "  Validation Loss: 0.0830\n"
          ],
          "name": "stdout"
        }
      ]
    },
    {
      "cell_type": "code",
      "metadata": {
        "id": "OKBCoYB3lvcK",
        "colab": {
          "base_uri": "https://localhost:8080/",
          "height": 427
        },
        "outputId": "bf0edd6c-1466-4d55-ad8b-2f2e0ba42e05"
      },
      "source": [
        "import matplotlib.pyplot as plt\n",
        "import seaborn as sns\n",
        "import pandas as pd\n",
        " \n",
        "# Create a DataFrame from our training stats\n",
        "df = pd.DataFrame(data = training_stats)\n",
        " \n",
        " \n",
        "sns.set(style = 'darkgrid')\n",
        "sns.set(font_scale = 1.5)\n",
        "plt.rcParams[\"figure.figsize\"] = (12, 6)\n",
        " \n",
        "# Plot the training and validation losses\n",
        "plt.plot(df['Training Loss'], 'b-o', label = \"Training\")\n",
        "plt.plot(df['Validation Loss'], 'g-o', label = \"Validation\")\n",
        " \n",
        "plt.title(\"Training and Validation Loss\")\n",
        "plt.xlabel(\"Epoch\")\n",
        "plt.ylabel(\"Loss\")\n",
        "plt.legend()\n",
        " \n",
        "plt.show()"
      ],
      "execution_count": null,
      "outputs": [
        {
          "output_type": "display_data",
          "data": {
            "image/png": "[encoded data removed]",
            "text/plain": [
              "<Figure size 864x432 with 1 Axes>"
            ]
          },
          "metadata": {
            "tags": []
          }
        }
      ]
    },
    {
      "cell_type": "code",
      "metadata": {
        "id": "4hW2S_LimMcm",
        "colab": {
          "base_uri": "https://localhost:8080/"
        },
        "outputId": "3c995af9-4fb7-4ae7-bd51-bd7d0e7cb732"
      },
      "source": [
        "model.eval()\n",
        " \n",
        "predictions, ground_truth = [], []\n",
        " \n",
        "total_test_accuracy = 0\n",
        " \n",
        "for batch in test_dataloader:\n",
        "  # Add batch to GPU\n",
        "  batch = tuple(i.to(device) for i in batch)\n",
        "  \n",
        "  # Get the inputs from the dataloader\n",
        "  batch_input_ids, batch_input_mask, batch_labels = batch\n",
        "  \n",
        "  with torch.no_grad():\n",
        "      outputs = model(batch_input_ids, attention_mask = batch_input_mask)\n",
        " \n",
        "  logits = outputs.logits\n",
        " \n",
        "  # Move logits and labels to CPU\n",
        "  logits = logits.detach().cpu().numpy()\n",
        "  labels = batch_labels.to('cpu').numpy()\n",
        " \n",
        "  total_test_accuracy += get_accuracy(logits, labels)\n",
        "  \n",
        "  predictions.extend(np.argmax(logits, axis=1).flatten())\n",
        "  ground_truth.extend(labels.flatten())\n",
        " \n",
        "# Report the final accuracy for the test set\n",
        "avg_test_accuracy = total_test_accuracy / len(test_dataloader)\n",
        "print(\"Accuracy: {0:.4f}\".format(avg_test_accuracy))"
      ],
      "execution_count": null,
      "outputs": [
        {
          "output_type": "stream",
          "text": [
            "Accuracy: 0.9923\n"
          ],
          "name": "stdout"
        }
      ]
    }
  ]
}