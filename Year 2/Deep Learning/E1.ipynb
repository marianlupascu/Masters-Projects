{
  "nbformat": 4,
  "nbformat_minor": 0,
  "metadata": {
    "accelerator": "GPU",
    "colab": {
      "name": "E1.ipynb",
      "provenance": [],
      "collapsed_sections": []
    },
    "kernelspec": {
      "display_name": "Python 3",
      "name": "python3"
    }
  },
  "cells": [
    {
      "cell_type": "markdown",
      "metadata": {
        "id": "VwBghQVnb6zM"
      },
      "source": [
        "# **Deep Hallucination Classification**\r\n",
        "## Classify images hallucinated by deep generative models\r\n",
        "### **Imports**\r\n",
        "All the imports are defined here"
      ]
    },
    {
      "cell_type": "code",
      "metadata": {
        "colab": {
          "base_uri": "https://localhost:8080/"
        },
        "id": "sabhpN_Nn3gQ",
        "outputId": "93be2b60-2551-4d91-bc95-375fdb30bdf5"
      },
      "source": [
        "from __future__ import print_function, division\n",
        "import torch.backends.cudnn as cudnn\n",
        "import torch\n",
        "import torch.nn as nn\n",
        "import torch.optim as optim\n",
        "from torch.optim import lr_scheduler\n",
        "from torch.autograd import Variable\n",
        "import numpy as np\n",
        "import torchvision\n",
        "from torchvision import datasets, models, transforms\n",
        "import matplotlib.pyplot as plt\n",
        "import time\n",
        "import os\n",
        "import copy\n",
        "import glob\n",
        "from google.colab import files, auth, drive\n",
        "from urllib.request import urlopen\n",
        "from typing import List, Dict, Callable\n",
        "from collections import Counter\n",
        "import torch.nn.functional as F\n",
        "import math\n",
        "from collections import OrderedDict\n",
        "from PIL import *\n",
        "\n",
        "CUDA_LAUNCH_BLOCKING=1\n",
        "\n",
        "plt.ion()  \n",
        "\n",
        "use_gpu = torch.cuda.is_available()\n",
        "if use_gpu:\n",
        "    print(\"Using CUDA\")\n",
        "else:\n",
        "    print(\"Using CPU\")"
      ],
      "execution_count": 46,
      "outputs": [
        {
          "output_type": "stream",
          "text": [
            "Using CUDA\n"
          ],
          "name": "stdout"
        }
      ]
    },
    {
      "cell_type": "code",
      "metadata": {
        "colab": {
          "base_uri": "https://localhost:8080/"
        },
        "id": "bZPiOYKopqX6",
        "outputId": "c9901b8f-2225-4bef-cafa-e2747503ab2e"
      },
      "source": [
        "# Mount to drive\n",
        "drive.mount('/content/gdrive', force_remount=True)\n",
        "data_dir_drive ='/content/gdrive/My Drive/Colab Notebooks/Deep/'\n",
        "data_dir ='/content' # When read from unziped file"
      ],
      "execution_count": 3,
      "outputs": [
        {
          "output_type": "stream",
          "text": [
            "Mounted at /content/gdrive\n"
          ],
          "name": "stdout"
        }
      ]
    },
    {
      "cell_type": "markdown",
      "metadata": {
        "id": "n4bC_nlDcWVg"
      },
      "source": [
        "### **Unzip data**"
      ]
    },
    {
      "cell_type": "code",
      "metadata": {
        "colab": {
          "base_uri": "https://localhost:8080/"
        },
        "id": "l3Oft3YKpy55",
        "outputId": "1dab3f75-93e3-487e-cee0-20eecfd48294"
      },
      "source": [
        "import time\n",
        "\n",
        "start = time.time()\n",
        "\n",
        "#!unzip -q '/content/gdrive/My Drive/Colab Notebooks/Deep/test.zip' -d '/content/gdrive/My Drive/Colab Notebooks/Deep/data'\n",
        "#!unzip -q '/content/gdrive/My Drive/Colab Notebooks/Deep/data.zip' -d '/content/gdrive/My Drive/Colab Notebooks/Deep/data'\n",
        "\n",
        "print('Took', (time.time() - start), ' secundes to unzip')"
      ],
      "execution_count": 4,
      "outputs": [
        {
          "output_type": "stream",
          "text": [
            "Took 5.602836608886719e-05  secundes to unzip\n"
          ],
          "name": "stdout"
        }
      ]
    },
    {
      "cell_type": "code",
      "metadata": {
        "colab": {
          "base_uri": "https://localhost:8080/"
        },
        "id": "EPbPO42M5XGo",
        "outputId": "5b42630d-d865-456b-b990-5fcf5fe95301"
      },
      "source": [
        "! ls '/content/gdrive/My Drive/Colab Notebooks/Deep/data/data'"
      ],
      "execution_count": 5,
      "outputs": [
        {
          "output_type": "stream",
          "text": [
            "train  validation\n"
          ],
          "name": "stdout"
        }
      ]
    },
    {
      "cell_type": "code",
      "metadata": {
        "id": "vGFiJzcIrwl3"
      },
      "source": [
        "TRAIN = 'train' #folder name\n",
        "VAL = 'validation' #folder name\n",
        "TEST = 'test' #folder name\n",
        "BATCHSIZE = 256"
      ],
      "execution_count": 6,
      "outputs": []
    },
    {
      "cell_type": "markdown",
      "metadata": {
        "id": "u4PCHPdKclAq"
      },
      "source": [
        "### **Neural Net Definition**\r\n",
        "We will use a standard convolutional neural network(VGG16)\r\n"
      ]
    },
    {
      "cell_type": "code",
      "metadata": {
        "id": "G9gXXErDE0ix"
      },
      "source": [
        "class VGG(nn.Module):\n",
        "    def __init__(self):\n",
        "        super(VGG, self).__init__()\n",
        "        self.features = []\n",
        "        in_channels = 3 #color image\n",
        "        for t in [64, 64, 'MaxP', 128, 128, 'MaxP', 256, 256, 256, 'MaxP', 512, 512, 512, 'MaxP', 512, 512, 512, 'MaxP']: #VGG16:\n",
        "            if t == 'MaxP':\n",
        "                self.features.append(nn.MaxPool2d(kernel_size=2, stride=2))\n",
        "            else:\n",
        "                self.features += [nn.Conv2d(in_channels, t, kernel_size=3, padding=1),\n",
        "                                    nn.BatchNorm2d(t),\n",
        "                                    nn.ReLU(inplace=True)]\n",
        "                in_channels = t \n",
        "        self.features.append(nn.AvgPool2d(kernel_size=1, stride=1))\n",
        "        self.features = nn.Sequential(*self.features)\n",
        "        self.classifier = nn.Linear(512, 8)\n",
        "\n",
        "    def forward(self, x):\n",
        "        out = self.features(x)\n",
        "        out = out.view(out.size(0), -1) #vector transformation\n",
        "        out = self.classifier(out)\n",
        "        return out"
      ],
      "execution_count": 62,
      "outputs": []
    },
    {
      "cell_type": "code",
      "metadata": {
        "id": "Wh4yNxzuFLQK"
      },
      "source": [
        "net = VGG()"
      ],
      "execution_count": 63,
      "outputs": []
    },
    {
      "cell_type": "code",
      "metadata": {
        "id": "HFaM2fbl0o5B"
      },
      "source": [
        "#calculate mean and std for train data\n",
        "#train_set = datasets.ImageFolder(\n",
        "#        os.path.join(data_dir_drive + 'data/data', TRAIN), \n",
        "#        transform=transforms.Compose([transforms.ToTensor()]))\n",
        "#\n",
        "#loader = torch.utils.data.DataLoader(train_set, batch_size=len(train_set), num_workers=1)\n",
        "#data = next(iter(loader))\n",
        "#\n",
        "#print(data[0].view(len(data[0]), 3, -1).mean(2).sum(0) / len(data[0]))\n",
        "#print(data[0].view(len(data[0]), 3, -1).std(2).sum(0) / len(data[0]))"
      ],
      "execution_count": null,
      "outputs": []
    },
    {
      "cell_type": "markdown",
      "metadata": {
        "id": "FizgywDsiVTa"
      },
      "source": [
        "### **Data augentation**"
      ]
    },
    {
      "cell_type": "code",
      "metadata": {
        "colab": {
          "base_uri": "https://localhost:8080/"
        },
        "id": "ZyIn-F8ZFq7a",
        "outputId": "6ed065b3-6e8c-41f0-c968-fb7631a048df"
      },
      "source": [
        "device = 'cuda' if torch.cuda.is_available() else 'cpu'\n",
        "best_acc = 0  # best test accuracy\n",
        "\n",
        "# Data\n",
        "print('==> Preparing data..')\n",
        "transform_train = transforms.Compose([\n",
        "    transforms.RandomRotation(10),\n",
        "    transforms.RandomCrop(32, padding=4),\n",
        "    transforms.RandomHorizontalFlip(),\n",
        "    transforms.ToTensor(),\n",
        "    transforms.Normalize((0.4092, 0.4594, 0.4538), (0.2346, 0.2431, 0.2467))\n",
        "])\n",
        "\n",
        "transform_val = transforms.Compose([\n",
        "    transforms.ToTensor(),\n",
        "    transforms.Normalize((0.4092, 0.4594, 0.4538), (0.2346, 0.2431, 0.2467))\n",
        "])\n",
        "\n",
        "transform_test = transforms.Compose([\n",
        "    transforms.ToTensor(),\n",
        "    transforms.Normalize((0.4092, 0.4594, 0.4538), (0.2346, 0.2431, 0.2467))\n",
        "])"
      ],
      "execution_count": 26,
      "outputs": [
        {
          "output_type": "stream",
          "text": [
            "==> Preparing data..\n"
          ],
          "name": "stdout"
        }
      ]
    },
    {
      "cell_type": "markdown",
      "metadata": {
        "id": "TugIPj9SB2y2"
      },
      "source": [
        "### **Dataset loader**\n",
        "**Using Image Folder Dataset**"
      ]
    },
    {
      "cell_type": "code",
      "metadata": {
        "colab": {
          "base_uri": "https://localhost:8080/"
        },
        "id": "t0rdrb0EGsuz",
        "outputId": "25845ad6-44a1-47a6-e9db-d68f61b6a254"
      },
      "source": [
        "image_datasets = {\n",
        "    TRAIN: datasets.ImageFolder(\n",
        "        os.path.join(data_dir_drive + 'data/data', TRAIN), \n",
        "        transform=transform_train\n",
        "    ),\n",
        "    VAL: datasets.ImageFolder(\n",
        "        os.path.join(data_dir_drive + 'data/data', VAL), \n",
        "        transform=transform_val\n",
        "    )\n",
        "}\n",
        "\n",
        "trainloader = torch.utils.data.DataLoader(\n",
        "            image_datasets[TRAIN], batch_size=BATCHSIZE,\n",
        "            shuffle=True, num_workers=BATCHSIZE)\n",
        "\n",
        "valloader = torch.utils.data.DataLoader(\n",
        "            image_datasets[VAL], batch_size=BATCHSIZE,\n",
        "            shuffle=True, num_workers=BATCHSIZE)\n",
        "\n",
        "\n",
        "dataset_sizes = {x: len(image_datasets[x]) for x in [TRAIN, VAL]}\n",
        "total = dataset_sizes[TRAIN] + dataset_sizes[VAL]# + dataset_sizes[TEST]\n",
        "\n",
        "for x in [TRAIN, VAL]: \n",
        "    print(\"Loaded {} images under {} ({}%)\".format(dataset_sizes[x], x, dataset_sizes[x] * 100 / total))\n",
        "    \n",
        "print(\"Classes: \")\n",
        "class_names = image_datasets[TRAIN].classes\n",
        "print(image_datasets[TRAIN].classes)"
      ],
      "execution_count": 27,
      "outputs": [
        {
          "output_type": "stream",
          "text": [
            "Loaded 30001 images under train (85.71469386588954%)\n",
            "Loaded 5000 images under validation (14.285306134110455%)\n",
            "Classes: \n",
            "['0', '1', '2', '3', '4', '5', '6', '7']\n"
          ],
          "name": "stdout"
        }
      ]
    },
    {
      "cell_type": "markdown",
      "metadata": {
        "id": "r-CMfIDocdAC"
      },
      "source": [
        "### **Visualising some of the data**\r\n"
      ]
    },
    {
      "cell_type": "code",
      "metadata": {
        "colab": {
          "base_uri": "https://localhost:8080/",
          "height": 349
        },
        "id": "j7iXjPxtMNrC",
        "outputId": "fdf8d750-d7dd-4be3-9838-6295e4bc9554"
      },
      "source": [
        "def imshow(inp, title=None):\n",
        "    inp = inp.numpy().transpose((1, 2, 0))\n",
        "    plt.figure(figsize=(20, 10))\n",
        "    plt.axis('off')\n",
        "    plt.imshow(inp)\n",
        "    if title is not None:\n",
        "        plt.title(title)\n",
        "\n",
        "def show_databatch(inputs, classes):\n",
        "    out = torchvision.utils.make_grid(inputs)\n",
        "    imshow(out, title='Grid') #[class_names[x] for x in classes]\n",
        "\n",
        "# Get a batch of training data\n",
        "inputs, classes = next(iter(torch.utils.data.DataLoader(\n",
        "            image_datasets[TRAIN], batch_size=16,\n",
        "            shuffle=True, num_workers=16)))\n",
        "show_databatch(inputs, classes)"
      ],
      "execution_count": null,
      "outputs": [
        {
          "output_type": "stream",
          "text": [
            "Clipping input data to the valid range for imshow with RGB data ([0..1] for floats or [0..255] for integers).\n"
          ],
          "name": "stderr"
        },
        {
          "output_type": "display_data",
          "data": {
            "image/png": "[encoded data removed]",
            "text/plain": [
              "<Figure size 1440x720 with 1 Axes>"
            ]
          },
          "metadata": {
            "tags": []
          }
        }
      ]
    },
    {
      "cell_type": "code",
      "metadata": {
        "id": "pHBKqsrjF3fi"
      },
      "source": [
        "net = net.to(device)\n",
        "if device == 'cuda':\n",
        "    net = torch.nn.DataParallel(net)\n",
        "    cudnn.benchmark = True\n",
        "\n",
        "criterion = nn.CrossEntropyLoss() #classifiaction\n",
        "optimizer = optim.SGD(net.parameters(), lr=0.01, momentum=0.9, weight_decay=5e-4)"
      ],
      "execution_count": 28,
      "outputs": []
    },
    {
      "cell_type": "code",
      "metadata": {
        "id": "ty1dYjivg3S0"
      },
      "source": [
        "accuracies = {x: [] for x in [TRAIN, VAL]}\n",
        "losses = {x: [] for x in [TRAIN, VAL]}\n",
        "best_model_wts = copy.deepcopy(net.state_dict())"
      ],
      "execution_count": 43,
      "outputs": []
    },
    {
      "cell_type": "code",
      "metadata": {
        "id": "we6NmrCLGRts"
      },
      "source": [
        "# Training\n",
        "def train(net, epoch):\n",
        "    print(\"TRAINING\")\n",
        "    train_loss = 0\n",
        "    correct = 0\n",
        "    total = 0\n",
        "\n",
        "    for batch_idx, (inputs, targets) in enumerate(trainloader):\n",
        "        with torch.no_grad():\n",
        "            if use_gpu:\n",
        "                inputs, targets = inputs.cuda(), targets.cuda()\n",
        "\n",
        "        optimizer.zero_grad()\n",
        "        outputs = net(inputs)\n",
        "\n",
        "        loss = criterion(outputs, targets)\n",
        "        loss.backward() #calculate the gradients\n",
        "        optimizer.step() #take a step down the gradient\n",
        "\n",
        "        train_loss += loss.item()\n",
        "        _, predicted = outputs.max(1)\n",
        "        total += targets.size(0)\n",
        "        correct += predicted.eq(targets).sum().item()\n",
        "\n",
        "        del inputs, targets, outputs, predicted\n",
        "        torch.cuda.empty_cache()\n",
        "\n",
        "    print(\"Avg loss (train): {:.4f}\".format(train_loss / total))\n",
        "    print(\"Avg acc (train): {:.4f}\".format(100.*correct/total))\n",
        "    return net\n",
        "\n",
        "    \n",
        "\n",
        "def test(net, epoch = 0):\n",
        "    global best_acc\n",
        "    print(\"MESURE ACCURACY ON TRAIN AND VALIDATION\")\n",
        "    net.train(False)\n",
        "    net.eval()\n",
        "\n",
        "    loss_train = 0\n",
        "    acc_train = 0\n",
        "    num_exam_train = 0\n",
        "    with torch.no_grad(): #I do not touch the HYPOTHESIS\n",
        "        for batch_idx, (inputs, targets) in enumerate(trainloader):\n",
        "            if use_gpu:\n",
        "                inputs, targets = inputs.cuda(), targets.cuda()\n",
        "\n",
        "            outputs = net(inputs)\n",
        "            loss = criterion(outputs, targets)\n",
        "\n",
        "            loss_train += loss.item()\n",
        "            _, predicted = outputs.max(1)\n",
        "            num_exam_train += targets.size(0)\n",
        "            acc_train += predicted.eq(targets).sum().item()\n",
        "\n",
        "            del inputs, targets, outputs, predicted\n",
        "            torch.cuda.empty_cache()\n",
        "\n",
        "    avg_loss_train = loss_train / num_exam_train\n",
        "    avg_acc_train = float(acc_train) * 100 / num_exam_train\n",
        "    accuracies[TRAIN].append(avg_acc_train)\n",
        "    losses[TRAIN].append(avg_loss_train)\n",
        "\n",
        "    loss_val = 0\n",
        "    acc_val = 0\n",
        "    num_exam_val = 0\n",
        "    with torch.no_grad():\n",
        "        for batch_idx, (inputs, targets) in enumerate(valloader):\n",
        "            if use_gpu:\n",
        "                inputs, targets = inputs.cuda(), targets.cuda()\n",
        "\n",
        "            outputs = net(inputs)\n",
        "            loss = criterion(outputs, targets)\n",
        "\n",
        "            loss_val += loss.item()\n",
        "            _, predicted = outputs.max(1)\n",
        "            num_exam_val += targets.size(0)\n",
        "            acc_val += predicted.eq(targets).sum().item()\n",
        "\n",
        "            del inputs, targets, outputs, predicted\n",
        "            torch.cuda.empty_cache()\n",
        "\n",
        "    avg_loss_val = loss_val / num_exam_val\n",
        "    avg_acc_val = float(acc_val) * 100 / num_exam_val\n",
        "    accuracies[VAL].append(avg_acc_val)\n",
        "    losses[VAL].append(avg_loss_val)\n",
        "\n",
        "    print(\"Epoch {} result: \".format(epoch + 1))\n",
        "    print(\"Avg loss (train): {:.4f}\".format(avg_loss_train))\n",
        "    print(\"Avg acc (train): {:.4f}\".format(avg_acc_train))\n",
        "    print(\"Avg loss (val): {:.4f}\".format(avg_loss_val))\n",
        "    print(\"Avg acc (val): {:.4f}\".format(avg_acc_val))\n",
        "    print()\n",
        "    return avg_acc_val"
      ],
      "execution_count": 41,
      "outputs": []
    },
    {
      "cell_type": "markdown",
      "metadata": {
        "id": "OJDYG561c7Wf"
      },
      "source": [
        "## **Training Time!**"
      ]
    },
    {
      "cell_type": "code",
      "metadata": {
        "colab": {
          "background_save": true,
          "base_uri": "https://localhost:8080/"
        },
        "id": "89JU-dU9HPYT",
        "outputId": "35d833ba-c533-42b1-b0f8-61a0fc289283"
      },
      "source": [
        "epochs = 50\n",
        "\n",
        "since = time.time()\n",
        "\n",
        "for epoch in range(epochs):\n",
        "    print('\\nEpoch: %d/%d' % (epoch + 1, epochs))\n",
        "    net = train(net, epoch)\n",
        "    avg_acc_val = test(net, epoch)\n",
        "\n",
        "    # Save checkpoint.\n",
        "    if avg_acc_val > best_acc:\n",
        "        best_acc = avg_acc_val\n",
        "        best_model_wts = copy.deepcopy(net.state_dict()) #I remember the best model\n",
        "    print(\"Best acc: {:.4f}\".format(best_acc))\n",
        "    print('-' * 20)\n",
        "    print()\n",
        "\n",
        "elapsed_time = time.time() - since\n",
        "print()\n",
        "print(\"Training completed in {:.0f}m {:.0f}s\".format(elapsed_time // 60, elapsed_time % 60))\n",
        "print(\"Best acc: {:.4f}\".format(best_acc))"
      ],
      "execution_count": null,
      "outputs": [
        {
          "output_type": "stream",
          "text": [
            "\n",
            "Epoch: 1/50\n",
            "TRAINING\n",
            "Avg loss (train): 0.0067\n",
            "Avg acc (train): 38.0054\n",
            "MESURE ACCURACY ON TRAIN AND VALIDATION\n",
            "Epoch 1 result: \n",
            "Avg loss (train): 0.0070\n",
            "Avg acc (train): 33.9522\n",
            "Avg loss (val): 0.0073\n",
            "Avg acc (val): 32.8600\n",
            "\n",
            "Best acc: 32.8600\n",
            "--------------------\n",
            "\n",
            "\n",
            "Epoch: 2/50\n",
            "TRAINING\n",
            "Avg loss (train): 0.0076\n",
            "Avg acc (train): 26.5491\n",
            "MESURE ACCURACY ON TRAIN AND VALIDATION\n",
            "Epoch 2 result: \n",
            "Avg loss (train): 0.0074\n",
            "Avg acc (train): 28.8290\n",
            "Avg loss (val): 0.0074\n",
            "Avg acc (val): 29.8600\n",
            "\n",
            "Best acc: 32.8600\n",
            "--------------------\n",
            "\n",
            "\n",
            "Epoch: 3/50\n",
            "TRAINING\n",
            "Avg loss (train): 0.0070\n",
            "Avg acc (train): 32.6789\n",
            "MESURE ACCURACY ON TRAIN AND VALIDATION\n",
            "Epoch 3 result: \n",
            "Avg loss (train): 0.0071\n",
            "Avg acc (train): 31.3656\n",
            "Avg loss (val): 0.0073\n",
            "Avg acc (val): 29.8800\n",
            "\n",
            "Best acc: 32.8600\n",
            "--------------------\n",
            "\n",
            "\n",
            "Epoch: 4/50\n",
            "TRAINING\n",
            "Avg loss (train): 0.0067\n",
            "Avg acc (train): 37.0221\n",
            "MESURE ACCURACY ON TRAIN AND VALIDATION\n",
            "Epoch 4 result: \n",
            "Avg loss (train): 0.0063\n",
            "Avg acc (train): 41.1186\n",
            "Avg loss (val): 0.0064\n",
            "Avg acc (val): 40.7600\n",
            "\n",
            "Best acc: 40.7600\n",
            "--------------------\n",
            "\n",
            "\n",
            "Epoch: 5/50\n",
            "TRAINING\n",
            "Avg loss (train): 0.0062\n",
            "Avg acc (train): 42.0619\n",
            "MESURE ACCURACY ON TRAIN AND VALIDATION\n",
            "Epoch 5 result: \n",
            "Avg loss (train): 0.0065\n",
            "Avg acc (train): 41.0086\n",
            "Avg loss (val): 0.0065\n",
            "Avg acc (val): 43.0600\n",
            "\n",
            "Best acc: 43.0600\n",
            "--------------------\n",
            "\n",
            "\n",
            "Epoch: 6/50\n",
            "TRAINING\n",
            "Avg loss (train): 0.0059\n",
            "Avg acc (train): 44.8452\n",
            "MESURE ACCURACY ON TRAIN AND VALIDATION\n",
            "Epoch 6 result: \n",
            "Avg loss (train): 0.0058\n",
            "Avg acc (train): 46.0085\n",
            "Avg loss (val): 0.0058\n",
            "Avg acc (val): 46.6000\n",
            "\n",
            "Best acc: 46.6000\n",
            "--------------------\n",
            "\n",
            "\n",
            "Epoch: 7/50\n",
            "TRAINING\n",
            "Avg loss (train): 0.0056\n",
            "Avg acc (train): 48.4751\n",
            "MESURE ACCURACY ON TRAIN AND VALIDATION\n",
            "Epoch 7 result: \n",
            "Avg loss (train): 0.0057\n",
            "Avg acc (train): 48.5217\n",
            "Avg loss (val): 0.0056\n",
            "Avg acc (val): 50.3000\n",
            "\n",
            "Best acc: 50.3000\n",
            "--------------------\n",
            "\n",
            "\n",
            "Epoch: 8/50\n",
            "TRAINING\n",
            "Avg loss (train): 0.0054\n",
            "Avg acc (train): 51.0883\n",
            "MESURE ACCURACY ON TRAIN AND VALIDATION\n",
            "Epoch 8 result: \n",
            "Avg loss (train): 0.0056\n",
            "Avg acc (train): 49.4384\n",
            "Avg loss (val): 0.0058\n",
            "Avg acc (val): 49.5200\n",
            "\n",
            "Best acc: 50.3000\n",
            "--------------------\n",
            "\n",
            "\n",
            "Epoch: 9/50\n",
            "TRAINING\n",
            "Avg loss (train): 0.0052\n",
            "Avg acc (train): 52.3583\n",
            "MESURE ACCURACY ON TRAIN AND VALIDATION\n",
            "Epoch 9 result: \n",
            "Avg loss (train): 0.0053\n",
            "Avg acc (train): 51.8716\n",
            "Avg loss (val): 0.0055\n",
            "Avg acc (val): 51.4000\n",
            "\n",
            "Best acc: 51.4000\n",
            "--------------------\n",
            "\n",
            "\n",
            "Epoch: 10/50\n",
            "TRAINING\n",
            "Avg loss (train): 0.0050\n",
            "Avg acc (train): 54.7748\n",
            "MESURE ACCURACY ON TRAIN AND VALIDATION\n",
            "Epoch 10 result: \n",
            "Avg loss (train): 0.0050\n",
            "Avg acc (train): 54.1149\n",
            "Avg loss (val): 0.0052\n",
            "Avg acc (val): 54.1200\n",
            "\n",
            "Best acc: 54.1200\n",
            "--------------------\n",
            "\n",
            "\n",
            "Epoch: 11/50\n",
            "TRAINING\n",
            "Avg loss (train): 0.0048\n",
            "Avg acc (train): 56.2148\n",
            "MESURE ACCURACY ON TRAIN AND VALIDATION\n",
            "Epoch 11 result: \n",
            "Avg loss (train): 0.0050\n",
            "Avg acc (train): 54.8448\n",
            "Avg loss (val): 0.0050\n",
            "Avg acc (val): 55.6600\n",
            "\n",
            "Best acc: 55.6600\n",
            "--------------------\n",
            "\n",
            "\n",
            "Epoch: 12/50\n",
            "TRAINING\n",
            "Avg loss (train): 0.0046\n",
            "Avg acc (train): 57.7914\n",
            "MESURE ACCURACY ON TRAIN AND VALIDATION\n",
            "Epoch 12 result: \n",
            "Avg loss (train): 0.0048\n",
            "Avg acc (train): 56.6314\n",
            "Avg loss (val): 0.0049\n",
            "Avg acc (val): 56.4200\n",
            "\n",
            "Best acc: 56.4200\n",
            "--------------------\n",
            "\n",
            "\n",
            "Epoch: 13/50\n",
            "TRAINING\n",
            "Avg loss (train): 0.0045\n",
            "Avg acc (train): 59.1247\n",
            "MESURE ACCURACY ON TRAIN AND VALIDATION\n",
            "Epoch 13 result: \n",
            "Avg loss (train): 0.0044\n",
            "Avg acc (train): 60.1680\n",
            "Avg loss (val): 0.0046\n",
            "Avg acc (val): 58.8400\n",
            "\n",
            "Best acc: 58.8400\n",
            "--------------------\n",
            "\n",
            "\n",
            "Epoch: 14/50\n",
            "TRAINING\n",
            "Avg loss (train): 0.0043\n",
            "Avg acc (train): 60.6046\n",
            "MESURE ACCURACY ON TRAIN AND VALIDATION\n",
            "Epoch 14 result: \n",
            "Avg loss (train): 0.0043\n",
            "Avg acc (train): 60.3747\n",
            "Avg loss (val): 0.0046\n",
            "Avg acc (val): 59.4000\n",
            "\n",
            "Best acc: 59.4000\n",
            "--------------------\n",
            "\n",
            "\n",
            "Epoch: 15/50\n",
            "TRAINING\n",
            "Avg loss (train): 0.0042\n",
            "Avg acc (train): 62.0446\n",
            "MESURE ACCURACY ON TRAIN AND VALIDATION\n",
            "Epoch 15 result: \n",
            "Avg loss (train): 0.0043\n",
            "Avg acc (train): 60.9446\n",
            "Avg loss (val): 0.0047\n",
            "Avg acc (val): 59.2000\n",
            "\n",
            "Best acc: 59.4000\n",
            "--------------------\n",
            "\n",
            "\n",
            "Epoch: 16/50\n",
            "TRAINING\n",
            "Avg loss (train): 0.0042\n",
            "Avg acc (train): 61.7913\n",
            "MESURE ACCURACY ON TRAIN AND VALIDATION\n",
            "Epoch 16 result: \n",
            "Avg loss (train): 0.0040\n",
            "Avg acc (train): 64.0279\n",
            "Avg loss (val): 0.0044\n",
            "Avg acc (val): 61.1200\n",
            "\n",
            "Best acc: 61.1200\n",
            "--------------------\n",
            "\n",
            "\n",
            "Epoch: 17/50\n",
            "TRAINING\n",
            "Avg loss (train): 0.0041\n",
            "Avg acc (train): 62.8046\n",
            "MESURE ACCURACY ON TRAIN AND VALIDATION\n",
            "Epoch 17 result: \n",
            "Avg loss (train): 0.0044\n",
            "Avg acc (train): 60.4347\n",
            "Avg loss (val): 0.0050\n",
            "Avg acc (val): 55.8800\n",
            "\n",
            "Best acc: 61.1200\n",
            "--------------------\n",
            "\n",
            "\n",
            "Epoch: 18/50\n",
            "TRAINING\n",
            "Avg loss (train): 0.0039\n",
            "Avg acc (train): 64.1012\n",
            "MESURE ACCURACY ON TRAIN AND VALIDATION\n",
            "Epoch 18 result: \n",
            "Avg loss (train): 0.0039\n",
            "Avg acc (train): 64.5512\n",
            "Avg loss (val): 0.0044\n",
            "Avg acc (val): 60.2600\n",
            "\n",
            "Best acc: 61.1200\n",
            "--------------------\n",
            "\n",
            "\n",
            "Epoch: 19/50\n",
            "TRAINING\n",
            "Avg loss (train): 0.0038\n",
            "Avg acc (train): 65.1712\n",
            "MESURE ACCURACY ON TRAIN AND VALIDATION\n",
            "Epoch 19 result: \n",
            "Avg loss (train): 0.0039\n",
            "Avg acc (train): 64.9012\n",
            "Avg loss (val): 0.0044\n",
            "Avg acc (val): 60.9000\n",
            "\n",
            "Best acc: 61.1200\n",
            "--------------------\n",
            "\n",
            "\n",
            "Epoch: 20/50\n",
            "TRAINING\n",
            "Avg loss (train): 0.0038\n",
            "Avg acc (train): 65.2512\n",
            "MESURE ACCURACY ON TRAIN AND VALIDATION\n",
            "Epoch 20 result: \n",
            "Avg loss (train): 0.0037\n",
            "Avg acc (train): 66.1878\n",
            "Avg loss (val): 0.0041\n",
            "Avg acc (val): 62.3800\n",
            "\n",
            "Best acc: 62.3800\n",
            "--------------------\n",
            "\n",
            "\n",
            "Epoch: 21/50\n",
            "TRAINING\n",
            "Avg loss (train): 0.0037\n",
            "Avg acc (train): 66.4011\n",
            "MESURE ACCURACY ON TRAIN AND VALIDATION\n",
            "Epoch 21 result: \n",
            "Avg loss (train): 0.0037\n",
            "Avg acc (train): 66.3778\n",
            "Avg loss (val): 0.0043\n",
            "Avg acc (val): 61.3400\n",
            "\n",
            "Best acc: 62.3800\n",
            "--------------------\n",
            "\n",
            "\n",
            "Epoch: 22/50\n",
            "TRAINING\n",
            "Avg loss (train): 0.0036\n",
            "Avg acc (train): 67.0178\n",
            "MESURE ACCURACY ON TRAIN AND VALIDATION\n",
            "Epoch 22 result: \n",
            "Avg loss (train): 0.0036\n",
            "Avg acc (train): 67.4844\n",
            "Avg loss (val): 0.0043\n",
            "Avg acc (val): 62.2400\n",
            "\n",
            "Best acc: 62.3800\n",
            "--------------------\n",
            "\n",
            "\n",
            "Epoch: 23/50\n",
            "TRAINING\n",
            "Avg loss (train): 0.0036\n",
            "Avg acc (train): 67.3411\n",
            "MESURE ACCURACY ON TRAIN AND VALIDATION\n",
            "Epoch 23 result: \n",
            "Avg loss (train): 0.0035\n",
            "Avg acc (train): 67.5744\n",
            "Avg loss (val): 0.0042\n",
            "Avg acc (val): 62.3400\n",
            "\n",
            "Best acc: 62.3800\n",
            "--------------------\n",
            "\n",
            "\n",
            "Epoch: 24/50\n",
            "TRAINING\n",
            "Avg loss (train): 0.0035\n",
            "Avg acc (train): 68.1444\n",
            "MESURE ACCURACY ON TRAIN AND VALIDATION\n",
            "Epoch 24 result: \n",
            "Avg loss (train): 0.0033\n",
            "Avg acc (train): 69.7177\n",
            "Avg loss (val): 0.0040\n",
            "Avg acc (val): 64.4800\n",
            "\n",
            "Best acc: 64.4800\n",
            "--------------------\n",
            "\n",
            "\n",
            "Epoch: 25/50\n",
            "TRAINING\n",
            "Avg loss (train): 0.0034\n",
            "Avg acc (train): 69.2410\n",
            "MESURE ACCURACY ON TRAIN AND VALIDATION\n",
            "Epoch 25 result: \n",
            "Avg loss (train): 0.0035\n",
            "Avg acc (train): 68.1211\n",
            "Avg loss (val): 0.0041\n",
            "Avg acc (val): 62.4000\n",
            "\n",
            "Best acc: 64.4800\n",
            "--------------------\n",
            "\n",
            "\n",
            "Epoch: 26/50\n",
            "TRAINING\n",
            "Avg loss (train): 0.0034\n",
            "Avg acc (train): 69.0810\n",
            "MESURE ACCURACY ON TRAIN AND VALIDATION\n",
            "Epoch 26 result: \n",
            "Avg loss (train): 0.0033\n",
            "Avg acc (train): 70.0610\n",
            "Avg loss (val): 0.0040\n",
            "Avg acc (val): 64.3200\n",
            "\n",
            "Best acc: 64.4800\n",
            "--------------------\n",
            "\n",
            "\n",
            "Epoch: 27/50\n",
            "TRAINING\n",
            "Avg loss (train): 0.0033\n",
            "Avg acc (train): 69.8277\n",
            "MESURE ACCURACY ON TRAIN AND VALIDATION\n",
            "Epoch 27 result: \n",
            "Avg loss (train): 0.0031\n",
            "Avg acc (train): 71.3043\n",
            "Avg loss (val): 0.0040\n",
            "Avg acc (val): 64.4600\n",
            "\n",
            "Best acc: 64.4800\n",
            "--------------------\n",
            "\n",
            "\n",
            "Epoch: 28/50\n",
            "TRAINING\n",
            "Avg loss (train): 0.0032\n",
            "Avg acc (train): 70.4110\n",
            "MESURE ACCURACY ON TRAIN AND VALIDATION\n",
            "Epoch 28 result: \n",
            "Avg loss (train): 0.0032\n",
            "Avg acc (train): 70.1443\n",
            "Avg loss (val): 0.0042\n",
            "Avg acc (val): 63.6200\n",
            "\n",
            "Best acc: 64.4800\n",
            "--------------------\n",
            "\n",
            "\n",
            "Epoch: 29/50\n",
            "TRAINING\n",
            "Avg loss (train): 0.0032\n",
            "Avg acc (train): 71.1043\n",
            "MESURE ACCURACY ON TRAIN AND VALIDATION\n",
            "Epoch 29 result: \n",
            "Avg loss (train): 0.0032\n",
            "Avg acc (train): 71.2576\n",
            "Avg loss (val): 0.0043\n",
            "Avg acc (val): 62.8600\n",
            "\n",
            "Best acc: 64.4800\n",
            "--------------------\n",
            "\n",
            "\n",
            "Epoch: 30/50\n",
            "TRAINING\n",
            "Avg loss (train): 0.0031\n",
            "Avg acc (train): 71.7876\n",
            "MESURE ACCURACY ON TRAIN AND VALIDATION\n",
            "Epoch 30 result: \n",
            "Avg loss (train): 0.0029\n",
            "Avg acc (train): 73.1909\n",
            "Avg loss (val): 0.0040\n",
            "Avg acc (val): 65.1200\n",
            "\n",
            "Best acc: 65.1200\n",
            "--------------------\n",
            "\n",
            "\n",
            "Epoch: 31/50\n",
            "TRAINING\n",
            "Avg loss (train): 0.0030\n",
            "Avg acc (train): 72.2309\n",
            "MESURE ACCURACY ON TRAIN AND VALIDATION\n",
            "Epoch 31 result: \n",
            "Avg loss (train): 0.0029\n",
            "Avg acc (train): 74.0742\n",
            "Avg loss (val): 0.0040\n",
            "Avg acc (val): 65.1400\n",
            "\n",
            "Best acc: 65.1400\n",
            "--------------------\n",
            "\n",
            "\n",
            "Epoch: 32/50\n",
            "TRAINING\n",
            "Avg loss (train): 0.0030\n",
            "Avg acc (train): 71.9476\n",
            "MESURE ACCURACY ON TRAIN AND VALIDATION\n",
            "Epoch 32 result: \n",
            "Avg loss (train): 0.0029\n",
            "Avg acc (train): 73.5609\n",
            "Avg loss (val): 0.0041\n",
            "Avg acc (val): 65.2600\n",
            "\n",
            "Best acc: 65.2600\n",
            "--------------------\n",
            "\n",
            "\n",
            "Epoch: 33/50\n",
            "TRAINING\n",
            "Avg loss (train): 0.0030\n",
            "Avg acc (train): 72.8242\n",
            "MESURE ACCURACY ON TRAIN AND VALIDATION\n",
            "Epoch 33 result: \n",
            "Avg loss (train): 0.0028\n",
            "Avg acc (train): 74.5808\n",
            "Avg loss (val): 0.0040\n",
            "Avg acc (val): 66.0600\n",
            "\n",
            "Best acc: 66.0600\n",
            "--------------------\n",
            "\n",
            "\n",
            "Epoch: 34/50\n",
            "TRAINING\n",
            "Avg loss (train): 0.0029\n",
            "Avg acc (train): 73.6442\n",
            "MESURE ACCURACY ON TRAIN AND VALIDATION\n",
            "Epoch 34 result: \n",
            "Avg loss (train): 0.0027\n",
            "Avg acc (train): 75.4242\n",
            "Avg loss (val): 0.0040\n",
            "Avg acc (val): 65.8800\n",
            "\n",
            "Best acc: 66.0600\n",
            "--------------------\n",
            "\n",
            "\n",
            "Epoch: 35/50\n",
            "TRAINING\n",
            "Avg loss (train): 0.0029\n",
            "Avg acc (train): 73.5175\n",
            "MESURE ACCURACY ON TRAIN AND VALIDATION\n",
            "Epoch 35 result: \n",
            "Avg loss (train): 0.0027\n",
            "Avg acc (train): 74.6875\n",
            "Avg loss (val): 0.0041\n",
            "Avg acc (val): 64.7800\n",
            "\n",
            "Best acc: 66.0600\n",
            "--------------------\n",
            "\n",
            "\n",
            "Epoch: 36/50\n",
            "TRAINING\n",
            "Avg loss (train): 0.0028\n",
            "Avg acc (train): 74.4075\n",
            "MESURE ACCURACY ON TRAIN AND VALIDATION\n",
            "Epoch 36 result: \n",
            "Avg loss (train): 0.0027\n",
            "Avg acc (train): 75.7808\n",
            "Avg loss (val): 0.0040\n",
            "Avg acc (val): 65.5000\n",
            "\n",
            "Best acc: 66.0600\n",
            "--------------------\n",
            "\n",
            "\n",
            "Epoch: 37/50\n",
            "TRAINING\n",
            "Avg loss (train): 0.0027\n",
            "Avg acc (train): 75.2642\n",
            "MESURE ACCURACY ON TRAIN AND VALIDATION\n",
            "Epoch 37 result: \n",
            "Avg loss (train): 0.0029\n",
            "Avg acc (train): 74.0375\n",
            "Avg loss (val): 0.0045\n",
            "Avg acc (val): 62.7400\n",
            "\n",
            "Best acc: 66.0600\n",
            "--------------------\n",
            "\n",
            "\n",
            "Epoch: 38/50\n",
            "TRAINING\n",
            "Avg loss (train): 0.0027\n",
            "Avg acc (train): 75.2075\n",
            "MESURE ACCURACY ON TRAIN AND VALIDATION\n",
            "Epoch 38 result: \n",
            "Avg loss (train): 0.0028\n",
            "Avg acc (train): 74.8242\n",
            "Avg loss (val): 0.0043\n",
            "Avg acc (val): 63.4600\n",
            "\n",
            "Best acc: 66.0600\n",
            "--------------------\n",
            "\n",
            "\n",
            "Epoch: 39/50\n",
            "TRAINING\n",
            "Avg loss (train): 0.0027\n",
            "Avg acc (train): 75.7141\n",
            "MESURE ACCURACY ON TRAIN AND VALIDATION\n",
            "Epoch 39 result: \n",
            "Avg loss (train): 0.0027\n",
            "Avg acc (train): 74.7642\n",
            "Avg loss (val): 0.0043\n",
            "Avg acc (val): 64.4600\n",
            "\n",
            "Best acc: 66.0600\n",
            "--------------------\n",
            "\n",
            "\n",
            "Epoch: 40/50\n",
            "TRAINING\n",
            "Avg loss (train): 0.0027\n",
            "Avg acc (train): 75.4742\n",
            "MESURE ACCURACY ON TRAIN AND VALIDATION\n",
            "Epoch 40 result: \n",
            "Avg loss (train): 0.0025\n",
            "Avg acc (train): 76.7208\n",
            "Avg loss (val): 0.0043\n",
            "Avg acc (val): 64.1200\n",
            "\n",
            "Best acc: 66.0600\n",
            "--------------------\n",
            "\n",
            "\n",
            "Epoch: 41/50\n",
            "TRAINING\n",
            "Avg loss (train): 0.0026\n",
            "Avg acc (train): 76.3108\n",
            "MESURE ACCURACY ON TRAIN AND VALIDATION\n",
            "Epoch 41 result: \n",
            "Avg loss (train): 0.0024\n",
            "Avg acc (train): 78.2741\n",
            "Avg loss (val): 0.0041\n",
            "Avg acc (val): 65.5400\n",
            "\n",
            "Best acc: 66.0600\n",
            "--------------------\n",
            "\n",
            "\n",
            "Epoch: 42/50\n",
            "TRAINING\n",
            "Avg loss (train): 0.0025\n",
            "Avg acc (train): 77.0641\n",
            "MESURE ACCURACY ON TRAIN AND VALIDATION\n",
            "Epoch 42 result: \n",
            "Avg loss (train): 0.0024\n",
            "Avg acc (train): 78.4374\n",
            "Avg loss (val): 0.0042\n",
            "Avg acc (val): 65.6400\n",
            "\n",
            "Best acc: 66.0600\n",
            "--------------------\n",
            "\n",
            "\n",
            "Epoch: 43/50\n",
            "TRAINING\n",
            "Avg loss (train): 0.0025\n",
            "Avg acc (train): 77.1074\n",
            "MESURE ACCURACY ON TRAIN AND VALIDATION\n",
            "Epoch 43 result: \n",
            "Avg loss (train): 0.0023\n",
            "Avg acc (train): 78.6407\n",
            "Avg loss (val): 0.0042\n",
            "Avg acc (val): 66.1000\n",
            "\n",
            "Best acc: 66.1000\n",
            "--------------------\n",
            "\n",
            "\n",
            "Epoch: 44/50\n",
            "TRAINING\n",
            "Avg loss (train): 0.0024\n",
            "Avg acc (train): 77.8074\n",
            "MESURE ACCURACY ON TRAIN AND VALIDATION\n",
            "Epoch 44 result: \n",
            "Avg loss (train): 0.0026\n",
            "Avg acc (train): 76.4975\n",
            "Avg loss (val): 0.0048\n",
            "Avg acc (val): 62.7800\n",
            "\n",
            "Best acc: 66.1000\n",
            "--------------------\n",
            "\n",
            "\n",
            "Epoch: 45/50\n",
            "TRAINING\n",
            "Avg loss (train): 0.0024\n",
            "Avg acc (train): 77.9507\n",
            "MESURE ACCURACY ON TRAIN AND VALIDATION\n",
            "Epoch 45 result: \n",
            "Avg loss (train): 0.0023\n",
            "Avg acc (train): 78.9374\n",
            "Avg loss (val): 0.0042\n",
            "Avg acc (val): 65.4400\n",
            "\n",
            "Best acc: 66.1000\n",
            "--------------------\n",
            "\n",
            "\n",
            "Epoch: 46/50\n",
            "TRAINING\n",
            "Avg loss (train): 0.0024\n",
            "Avg acc (train): 77.9574\n",
            "MESURE ACCURACY ON TRAIN AND VALIDATION\n",
            "Epoch 46 result: \n",
            "Avg loss (train): 0.0022\n",
            "Avg acc (train): 79.5340\n",
            "Avg loss (val): 0.0042\n",
            "Avg acc (val): 64.8400\n",
            "\n",
            "Best acc: 66.1000\n",
            "--------------------\n",
            "\n",
            "\n",
            "Epoch: 47/50\n",
            "TRAINING\n",
            "Avg loss (train): 0.0023\n",
            "Avg acc (train): 79.1240\n",
            "MESURE ACCURACY ON TRAIN AND VALIDATION\n",
            "Epoch 47 result: \n",
            "Avg loss (train): 0.0021\n",
            "Avg acc (train): 80.6606\n",
            "Avg loss (val): 0.0044\n",
            "Avg acc (val): 65.3000\n",
            "\n",
            "Best acc: 66.1000\n",
            "--------------------\n",
            "\n",
            "\n",
            "Epoch: 48/50\n",
            "TRAINING\n",
            "Avg loss (train): 0.0022\n",
            "Avg acc (train): 79.3607\n",
            "MESURE ACCURACY ON TRAIN AND VALIDATION\n",
            "Epoch 48 result: \n",
            "Avg loss (train): 0.0021\n",
            "Avg acc (train): 80.7440\n",
            "Avg loss (val): 0.0042\n",
            "Avg acc (val): 64.9600\n",
            "\n",
            "Best acc: 66.1000\n",
            "--------------------\n",
            "\n",
            "\n",
            "Epoch: 49/50\n",
            "TRAINING\n",
            "Avg loss (train): 0.0022\n",
            "Avg acc (train): 79.6440\n",
            "MESURE ACCURACY ON TRAIN AND VALIDATION\n",
            "Epoch 49 result: \n",
            "Avg loss (train): 0.0020\n",
            "Avg acc (train): 81.5106\n",
            "Avg loss (val): 0.0044\n",
            "Avg acc (val): 64.7400\n",
            "\n",
            "Best acc: 66.1000\n",
            "--------------------\n",
            "\n",
            "\n",
            "Epoch: 50/50\n",
            "TRAINING\n",
            "Avg loss (train): 0.0021\n",
            "Avg acc (train): 80.2440\n",
            "MESURE ACCURACY ON TRAIN AND VALIDATION\n",
            "Epoch 50 result: \n",
            "Avg loss (train): 0.0021\n",
            "Avg acc (train): 80.5440\n",
            "Avg loss (val): 0.0046\n",
            "Avg acc (val): 64.4400\n",
            "\n",
            "Best acc: 66.1000\n",
            "--------------------\n",
            "\n",
            "\n",
            "Training completed in 113m 8s\n",
            "Best acc: 66.1000\n"
          ],
          "name": "stdout"
        }
      ]
    },
    {
      "cell_type": "code",
      "metadata": {
        "colab": {
          "base_uri": "https://localhost:8080/"
        },
        "id": "_sTtegYmKcPD",
        "outputId": "43533daf-7659-4178-e373-dae55446e605"
      },
      "source": [
        "net.load_state_dict(best_model_wts)"
      ],
      "execution_count": null,
      "outputs": [
        {
          "output_type": "execute_result",
          "data": {
            "text/plain": [
              "<All keys matched successfully>"
            ]
          },
          "metadata": {
            "tags": []
          },
          "execution_count": 16
        }
      ]
    },
    {
      "cell_type": "code",
      "metadata": {
        "id": "slKxCizm7e6t"
      },
      "source": [
        "torch.save(net.state_dict(), data_dir_drive + 'models/VGG16V2.pt')"
      ],
      "execution_count": 29,
      "outputs": []
    },
    {
      "cell_type": "code",
      "metadata": {
        "id": "xv2b8bNbGPhc",
        "colab": {
          "base_uri": "https://localhost:8080/"
        },
        "outputId": "0ab47677-bf8e-4e16-9b77-b63562b5be4a"
      },
      "source": [
        "! ls '/content/gdrive/My Drive/Colab Notebooks/Deep/models'"
      ],
      "execution_count": 33,
      "outputs": [
        {
          "output_type": "stream",
          "text": [
            "ResNet18.pt  ResNet50.pt  VGG16.pt  VGG16V2.pt\tVGG19.pt\n"
          ],
          "name": "stdout"
        }
      ]
    },
    {
      "cell_type": "code",
      "metadata": {
        "id": "78TlPjZihaTW"
      },
      "source": [
        "def plot_accuracies(accuracies):\n",
        "    \"\"\"\n",
        "    Plots training/validation accuracies.\n",
        "    \"\"\"\n",
        "    plt.figure()\n",
        "    plt.plot(accuracies[TRAIN], c='r', label='Train')\n",
        "    plt.plot(accuracies[VAL], c='g', label='Val')\n",
        "    plt.ylabel('Accuracy')\n",
        "    plt.xlabel('Epoch')\n",
        "    plt.legend()\n",
        "    plt.show()\n",
        "\n",
        "plot_accuracies(accuracies)\n",
        "\n"
      ],
      "execution_count": null,
      "outputs": []
    },
    {
      "cell_type": "code",
      "metadata": {
        "id": "-CV6QL6T7MJ3"
      },
      "source": [
        "def plot_losses(losses):\n",
        "    \"\"\"\n",
        "    Plots training/validation accuracies.\n",
        "    \"\"\"\n",
        "    plt.figure()\n",
        "    plt.plot(losses[TRAIN], c='b', label='Train')\n",
        "    plt.plot(losses[VAL], c='g', label='Val')\n",
        "    plt.ylabel('Loss')\n",
        "    plt.xlabel('Epoch')\n",
        "    plt.legend()\n",
        "    plt.show()\n",
        "\n",
        "plot_losses(losses)"
      ],
      "execution_count": null,
      "outputs": []
    },
    {
      "cell_type": "code",
      "metadata": {
        "id": "aKsneYYSOARh"
      },
      "source": [
        "state_dict = torch.load(data_dir_drive + 'models/VGG16.pt', map_location=device)\n",
        "#state_dict = OrderedDict((k.replace('module.', ''), v) for k, v in old_state_dict.items())"
      ],
      "execution_count": 39,
      "outputs": []
    },
    {
      "cell_type": "code",
      "metadata": {
        "colab": {
          "base_uri": "https://localhost:8080/"
        },
        "id": "cCMpK0RiityE",
        "outputId": "ca32625e-1faa-4869-9265-e31c373d6b57"
      },
      "source": [
        "resume_training = True\n",
        "\n",
        "if resume_training:\n",
        "    print(\"Loading pretrained model..\")\n",
        "    net.load_state_dict(state_dict)\n",
        "    print(\"Loaded!\")\n",
        "\n",
        "    test(net)"
      ],
      "execution_count": 44,
      "outputs": [
        {
          "output_type": "stream",
          "text": [
            "Loading pretrained model..\n",
            "Loaded!\n",
            "MESURE ACCURACY ON TRAIN AND VALIDATION\n",
            "Epoch 1 result: \n",
            "Avg loss (train): 0.0024\n",
            "Avg acc (train): 77.7607\n",
            "Avg loss (val): 0.0040\n",
            "Avg acc (val): 66.8000\n",
            "\n"
          ],
          "name": "stdout"
        }
      ]
    },
    {
      "cell_type": "code",
      "metadata": {
        "id": "TmpaByVLX6ig"
      },
      "source": [
        "X_val = []\r\n",
        "Y_val = []\r\n",
        "with torch.no_grad():\r\n",
        "    for batch_idx, (inputs, targets) in enumerate(valloader):\r\n",
        "        if use_gpu:\r\n",
        "            inputs, targets = inputs.cuda(), targets.cuda()\r\n",
        "        outputs = net(inputs)\r\n",
        "        _, predicted = outputs.max(1)\r\n",
        "        X_val += predicted.tolist()\r\n",
        "        Y_val += targets.tolist()\r\n",
        "        del inputs, targets, outputs, predicted\r\n",
        "        torch.cuda.empty_cache()"
      ],
      "execution_count": 53,
      "outputs": []
    },
    {
      "cell_type": "code",
      "metadata": {
        "id": "WHiSrRRwa4DQ"
      },
      "source": [
        "import numpy as np\r\n",
        "import matplotlib.pyplot as plt\r\n",
        "\r\n",
        "from sklearn import svm, datasets\r\n",
        "from sklearn.metrics import confusion_matrix\r\n",
        "\r\n",
        "def plot_confusion_matrix(cm, target_names, title='Confusion matrix, without normalization', cmap=plt.cm.Blues):\r\n",
        "    plt.imshow(cm, interpolation='nearest', cmap=cmap)\r\n",
        "    plt.title(title)\r\n",
        "    plt.colorbar()\r\n",
        "    tick_marks = np.arange(len(target_names))\r\n",
        "    plt.xticks(tick_marks, target_names, rotation=0)\r\n",
        "    plt.yticks(tick_marks, target_names)\r\n",
        "    plt.tight_layout()\r\n",
        "    plt.ylabel ('Real label')\r\n",
        "    plt.xlabel ('Predicted label')"
      ],
      "execution_count": 60,
      "outputs": []
    },
    {
      "cell_type": "code",
      "metadata": {
        "colab": {
          "base_uri": "https://localhost:8080/",
          "height": 464
        },
        "id": "1Vk1LEgdWWTu",
        "outputId": "495404ab-6b8c-4620-94f3-85b38d520b2d"
      },
      "source": [
        "from sklearn.metrics import confusion_matrix\r\n",
        "\r\n",
        "cm = confusion_matrix(Y_val, X_val)\r\n",
        "np.set_printoptions(precision=2)\r\n",
        "print('Confusion matrix, without normalization')\r\n",
        "print(cm)\r\n",
        "plt.figure()\r\n",
        "plot_confusion_matrix(cm, class_names)"
      ],
      "execution_count": 61,
      "outputs": [
        {
          "output_type": "stream",
          "text": [
            "Confusion matrix, without normalization\n",
            "[[410  13  15  45  15  50  29  20]\n",
            " [ 26 277  16  24  54   8  28  45]\n",
            " [ 32   7 492  38   9  41  13  29]\n",
            " [ 88  24  21 401  18  59  58  37]\n",
            " [ 17  46   8  22 501  34  18  21]\n",
            " [ 43  16  35  33  31 392  21  15]\n",
            " [ 41  51  25  24  25  23 428  37]\n",
            " [ 35  26  11  28  34  20  58 439]]\n"
          ],
          "name": "stdout"
        },
        {
          "output_type": "display_data",
          "data": {
            "image/png": "[encoded data removed]",
            "text/plain": [
              "<Figure size 432x288 with 2 Axes>"
            ]
          },
          "metadata": {
            "tags": [],
            "needs_background": "light"
          }
        }
      ]
    },
    {
      "cell_type": "code",
      "metadata": {
        "id": "8yWIUbAhikpG"
      },
      "source": [
        "file = open(data_dir_drive + \"mySubmission3.txt\",\"w+\") \n",
        "file.write(\"id,label\\n\")\n",
        "\n",
        "for i in range(35001, 40001):\n",
        "    img = Image.open(data_dir_drive + 'data/test/0' + str(i) + '.png')\n",
        "    img = transform_test(img)\n",
        "    img = Variable(img)\n",
        "    img = img.unsqueeze(0)\n",
        "    output = net(img) #I pass the whole test folder to the network image-by-image\n",
        "    _, predicted = output.max(1)\n",
        "    file.write('0' + str(i) + '.png,' + str(int(predicted[0])) +'\\n')\n",
        "\n",
        "file.close()"
      ],
      "execution_count": null,
      "outputs": []
    },
    {
      "cell_type": "code",
      "metadata": {
        "colab": {
          "base_uri": "https://localhost:8080/"
        },
        "id": "SGdsjo0Qmq8o",
        "outputId": "83fe0d80-bd87-483a-e3dd-35044451f987"
      },
      "source": [
        "! ls '/content/gdrive/My Drive/Colab Notebooks/Deep'"
      ],
      "execution_count": null,
      "outputs": [
        {
          "output_type": "stream",
          "text": [
            "data\t  E1.ipynb  mySubmission2.txt  mySubmission.txt\n",
            "data.zip  models    mySubmission3.txt  test.zip\n"
          ],
          "name": "stdout"
        }
      ]
    }
  ]
}