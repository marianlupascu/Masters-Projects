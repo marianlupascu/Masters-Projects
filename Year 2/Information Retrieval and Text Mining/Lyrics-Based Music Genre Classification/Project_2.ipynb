{
  "nbformat": 4,
  "nbformat_minor": 0,
  "metadata": {
    "colab": {
      "name": "Project#2.ipynb",
      "provenance": [],
      "collapsed_sections": []
    },
    "kernelspec": {
      "name": "python3",
      "display_name": "Python 3"
    },
    "accelerator": "GPU",
    "widgets": {
      "application/vnd.jupyter.widget-state+json": {
        "59485ebd5d5241339ea74f70402d11da": {
          "model_module": "@jupyter-widgets/controls",
          "model_name": "HBoxModel",
          "state": {
            "_view_name": "HBoxView",
            "_dom_classes": [],
            "_model_name": "HBoxModel",
            "_view_module": "@jupyter-widgets/controls",
            "_model_module_version": "1.5.0",
            "_view_count": null,
            "_view_module_version": "1.5.0",
            "box_style": "",
            "layout": "IPY_MODEL_8b62e0ee167d4c7885c8dd2923bd727a",
            "_model_module": "@jupyter-widgets/controls",
            "children": [
              "IPY_MODEL_c77598b81aae4f6a93f7ee216413409d",
              "IPY_MODEL_cde12be4bc10440e993c5462d16a4eb2"
            ]
          }
        },
        "8b62e0ee167d4c7885c8dd2923bd727a": {
          "model_module": "@jupyter-widgets/base",
          "model_name": "LayoutModel",
          "state": {
            "_view_name": "LayoutView",
            "grid_template_rows": null,
            "right": null,
            "justify_content": null,
            "_view_module": "@jupyter-widgets/base",
            "overflow": null,
            "_model_module_version": "1.2.0",
            "_view_count": null,
            "flex_flow": null,
            "width": null,
            "min_width": null,
            "border": null,
            "align_items": null,
            "bottom": null,
            "_model_module": "@jupyter-widgets/base",
            "top": null,
            "grid_column": null,
            "overflow_y": null,
            "overflow_x": null,
            "grid_auto_flow": null,
            "grid_area": null,
            "grid_template_columns": null,
            "flex": null,
            "_model_name": "LayoutModel",
            "justify_items": null,
            "grid_row": null,
            "max_height": null,
            "align_content": null,
            "visibility": null,
            "align_self": null,
            "height": null,
            "min_height": null,
            "padding": null,
            "grid_auto_rows": null,
            "grid_gap": null,
            "max_width": null,
            "order": null,
            "_view_module_version": "1.2.0",
            "grid_template_areas": null,
            "object_position": null,
            "object_fit": null,
            "grid_auto_columns": null,
            "margin": null,
            "display": null,
            "left": null
          }
        },
        "c77598b81aae4f6a93f7ee216413409d": {
          "model_module": "@jupyter-widgets/controls",
          "model_name": "FloatProgressModel",
          "state": {
            "_view_name": "ProgressView",
            "style": "IPY_MODEL_a6121f32409743b1aa29db5112a507db",
            "_dom_classes": [],
            "description": "Downloading: 100%",
            "_model_name": "FloatProgressModel",
            "bar_style": "success",
            "max": 213450,
            "_view_module": "@jupyter-widgets/controls",
            "_model_module_version": "1.5.0",
            "value": 213450,
            "_view_count": null,
            "_view_module_version": "1.5.0",
            "orientation": "horizontal",
            "min": 0,
            "description_tooltip": null,
            "_model_module": "@jupyter-widgets/controls",
            "layout": "IPY_MODEL_f57e4607b9c14ca189a8a286a4f59266"
          }
        },
        "cde12be4bc10440e993c5462d16a4eb2": {
          "model_module": "@jupyter-widgets/controls",
          "model_name": "HTMLModel",
          "state": {
            "_view_name": "HTMLView",
            "style": "IPY_MODEL_bb4fd9a513f34003996e89e5acb7c671",
            "_dom_classes": [],
            "description": "",
            "_model_name": "HTMLModel",
            "placeholder": "​",
            "_view_module": "@jupyter-widgets/controls",
            "_model_module_version": "1.5.0",
            "value": " 213k/213k [00:00&lt;00:00, 3.07MB/s]",
            "_view_count": null,
            "_view_module_version": "1.5.0",
            "description_tooltip": null,
            "_model_module": "@jupyter-widgets/controls",
            "layout": "IPY_MODEL_368a840d753349da8ddaf73273aca552"
          }
        },
        "a6121f32409743b1aa29db5112a507db": {
          "model_module": "@jupyter-widgets/controls",
          "model_name": "ProgressStyleModel",
          "state": {
            "_view_name": "StyleView",
            "_model_name": "ProgressStyleModel",
            "description_width": "initial",
            "_view_module": "@jupyter-widgets/base",
            "_model_module_version": "1.5.0",
            "_view_count": null,
            "_view_module_version": "1.2.0",
            "bar_color": null,
            "_model_module": "@jupyter-widgets/controls"
          }
        },
        "f57e4607b9c14ca189a8a286a4f59266": {
          "model_module": "@jupyter-widgets/base",
          "model_name": "LayoutModel",
          "state": {
            "_view_name": "LayoutView",
            "grid_template_rows": null,
            "right": null,
            "justify_content": null,
            "_view_module": "@jupyter-widgets/base",
            "overflow": null,
            "_model_module_version": "1.2.0",
            "_view_count": null,
            "flex_flow": null,
            "width": null,
            "min_width": null,
            "border": null,
            "align_items": null,
            "bottom": null,
            "_model_module": "@jupyter-widgets/base",
            "top": null,
            "grid_column": null,
            "overflow_y": null,
            "overflow_x": null,
            "grid_auto_flow": null,
            "grid_area": null,
            "grid_template_columns": null,
            "flex": null,
            "_model_name": "LayoutModel",
            "justify_items": null,
            "grid_row": null,
            "max_height": null,
            "align_content": null,
            "visibility": null,
            "align_self": null,
            "height": null,
            "min_height": null,
            "padding": null,
            "grid_auto_rows": null,
            "grid_gap": null,
            "max_width": null,
            "order": null,
            "_view_module_version": "1.2.0",
            "grid_template_areas": null,
            "object_position": null,
            "object_fit": null,
            "grid_auto_columns": null,
            "margin": null,
            "display": null,
            "left": null
          }
        },
        "bb4fd9a513f34003996e89e5acb7c671": {
          "model_module": "@jupyter-widgets/controls",
          "model_name": "DescriptionStyleModel",
          "state": {
            "_view_name": "StyleView",
            "_model_name": "DescriptionStyleModel",
            "description_width": "",
            "_view_module": "@jupyter-widgets/base",
            "_model_module_version": "1.5.0",
            "_view_count": null,
            "_view_module_version": "1.2.0",
            "_model_module": "@jupyter-widgets/controls"
          }
        },
        "368a840d753349da8ddaf73273aca552": {
          "model_module": "@jupyter-widgets/base",
          "model_name": "LayoutModel",
          "state": {
            "_view_name": "LayoutView",
            "grid_template_rows": null,
            "right": null,
            "justify_content": null,
            "_view_module": "@jupyter-widgets/base",
            "overflow": null,
            "_model_module_version": "1.2.0",
            "_view_count": null,
            "flex_flow": null,
            "width": null,
            "min_width": null,
            "border": null,
            "align_items": null,
            "bottom": null,
            "_model_module": "@jupyter-widgets/base",
            "top": null,
            "grid_column": null,
            "overflow_y": null,
            "overflow_x": null,
            "grid_auto_flow": null,
            "grid_area": null,
            "grid_template_columns": null,
            "flex": null,
            "_model_name": "LayoutModel",
            "justify_items": null,
            "grid_row": null,
            "max_height": null,
            "align_content": null,
            "visibility": null,
            "align_self": null,
            "height": null,
            "min_height": null,
            "padding": null,
            "grid_auto_rows": null,
            "grid_gap": null,
            "max_width": null,
            "order": null,
            "_view_module_version": "1.2.0",
            "grid_template_areas": null,
            "object_position": null,
            "object_fit": null,
            "grid_auto_columns": null,
            "margin": null,
            "display": null,
            "left": null
          }
        },
        "3b5a67730525483480e8cec76cd4a6fb": {
          "model_module": "@jupyter-widgets/controls",
          "model_name": "HBoxModel",
          "state": {
            "_view_name": "HBoxView",
            "_dom_classes": [],
            "_model_name": "HBoxModel",
            "_view_module": "@jupyter-widgets/controls",
            "_model_module_version": "1.5.0",
            "_view_count": null,
            "_view_module_version": "1.5.0",
            "box_style": "",
            "layout": "IPY_MODEL_12efa42bc18e4072b038c4b8abcff358",
            "_model_module": "@jupyter-widgets/controls",
            "children": [
              "IPY_MODEL_0b83f49455ca4f0ab7fa74a765e5b434",
              "IPY_MODEL_de436a1fb388493c86255d1b764f8217"
            ]
          }
        },
        "12efa42bc18e4072b038c4b8abcff358": {
          "model_module": "@jupyter-widgets/base",
          "model_name": "LayoutModel",
          "state": {
            "_view_name": "LayoutView",
            "grid_template_rows": null,
            "right": null,
            "justify_content": null,
            "_view_module": "@jupyter-widgets/base",
            "overflow": null,
            "_model_module_version": "1.2.0",
            "_view_count": null,
            "flex_flow": null,
            "width": null,
            "min_width": null,
            "border": null,
            "align_items": null,
            "bottom": null,
            "_model_module": "@jupyter-widgets/base",
            "top": null,
            "grid_column": null,
            "overflow_y": null,
            "overflow_x": null,
            "grid_auto_flow": null,
            "grid_area": null,
            "grid_template_columns": null,
            "flex": null,
            "_model_name": "LayoutModel",
            "justify_items": null,
            "grid_row": null,
            "max_height": null,
            "align_content": null,
            "visibility": null,
            "align_self": null,
            "height": null,
            "min_height": null,
            "padding": null,
            "grid_auto_rows": null,
            "grid_gap": null,
            "max_width": null,
            "order": null,
            "_view_module_version": "1.2.0",
            "grid_template_areas": null,
            "object_position": null,
            "object_fit": null,
            "grid_auto_columns": null,
            "margin": null,
            "display": null,
            "left": null
          }
        },
        "0b83f49455ca4f0ab7fa74a765e5b434": {
          "model_module": "@jupyter-widgets/controls",
          "model_name": "FloatProgressModel",
          "state": {
            "_view_name": "ProgressView",
            "style": "IPY_MODEL_b242280ad80f4ec596dcafc5b6dd33e6",
            "_dom_classes": [],
            "description": "Downloading: 100%",
            "_model_name": "FloatProgressModel",
            "bar_style": "success",
            "max": 433,
            "_view_module": "@jupyter-widgets/controls",
            "_model_module_version": "1.5.0",
            "value": 433,
            "_view_count": null,
            "_view_module_version": "1.5.0",
            "orientation": "horizontal",
            "min": 0,
            "description_tooltip": null,
            "_model_module": "@jupyter-widgets/controls",
            "layout": "IPY_MODEL_8284625ce8b8484db345ffd2e698dec6"
          }
        },
        "de436a1fb388493c86255d1b764f8217": {
          "model_module": "@jupyter-widgets/controls",
          "model_name": "HTMLModel",
          "state": {
            "_view_name": "HTMLView",
            "style": "IPY_MODEL_d1a1766d866d4bc9876642ea5d8f2f54",
            "_dom_classes": [],
            "description": "",
            "_model_name": "HTMLModel",
            "placeholder": "​",
            "_view_module": "@jupyter-widgets/controls",
            "_model_module_version": "1.5.0",
            "value": " 433/433 [00:00&lt;00:00, 1.21kB/s]",
            "_view_count": null,
            "_view_module_version": "1.5.0",
            "description_tooltip": null,
            "_model_module": "@jupyter-widgets/controls",
            "layout": "IPY_MODEL_e32173044e60444f80139778e40dc2f1"
          }
        },
        "b242280ad80f4ec596dcafc5b6dd33e6": {
          "model_module": "@jupyter-widgets/controls",
          "model_name": "ProgressStyleModel",
          "state": {
            "_view_name": "StyleView",
            "_model_name": "ProgressStyleModel",
            "description_width": "initial",
            "_view_module": "@jupyter-widgets/base",
            "_model_module_version": "1.5.0",
            "_view_count": null,
            "_view_module_version": "1.2.0",
            "bar_color": null,
            "_model_module": "@jupyter-widgets/controls"
          }
        },
        "8284625ce8b8484db345ffd2e698dec6": {
          "model_module": "@jupyter-widgets/base",
          "model_name": "LayoutModel",
          "state": {
            "_view_name": "LayoutView",
            "grid_template_rows": null,
            "right": null,
            "justify_content": null,
            "_view_module": "@jupyter-widgets/base",
            "overflow": null,
            "_model_module_version": "1.2.0",
            "_view_count": null,
            "flex_flow": null,
            "width": null,
            "min_width": null,
            "border": null,
            "align_items": null,
            "bottom": null,
            "_model_module": "@jupyter-widgets/base",
            "top": null,
            "grid_column": null,
            "overflow_y": null,
            "overflow_x": null,
            "grid_auto_flow": null,
            "grid_area": null,
            "grid_template_columns": null,
            "flex": null,
            "_model_name": "LayoutModel",
            "justify_items": null,
            "grid_row": null,
            "max_height": null,
            "align_content": null,
            "visibility": null,
            "align_self": null,
            "height": null,
            "min_height": null,
            "padding": null,
            "grid_auto_rows": null,
            "grid_gap": null,
            "max_width": null,
            "order": null,
            "_view_module_version": "1.2.0",
            "grid_template_areas": null,
            "object_position": null,
            "object_fit": null,
            "grid_auto_columns": null,
            "margin": null,
            "display": null,
            "left": null
          }
        },
        "d1a1766d866d4bc9876642ea5d8f2f54": {
          "model_module": "@jupyter-widgets/controls",
          "model_name": "DescriptionStyleModel",
          "state": {
            "_view_name": "StyleView",
            "_model_name": "DescriptionStyleModel",
            "description_width": "",
            "_view_module": "@jupyter-widgets/base",
            "_model_module_version": "1.5.0",
            "_view_count": null,
            "_view_module_version": "1.2.0",
            "_model_module": "@jupyter-widgets/controls"
          }
        },
        "e32173044e60444f80139778e40dc2f1": {
          "model_module": "@jupyter-widgets/base",
          "model_name": "LayoutModel",
          "state": {
            "_view_name": "LayoutView",
            "grid_template_rows": null,
            "right": null,
            "justify_content": null,
            "_view_module": "@jupyter-widgets/base",
            "overflow": null,
            "_model_module_version": "1.2.0",
            "_view_count": null,
            "flex_flow": null,
            "width": null,
            "min_width": null,
            "border": null,
            "align_items": null,
            "bottom": null,
            "_model_module": "@jupyter-widgets/base",
            "top": null,
            "grid_column": null,
            "overflow_y": null,
            "overflow_x": null,
            "grid_auto_flow": null,
            "grid_area": null,
            "grid_template_columns": null,
            "flex": null,
            "_model_name": "LayoutModel",
            "justify_items": null,
            "grid_row": null,
            "max_height": null,
            "align_content": null,
            "visibility": null,
            "align_self": null,
            "height": null,
            "min_height": null,
            "padding": null,
            "grid_auto_rows": null,
            "grid_gap": null,
            "max_width": null,
            "order": null,
            "_view_module_version": "1.2.0",
            "grid_template_areas": null,
            "object_position": null,
            "object_fit": null,
            "grid_auto_columns": null,
            "margin": null,
            "display": null,
            "left": null
          }
        },
        "05aa5a87445949c1b0325479b4b1236a": {
          "model_module": "@jupyter-widgets/controls",
          "model_name": "HBoxModel",
          "state": {
            "_view_name": "HBoxView",
            "_dom_classes": [],
            "_model_name": "HBoxModel",
            "_view_module": "@jupyter-widgets/controls",
            "_model_module_version": "1.5.0",
            "_view_count": null,
            "_view_module_version": "1.5.0",
            "box_style": "",
            "layout": "IPY_MODEL_dd032568c1bc41e4b97b81b50f55963c",
            "_model_module": "@jupyter-widgets/controls",
            "children": [
              "IPY_MODEL_29c0fa719cf948f995c96578b3a27912",
              "IPY_MODEL_27f2f5b3608e4ca3929f07ba3f7ff816"
            ]
          }
        },
        "dd032568c1bc41e4b97b81b50f55963c": {
          "model_module": "@jupyter-widgets/base",
          "model_name": "LayoutModel",
          "state": {
            "_view_name": "LayoutView",
            "grid_template_rows": null,
            "right": null,
            "justify_content": null,
            "_view_module": "@jupyter-widgets/base",
            "overflow": null,
            "_model_module_version": "1.2.0",
            "_view_count": null,
            "flex_flow": null,
            "width": null,
            "min_width": null,
            "border": null,
            "align_items": null,
            "bottom": null,
            "_model_module": "@jupyter-widgets/base",
            "top": null,
            "grid_column": null,
            "overflow_y": null,
            "overflow_x": null,
            "grid_auto_flow": null,
            "grid_area": null,
            "grid_template_columns": null,
            "flex": null,
            "_model_name": "LayoutModel",
            "justify_items": null,
            "grid_row": null,
            "max_height": null,
            "align_content": null,
            "visibility": null,
            "align_self": null,
            "height": null,
            "min_height": null,
            "padding": null,
            "grid_auto_rows": null,
            "grid_gap": null,
            "max_width": null,
            "order": null,
            "_view_module_version": "1.2.0",
            "grid_template_areas": null,
            "object_position": null,
            "object_fit": null,
            "grid_auto_columns": null,
            "margin": null,
            "display": null,
            "left": null
          }
        },
        "29c0fa719cf948f995c96578b3a27912": {
          "model_module": "@jupyter-widgets/controls",
          "model_name": "FloatProgressModel",
          "state": {
            "_view_name": "ProgressView",
            "style": "IPY_MODEL_384a1b6f4fe84ba5945d69ea10cc2ca5",
            "_dom_classes": [],
            "description": "Downloading: 100%",
            "_model_name": "FloatProgressModel",
            "bar_style": "success",
            "max": 435779157,
            "_view_module": "@jupyter-widgets/controls",
            "_model_module_version": "1.5.0",
            "value": 435779157,
            "_view_count": null,
            "_view_module_version": "1.5.0",
            "orientation": "horizontal",
            "min": 0,
            "description_tooltip": null,
            "_model_module": "@jupyter-widgets/controls",
            "layout": "IPY_MODEL_b6fafc8cc0134c71bf0c5572f6f565e6"
          }
        },
        "27f2f5b3608e4ca3929f07ba3f7ff816": {
          "model_module": "@jupyter-widgets/controls",
          "model_name": "HTMLModel",
          "state": {
            "_view_name": "HTMLView",
            "style": "IPY_MODEL_b5a1e9bfbfe3432dbe844c6729ed05af",
            "_dom_classes": [],
            "description": "",
            "_model_name": "HTMLModel",
            "placeholder": "​",
            "_view_module": "@jupyter-widgets/controls",
            "_model_module_version": "1.5.0",
            "value": " 436M/436M [00:12&lt;00:00, 34.5MB/s]",
            "_view_count": null,
            "_view_module_version": "1.5.0",
            "description_tooltip": null,
            "_model_module": "@jupyter-widgets/controls",
            "layout": "IPY_MODEL_f9403330025741e8b29bb369a7161d89"
          }
        },
        "384a1b6f4fe84ba5945d69ea10cc2ca5": {
          "model_module": "@jupyter-widgets/controls",
          "model_name": "ProgressStyleModel",
          "state": {
            "_view_name": "StyleView",
            "_model_name": "ProgressStyleModel",
            "description_width": "initial",
            "_view_module": "@jupyter-widgets/base",
            "_model_module_version": "1.5.0",
            "_view_count": null,
            "_view_module_version": "1.2.0",
            "bar_color": null,
            "_model_module": "@jupyter-widgets/controls"
          }
        },
        "b6fafc8cc0134c71bf0c5572f6f565e6": {
          "model_module": "@jupyter-widgets/base",
          "model_name": "LayoutModel",
          "state": {
            "_view_name": "LayoutView",
            "grid_template_rows": null,
            "right": null,
            "justify_content": null,
            "_view_module": "@jupyter-widgets/base",
            "overflow": null,
            "_model_module_version": "1.2.0",
            "_view_count": null,
            "flex_flow": null,
            "width": null,
            "min_width": null,
            "border": null,
            "align_items": null,
            "bottom": null,
            "_model_module": "@jupyter-widgets/base",
            "top": null,
            "grid_column": null,
            "overflow_y": null,
            "overflow_x": null,
            "grid_auto_flow": null,
            "grid_area": null,
            "grid_template_columns": null,
            "flex": null,
            "_model_name": "LayoutModel",
            "justify_items": null,
            "grid_row": null,
            "max_height": null,
            "align_content": null,
            "visibility": null,
            "align_self": null,
            "height": null,
            "min_height": null,
            "padding": null,
            "grid_auto_rows": null,
            "grid_gap": null,
            "max_width": null,
            "order": null,
            "_view_module_version": "1.2.0",
            "grid_template_areas": null,
            "object_position": null,
            "object_fit": null,
            "grid_auto_columns": null,
            "margin": null,
            "display": null,
            "left": null
          }
        },
        "b5a1e9bfbfe3432dbe844c6729ed05af": {
          "model_module": "@jupyter-widgets/controls",
          "model_name": "DescriptionStyleModel",
          "state": {
            "_view_name": "StyleView",
            "_model_name": "DescriptionStyleModel",
            "description_width": "",
            "_view_module": "@jupyter-widgets/base",
            "_model_module_version": "1.5.0",
            "_view_count": null,
            "_view_module_version": "1.2.0",
            "_model_module": "@jupyter-widgets/controls"
          }
        },
        "f9403330025741e8b29bb369a7161d89": {
          "model_module": "@jupyter-widgets/base",
          "model_name": "LayoutModel",
          "state": {
            "_view_name": "LayoutView",
            "grid_template_rows": null,
            "right": null,
            "justify_content": null,
            "_view_module": "@jupyter-widgets/base",
            "overflow": null,
            "_model_module_version": "1.2.0",
            "_view_count": null,
            "flex_flow": null,
            "width": null,
            "min_width": null,
            "border": null,
            "align_items": null,
            "bottom": null,
            "_model_module": "@jupyter-widgets/base",
            "top": null,
            "grid_column": null,
            "overflow_y": null,
            "overflow_x": null,
            "grid_auto_flow": null,
            "grid_area": null,
            "grid_template_columns": null,
            "flex": null,
            "_model_name": "LayoutModel",
            "justify_items": null,
            "grid_row": null,
            "max_height": null,
            "align_content": null,
            "visibility": null,
            "align_self": null,
            "height": null,
            "min_height": null,
            "padding": null,
            "grid_auto_rows": null,
            "grid_gap": null,
            "max_width": null,
            "order": null,
            "_view_module_version": "1.2.0",
            "grid_template_areas": null,
            "object_position": null,
            "object_fit": null,
            "grid_auto_columns": null,
            "margin": null,
            "display": null,
            "left": null
          }
        }
      }
    }
  },
  "cells": [
    {
      "cell_type": "markdown",
      "metadata": {
        "id": "oZZ6I9eOQu1-"
      },
      "source": [
        "## **Preparing all things**"
      ]
    },
    {
      "cell_type": "code",
      "metadata": {
        "id": "dv-VliSuZD9L"
      },
      "source": [
        "!pip install -q -U watermark"
      ],
      "execution_count": null,
      "outputs": []
    },
    {
      "cell_type": "code",
      "metadata": {
        "id": "OQ5qZHzxqLPl",
        "colab": {
          "base_uri": "https://localhost:8080/"
        },
        "outputId": "840547e2-b376-4ff6-a9cc-c220ccb8413b"
      },
      "source": [
        "!pip install -qq transformers"
      ],
      "execution_count": null,
      "outputs": [
        {
          "output_type": "stream",
          "text": [
            "\u001b[K     |████████████████████████████████| 1.5MB 13.3MB/s \n",
            "\u001b[K     |████████████████████████████████| 890kB 52.7MB/s \n",
            "\u001b[K     |████████████████████████████████| 2.9MB 57.8MB/s \n",
            "\u001b[?25h  Building wheel for sacremoses (setup.py) ... \u001b[?25l\u001b[?25hdone\n"
          ],
          "name": "stdout"
        }
      ]
    },
    {
      "cell_type": "code",
      "metadata": {
        "id": "CA_0EwcQQeHS"
      },
      "source": [
        "from google.colab import files, auth, drive\r\n",
        "import torch.backends.cudnn as cudnn\r\n",
        "import torch\r\n",
        "import torch.nn as nn\r\n",
        "import torch.optim as optim\r\n",
        "from torch.optim import lr_scheduler\r\n",
        "from torch.autograd import Variable\r\n",
        "import numpy as np\r\n",
        "import copy\r\n",
        "import re\r\n",
        "import pandas as pd\r\n",
        "import torchvision\r\n",
        "from torchvision import datasets, models, transforms\r\n",
        "import matplotlib.pyplot as plt\r\n",
        "import seaborn as sns; sns.set_theme()\r\n",
        "from sklearn.metrics import confusion_matrix, accuracy_score, classification_report\r\n",
        "from sklearn.feature_extraction.text import CountVectorizer, TfidfTransformer, TfidfVectorizer\r\n",
        "from sklearn.linear_model import LogisticRegression\r\n",
        "from sklearn.svm import SVC# Support Vector Machine\r\n",
        "from sklearn.naive_bayes import MultinomialNB\r\n",
        "from sklearn.pipeline import Pipeline\r\n",
        "from transformers import BertTokenizer, BertModel\r\n",
        "from torch.utils.data import Dataset, DataLoader\r\n",
        "from sklearn.model_selection import train_test_split\r\n",
        "import torch.nn.functional as F\r\n",
        "from transformers import AdamW, get_linear_schedule_with_warmup\r\n",
        "from collections import defaultdict\r\n",
        "from sklearn.utils import shuffle\r\n",
        "from nltk.corpus import stopwords\r\n",
        "from nltk import word_tokenize\r\n",
        "from nltk.stem import WordNetLemmatizer"
      ],
      "execution_count": null,
      "outputs": []
    },
    {
      "cell_type": "markdown",
      "metadata": {
        "id": "LiBGtYgaW4FF"
      },
      "source": [
        "## **Setup & Config**\r\n"
      ]
    },
    {
      "cell_type": "code",
      "metadata": {
        "colab": {
          "base_uri": "https://localhost:8080/"
        },
        "id": "eL7SveIIXfQj",
        "outputId": "afe69748-d76e-41e8-9e37-f056a884e715"
      },
      "source": [
        "CUDA_LAUNCH_BLOCKING=1\r\n",
        "\r\n",
        "plt.ion()  \r\n",
        "\r\n",
        "use_gpu = torch.cuda.is_available()\r\n",
        "if use_gpu:\r\n",
        "    print(\"Using CUDA\")\r\n",
        "else:\r\n",
        "    print(\"Using CPU\")\r\n",
        "device = torch.device(\"cuda\" if torch.cuda.is_available() else \"cpu\")"
      ],
      "execution_count": null,
      "outputs": [
        {
          "output_type": "stream",
          "text": [
            "Using CUDA\n"
          ],
          "name": "stdout"
        }
      ]
    },
    {
      "cell_type": "code",
      "metadata": {
        "colab": {
          "base_uri": "https://localhost:8080/"
        },
        "id": "0ocgHayurhrT",
        "outputId": "ce016f69-3f86-499f-f54c-3b877223b812"
      },
      "source": [
        "# Mount to drive\r\n",
        "drive.mount('/content/gdrive', force_remount=True)\r\n",
        "data_dir_drive ='/content/gdrive/My Drive/Colab Notebooks/Information Retrieval and Text Mining/'\r\n",
        "data_dir ='/content' # When read from unziped file"
      ],
      "execution_count": null,
      "outputs": [
        {
          "output_type": "stream",
          "text": [
            "Mounted at /content/gdrive\n"
          ],
          "name": "stdout"
        }
      ]
    },
    {
      "cell_type": "code",
      "metadata": {
        "colab": {
          "base_uri": "https://localhost:8080/"
        },
        "id": "uK2EHnLqW1FT",
        "outputId": "4d3ab487-dd1b-4e37-8db1-94935f913ba0"
      },
      "source": [
        "import nltk\r\n",
        "\r\n",
        "# stopwords, punkt, wordnet \r\n",
        "nltk.download()"
      ],
      "execution_count": null,
      "outputs": [
        {
          "output_type": "stream",
          "text": [
            "NLTK Downloader\n",
            "---------------------------------------------------------------------------\n",
            "    d) Download   l) List    u) Update   c) Config   h) Help   q) Quit\n",
            "---------------------------------------------------------------------------\n",
            "Downloader> d\n",
            "\n",
            "Download which package (l=list; x=cancel)?\n",
            "  Identifier> punkt\n",
            "    Downloading package punkt to /root/nltk_data...\n",
            "      Unzipping tokenizers/punkt.zip.\n",
            "\n",
            "---------------------------------------------------------------------------\n",
            "    d) Download   l) List    u) Update   c) Config   h) Help   q) Quit\n",
            "---------------------------------------------------------------------------\n",
            "Downloader> d\n",
            "\n",
            "Download which package (l=list; x=cancel)?\n",
            "  Identifier> wordnet\n",
            "    Downloading package wordnet to /root/nltk_data...\n",
            "      Package wordnet is already up-to-date!\n",
            "\n",
            "---------------------------------------------------------------------------\n",
            "    d) Download   l) List    u) Update   c) Config   h) Help   q) Quit\n",
            "---------------------------------------------------------------------------\n",
            "Downloader> q\n"
          ],
          "name": "stdout"
        },
        {
          "output_type": "execute_result",
          "data": {
            "text/plain": [
              "True"
            ]
          },
          "metadata": {
            "tags": []
          },
          "execution_count": 37
        }
      ]
    },
    {
      "cell_type": "code",
      "metadata": {
        "id": "pWHZcSKNr6n0"
      },
      "source": [
        "df = pd.read_csv(data_dir_drive + 'Lyrics-Genre-Train.csv')"
      ],
      "execution_count": null,
      "outputs": []
    },
    {
      "cell_type": "markdown",
      "metadata": {
        "id": "ChbPIGkGfxnk"
      },
      "source": [
        "## **Data Analysis**"
      ]
    },
    {
      "cell_type": "code",
      "metadata": {
        "colab": {
          "base_uri": "https://localhost:8080/",
          "height": 419
        },
        "id": "MbK0kT4lsDTA",
        "outputId": "fcfe1422-0188-4bf5-f657-69e6e1aee109"
      },
      "source": [
        "df"
      ],
      "execution_count": null,
      "outputs": [
        {
          "output_type": "execute_result",
          "data": {
            "text/html": [
              "<div>\n",
              "<style scoped>\n",
              "    .dataframe tbody tr th:only-of-type {\n",
              "        vertical-align: middle;\n",
              "    }\n",
              "\n",
              "    .dataframe tbody tr th {\n",
              "        vertical-align: top;\n",
              "    }\n",
              "\n",
              "    .dataframe thead th {\n",
              "        text-align: right;\n",
              "    }\n",
              "</style>\n",
              "<table border=\"1\" class=\"dataframe\">\n",
              "  <thead>\n",
              "    <tr style=\"text-align: right;\">\n",
              "      <th></th>\n",
              "      <th>Song</th>\n",
              "      <th>Song year</th>\n",
              "      <th>Artist</th>\n",
              "      <th>Genre</th>\n",
              "      <th>Lyrics</th>\n",
              "      <th>Track_id</th>\n",
              "    </tr>\n",
              "  </thead>\n",
              "  <tbody>\n",
              "    <tr>\n",
              "      <th>0</th>\n",
              "      <td>forest-enthroned</td>\n",
              "      <td>2007</td>\n",
              "      <td>catamenia</td>\n",
              "      <td>Metal</td>\n",
              "      <td>I am a night in to the darkness, only soul los...</td>\n",
              "      <td>18096</td>\n",
              "    </tr>\n",
              "    <tr>\n",
              "      <th>1</th>\n",
              "      <td>superhero</td>\n",
              "      <td>2010</td>\n",
              "      <td>aaron-smith</td>\n",
              "      <td>Hip-Hop</td>\n",
              "      <td>Yeah\\nSometimes, i just wanna fly away.\\nThey ...</td>\n",
              "      <td>22724</td>\n",
              "    </tr>\n",
              "    <tr>\n",
              "      <th>2</th>\n",
              "      <td>chicago-now</td>\n",
              "      <td>2007</td>\n",
              "      <td>fall</td>\n",
              "      <td>Metal</td>\n",
              "      <td>Do you work hard?\\nDo you work hard?\\nYou don'...</td>\n",
              "      <td>24760</td>\n",
              "    </tr>\n",
              "    <tr>\n",
              "      <th>3</th>\n",
              "      <td>the-secret</td>\n",
              "      <td>2007</td>\n",
              "      <td>geto-boys</td>\n",
              "      <td>Hip-Hop</td>\n",
              "      <td>You know what? I'm destined to be the last man...</td>\n",
              "      <td>24176</td>\n",
              "    </tr>\n",
              "    <tr>\n",
              "      <th>4</th>\n",
              "      <td>be-the-lake</td>\n",
              "      <td>2011</td>\n",
              "      <td>brad-paisley</td>\n",
              "      <td>Country</td>\n",
              "      <td>There ain't nothing that I would rather see\\nT...</td>\n",
              "      <td>17260</td>\n",
              "    </tr>\n",
              "    <tr>\n",
              "      <th>...</th>\n",
              "      <td>...</td>\n",
              "      <td>...</td>\n",
              "      <td>...</td>\n",
              "      <td>...</td>\n",
              "      <td>...</td>\n",
              "      <td>...</td>\n",
              "    </tr>\n",
              "    <tr>\n",
              "      <th>18508</th>\n",
              "      <td>i-wish-he-didn-t-trust-me-so-much</td>\n",
              "      <td>2008</td>\n",
              "      <td>bobby-womack</td>\n",
              "      <td>R&amp;B</td>\n",
              "      <td>I'm the best friend he's got\\nI'd give him the...</td>\n",
              "      <td>12033</td>\n",
              "    </tr>\n",
              "    <tr>\n",
              "      <th>18509</th>\n",
              "      <td>i-totally-miss-you</td>\n",
              "      <td>2006</td>\n",
              "      <td>bad-boys-blue</td>\n",
              "      <td>Pop</td>\n",
              "      <td>Bad Boys Blue\\n\"I Totally Miss You\"\\nI did you...</td>\n",
              "      <td>15987</td>\n",
              "    </tr>\n",
              "    <tr>\n",
              "      <th>18510</th>\n",
              "      <td>sorry-for-love</td>\n",
              "      <td>2002</td>\n",
              "      <td>celine-dion</td>\n",
              "      <td>Pop</td>\n",
              "      <td>Forgive me for the things\\nThat I never said t...</td>\n",
              "      <td>2722</td>\n",
              "    </tr>\n",
              "    <tr>\n",
              "      <th>18511</th>\n",
              "      <td>cure-for-aids</td>\n",
              "      <td>2008</td>\n",
              "      <td>dan-bern</td>\n",
              "      <td>Indie</td>\n",
              "      <td>The day they found a cure for AIDS\\nThe day th...</td>\n",
              "      <td>10221</td>\n",
              "    </tr>\n",
              "    <tr>\n",
              "      <th>18512</th>\n",
              "      <td>iceberg-meadows</td>\n",
              "      <td>2015</td>\n",
              "      <td>crawdad-republic</td>\n",
              "      <td>Pop</td>\n",
              "      <td>Fourth of July has come, it's custom that we g...</td>\n",
              "      <td>13657</td>\n",
              "    </tr>\n",
              "  </tbody>\n",
              "</table>\n",
              "<p>18513 rows × 6 columns</p>\n",
              "</div>"
            ],
            "text/plain": [
              "                                    Song  ...  Track_id\n",
              "0                       forest-enthroned  ...     18096\n",
              "1                              superhero  ...     22724\n",
              "2                            chicago-now  ...     24760\n",
              "3                             the-secret  ...     24176\n",
              "4                            be-the-lake  ...     17260\n",
              "...                                  ...  ...       ...\n",
              "18508  i-wish-he-didn-t-trust-me-so-much  ...     12033\n",
              "18509                 i-totally-miss-you  ...     15987\n",
              "18510                     sorry-for-love  ...      2722\n",
              "18511                      cure-for-aids  ...     10221\n",
              "18512                    iceberg-meadows  ...     13657\n",
              "\n",
              "[18513 rows x 6 columns]"
            ]
          },
          "metadata": {
            "tags": []
          },
          "execution_count": 7
        }
      ]
    },
    {
      "cell_type": "code",
      "metadata": {
        "id": "AtS5nPN_fymY",
        "colab": {
          "base_uri": "https://localhost:8080/",
          "height": 297
        },
        "outputId": "cc91c983-19c0-41aa-e0ff-40d257fd2717"
      },
      "source": [
        "# The describe method shows basic statistical characteristics of each \r\n",
        "# numerical feature (int64 and float64 types): number of non-missing values, \r\n",
        "# mean, standard deviation, range, median, 0.25 and 0.75 quartiles.\r\n",
        "df.describe()"
      ],
      "execution_count": null,
      "outputs": [
        {
          "output_type": "execute_result",
          "data": {
            "text/html": [
              "<div>\n",
              "<style scoped>\n",
              "    .dataframe tbody tr th:only-of-type {\n",
              "        vertical-align: middle;\n",
              "    }\n",
              "\n",
              "    .dataframe tbody tr th {\n",
              "        vertical-align: top;\n",
              "    }\n",
              "\n",
              "    .dataframe thead th {\n",
              "        text-align: right;\n",
              "    }\n",
              "</style>\n",
              "<table border=\"1\" class=\"dataframe\">\n",
              "  <thead>\n",
              "    <tr style=\"text-align: right;\">\n",
              "      <th></th>\n",
              "      <th>Song year</th>\n",
              "      <th>Track_id</th>\n",
              "    </tr>\n",
              "  </thead>\n",
              "  <tbody>\n",
              "    <tr>\n",
              "      <th>count</th>\n",
              "      <td>18513.000000</td>\n",
              "      <td>18513.000000</td>\n",
              "    </tr>\n",
              "    <tr>\n",
              "      <th>mean</th>\n",
              "      <td>2007.780641</td>\n",
              "      <td>13206.886458</td>\n",
              "    </tr>\n",
              "    <tr>\n",
              "      <th>std</th>\n",
              "      <td>14.906961</td>\n",
              "      <td>7644.942910</td>\n",
              "    </tr>\n",
              "    <tr>\n",
              "      <th>min</th>\n",
              "      <td>112.000000</td>\n",
              "      <td>0.000000</td>\n",
              "    </tr>\n",
              "    <tr>\n",
              "      <th>25%</th>\n",
              "      <td>2006.000000</td>\n",
              "      <td>6573.000000</td>\n",
              "    </tr>\n",
              "    <tr>\n",
              "      <th>50%</th>\n",
              "      <td>2007.000000</td>\n",
              "      <td>13254.000000</td>\n",
              "    </tr>\n",
              "    <tr>\n",
              "      <th>75%</th>\n",
              "      <td>2011.000000</td>\n",
              "      <td>19833.000000</td>\n",
              "    </tr>\n",
              "    <tr>\n",
              "      <th>max</th>\n",
              "      <td>2016.000000</td>\n",
              "      <td>26447.000000</td>\n",
              "    </tr>\n",
              "  </tbody>\n",
              "</table>\n",
              "</div>"
            ],
            "text/plain": [
              "          Song year      Track_id\n",
              "count  18513.000000  18513.000000\n",
              "mean    2007.780641  13206.886458\n",
              "std       14.906961   7644.942910\n",
              "min      112.000000      0.000000\n",
              "25%     2006.000000   6573.000000\n",
              "50%     2007.000000  13254.000000\n",
              "75%     2011.000000  19833.000000\n",
              "max     2016.000000  26447.000000"
            ]
          },
          "metadata": {
            "tags": []
          },
          "execution_count": 8
        }
      ]
    },
    {
      "cell_type": "code",
      "metadata": {
        "colab": {
          "base_uri": "https://localhost:8080/"
        },
        "id": "iMJTibGAfpGu",
        "outputId": "0e28edbb-a974-4c01-9d45-2047afc8244f"
      },
      "source": [
        "# print same iformations about each column for table\r\n",
        "print(df.info())"
      ],
      "execution_count": null,
      "outputs": [
        {
          "output_type": "stream",
          "text": [
            "<class 'pandas.core.frame.DataFrame'>\n",
            "RangeIndex: 18513 entries, 0 to 18512\n",
            "Data columns (total 6 columns):\n",
            " #   Column     Non-Null Count  Dtype \n",
            "---  ------     --------------  ----- \n",
            " 0   Song       18513 non-null  object\n",
            " 1   Song year  18513 non-null  int64 \n",
            " 2   Artist     18513 non-null  object\n",
            " 3   Genre      18513 non-null  object\n",
            " 4   Lyrics     18513 non-null  object\n",
            " 5   Track_id   18513 non-null  int64 \n",
            "dtypes: int64(2), object(4)\n",
            "memory usage: 867.9+ KB\n",
            "None\n"
          ],
          "name": "stdout"
        }
      ]
    },
    {
      "cell_type": "markdown",
      "metadata": {
        "id": "KXdDUX6HQ7ZB"
      },
      "source": [
        "As there are no missing values, it means that I do not have to throw lines or rebuild them"
      ]
    },
    {
      "cell_type": "code",
      "metadata": {
        "id": "VlohBWcYgs4c"
      },
      "source": [
        "data = df.to_numpy()"
      ],
      "execution_count": null,
      "outputs": []
    },
    {
      "cell_type": "code",
      "metadata": {
        "colab": {
          "base_uri": "https://localhost:8080/",
          "height": 505
        },
        "id": "1uankzNaf-cG",
        "outputId": "57f5a9d7-8b3b-4201-d73d-3822335f7e43"
      },
      "source": [
        "# The distribution of songs by genres\r\n",
        "genres = data[:, 3]\r\n",
        "objects = sorted(set(genres))\r\n",
        "print(objects)\r\n",
        "y_pos = np.arange(len(objects))\r\n",
        "nr = []\r\n",
        "for genre in objects:\r\n",
        "    nr.append(np.sum((genres == genre)))\r\n",
        "print(nr)\r\n",
        "plt.barh(y_pos, nr, align='center', alpha=0.5)\r\n",
        "plt.yticks(y_pos, objects)\r\n",
        "plt.xlabel('Number of songs per genre')\r\n",
        "plt.title('Genres distribution')\r\n",
        "\r\n",
        "plt.show()\r\n",
        "\r\n",
        "for idx in range(len(objects)):\r\n",
        "    print(objects[idx] + ' have ' + str(nr[idx]) + ' songs')"
      ],
      "execution_count": null,
      "outputs": [
        {
          "output_type": "stream",
          "text": [
            "['Country', 'Electronic', 'Folk', 'Hip-Hop', 'Indie', 'Jazz', 'Metal', 'Pop', 'R&B', 'Rock']\n",
            "[1890, 1540, 1153, 2240, 1190, 1540, 1890, 2590, 1190, 3290]\n"
          ],
          "name": "stdout"
        },
        {
          "output_type": "display_data",
          "data": {
            "image/png": "[encoded data removed]",
            "text/plain": [
              "<Figure size 432x288 with 1 Axes>"
            ]
          },
          "metadata": {
            "tags": []
          }
        },
        {
          "output_type": "stream",
          "text": [
            "Country have 1890 songs\n",
            "Electronic have 1540 songs\n",
            "Folk have 1153 songs\n",
            "Hip-Hop have 2240 songs\n",
            "Indie have 1190 songs\n",
            "Jazz have 1540 songs\n",
            "Metal have 1890 songs\n",
            "Pop have 2590 songs\n",
            "R&B have 1190 songs\n",
            "Rock have 3290 songs\n"
          ],
          "name": "stdout"
        }
      ]
    },
    {
      "cell_type": "markdown",
      "metadata": {
        "id": "FMFhJVApRSIu"
      },
      "source": [
        "It's like we have at least 1000 lyrics for each musical genre. Classes are unbalanced"
      ]
    },
    {
      "cell_type": "code",
      "metadata": {
        "colab": {
          "base_uri": "https://localhost:8080/",
          "height": 339
        },
        "id": "EzxpSFwcYCEX",
        "outputId": "0b887ec1-3cd6-4c77-9687-940a1463cee6"
      },
      "source": [
        "sns.countplot(df.Genre)\r\n",
        "plt.xlabel('Genre');"
      ],
      "execution_count": null,
      "outputs": [
        {
          "output_type": "stream",
          "text": [
            "/usr/local/lib/python3.6/dist-packages/seaborn/_decorators.py:43: FutureWarning: Pass the following variable as a keyword arg: x. From version 0.12, the only valid positional argument will be `data`, and passing other arguments without an explicit keyword will result in an error or misinterpretation.\n",
            "  FutureWarning\n"
          ],
          "name": "stderr"
        },
        {
          "output_type": "display_data",
          "data": {
            "image/png": "[encoded data removed]",
            "text/plain": [
              "<Figure size 432x288 with 1 Axes>"
            ]
          },
          "metadata": {
            "tags": []
          }
        }
      ]
    },
    {
      "cell_type": "code",
      "metadata": {
        "colab": {
          "base_uri": "https://localhost:8080/"
        },
        "id": "xkXAQdmYvN9F",
        "outputId": "10ab6c49-71d6-4cad-aca8-096622b21faf"
      },
      "source": [
        "genres = set(df['Genre'])\r\n",
        "genres"
      ],
      "execution_count": null,
      "outputs": [
        {
          "output_type": "execute_result",
          "data": {
            "text/plain": [
              "{'Country',\n",
              " 'Electronic',\n",
              " 'Folk',\n",
              " 'Hip-Hop',\n",
              " 'Indie',\n",
              " 'Jazz',\n",
              " 'Metal',\n",
              " 'Pop',\n",
              " 'R&B',\n",
              " 'Rock'}"
            ]
          },
          "metadata": {
            "tags": []
          },
          "execution_count": 13
        }
      ]
    },
    {
      "cell_type": "code",
      "metadata": {
        "colab": {
          "base_uri": "https://localhost:8080/"
        },
        "id": "rcw4TYaYvL0S",
        "outputId": "e802a749-a537-401e-e165-d0222d02ec86"
      },
      "source": [
        "N = 1000 # number of records to pull from each genre\r\n",
        "RANDOM_SEED = 43 # random seed to make results repeatable\r\n",
        "\r\n",
        "train_df = pd.DataFrame()\r\n",
        "test_df = pd.DataFrame()\r\n",
        "for genre in genres: # loop over each genre\r\n",
        "    print(genre)\r\n",
        "    subset = df[(df.Genre==genre)]\r\n",
        "    train_set = subset.sample(n=N, random_state=RANDOM_SEED) # 1000 verses of \r\n",
        "    #each genre are put in the train set, the network will go in the test set\r\n",
        "    test_set = subset.drop(train_set.index)\r\n",
        "    train_df = train_df.append(train_set)\r\n",
        "    test_df = test_df.append(test_set)\r\n",
        "    \r\n",
        "train_df = shuffle(train_df)\r\n",
        "test_df = shuffle(test_df)"
      ],
      "execution_count": null,
      "outputs": [
        {
          "output_type": "stream",
          "text": [
            "Electronic\n",
            "Pop\n",
            "Rock\n",
            "Metal\n",
            "Country\n",
            "Indie\n",
            "R&B\n",
            "Hip-Hop\n",
            "Jazz\n",
            "Folk\n"
          ],
          "name": "stdout"
        }
      ]
    },
    {
      "cell_type": "markdown",
      "metadata": {
        "id": "Qrfr8m3ETguu"
      },
      "source": [
        "# **Classic ML algorithms**\r\n",
        "## **Naive Bayes with CountVectorizer as a feature extraction**"
      ]
    },
    {
      "cell_type": "code",
      "metadata": {
        "colab": {
          "base_uri": "https://localhost:8080/"
        },
        "id": "EsYIieItEgat",
        "outputId": "2bcc1858-2197-4a08-ef07-1aaa120db062"
      },
      "source": [
        "# define model\r\n",
        "text_clf = Pipeline(\r\n",
        "    [('vect', CountVectorizer()),\r\n",
        "     ('clf', MultinomialNB(alpha=0.1))])\r\n",
        "\r\n",
        "# train model on training data\r\n",
        "text_clf.fit(train_df.Lyrics, train_df.Genre)  \r\n",
        "\r\n",
        "# score model on testing data\r\n",
        "predicted = text_clf.predict(test_df.Lyrics)\r\n",
        "print('accuracy %s' % accuracy_score(predicted, test_df.Genre))\r\n",
        "print(classification_report(test_df.Genre, predicted, target_names=genres))"
      ],
      "execution_count": null,
      "outputs": [
        {
          "output_type": "stream",
          "text": [
            "accuracy 0.38306120051685655\n",
            "              precision    recall  f1-score   support\n",
            "\n",
            "  Electronic       0.43      0.46      0.44       890\n",
            "         Pop       0.19      0.15      0.16       540\n",
            "        Rock       0.12      0.35      0.18       153\n",
            "       Metal       0.73      0.78      0.75      1240\n",
            "     Country       0.08      0.42      0.13       190\n",
            "       Indie       0.32      0.31      0.32       540\n",
            "         R&B       0.57      0.69      0.63       890\n",
            "     Hip-Hop       0.39      0.28      0.32      1590\n",
            "        Jazz       0.09      0.38      0.14       190\n",
            "        Folk       0.49      0.17      0.25      2290\n",
            "\n",
            "    accuracy                           0.38      8513\n",
            "   macro avg       0.34      0.40      0.33      8513\n",
            "weighted avg       0.45      0.38      0.39      8513\n",
            "\n"
          ],
          "name": "stdout"
        }
      ]
    },
    {
      "cell_type": "markdown",
      "metadata": {
        "id": "arC1tEJPUAPZ"
      },
      "source": [
        "## **Naive Bayes with Tfid as a feature extraction**\r\n",
        "\r\n",
        "---\r\n",
        "\r\n"
      ]
    },
    {
      "cell_type": "code",
      "metadata": {
        "colab": {
          "base_uri": "https://localhost:8080/"
        },
        "id": "mnB1QeZkWWSz",
        "outputId": "74bcf678-1ad8-490b-d30b-0b73ea47efa9"
      },
      "source": [
        "# define model\r\n",
        "text_Tfidf = Pipeline(\r\n",
        "    [('vect', TfidfVectorizer()),\r\n",
        "     ('clf', MultinomialNB(alpha=0.1))])\r\n",
        "\r\n",
        "# train model on training data\r\n",
        "text_Tfidf.fit(train_df.Lyrics, train_df.Genre)  \r\n",
        "\r\n",
        "# score model on testing data\r\n",
        "predicted = text_Tfidf.predict(test_df.Lyrics)\r\n",
        "print('accuracy %s' % accuracy_score(predicted, test_df.Genre))\r\n",
        "print(classification_report(test_df.Genre, predicted, target_names=genres))"
      ],
      "execution_count": null,
      "outputs": [
        {
          "output_type": "stream",
          "text": [
            "accuracy 0.3859978855867497\n",
            "              precision    recall  f1-score   support\n",
            "\n",
            "  Electronic       0.39      0.55      0.46       890\n",
            "         Pop       0.20      0.11      0.14       540\n",
            "        Rock       0.15      0.30      0.20       153\n",
            "       Metal       0.70      0.80      0.75      1240\n",
            "     Country       0.07      0.36      0.12       190\n",
            "       Indie       0.36      0.30      0.33       540\n",
            "         R&B       0.63      0.65      0.64       890\n",
            "     Hip-Hop       0.36      0.34      0.35      1590\n",
            "        Jazz       0.08      0.39      0.13       190\n",
            "        Folk       0.48      0.12      0.20      2290\n",
            "\n",
            "    accuracy                           0.39      8513\n",
            "   macro avg       0.34      0.39      0.33      8513\n",
            "weighted avg       0.45      0.39      0.38      8513\n",
            "\n"
          ],
          "name": "stdout"
        }
      ]
    },
    {
      "cell_type": "code",
      "metadata": {
        "colab": {
          "base_uri": "https://localhost:8080/",
          "height": 330
        },
        "id": "zLomX6wacMUn",
        "outputId": "85cc58b7-0c63-44bf-ff86-ff95ffbe861e"
      },
      "source": [
        "mat = confusion_matrix(test_df.Genre, predicted)\r\n",
        "sns.heatmap(\r\n",
        "    mat.T, square=True, annot=True, fmt='d', cbar=False,\r\n",
        "    xticklabels=genres, \r\n",
        "    yticklabels=genres\r\n",
        ")\r\n",
        "plt.xlabel('true label')\r\n",
        "plt.ylabel('predicted label');"
      ],
      "execution_count": null,
      "outputs": [
        {
          "output_type": "display_data",
          "data": {
            "image/png": "[encoded data removed]",
            "text/plain": [
              "<Figure size 432x288 with 1 Axes>"
            ]
          },
          "metadata": {
            "tags": []
          }
        }
      ]
    },
    {
      "cell_type": "markdown",
      "metadata": {
        "id": "2cYZVz33UQM7"
      },
      "source": [
        "## **SVM**"
      ]
    },
    {
      "cell_type": "code",
      "metadata": {
        "colab": {
          "base_uri": "https://localhost:8080/"
        },
        "id": "AiaA17G9vdY9",
        "outputId": "868432ec-39b4-49ae-d7c7-ab630d96ddb1"
      },
      "source": [
        "# define model\r\n",
        "text_svm = Pipeline([('vect', CountVectorizer()),\r\n",
        "                     ('tfidf', TfidfTransformer()),\r\n",
        "                     ('clf', SVC(kernel='rbf'))])\r\n",
        "\r\n",
        "# train model on training data\r\n",
        "text_svm.fit(train_df.Lyrics, train_df.Genre)  \r\n",
        "\r\n",
        "# score model on testing data\r\n",
        "predicted = text_svm.predict(test_df.Lyrics)\r\n",
        "print('accuracy %s' % accuracy_score(predicted, test_df.Genre))\r\n",
        "print(classification_report(test_df.Genre, predicted, target_names=genres))"
      ],
      "execution_count": null,
      "outputs": [
        {
          "output_type": "stream",
          "text": [
            "accuracy 0.36826030776459534\n",
            "              precision    recall  f1-score   support\n",
            "\n",
            "  Electronic       0.43      0.38      0.40       890\n",
            "         Pop       0.16      0.29      0.20       540\n",
            "        Rock       0.08      0.39      0.13       153\n",
            "       Metal       0.83      0.73      0.78      1240\n",
            "     Country       0.08      0.36      0.14       190\n",
            "       Indie       0.31      0.34      0.32       540\n",
            "         R&B       0.60      0.65      0.63       890\n",
            "     Hip-Hop       0.40      0.24      0.30      1590\n",
            "        Jazz       0.08      0.30      0.13       190\n",
            "        Folk       0.48      0.17      0.25      2290\n",
            "\n",
            "    accuracy                           0.37      8513\n",
            "   macro avg       0.34      0.39      0.33      8513\n",
            "weighted avg       0.47      0.37      0.39      8513\n",
            "\n"
          ],
          "name": "stdout"
        }
      ]
    },
    {
      "cell_type": "code",
      "metadata": {
        "colab": {
          "base_uri": "https://localhost:8080/",
          "height": 330
        },
        "id": "i8M7idYOiAPC",
        "outputId": "2151bb15-5ca3-463e-9b78-072a351d0a17"
      },
      "source": [
        "mat = confusion_matrix(test_df.Genre, predicted)\r\n",
        "sns.heatmap(\r\n",
        "    mat.T, square=True, annot=True, fmt='d', cbar=False,\r\n",
        "    xticklabels=genres, \r\n",
        "    yticklabels=genres\r\n",
        ")\r\n",
        "plt.xlabel('true label')\r\n",
        "plt.ylabel('predicted label');"
      ],
      "execution_count": null,
      "outputs": [
        {
          "output_type": "display_data",
          "data": {
            "image/png": "[encoded data removed]",
            "text/plain": [
              "<Figure size 432x288 with 1 Axes>"
            ]
          },
          "metadata": {
            "tags": []
          }
        }
      ]
    },
    {
      "cell_type": "markdown",
      "metadata": {
        "id": "J8BlgoJVEgby"
      },
      "source": [
        "SVM has a lower accuracy than Naive Bayes probably because the Soft-margin is too high, or because too many features from the lyrics are close in the vector space between the Soft-margins."
      ]
    },
    {
      "cell_type": "markdown",
      "metadata": {
        "id": "vQpi_PAGE9N8"
      },
      "source": [
        "## **Naive Bayes with Tfid as a feature extraction + text preprocessing**"
      ]
    },
    {
      "cell_type": "code",
      "metadata": {
        "colab": {
          "base_uri": "https://localhost:8080/"
        },
        "id": "IZCuCaK2Fn8P",
        "outputId": "fa3bfee8-d11e-4049-f276-8a3f39699184"
      },
      "source": [
        "stop = list(set(stopwords.words('english'))) # stopwords\r\n",
        "\r\n",
        "# define model\r\n",
        "text_clf_more = Pipeline(\r\n",
        "    [('vect', TfidfVectorizer(\r\n",
        "        stop_words=stop # remove stopwords\r\n",
        "        )),\r\n",
        "     ('tfidf', TfidfTransformer()),\r\n",
        "     ('clf', MultinomialNB(alpha=0.1))])\r\n",
        "\r\n",
        "# train model on training data\r\n",
        "text_clf_more.fit(train_df.Lyrics, train_df.Genre)  \r\n",
        "\r\n",
        "# score model on testing data\r\n",
        "predicted = text_clf_more.predict(test_df.Lyrics)\r\n",
        "print('accuracy %s' % accuracy_score(predicted, test_df.Genre))\r\n",
        "print(classification_report(test_df.Genre, predicted, target_names=genres))"
      ],
      "execution_count": null,
      "outputs": [
        {
          "output_type": "stream",
          "text": [
            "accuracy 0.37707036297427465\n",
            "              precision    recall  f1-score   support\n",
            "\n",
            "  Electronic       0.37      0.50      0.43       890\n",
            "         Pop       0.18      0.14      0.16       540\n",
            "        Rock       0.14      0.33      0.20       153\n",
            "       Metal       0.69      0.81      0.74      1240\n",
            "     Country       0.07      0.32      0.12       190\n",
            "       Indie       0.32      0.31      0.31       540\n",
            "         R&B       0.59      0.66      0.62       890\n",
            "     Hip-Hop       0.36      0.29      0.32      1590\n",
            "        Jazz       0.09      0.39      0.14       190\n",
            "        Folk       0.46      0.13      0.20      2290\n",
            "\n",
            "    accuracy                           0.38      8513\n",
            "   macro avg       0.33      0.39      0.32      8513\n",
            "weighted avg       0.43      0.38      0.37      8513\n",
            "\n"
          ],
          "name": "stdout"
        }
      ]
    },
    {
      "cell_type": "code",
      "metadata": {
        "colab": {
          "base_uri": "https://localhost:8080/",
          "height": 330
        },
        "id": "-lP1vEcbiGg2",
        "outputId": "8c7b2fa5-35c5-4411-fd83-3db095cab612"
      },
      "source": [
        "mat = confusion_matrix(test_df.Genre, predicted)\r\n",
        "sns.heatmap(\r\n",
        "    mat.T, square=True, annot=True, fmt='d', cbar=False,\r\n",
        "    xticklabels=genres, \r\n",
        "    yticklabels=genres\r\n",
        ")\r\n",
        "plt.xlabel('true label')\r\n",
        "plt.ylabel('predicted label');"
      ],
      "execution_count": null,
      "outputs": [
        {
          "output_type": "display_data",
          "data": {
            "image/png": "[encoded data removed]",
            "text/plain": [
              "<Figure size 432x288 with 1 Axes>"
            ]
          },
          "metadata": {
            "tags": []
          }
        }
      ]
    },
    {
      "cell_type": "markdown",
      "metadata": {
        "id": "MvYB8f5XGkVd"
      },
      "source": [
        "If I remove stopwords I decrease the accuracy from 0.386 to 0.377, almost by 1%, so removing stopwords does not help in this case"
      ]
    },
    {
      "cell_type": "code",
      "metadata": {
        "colab": {
          "base_uri": "https://localhost:8080/"
        },
        "id": "IHu9FDIVWgas",
        "outputId": "66825f29-00d9-4071-e0b8-917fbc484a3a"
      },
      "source": [
        "stop = list(set(stopwords.words('english'))) # stopwords\r\n",
        "lm = WordNetLemmatizer() # lemmatizer\r\n",
        "\r\n",
        "def tokenizer(x): # custom tokenizer\r\n",
        "    return (\r\n",
        "        lm.lemmatize(w) \r\n",
        "        for w in word_tokenize(x) \r\n",
        "        if len(w) > 2 and w.isalnum() # only words that have more than 2 characters\r\n",
        "    )                                 # and is alpha-numeric\r\n",
        "\r\n",
        "# define model\r\n",
        "text_clf_more = Pipeline(\r\n",
        "    [('vect', TfidfVectorizer(\r\n",
        "        tokenizer=tokenizer,\r\n",
        "        stop_words=stop, # remove stopwords\r\n",
        "        max_df=0.4, # ignore terms that appear in more than 40% of songs\r\n",
        "        min_df=4)), # ignore terms that appear in less than 4 songs\r\n",
        "     ('tfidf', TfidfTransformer()),\r\n",
        "     ('clf', MultinomialNB(alpha=0.1))])\r\n",
        "\r\n",
        "# train model on training data\r\n",
        "text_clf_more.fit(train_df.Lyrics, train_df.Genre)  \r\n",
        "\r\n",
        "# score model on testing data\r\n",
        "predicted = text_clf_more.predict(test_df.Lyrics)\r\n",
        "print('accuracy %s' % accuracy_score(predicted, test_df.Genre))\r\n",
        "print(classification_report(test_df.Genre, predicted, target_names=genres))"
      ],
      "execution_count": null,
      "outputs": [
        {
          "output_type": "stream",
          "text": [
            "/usr/local/lib/python3.6/dist-packages/sklearn/feature_extraction/text.py:385: UserWarning: Your stop_words may be inconsistent with your preprocessing. Tokenizing the stop words generated tokens ['could', 'doe', 'ha', 'might', 'must', 'need', 'sha', 'wa', 'would'] not in stop_words.\n",
            "  'stop_words.' % sorted(inconsistent))\n"
          ],
          "name": "stderr"
        },
        {
          "output_type": "stream",
          "text": [
            "accuracy 0.37072712322330553\n",
            "              precision    recall  f1-score   support\n",
            "\n",
            "  Electronic       0.40      0.43      0.42       890\n",
            "         Pop       0.15      0.17      0.16       540\n",
            "        Rock       0.13      0.39      0.19       153\n",
            "       Metal       0.71      0.79      0.75      1240\n",
            "     Country       0.07      0.31      0.12       190\n",
            "       Indie       0.30      0.35      0.33       540\n",
            "         R&B       0.58      0.66      0.61       890\n",
            "     Hip-Hop       0.36      0.27      0.31      1590\n",
            "        Jazz       0.08      0.32      0.13       190\n",
            "        Folk       0.44      0.14      0.21      2290\n",
            "\n",
            "    accuracy                           0.37      8513\n",
            "   macro avg       0.32      0.38      0.32      8513\n",
            "weighted avg       0.43      0.37      0.37      8513\n",
            "\n"
          ],
          "name": "stdout"
        }
      ]
    },
    {
      "cell_type": "markdown",
      "metadata": {
        "id": "J6jd2kmpFH6L"
      },
      "source": [
        "And if I do a little extra: elimination of stopwords, lemmatization, elimination of repetitive words that are excessive or that do not appear at all, I decrease the sharpness again by 0.7%. So it's a stupid idea\r\n",
        "\r\n"
      ]
    },
    {
      "cell_type": "markdown",
      "metadata": {
        "id": "dj4wS_mBgp4e"
      },
      "source": [
        "## **Logistic regression**"
      ]
    },
    {
      "cell_type": "code",
      "metadata": {
        "colab": {
          "base_uri": "https://localhost:8080/"
        },
        "id": "-KRCagasbhd5",
        "outputId": "081d9cbc-e488-42b4-bc44-256e25da2106"
      },
      "source": [
        "# define model\r\n",
        "logreg = Pipeline([('vect', CountVectorizer()),\r\n",
        "                 ('tfidf', TfidfTransformer()),\r\n",
        "                 ('clf', LogisticRegression(n_jobs=1, multi_class = \"multinomial\", \r\n",
        "                                           C=1, solver = \"sag\", class_weight=\"balanced\")),\r\n",
        "                 ])\r\n",
        "\r\n",
        "logreg.fit(train_df.Lyrics, train_df.Genre)\r\n",
        "\r\n",
        "predicted = logreg.predict(test_df.Lyrics)\r\n",
        "print('accuracy %s' % accuracy_score(predicted, test_df.Genre))\r\n",
        "print(classification_report(test_df.Genre, predicted, target_names=genres))"
      ],
      "execution_count": null,
      "outputs": [
        {
          "output_type": "stream",
          "text": [
            "accuracy 0.3686127099729825\n",
            "              precision    recall  f1-score   support\n",
            "\n",
            "  Electronic       0.41      0.42      0.42       890\n",
            "         Pop       0.16      0.26      0.20       540\n",
            "        Rock       0.08      0.40      0.14       153\n",
            "       Metal       0.78      0.77      0.78      1240\n",
            "     Country       0.08      0.33      0.13       190\n",
            "       Indie       0.27      0.35      0.31       540\n",
            "         R&B       0.55      0.68      0.61       890\n",
            "     Hip-Hop       0.39      0.22      0.28      1590\n",
            "        Jazz       0.09      0.30      0.13       190\n",
            "        Folk       0.50      0.15      0.23      2290\n",
            "\n",
            "    accuracy                           0.37      8513\n",
            "   macro avg       0.33      0.39      0.32      8513\n",
            "weighted avg       0.46      0.37      0.37      8513\n",
            "\n"
          ],
          "name": "stdout"
        }
      ]
    },
    {
      "cell_type": "code",
      "metadata": {
        "colab": {
          "base_uri": "https://localhost:8080/",
          "height": 330
        },
        "id": "11duK8yriK8w",
        "outputId": "f0d5f969-8aee-4d5d-8d25-1ef160594fac"
      },
      "source": [
        "mat = confusion_matrix(test_df.Genre, predicted)\r\n",
        "sns.heatmap(\r\n",
        "    mat.T, square=True, annot=True, fmt='d', cbar=False,\r\n",
        "    xticklabels=genres, \r\n",
        "    yticklabels=genres\r\n",
        ")\r\n",
        "plt.xlabel('true label')\r\n",
        "plt.ylabel('predicted label');"
      ],
      "execution_count": null,
      "outputs": [
        {
          "output_type": "display_data",
          "data": {
            "image/png": "[encoded data removed]",
            "text/plain": [
              "<Figure size 432x288 with 1 Axes>"
            ]
          },
          "metadata": {
            "tags": []
          }
        }
      ]
    },
    {
      "cell_type": "markdown",
      "metadata": {
        "id": "YwlA6CsvhTfO"
      },
      "source": [
        "## **Logistic regression + text preprocessing**"
      ]
    },
    {
      "cell_type": "code",
      "metadata": {
        "colab": {
          "base_uri": "https://localhost:8080/"
        },
        "id": "-JTn8s_Reb_B",
        "outputId": "714515df-cba1-4ea9-a140-4311c2e622f2"
      },
      "source": [
        "def clean_text(text):\r\n",
        "    text = text.lower() # lowercase text\r\n",
        "    text = re.compile('[/(){}\\[\\]\\|@,;|\\n]').sub(' ', text) # replace symbols by space in text\r\n",
        "    text = re.compile('[^0-9a-z #+_]').sub('', text) # delete symbols\r\n",
        "    text = ' '.join(word for word in text.split() if word not in list(set(stopwords.words('english')))) # delete stopwors from text\r\n",
        "    return text\r\n",
        "    \r\n",
        "lyrics = train_df.Lyrics.apply(clean_text)\r\n",
        "\r\n",
        "# define model\r\n",
        "logreg2 = Pipeline([('vect', CountVectorizer()),\r\n",
        "                 ('tfidf', TfidfTransformer()),\r\n",
        "                 ('clf', LogisticRegression(n_jobs=1, multi_class = \"multinomial\", \r\n",
        "                                           C=1, solver = \"sag\", class_weight=\"balanced\")),\r\n",
        "                 ])\r\n",
        "\r\n",
        "logreg2.fit(lyrics, train_df.Genre)\r\n",
        "\r\n",
        "predicted = logreg2.predict(test_df.Lyrics)\r\n",
        "print('accuracy %s' % accuracy_score(predicted, test_df.Genre))\r\n",
        "print(classification_report(test_df.Genre, predicted, target_names=genres))"
      ],
      "execution_count": null,
      "outputs": [
        {
          "output_type": "stream",
          "text": [
            "accuracy 0.34664630565018206\n",
            "              precision    recall  f1-score   support\n",
            "\n",
            "  Electronic       0.44      0.28      0.34       890\n",
            "         Pop       0.14      0.29      0.19       540\n",
            "        Rock       0.06      0.44      0.11       153\n",
            "       Metal       0.81      0.73      0.76      1240\n",
            "     Country       0.09      0.27      0.14       190\n",
            "       Indie       0.28      0.40      0.33       540\n",
            "         R&B       0.48      0.76      0.59       890\n",
            "     Hip-Hop       0.39      0.16      0.23      1590\n",
            "        Jazz       0.10      0.28      0.14       190\n",
            "        Folk       0.48      0.14      0.22      2290\n",
            "\n",
            "    accuracy                           0.35      8513\n",
            "   macro avg       0.33      0.38      0.30      8513\n",
            "weighted avg       0.45      0.35      0.35      8513\n",
            "\n"
          ],
          "name": "stdout"
        }
      ]
    },
    {
      "cell_type": "markdown",
      "metadata": {
        "id": "ZmHIXXaDhZPp"
      },
      "source": [
        "And if I do a little extra: elimination of stopwords and elimination of intuetivly bad character, I decrease the sharpness again by 2%. So it's a stupid idea, again"
      ]
    },
    {
      "cell_type": "code",
      "metadata": {
        "id": "f8NiOW2NWgWF"
      },
      "source": [
        "predicted1 = text_clf.predict(test_df.Lyrics)\r\n",
        "predicted2 = text_svm.predict(test_df.Lyrics)\r\n",
        "predicted3 = text_Tfidf.predict(test_df.Lyrics)\r\n",
        "predicted4 = text_clf_more.predict(test_df.Lyrics)\r\n",
        "predicted5 = logreg.predict(test_df.Lyrics)"
      ],
      "execution_count": null,
      "outputs": []
    },
    {
      "cell_type": "code",
      "metadata": {
        "id": "V64j-GZ71MR2",
        "colab": {
          "base_uri": "https://localhost:8080/"
        },
        "outputId": "055c9a15-66f8-401b-bb92-d1adc186bc19"
      },
      "source": [
        "predicted = []\r\n",
        "for i in range(len(predicted1)):\r\n",
        "    L = [predicted1[i], predicted2[i], predicted3[i], predicted4[i], predicted5[i]]\r\n",
        "    predicted.append(max(set(L), key = L.count))\r\n",
        "\r\n",
        "print('accuracy %s' % accuracy_score(predicted, test_df.Genre))\r\n",
        "print(classification_report(test_df.Genre, predicted, target_names=genres))"
      ],
      "execution_count": null,
      "outputs": [
        {
          "output_type": "stream",
          "text": [
            "accuracy 0.3814166568777164\n",
            "              precision    recall  f1-score   support\n",
            "\n",
            "  Electronic       0.41      0.49      0.45       890\n",
            "         Pop       0.18      0.19      0.18       540\n",
            "        Rock       0.12      0.35      0.18       153\n",
            "       Metal       0.75      0.79      0.77      1240\n",
            "     Country       0.08      0.40      0.13       190\n",
            "       Indie       0.33      0.33      0.33       540\n",
            "         R&B       0.57      0.69      0.63       890\n",
            "     Hip-Hop       0.39      0.27      0.32      1590\n",
            "        Jazz       0.09      0.38      0.14       190\n",
            "        Folk       0.49      0.13      0.21      2290\n",
            "\n",
            "    accuracy                           0.38      8513\n",
            "   macro avg       0.34      0.40      0.33      8513\n",
            "weighted avg       0.46      0.38      0.38      8513\n",
            "\n"
          ],
          "name": "stdout"
        }
      ]
    },
    {
      "cell_type": "code",
      "metadata": {
        "colab": {
          "base_uri": "https://localhost:8080/",
          "height": 330
        },
        "id": "3EVvGsFCkBZi",
        "outputId": "a7ed4943-84af-425c-88b0-0a3c5f57ca3f"
      },
      "source": [
        "mat = confusion_matrix(test_df.Genre, predicted)\r\n",
        "sns.heatmap(\r\n",
        "    mat.T, square=True, annot=True, fmt='d', cbar=False,\r\n",
        "    xticklabels=genres, \r\n",
        "    yticklabels=genres\r\n",
        ")\r\n",
        "plt.xlabel('true label')\r\n",
        "plt.ylabel('predicted label');"
      ],
      "execution_count": null,
      "outputs": [
        {
          "output_type": "display_data",
          "data": {
            "image/png": "[encoded data removed]",
            "text/plain": [
              "<Figure size 432x288 with 1 Axes>"
            ]
          },
          "metadata": {
            "tags": []
          }
        }
      ]
    },
    {
      "cell_type": "markdown",
      "metadata": {
        "id": "w-yPaRysqiZx"
      },
      "source": [
        "\r\n",
        "Now if I implement a voting system based on the above classifiers I get the best accuracy so far 38.14% (random forest principle)\r\n",
        "\r\n",
        "________________________________________________________________________________________________\r\n",
        "# **MLP (Multilayer perceptron)**"
      ]
    },
    {
      "cell_type": "code",
      "metadata": {
        "id": "_4cb-rHPXrDX"
      },
      "source": [
        "df = pd.read_csv(data_dir_drive + 'Lyrics-Genre-Train.csv')"
      ],
      "execution_count": null,
      "outputs": []
    },
    {
      "cell_type": "code",
      "metadata": {
        "id": "F6J6AYwOfpFA"
      },
      "source": [
        "def to_code(genre):\r\n",
        "    if genre  == 'Country':\r\n",
        "        return 0\r\n",
        "    elif genre  == 'Electronic':\r\n",
        "        return 1\r\n",
        "    elif genre  == 'Folk':\r\n",
        "        return 2\r\n",
        "    elif genre  == 'Hip-Hop':\r\n",
        "        return 3\r\n",
        "    elif genre  == 'Indie':\r\n",
        "        return 4\r\n",
        "    elif genre  == 'Jazz':\r\n",
        "        return 5\r\n",
        "    elif genre  == 'Metal':\r\n",
        "        return 6\r\n",
        "    elif genre  == 'Pop':\r\n",
        "        return 7\r\n",
        "    elif genre  == 'R&B':\r\n",
        "        return 8\r\n",
        "    else: \r\n",
        "        return 9\r\n",
        "\r\n",
        "df['Genre'] = df.Genre.apply(to_code)\r\n",
        "del df['Song']\r\n",
        "del df['Song year']\r\n",
        "del df['Artist']\r\n",
        "del df['Track_id']"
      ],
      "execution_count": null,
      "outputs": []
    },
    {
      "cell_type": "code",
      "metadata": {
        "colab": {
          "base_uri": "https://localhost:8080/",
          "height": 204
        },
        "id": "ftEL90jseZ7b",
        "outputId": "369d5f70-1c97-4494-cace-23da0a8890ae"
      },
      "source": [
        "df.head()"
      ],
      "execution_count": null,
      "outputs": [
        {
          "output_type": "execute_result",
          "data": {
            "text/html": [
              "<div>\n",
              "<style scoped>\n",
              "    .dataframe tbody tr th:only-of-type {\n",
              "        vertical-align: middle;\n",
              "    }\n",
              "\n",
              "    .dataframe tbody tr th {\n",
              "        vertical-align: top;\n",
              "    }\n",
              "\n",
              "    .dataframe thead th {\n",
              "        text-align: right;\n",
              "    }\n",
              "</style>\n",
              "<table border=\"1\" class=\"dataframe\">\n",
              "  <thead>\n",
              "    <tr style=\"text-align: right;\">\n",
              "      <th></th>\n",
              "      <th>Genre</th>\n",
              "      <th>Lyrics</th>\n",
              "    </tr>\n",
              "  </thead>\n",
              "  <tbody>\n",
              "    <tr>\n",
              "      <th>0</th>\n",
              "      <td>6</td>\n",
              "      <td>I am a night in to the darkness, only soul los...</td>\n",
              "    </tr>\n",
              "    <tr>\n",
              "      <th>1</th>\n",
              "      <td>3</td>\n",
              "      <td>Yeah\\nSometimes, i just wanna fly away.\\nThey ...</td>\n",
              "    </tr>\n",
              "    <tr>\n",
              "      <th>2</th>\n",
              "      <td>6</td>\n",
              "      <td>Do you work hard?\\nDo you work hard?\\nYou don'...</td>\n",
              "    </tr>\n",
              "    <tr>\n",
              "      <th>3</th>\n",
              "      <td>3</td>\n",
              "      <td>You know what? I'm destined to be the last man...</td>\n",
              "    </tr>\n",
              "    <tr>\n",
              "      <th>4</th>\n",
              "      <td>0</td>\n",
              "      <td>There ain't nothing that I would rather see\\nT...</td>\n",
              "    </tr>\n",
              "  </tbody>\n",
              "</table>\n",
              "</div>"
            ],
            "text/plain": [
              "   Genre                                             Lyrics\n",
              "0      6  I am a night in to the darkness, only soul los...\n",
              "1      3  Yeah\\nSometimes, i just wanna fly away.\\nThey ...\n",
              "2      6  Do you work hard?\\nDo you work hard?\\nYou don'...\n",
              "3      3  You know what? I'm destined to be the last man...\n",
              "4      0  There ain't nothing that I would rather see\\nT..."
            ]
          },
          "metadata": {
            "tags": []
          },
          "execution_count": 97
        }
      ]
    },
    {
      "cell_type": "code",
      "metadata": {
        "id": "FvI4njD6oxXS",
        "colab": {
          "base_uri": "https://localhost:8080/",
          "height": 204
        },
        "outputId": "e45a1a53-4b8e-4a4d-9cb1-d4fb28b49b63"
      },
      "source": [
        "df_test = pd.read_csv(data_dir_drive + 'Lyrics-Genre-Test-GroundTruth.csv')\r\n",
        "df_test.head()"
      ],
      "execution_count": null,
      "outputs": [
        {
          "output_type": "execute_result",
          "data": {
            "text/html": [
              "<div>\n",
              "<style scoped>\n",
              "    .dataframe tbody tr th:only-of-type {\n",
              "        vertical-align: middle;\n",
              "    }\n",
              "\n",
              "    .dataframe tbody tr th {\n",
              "        vertical-align: top;\n",
              "    }\n",
              "\n",
              "    .dataframe thead th {\n",
              "        text-align: right;\n",
              "    }\n",
              "</style>\n",
              "<table border=\"1\" class=\"dataframe\">\n",
              "  <thead>\n",
              "    <tr style=\"text-align: right;\">\n",
              "      <th></th>\n",
              "      <th>Song</th>\n",
              "      <th>Song year</th>\n",
              "      <th>Artist</th>\n",
              "      <th>Genre</th>\n",
              "      <th>Lyrics</th>\n",
              "      <th>Track_id</th>\n",
              "    </tr>\n",
              "  </thead>\n",
              "  <tbody>\n",
              "    <tr>\n",
              "      <th>0</th>\n",
              "      <td>craftsmanship</td>\n",
              "      <td>2005</td>\n",
              "      <td>buck-65</td>\n",
              "      <td>Hip-Hop</td>\n",
              "      <td>Most folks spend their days daydreaming of fin...</td>\n",
              "      <td>8294</td>\n",
              "    </tr>\n",
              "    <tr>\n",
              "      <th>1</th>\n",
              "      <td>come-on-out</td>\n",
              "      <td>2012</td>\n",
              "      <td>the-elwins</td>\n",
              "      <td>Indie</td>\n",
              "      <td>Take your cold hands and put them on my face\\n...</td>\n",
              "      <td>21621</td>\n",
              "    </tr>\n",
              "    <tr>\n",
              "      <th>2</th>\n",
              "      <td>riot</td>\n",
              "      <td>2013</td>\n",
              "      <td>bullet-for-my-valentine</td>\n",
              "      <td>Metal</td>\n",
              "      <td>Are you ready it's time for war\\nWe'll break d...</td>\n",
              "      <td>3301</td>\n",
              "    </tr>\n",
              "    <tr>\n",
              "      <th>3</th>\n",
              "      <td>that-s-what-girls-do</td>\n",
              "      <td>2007</td>\n",
              "      <td>dream-street</td>\n",
              "      <td>Pop</td>\n",
              "      <td>You ask me why I change the color of my hair\\n...</td>\n",
              "      <td>2773</td>\n",
              "    </tr>\n",
              "    <tr>\n",
              "      <th>4</th>\n",
              "      <td>believe-in-a-dollar</td>\n",
              "      <td>2012</td>\n",
              "      <td>cassidy</td>\n",
              "      <td>Hip-Hop</td>\n",
              "      <td>Do you believe in magic in a young girl's hear...</td>\n",
              "      <td>16797</td>\n",
              "    </tr>\n",
              "  </tbody>\n",
              "</table>\n",
              "</div>"
            ],
            "text/plain": [
              "                   Song  ...  Track_id\n",
              "0         craftsmanship  ...      8294\n",
              "1           come-on-out  ...     21621\n",
              "2                  riot  ...      3301\n",
              "3  that-s-what-girls-do  ...      2773\n",
              "4   believe-in-a-dollar  ...     16797\n",
              "\n",
              "[5 rows x 6 columns]"
            ]
          },
          "metadata": {
            "tags": []
          },
          "execution_count": 8
        }
      ]
    },
    {
      "cell_type": "code",
      "metadata": {
        "id": "q2Fsf9V9oxXa"
      },
      "source": [
        "df_test['Genre'] = df_test.Genre.apply(to_code)\r\n",
        "del df_test['Song']\r\n",
        "del df_test['Song year']\r\n",
        "del df_test['Artist']\r\n",
        "del df_test['Track_id']"
      ],
      "execution_count": null,
      "outputs": []
    },
    {
      "cell_type": "code",
      "metadata": {
        "colab": {
          "base_uri": "https://localhost:8080/",
          "height": 204
        },
        "id": "TpBt0jHn4aJU",
        "outputId": "7583c13b-0711-4cf1-8afc-56da5fffbb28"
      },
      "source": [
        "df_test.head()"
      ],
      "execution_count": null,
      "outputs": [
        {
          "output_type": "execute_result",
          "data": {
            "text/html": [
              "<div>\n",
              "<style scoped>\n",
              "    .dataframe tbody tr th:only-of-type {\n",
              "        vertical-align: middle;\n",
              "    }\n",
              "\n",
              "    .dataframe tbody tr th {\n",
              "        vertical-align: top;\n",
              "    }\n",
              "\n",
              "    .dataframe thead th {\n",
              "        text-align: right;\n",
              "    }\n",
              "</style>\n",
              "<table border=\"1\" class=\"dataframe\">\n",
              "  <thead>\n",
              "    <tr style=\"text-align: right;\">\n",
              "      <th></th>\n",
              "      <th>Genre</th>\n",
              "      <th>Lyrics</th>\n",
              "    </tr>\n",
              "  </thead>\n",
              "  <tbody>\n",
              "    <tr>\n",
              "      <th>0</th>\n",
              "      <td>3</td>\n",
              "      <td>Most folks spend their days daydreaming of fin...</td>\n",
              "    </tr>\n",
              "    <tr>\n",
              "      <th>1</th>\n",
              "      <td>4</td>\n",
              "      <td>Take your cold hands and put them on my face\\n...</td>\n",
              "    </tr>\n",
              "    <tr>\n",
              "      <th>2</th>\n",
              "      <td>6</td>\n",
              "      <td>Are you ready it's time for war\\nWe'll break d...</td>\n",
              "    </tr>\n",
              "    <tr>\n",
              "      <th>3</th>\n",
              "      <td>7</td>\n",
              "      <td>You ask me why I change the color of my hair\\n...</td>\n",
              "    </tr>\n",
              "    <tr>\n",
              "      <th>4</th>\n",
              "      <td>3</td>\n",
              "      <td>Do you believe in magic in a young girl's hear...</td>\n",
              "    </tr>\n",
              "  </tbody>\n",
              "</table>\n",
              "</div>"
            ],
            "text/plain": [
              "   Genre                                             Lyrics\n",
              "0      3  Most folks spend their days daydreaming of fin...\n",
              "1      4  Take your cold hands and put them on my face\\n...\n",
              "2      6  Are you ready it's time for war\\nWe'll break d...\n",
              "3      7  You ask me why I change the color of my hair\\n...\n",
              "4      3  Do you believe in magic in a young girl's hear..."
            ]
          },
          "metadata": {
            "tags": []
          },
          "execution_count": 100
        }
      ]
    },
    {
      "cell_type": "code",
      "metadata": {
        "id": "Wff8qZH7hdtw"
      },
      "source": [
        "#def process_lyrics(lyrics):\r\n",
        "#    lyrics = lyrics.replace('\\n', '')\r\n",
        "#    lyrics = lyrics.lower()\r\n",
        "#    lyrics = re.sub(r'[^\\w\\s]','', lyrics) \r\n",
        "#    wnl = WordNetLemmatizer() # lemmatizer\r\n",
        "#    new_lyrics = \"\"\r\n",
        "#    for word in word_tokenize(lyrics):\r\n",
        "#        w = wnl.lemmatize(word) \r\n",
        "#        new_lyrics += w + \" \"\r\n",
        "#    return new_lyrics\r\n",
        "#\r\n",
        "#df['Lyrics'] = df.Lyrics.apply(process_lyrics)"
      ],
      "execution_count": null,
      "outputs": []
    },
    {
      "cell_type": "markdown",
      "metadata": {
        "id": "EbRTeaFKLUyE"
      },
      "source": [
        "Accuracy without stopords and with preprocessing is again lower (that's why this cell is commented)"
      ]
    },
    {
      "cell_type": "code",
      "metadata": {
        "id": "tbiIVfqvU150"
      },
      "source": [
        "tfidf = TfidfVectorizer(binary=True, max_features = 512)\r\n",
        "\r\n",
        "x = tfidf.fit_transform(df.Lyrics)\r\n",
        "y = df.Genre"
      ],
      "execution_count": null,
      "outputs": []
    },
    {
      "cell_type": "code",
      "metadata": {
        "colab": {
          "base_uri": "https://localhost:8080/"
        },
        "id": "vGnQytwOWXJH",
        "outputId": "f7a212b5-a461-4297-98ad-9447592255ca"
      },
      "source": [
        "seed = 43\r\n",
        "x_train, x_val, y_train, y_val = train_test_split(x, y, test_size=0.2, random_state=seed) # 80%-20% split\r\n",
        "\r\n",
        "print(x_train.shape, y_train.shape, x_val.shape, y_val.shape)"
      ],
      "execution_count": null,
      "outputs": [
        {
          "output_type": "stream",
          "text": [
            "(14810, 512) (14810,) (3703, 512) (3703,)\n"
          ],
          "name": "stdout"
        }
      ]
    },
    {
      "cell_type": "code",
      "metadata": {
        "id": "4xnl6YAviHkm"
      },
      "source": [
        "x_train = torch.tensor(x_train.todense()).type(torch.float).cuda()\r\n",
        "x_val = torch.tensor(x_val.todense()).type(torch.float).cuda()\r\n",
        "y_train = torch.from_numpy(y_train.values).type(torch.long).cuda()\r\n",
        "y_val = torch.from_numpy(y_val.values).type(torch.long).cuda()"
      ],
      "execution_count": null,
      "outputs": []
    },
    {
      "cell_type": "code",
      "metadata": {
        "id": "AqSOGdhWls0Y"
      },
      "source": [
        "import matplotlib.pyplot as plt\r\n",
        "\r\n",
        "def plot_loss(loss, label, color='blue'):\r\n",
        "    plt.plot(loss, label=label, color=color)\r\n",
        "    plt.legend()"
      ],
      "execution_count": null,
      "outputs": []
    },
    {
      "cell_type": "code",
      "metadata": {
        "id": "Lpux21ubedBP"
      },
      "source": [
        "class Net(nn.Module):\r\n",
        "    # nn.Module - base class for all models\r\n",
        "    # easy acces to .parameters() and .zero_grad()\r\n",
        "    # define .forward() instead of __call__()\r\n",
        "    \r\n",
        "    def __init__(self, in_size, h_size1, h_size2, h_size3, out_size):\r\n",
        "        super().__init__()\r\n",
        "        self._layer1 = nn.Linear(in_size,h_size1).cuda()\r\n",
        "        self._layer2 = nn.Linear(h_size1,h_size2).cuda()\r\n",
        "        self._layer3 = nn.Linear(h_size2,h_size3).cuda()\r\n",
        "        self._layer4 = nn.Linear(h_size3,out_size).cuda()\r\n",
        "        self.drop_layer = nn.Dropout(p=0.5)\r\n",
        "        \r\n",
        "    def forward(self, x):\r\n",
        "        x = F.relu(self._layer1(x)).cuda()\r\n",
        "        x = self.drop_layer(x).cuda()\r\n",
        "        x = F.relu(self._layer2(x)).cuda()\r\n",
        "        x = self.drop_layer(x).cuda()\r\n",
        "        x = F.relu(self._layer3(x)).cuda()\r\n",
        "        x = self.drop_layer(x).cuda()\r\n",
        "        x = self._layer4(x).cuda()\r\n",
        "        return x.cuda()\r\n",
        "        \r\n",
        "    def train(self, train_data, train_labels, \r\n",
        "              epochs=400, lr=0.01, verbose=100, l2_weight=0,\r\n",
        "              val_data=None, val_labels=None):\r\n",
        "        #use optimizers to take care of the update step\r\n",
        "        optimizer1 = torch.optim.SGD(self.parameters(), lr=lr,\r\n",
        "                               weight_decay = l2_weight)\r\n",
        "        \r\n",
        "        optimizer2 = torch.optim.Adagrad(self.parameters())\r\n",
        "        optimizer3 = torch.optim.RMSprop(self.parameters())\r\n",
        "        optimizer4 = torch.optim.Adam(self.parameters())\r\n",
        "        \r\n",
        "        criterion = nn.CrossEntropyLoss(); # classification\r\n",
        "        best_model_wts = copy.deepcopy(self.state_dict())\r\n",
        "        \r\n",
        "        train_loss = []\r\n",
        "        val_loss = []\r\n",
        "        best_acc = 0\r\n",
        "        for e in range(epochs):\r\n",
        "            optimizer4.zero_grad()   # zero the gradient buffers\r\n",
        "            input = train_data\r\n",
        "            output = self(train_data)\r\n",
        "            loss = criterion(output, train_labels)\r\n",
        "            loss.backward()\r\n",
        "            optimizer4.step()    # Does the update of gredients\r\n",
        "            \r\n",
        "            train_loss.append(loss.cpu().detach().numpy())\r\n",
        "            if verbose!=0 and e%verbose==0:\r\n",
        "                print(\"Epoch :\" + str(e))\r\n",
        "                print(\"Loss - train :\")\r\n",
        "                print(loss)\r\n",
        "            if val_data is not None:\r\n",
        "                output = self(val_data)\r\n",
        "                loss = criterion(output, val_labels)\r\n",
        "\r\n",
        "                outputs = torch.argmax(output, dim = 1)\r\n",
        "                avg_acc_val = torch.sum(val_labels == outputs).item() / outputs.shape[0]\r\n",
        "                if avg_acc_val > best_acc:\r\n",
        "                    best_acc = avg_acc_val\r\n",
        "                    best_model_wts = copy.deepcopy(self.state_dict()) #I remember the best model for every epoch\r\n",
        "\r\n",
        "                if verbose!=0 and e%verbose==0:\r\n",
        "                    print(\"Loss - validation :\")\r\n",
        "                    print(loss)\r\n",
        "                val_loss.append(loss.cpu().detach().numpy())\r\n",
        "\r\n",
        "        torch.cuda.empty_cache()\r\n",
        "            \r\n",
        "        plot_loss(train_loss, 'train-loss')\r\n",
        "        if len(val_loss)>0:\r\n",
        "            plot_loss(val_loss, 'val-loss', color='red')\r\n",
        "            plt.show()\r\n",
        "\r\n",
        "        return best_model_wts"
      ],
      "execution_count": null,
      "outputs": []
    },
    {
      "cell_type": "code",
      "metadata": {
        "id": "gAuG3TuVgHQv",
        "colab": {
          "base_uri": "https://localhost:8080/"
        },
        "outputId": "d66b41da-b975-4113-ef6b-6b38e11217e5"
      },
      "source": [
        "#define a net\r\n",
        "net = Net(512, 16* 512, 16 * 512, 16 * 512, 10)\r\n",
        "net.to(device)\r\n",
        "print(net)"
      ],
      "execution_count": null,
      "outputs": [
        {
          "output_type": "stream",
          "text": [
            "Net(\n",
            "  (_layer1): Linear(in_features=512, out_features=8192, bias=True)\n",
            "  (_layer2): Linear(in_features=8192, out_features=8192, bias=True)\n",
            "  (_layer3): Linear(in_features=8192, out_features=8192, bias=True)\n",
            "  (_layer4): Linear(in_features=8192, out_features=10, bias=True)\n",
            "  (drop_layer): Dropout(p=0.5, inplace=False)\n",
            ")\n"
          ],
          "name": "stdout"
        }
      ]
    },
    {
      "cell_type": "code",
      "metadata": {
        "id": "QEVrtyzgg-QB",
        "colab": {
          "base_uri": "https://localhost:8080/",
          "height": 1000
        },
        "outputId": "5069d39d-a573-4d83-e98c-0746dda7ae6f"
      },
      "source": [
        "#train from all examples from train set\r\n",
        "best_model_wts = net.train(x_train, y_train, epochs=100, lr=0.1, verbose=10, val_data = x_val, val_labels=y_val)"
      ],
      "execution_count": null,
      "outputs": [
        {
          "output_type": "stream",
          "text": [
            "Epoch :0\n",
            "Loss - train :\n",
            "tensor(2.3029, device='cuda:0', grad_fn=<NllLossBackward>)\n",
            "Loss - validation :\n",
            "tensor(5.1651, device='cuda:0', grad_fn=<NllLossBackward>)\n",
            "Epoch :10\n",
            "Loss - train :\n",
            "tensor(2.2827, device='cuda:0', grad_fn=<NllLossBackward>)\n",
            "Loss - validation :\n",
            "tensor(2.2783, device='cuda:0', grad_fn=<NllLossBackward>)\n",
            "Epoch :20\n",
            "Loss - train :\n",
            "tensor(2.2430, device='cuda:0', grad_fn=<NllLossBackward>)\n",
            "Loss - validation :\n",
            "tensor(2.2377, device='cuda:0', grad_fn=<NllLossBackward>)\n",
            "Epoch :30\n",
            "Loss - train :\n",
            "tensor(2.1936, device='cuda:0', grad_fn=<NllLossBackward>)\n",
            "Loss - validation :\n",
            "tensor(2.1753, device='cuda:0', grad_fn=<NllLossBackward>)\n",
            "Epoch :40\n",
            "Loss - train :\n",
            "tensor(2.0493, device='cuda:0', grad_fn=<NllLossBackward>)\n",
            "Loss - validation :\n",
            "tensor(2.0500, device='cuda:0', grad_fn=<NllLossBackward>)\n",
            "Epoch :50\n",
            "Loss - train :\n",
            "tensor(1.9567, device='cuda:0', grad_fn=<NllLossBackward>)\n",
            "Loss - validation :\n",
            "tensor(1.9865, device='cuda:0', grad_fn=<NllLossBackward>)\n",
            "Epoch :60\n",
            "Loss - train :\n",
            "tensor(1.7684, device='cuda:0', grad_fn=<NllLossBackward>)\n",
            "Loss - validation :\n",
            "tensor(1.9153, device='cuda:0', grad_fn=<NllLossBackward>)\n",
            "Epoch :70\n",
            "Loss - train :\n",
            "tensor(1.4789, device='cuda:0', grad_fn=<NllLossBackward>)\n",
            "Loss - validation :\n",
            "tensor(2.0006, device='cuda:0', grad_fn=<NllLossBackward>)\n",
            "Epoch :80\n",
            "Loss - train :\n",
            "tensor(1.2855, device='cuda:0', grad_fn=<NllLossBackward>)\n",
            "Loss - validation :\n",
            "tensor(2.1365, device='cuda:0', grad_fn=<NllLossBackward>)\n",
            "Epoch :90\n",
            "Loss - train :\n",
            "tensor(0.8570, device='cuda:0', grad_fn=<NllLossBackward>)\n",
            "Loss - validation :\n",
            "tensor(2.3776, device='cuda:0', grad_fn=<NllLossBackward>)\n"
          ],
          "name": "stdout"
        },
        {
          "output_type": "display_data",
          "data": {
            "image/png": "[encoded data removed]",
            "text/plain": [
              "<Figure size 432x288 with 1 Axes>"
            ]
          },
          "metadata": {
            "tags": []
          }
        }
      ]
    },
    {
      "cell_type": "markdown",
      "metadata": {
        "id": "ZuVVRxS3MOTI"
      },
      "source": [
        "I can see that there is a learning curve, but the network is overfitting, so the best model is saved around the epoch of 50 out of 100."
      ]
    },
    {
      "cell_type": "code",
      "metadata": {
        "id": "UhLipfZ0l2Dh",
        "colab": {
          "base_uri": "https://localhost:8080/"
        },
        "outputId": "c75db55c-6e65-489c-f4fd-8acb0e1ad38f"
      },
      "source": [
        "net.load_state_dict(best_model_wts)"
      ],
      "execution_count": null,
      "outputs": [
        {
          "output_type": "execute_result",
          "data": {
            "text/plain": [
              "<All keys matched successfully>"
            ]
          },
          "metadata": {
            "tags": []
          },
          "execution_count": 18
        }
      ]
    },
    {
      "cell_type": "code",
      "metadata": {
        "id": "rq2tvT841HJh"
      },
      "source": [
        "#torch.save(net.state_dict(), data_dir_drive + 'models/MLP1.pt')"
      ],
      "execution_count": null,
      "outputs": []
    },
    {
      "cell_type": "code",
      "metadata": {
        "id": "A2YuZV6RoxXb"
      },
      "source": [
        "x_test = tfidf.transform(df_test.Lyrics)\r\n",
        "y_test = df_test.Genre\r\n",
        "\r\n",
        "x_test = torch.tensor(x_test.todense()).type(torch.float).cuda()\r\n",
        "y_test = torch.from_numpy(y_test.values).type(torch.long).cuda()"
      ],
      "execution_count": null,
      "outputs": []
    },
    {
      "cell_type": "code",
      "metadata": {
        "id": "mPr7kzDdqN45"
      },
      "source": [
        "outputs = net(x_test)\r\n",
        "outputs = torch.argmax(outputs, dim = 1)"
      ],
      "execution_count": null,
      "outputs": []
    },
    {
      "cell_type": "code",
      "metadata": {
        "id": "S_PJYGWOqh3N",
        "colab": {
          "base_uri": "https://localhost:8080/"
        },
        "outputId": "3a774509-59bc-4a8a-c43c-66f5f5a60ebf"
      },
      "source": [
        "print(outputs)\r\n",
        "print(y_test)\r\n",
        "acc = torch.sum(y_test == outputs).item() / outputs.shape[0]\r\n",
        "print(acc)"
      ],
      "execution_count": null,
      "outputs": [
        {
          "output_type": "stream",
          "text": [
            "tensor([6, 9, 1,  ..., 3, 9, 0], device='cuda:0')\n",
            "tensor([3, 4, 6,  ..., 3, 9, 9], device='cuda:0')\n",
            "0.34102079395085066\n"
          ],
          "name": "stdout"
        }
      ]
    },
    {
      "cell_type": "markdown",
      "metadata": {
        "id": "cJdsx1yiMoun"
      },
      "source": [
        "The accuracy on the test set is 34.1% quite low compared to SVM or NB. That is why I will further define 9 networks with different architectures that I will train separately and in the end the most probable prediction of the 9 votes is the vote."
      ]
    },
    {
      "cell_type": "code",
      "metadata": {
        "id": "kxKi-5xN-Q51"
      },
      "source": [
        "#define nets\r\n",
        "net1 = Net(512, 2* 512, 2 * 512, 2 * 512, 10)\r\n",
        "net1.to(device)\r\n",
        "\r\n",
        "net2 = Net(512, 4* 512, 4 * 512, 4 * 512, 10)\r\n",
        "net2.to(device)\r\n",
        "\r\n",
        "net3 = Net(512, 8* 512, 8 * 512, 8 * 512, 10)\r\n",
        "net3.to(device)\r\n",
        "\r\n",
        "net4 = Net(512, 16* 512, 16 * 512, 16 * 512, 10)\r\n",
        "net4.to(device)\r\n",
        "\r\n",
        "net5 = Net(512, 16* 512, 8 * 512, 16 * 512, 10)\r\n",
        "net5.to(device)\r\n",
        "\r\n",
        "net6 = Net(512, 8* 512, 16 * 512, 32 * 512, 10)\r\n",
        "net6.to(device)\r\n",
        "\r\n",
        "net7 = Net(512, 8* 512, 16 * 512, 8 * 512, 10)\r\n",
        "net7.to(device)\r\n",
        "\r\n",
        "net8 = Net(512, 4* 512, 32 * 512, 4 * 512, 10)\r\n",
        "net8.to(device)\r\n",
        "\r\n",
        "net9 = Net(512, 2* 512, 64 * 512, 4 * 512, 10)\r\n",
        "net9.to(device)\r\n",
        "\r\n",
        "nets = [net1, net2, net3, net4, net5, net6, net7, net8, net9]"
      ],
      "execution_count": null,
      "outputs": []
    },
    {
      "cell_type": "code",
      "metadata": {
        "id": "_GsZNleV-Q53"
      },
      "source": [
        "#train from all examples from train set\r\n",
        "for i in range(9):\r\n",
        "    print(i)\r\n",
        "    best_model_wts = nets[i].train(x_train, y_train, epochs=100, lr=0.1, verbose=100, val_data = x_val, val_labels=y_val)\r\n",
        "    nets[i].load_state_dict(best_model_wts)\r\n",
        "    torch.save(nets[i].state_dict(), data_dir_drive + 'MLP' + str(i) + '.pt')"
      ],
      "execution_count": null,
      "outputs": []
    },
    {
      "cell_type": "code",
      "metadata": {
        "colab": {
          "base_uri": "https://localhost:8080/"
        },
        "id": "kaxXTiuoSYd9",
        "outputId": "b6d356bc-6fd0-47a6-93c1-17b5172081b8"
      },
      "source": [
        "for i in range(9):\r\n",
        "    print(i)\r\n",
        "    state_dict = torch.load(data_dir_drive + 'MLP' + str(i) + '.pt', map_location=device)\r\n",
        "    nets[i].load_state_dict(state_dict)"
      ],
      "execution_count": null,
      "outputs": [
        {
          "output_type": "stream",
          "text": [
            "0\n",
            "1\n",
            "2\n",
            "3\n",
            "4\n",
            "5\n",
            "6\n",
            "7\n",
            "8\n"
          ],
          "name": "stdout"
        }
      ]
    },
    {
      "cell_type": "code",
      "metadata": {
        "id": "HwioH_PJ_wPk"
      },
      "source": [
        "predicted = []\r\n",
        "for i in range(9):\r\n",
        "    predicted.append(torch.argmax(nets[i](x_test), dim = 1))"
      ],
      "execution_count": null,
      "outputs": []
    },
    {
      "cell_type": "code",
      "metadata": {
        "id": "dt6yj6gj_wPn"
      },
      "source": [
        "predicted = torch.stack(predicted)"
      ],
      "execution_count": null,
      "outputs": []
    },
    {
      "cell_type": "code",
      "metadata": {
        "colab": {
          "base_uri": "https://localhost:8080/"
        },
        "id": "usJ-bCR8XiaQ",
        "outputId": "f5ab8d43-cc28-44ce-fb0f-1ba012aac6fb"
      },
      "source": [
        "print(predicted[:,4])\r\n",
        "print(y_test[4])"
      ],
      "execution_count": null,
      "outputs": [
        {
          "output_type": "stream",
          "text": [
            "tensor([5, 0, 9, 0, 7, 9, 9, 7, 9], device='cuda:0')\n",
            "tensor(3, device='cuda:0')\n"
          ],
          "name": "stdout"
        }
      ]
    },
    {
      "cell_type": "code",
      "metadata": {
        "colab": {
          "base_uri": "https://localhost:8080/"
        },
        "id": "h_DitAYOYvrI",
        "outputId": "8836fd28-ccb6-4e03-f30b-93ad7b04d1c1"
      },
      "source": [
        "max(set(predicted[:,4].cpu().tolist()), key = predicted[:,4].cpu().tolist().count)"
      ],
      "execution_count": null,
      "outputs": [
        {
          "output_type": "execute_result",
          "data": {
            "text/plain": [
              "9"
            ]
          },
          "metadata": {
            "tags": []
          },
          "execution_count": 29
        }
      ]
    },
    {
      "cell_type": "code",
      "metadata": {
        "colab": {
          "base_uri": "https://localhost:8080/"
        },
        "id": "rFlQAwhh_EXH",
        "outputId": "8453f269-e381-49bf-be97-5df9fdf8a4e8"
      },
      "source": [
        "acc = 0\r\n",
        "for i in range(x_test.shape[0]):\r\n",
        "    acc += max(set(predicted[:,i].cpu().tolist()), key = predicted[:,i].cpu().tolist().count) == y_test[i].item()\r\n",
        "\r\n",
        "print(acc / x_test.shape[0])"
      ],
      "execution_count": null,
      "outputs": [
        {
          "output_type": "stream",
          "text": [
            "0.366351606805293\n"
          ],
          "name": "stdout"
        }
      ]
    },
    {
      "cell_type": "markdown",
      "metadata": {
        "id": "aFTo2Dxihcb0"
      },
      "source": [
        "In this way the accuracy increases by 2.5% (quite a bit). It makes sense because all networks are driven by the same hyperparameters, except for the architectures. All overfitting, but for each of them was saved the best performing model on validation.\r\n",
        "________________________________________________________________________________________________\r\n",
        "# **BERT**"
      ]
    },
    {
      "cell_type": "code",
      "metadata": {
        "id": "bWrrZ_GaYla1"
      },
      "source": [
        "PRE_TRAINED_MODEL_NAME = 'bert-base-cased'"
      ],
      "execution_count": null,
      "outputs": []
    },
    {
      "cell_type": "code",
      "metadata": {
        "id": "3oBSTU3bYnfa",
        "colab": {
          "base_uri": "https://localhost:8080/",
          "height": 66,
          "referenced_widgets": [
            "59485ebd5d5241339ea74f70402d11da",
            "8b62e0ee167d4c7885c8dd2923bd727a",
            "c77598b81aae4f6a93f7ee216413409d",
            "cde12be4bc10440e993c5462d16a4eb2",
            "a6121f32409743b1aa29db5112a507db",
            "f57e4607b9c14ca189a8a286a4f59266",
            "bb4fd9a513f34003996e89e5acb7c671",
            "368a840d753349da8ddaf73273aca552"
          ]
        },
        "outputId": "2eccd2fb-76e2-4eee-ae3f-9903c028b10b"
      },
      "source": [
        "tokenizer = BertTokenizer.from_pretrained(PRE_TRAINED_MODEL_NAME)"
      ],
      "execution_count": null,
      "outputs": [
        {
          "output_type": "display_data",
          "data": {
            "application/vnd.jupyter.widget-view+json": {
              "model_id": "59485ebd5d5241339ea74f70402d11da",
              "version_minor": 0,
              "version_major": 2
            },
            "text/plain": [
              "HBox(children=(FloatProgress(value=0.0, description='Downloading', max=213450.0, style=ProgressStyle(descripti…"
            ]
          },
          "metadata": {
            "tags": []
          }
        },
        {
          "output_type": "stream",
          "text": [
            "\n"
          ],
          "name": "stdout"
        }
      ]
    },
    {
      "cell_type": "code",
      "metadata": {
        "id": "QZ_aG2l_ZYMD"
      },
      "source": [
        "sample_txt = 'We close our eyes and the world has turned around again\\nWe close our eyes and dream\\nAnother year has come and gone.' #lyric"
      ],
      "execution_count": null,
      "outputs": []
    },
    {
      "cell_type": "code",
      "metadata": {
        "colab": {
          "base_uri": "https://localhost:8080/"
        },
        "id": "KnVXVD9UZaot",
        "outputId": "91d84220-1b58-4d63-de0b-e71e9ff67f9e"
      },
      "source": [
        "tokens = tokenizer.tokenize(sample_txt)\r\n",
        "token_ids = tokenizer.convert_tokens_to_ids(tokens)\r\n",
        "\r\n",
        "print(f' Sentence: {sample_txt}')\r\n",
        "print(f'   Tokens: {tokens}')\r\n",
        "print(f'Token IDs: {token_ids}')"
      ],
      "execution_count": null,
      "outputs": [
        {
          "output_type": "stream",
          "text": [
            " Sentence: We close our eyes and the world has turned around again\n",
            "We close our eyes and dream\n",
            "Another year has come and gone.\n",
            "   Tokens: ['We', 'close', 'our', 'eyes', 'and', 'the', 'world', 'has', 'turned', 'around', 'again', 'We', 'close', 'our', 'eyes', 'and', 'dream', 'Another', 'year', 'has', 'come', 'and', 'gone', '.']\n",
            "Token IDs: [1284, 1601, 1412, 1257, 1105, 1103, 1362, 1144, 1454, 1213, 1254, 1284, 1601, 1412, 1257, 1105, 4185, 2543, 1214, 1144, 1435, 1105, 2065, 119]\n"
          ],
          "name": "stdout"
        }
      ]
    },
    {
      "cell_type": "code",
      "metadata": {
        "colab": {
          "base_uri": "https://localhost:8080/"
        },
        "id": "otgHJmJVZect",
        "outputId": "b49c5280-f8a8-4975-eb40-aeeaaa3642f0"
      },
      "source": [
        "tokenizer.sep_token, tokenizer.sep_token_id # [SEP] - marker for ending of a sentence"
      ],
      "execution_count": null,
      "outputs": [
        {
          "output_type": "execute_result",
          "data": {
            "text/plain": [
              "('[SEP]', 102)"
            ]
          },
          "metadata": {
            "tags": []
          },
          "execution_count": 105
        }
      ]
    },
    {
      "cell_type": "code",
      "metadata": {
        "colab": {
          "base_uri": "https://localhost:8080/"
        },
        "id": "N_GSkxPcZgez",
        "outputId": "ea34b26e-54e9-4f92-9bd9-290426c091a8"
      },
      "source": [
        "tokenizer.cls_token, tokenizer.cls_token_id # [CLS] - add this token to the start of each sentence, so BERT knows I're doing classification"
      ],
      "execution_count": null,
      "outputs": [
        {
          "output_type": "execute_result",
          "data": {
            "text/plain": [
              "('[CLS]', 101)"
            ]
          },
          "metadata": {
            "tags": []
          },
          "execution_count": 106
        }
      ]
    },
    {
      "cell_type": "code",
      "metadata": {
        "colab": {
          "base_uri": "https://localhost:8080/"
        },
        "id": "I5lI7C8OZicN",
        "outputId": "075b36cf-aac9-4c0f-8a03-a244696e4ca0"
      },
      "source": [
        "tokenizer.pad_token, tokenizer.pad_token_id # There is also a special token for padding"
      ],
      "execution_count": null,
      "outputs": [
        {
          "output_type": "execute_result",
          "data": {
            "text/plain": [
              "('[PAD]', 0)"
            ]
          },
          "metadata": {
            "tags": []
          },
          "execution_count": 107
        }
      ]
    },
    {
      "cell_type": "code",
      "metadata": {
        "colab": {
          "base_uri": "https://localhost:8080/"
        },
        "id": "AFZx2B8EZkP5",
        "outputId": "3b093e17-b53a-48fc-fd0a-afa239703c15"
      },
      "source": [
        "tokenizer.unk_token, tokenizer.unk_token_id # BERT understands tokens that were in the training set. Everything else can be encoded using the [UNK] (unknown) token"
      ],
      "execution_count": null,
      "outputs": [
        {
          "output_type": "execute_result",
          "data": {
            "text/plain": [
              "('[UNK]', 100)"
            ]
          },
          "metadata": {
            "tags": []
          },
          "execution_count": 108
        }
      ]
    },
    {
      "cell_type": "code",
      "metadata": {
        "colab": {
          "base_uri": "https://localhost:8080/"
        },
        "id": "bZfP87v5Zmzb",
        "outputId": "978def3f-984c-4dc3-a971-b7c30247acb7"
      },
      "source": [
        "encoding = tokenizer.encode_plus(\r\n",
        "    sample_txt,\r\n",
        "    max_length=32,\r\n",
        "    add_special_tokens=True, # Add '[CLS]' and '[SEP]'\r\n",
        "    return_token_type_ids=False,\r\n",
        "    padding='max_length',\r\n",
        "    truncation=True,\r\n",
        "    return_attention_mask=True,\r\n",
        "    return_tensors='pt',  # Return PyTorch tensors\r\n",
        "    )\r\n",
        "\r\n",
        "encoding.keys()"
      ],
      "execution_count": null,
      "outputs": [
        {
          "output_type": "execute_result",
          "data": {
            "text/plain": [
              "dict_keys(['input_ids', 'attention_mask'])"
            ]
          },
          "metadata": {
            "tags": []
          },
          "execution_count": 14
        }
      ]
    },
    {
      "cell_type": "code",
      "metadata": {
        "colab": {
          "base_uri": "https://localhost:8080/"
        },
        "id": "YLqEW1QFZrhs",
        "outputId": "f58ede5d-f0f0-4053-a546-aa8f4e879c5b"
      },
      "source": [
        "print(len(encoding['input_ids'][0])) \r\n",
        "encoding['input_ids'][0]\r\n",
        "# The token ids are now stored in a Tensor and padded to a length of 32"
      ],
      "execution_count": null,
      "outputs": [
        {
          "output_type": "stream",
          "text": [
            "32\n"
          ],
          "name": "stdout"
        },
        {
          "output_type": "execute_result",
          "data": {
            "text/plain": [
              "tensor([ 101, 1284, 1601, 1412, 1257, 1105, 1103, 1362, 1144, 1454, 1213, 1254,\n",
              "        1284, 1601, 1412, 1257, 1105, 4185, 2543, 1214, 1144, 1435, 1105, 2065,\n",
              "         119,  102,    0,    0,    0,    0,    0,    0])"
            ]
          },
          "metadata": {
            "tags": []
          },
          "execution_count": 110
        }
      ]
    },
    {
      "cell_type": "code",
      "metadata": {
        "colab": {
          "base_uri": "https://localhost:8080/"
        },
        "id": "OrQtuVBiZvEL",
        "outputId": "379b9b43-331c-4773-d0ff-138bdaba4f20"
      },
      "source": [
        "#The attention mask has the same length\r\n",
        "print(len(encoding['attention_mask'][0]))\r\n",
        "encoding['attention_mask']"
      ],
      "execution_count": null,
      "outputs": [
        {
          "output_type": "stream",
          "text": [
            "32\n"
          ],
          "name": "stdout"
        },
        {
          "output_type": "execute_result",
          "data": {
            "text/plain": [
              "tensor([[1, 1, 1, 1, 1, 1, 1, 1, 1, 1, 1, 1, 1, 1, 1, 1, 1, 1, 1, 1, 1, 1, 1, 1,\n",
              "         1, 1, 0, 0, 0, 0, 0, 0]])"
            ]
          },
          "metadata": {
            "tags": []
          },
          "execution_count": 111
        }
      ]
    },
    {
      "cell_type": "code",
      "metadata": {
        "colab": {
          "base_uri": "https://localhost:8080/"
        },
        "id": "h5KFClWSZxHC",
        "outputId": "1f2b30cf-5676-4e73-d3ac-33c012a853dd"
      },
      "source": [
        "# I can inverse the tokenization to have a look at the special tokens\r\n",
        "tokenizer.convert_ids_to_tokens(encoding['input_ids'][0])"
      ],
      "execution_count": null,
      "outputs": [
        {
          "output_type": "execute_result",
          "data": {
            "text/plain": [
              "['[CLS]',\n",
              " 'We',\n",
              " 'close',\n",
              " 'our',\n",
              " 'eyes',\n",
              " 'and',\n",
              " 'the',\n",
              " 'world',\n",
              " 'has',\n",
              " 'turned',\n",
              " 'around',\n",
              " 'again',\n",
              " 'We',\n",
              " 'close',\n",
              " 'our',\n",
              " 'eyes',\n",
              " 'and',\n",
              " 'dream',\n",
              " 'Another',\n",
              " 'year',\n",
              " 'has',\n",
              " 'come',\n",
              " 'and',\n",
              " 'gone',\n",
              " '.',\n",
              " '[SEP]',\n",
              " '[PAD]',\n",
              " '[PAD]',\n",
              " '[PAD]',\n",
              " '[PAD]',\n",
              " '[PAD]',\n",
              " '[PAD]']"
            ]
          },
          "metadata": {
            "tags": []
          },
          "execution_count": 112
        }
      ]
    },
    {
      "cell_type": "markdown",
      "metadata": {
        "id": "oJe9PXgrYPXG"
      },
      "source": [
        "Choosing Sequence Length - BERT works with fixed-length sequences"
      ]
    },
    {
      "cell_type": "code",
      "metadata": {
        "colab": {
          "base_uri": "https://localhost:8080/"
        },
        "id": "GS0-S6KmZ0uC",
        "outputId": "123012d3-a0a8-4b42-8a63-7972435c3879"
      },
      "source": [
        "token_lens = []\r\n",
        "\r\n",
        "for txt in df.Lyrics:\r\n",
        "  tokens = tokenizer.encode(txt, max_length=2048)\r\n",
        "  token_lens.append(len(tokens))"
      ],
      "execution_count": null,
      "outputs": [
        {
          "output_type": "stream",
          "text": [
            "Truncation was not explicitly activated but `max_length` is provided a specific value, please use `truncation=True` to explicitly truncate examples to max length. Defaulting to 'longest_first' truncation strategy. If you encode pairs of sequences (GLUE-style) with the tokenizer you can select this strategy more precisely by providing a specific strategy to `truncation`.\n"
          ],
          "name": "stderr"
        }
      ]
    },
    {
      "cell_type": "code",
      "metadata": {
        "colab": {
          "base_uri": "https://localhost:8080/",
          "height": 339
        },
        "id": "T204IGU4aDKq",
        "outputId": "361bd4cb-7792-420f-c490-aaba7921ca3b"
      },
      "source": [
        "sns.distplot(token_lens)\r\n",
        "plt.xlim([0, 1500]);\r\n",
        "plt.xlabel('Token count');"
      ],
      "execution_count": null,
      "outputs": [
        {
          "output_type": "stream",
          "text": [
            "/usr/local/lib/python3.6/dist-packages/seaborn/distributions.py:2551: FutureWarning: `distplot` is a deprecated function and will be removed in a future version. Please adapt your code to use either `displot` (a figure-level function with similar flexibility) or `histplot` (an axes-level function for histograms).\n",
            "  warnings.warn(msg, FutureWarning)\n"
          ],
          "name": "stderr"
        },
        {
          "output_type": "display_data",
          "data": {
            "image/png": "[encoded data removed]",
            "text/plain": [
              "<Figure size 432x288 with 1 Axes>"
            ]
          },
          "metadata": {
            "tags": []
          }
        }
      ]
    },
    {
      "cell_type": "markdown",
      "metadata": {
        "id": "5QL3tNuwYTyU"
      },
      "source": [
        "Most of the reviews seem to contain less than 500-600 tokens, but for memory reasons I will experimentally choose 350 to avoid the CUDA out of memory error"
      ]
    },
    {
      "cell_type": "code",
      "metadata": {
        "id": "nc17lqIgaKnO"
      },
      "source": [
        "MAX_LEN = 350"
      ],
      "execution_count": null,
      "outputs": []
    },
    {
      "cell_type": "code",
      "metadata": {
        "id": "9vnEBYJBbPdy"
      },
      "source": [
        "class LyricsDataset(Dataset):\r\n",
        "\r\n",
        "    def __init__(self, lyrics, genres, tokenizer, max_len):\r\n",
        "        self.lyrics = lyrics\r\n",
        "        self.genres = genres\r\n",
        "        self.tokenizer = tokenizer\r\n",
        "        self.max_len = max_len\r\n",
        "    \r\n",
        "    def __len__(self):\r\n",
        "        return len(self.lyrics)\r\n",
        "    \r\n",
        "    def __getitem__(self, item):\r\n",
        "        lyric = str(self.lyrics[item])\r\n",
        "        genre = self.genres[item]\r\n",
        "\r\n",
        "        encoding = self.tokenizer.encode_plus(\r\n",
        "        lyric,\r\n",
        "        add_special_tokens=True,\r\n",
        "        max_length=self.max_len,\r\n",
        "        return_token_type_ids=False,\r\n",
        "        padding='max_length',\r\n",
        "        truncation=True,\r\n",
        "        return_attention_mask=True,\r\n",
        "        return_tensors='pt',\r\n",
        "        )\r\n",
        "\r\n",
        "        return {\r\n",
        "        'lyric_text': lyric,\r\n",
        "        'input_ids': encoding['input_ids'].flatten(),\r\n",
        "        'attention_mask': encoding['attention_mask'].flatten(),\r\n",
        "        'genres': torch.tensor(genre, dtype=torch.long)\r\n",
        "        }"
      ],
      "execution_count": null,
      "outputs": []
    },
    {
      "cell_type": "code",
      "metadata": {
        "id": "FrYVe9MJd7gg"
      },
      "source": [
        "RANDOM_SEED = 43\r\n",
        "df_train, df_val = train_test_split(df, test_size=0.1, random_state=RANDOM_SEED)"
      ],
      "execution_count": null,
      "outputs": []
    },
    {
      "cell_type": "code",
      "metadata": {
        "colab": {
          "base_uri": "https://localhost:8080/"
        },
        "id": "tP0srnMahGvC",
        "outputId": "ce88a9dd-de93-41aa-e0aa-fb25fc92275b"
      },
      "source": [
        "df_train.shape, df_val.shape, df_test.shape"
      ],
      "execution_count": null,
      "outputs": [
        {
          "output_type": "execute_result",
          "data": {
            "text/plain": [
              "((16661, 2), (1852, 2), (7935, 2))"
            ]
          },
          "metadata": {
            "tags": []
          },
          "execution_count": 19
        }
      ]
    },
    {
      "cell_type": "code",
      "metadata": {
        "id": "pZT0CMFQhLFa"
      },
      "source": [
        "def create_data_loader(df, tokenizer, max_len, batch_size):\r\n",
        "    ds = LyricsDataset(\r\n",
        "        lyrics=df.Lyrics.to_numpy(),\r\n",
        "        genres=df.Genre.to_numpy(),\r\n",
        "        tokenizer=tokenizer,\r\n",
        "        max_len=max_len)\r\n",
        "\r\n",
        "    return DataLoader(\r\n",
        "        ds,\r\n",
        "        batch_size=batch_size,\r\n",
        "        num_workers=4)"
      ],
      "execution_count": null,
      "outputs": []
    },
    {
      "cell_type": "code",
      "metadata": {
        "id": "4hE16BB1hZD5"
      },
      "source": [
        "BATCH_SIZE = 16\r\n",
        "\r\n",
        "train_data_loader = create_data_loader(df_train, tokenizer, MAX_LEN, BATCH_SIZE)\r\n",
        "val_data_loader = create_data_loader(df_val, tokenizer, MAX_LEN, BATCH_SIZE)\r\n",
        "test_data_loader = create_data_loader(df_test, tokenizer, MAX_LEN, BATCH_SIZE)"
      ],
      "execution_count": null,
      "outputs": []
    },
    {
      "cell_type": "code",
      "metadata": {
        "colab": {
          "base_uri": "https://localhost:8080/"
        },
        "id": "7yGJ1eQahkYZ",
        "outputId": "5417209c-cc5a-473d-d22d-aaaed85cf99a"
      },
      "source": [
        "data = next(iter(train_data_loader))\r\n",
        "data.keys()"
      ],
      "execution_count": null,
      "outputs": [
        {
          "output_type": "execute_result",
          "data": {
            "text/plain": [
              "dict_keys(['lyric_text', 'input_ids', 'attention_mask', 'genres'])"
            ]
          },
          "metadata": {
            "tags": []
          },
          "execution_count": 22
        }
      ]
    },
    {
      "cell_type": "code",
      "metadata": {
        "colab": {
          "base_uri": "https://localhost:8080/"
        },
        "id": "f_OvR9D5hnRD",
        "outputId": "57996d4d-ccde-4767-8719-7b93e914a105"
      },
      "source": [
        "print(data['input_ids'].shape)\r\n",
        "print(data['attention_mask'].shape)\r\n",
        "print(data['genres'].shape)"
      ],
      "execution_count": null,
      "outputs": [
        {
          "output_type": "stream",
          "text": [
            "torch.Size([16, 350])\n",
            "torch.Size([16, 350])\n",
            "torch.Size([16])\n"
          ],
          "name": "stdout"
        }
      ]
    },
    {
      "cell_type": "code",
      "metadata": {
        "id": "e8MyraJhhv3I",
        "colab": {
          "base_uri": "https://localhost:8080/",
          "height": 115,
          "referenced_widgets": [
            "3b5a67730525483480e8cec76cd4a6fb",
            "12efa42bc18e4072b038c4b8abcff358",
            "0b83f49455ca4f0ab7fa74a765e5b434",
            "de436a1fb388493c86255d1b764f8217",
            "b242280ad80f4ec596dcafc5b6dd33e6",
            "8284625ce8b8484db345ffd2e698dec6",
            "d1a1766d866d4bc9876642ea5d8f2f54",
            "e32173044e60444f80139778e40dc2f1",
            "05aa5a87445949c1b0325479b4b1236a",
            "dd032568c1bc41e4b97b81b50f55963c",
            "29c0fa719cf948f995c96578b3a27912",
            "27f2f5b3608e4ca3929f07ba3f7ff816",
            "384a1b6f4fe84ba5945d69ea10cc2ca5",
            "b6fafc8cc0134c71bf0c5572f6f565e6",
            "b5a1e9bfbfe3432dbe844c6729ed05af",
            "f9403330025741e8b29bb369a7161d89"
          ]
        },
        "outputId": "74b5a21d-843e-4a69-c19f-3d1cfb503465"
      },
      "source": [
        "bert_model = BertModel.from_pretrained(PRE_TRAINED_MODEL_NAME)"
      ],
      "execution_count": null,
      "outputs": [
        {
          "output_type": "display_data",
          "data": {
            "application/vnd.jupyter.widget-view+json": {
              "model_id": "3b5a67730525483480e8cec76cd4a6fb",
              "version_minor": 0,
              "version_major": 2
            },
            "text/plain": [
              "HBox(children=(FloatProgress(value=0.0, description='Downloading', max=433.0, style=ProgressStyle(description_…"
            ]
          },
          "metadata": {
            "tags": []
          }
        },
        {
          "output_type": "stream",
          "text": [
            "\n"
          ],
          "name": "stdout"
        },
        {
          "output_type": "display_data",
          "data": {
            "application/vnd.jupyter.widget-view+json": {
              "model_id": "05aa5a87445949c1b0325479b4b1236a",
              "version_minor": 0,
              "version_major": 2
            },
            "text/plain": [
              "HBox(children=(FloatProgress(value=0.0, description='Downloading', max=435779157.0, style=ProgressStyle(descri…"
            ]
          },
          "metadata": {
            "tags": []
          }
        },
        {
          "output_type": "stream",
          "text": [
            "\n"
          ],
          "name": "stdout"
        }
      ]
    },
    {
      "cell_type": "code",
      "metadata": {
        "colab": {
          "base_uri": "https://localhost:8080/"
        },
        "id": "7wNBGoSJrY1H",
        "outputId": "3e012e2e-256e-405a-9612-51ababebca4f"
      },
      "source": [
        "bert_model(\r\n",
        "    input_ids=encoding['input_ids'], \r\n",
        "    attention_mask=encoding['attention_mask']\r\n",
        "    )['last_hidden_state'].shape"
      ],
      "execution_count": null,
      "outputs": [
        {
          "output_type": "execute_result",
          "data": {
            "text/plain": [
              "torch.Size([1, 32, 768])"
            ]
          },
          "metadata": {
            "tags": []
          },
          "execution_count": 24
        }
      ]
    },
    {
      "cell_type": "code",
      "metadata": {
        "colab": {
          "base_uri": "https://localhost:8080/"
        },
        "id": "di-i_saXibNx",
        "outputId": "afba42a2-ea2d-4c9a-e3d9-a992588e51a3"
      },
      "source": [
        "bert_model.config.hidden_size"
      ],
      "execution_count": null,
      "outputs": [
        {
          "output_type": "execute_result",
          "data": {
            "text/plain": [
              "768"
            ]
          },
          "metadata": {
            "tags": []
          },
          "execution_count": 37
        }
      ]
    },
    {
      "cell_type": "code",
      "metadata": {
        "colab": {
          "base_uri": "https://localhost:8080/"
        },
        "id": "160u-qQjidan",
        "outputId": "7a07953b-d638-400a-800a-a2ab7835d10e"
      },
      "source": [
        "bert_model(\r\n",
        "  input_ids=encoding['input_ids'], \r\n",
        "  attention_mask=encoding['attention_mask']\r\n",
        ")['pooler_output'].shape"
      ],
      "execution_count": null,
      "outputs": [
        {
          "output_type": "execute_result",
          "data": {
            "text/plain": [
              "torch.Size([1, 768])"
            ]
          },
          "metadata": {
            "tags": []
          },
          "execution_count": 38
        }
      ]
    },
    {
      "cell_type": "code",
      "metadata": {
        "id": "ena38K0xjZZN"
      },
      "source": [
        "class LyricsClassifier(nn.Module):\r\n",
        "\r\n",
        "    def __init__(self, n_classes):\r\n",
        "        super(LyricsClassifier, self).__init__()\r\n",
        "        self.bert = BertModel.from_pretrained(PRE_TRAINED_MODEL_NAME)\r\n",
        "        self.drop = nn.Dropout(p=0.3)\r\n",
        "        self.out = nn.Linear(self.bert.config.hidden_size, n_classes)\r\n",
        "        # I use a dropout layer for some regularization and a fully-connected layer for our output\r\n",
        "    \r\n",
        "    def forward(self, input_ids, attention_mask):\r\n",
        "        pooled_output = self.bert(\r\n",
        "            input_ids=input_ids,\r\n",
        "            attention_mask=attention_mask\r\n",
        "            )['pooler_output']\r\n",
        "        output = self.drop(pooled_output)\r\n",
        "        return self.out(output) "
      ],
      "execution_count": null,
      "outputs": []
    },
    {
      "cell_type": "code",
      "metadata": {
        "id": "P6ileYlzjeQx"
      },
      "source": [
        "model = LyricsClassifier(10)\r\n",
        "model = model.to(device)"
      ],
      "execution_count": null,
      "outputs": []
    },
    {
      "cell_type": "code",
      "metadata": {
        "colab": {
          "base_uri": "https://localhost:8080/"
        },
        "id": "4nYvUzE4kBwx",
        "outputId": "1bcac655-0b2d-4db0-cac2-5ebc3eb968e8"
      },
      "source": [
        "input_ids = data['input_ids'].to(device)\r\n",
        "attention_mask = data['attention_mask'].to(device)\r\n",
        "\r\n",
        "print(input_ids.shape) # batch size x seq length\r\n",
        "print(attention_mask.shape) # batch size x seq length"
      ],
      "execution_count": null,
      "outputs": [
        {
          "output_type": "stream",
          "text": [
            "torch.Size([16, 350])\n",
            "torch.Size([16, 350])\n"
          ],
          "name": "stdout"
        }
      ]
    },
    {
      "cell_type": "markdown",
      "metadata": {
        "id": "X6t39GNQZcrz"
      },
      "source": [
        "The BERT authors have some recommendations for fine-tuning:\r\n",
        "\r\n",
        "- Batch size: 16, 32\r\n",
        "- Learning rate (Adam): 5e-5, 3e-5, 2e-5\r\n",
        "- Number of epochs: 2, 3, 4"
      ]
    },
    {
      "cell_type": "code",
      "metadata": {
        "id": "390guhnjoqwl"
      },
      "source": [
        "EPOCHS = 4\r\n",
        "\r\n",
        "optimizer = AdamW(model.parameters(), lr=2e-5, correct_bias=False)\r\n",
        "total_steps = len(train_data_loader) * EPOCHS\r\n",
        "\r\n",
        "scheduler = get_linear_schedule_with_warmup(\r\n",
        "    optimizer,\r\n",
        "    num_warmup_steps=0,\r\n",
        "    num_training_steps=total_steps)\r\n",
        "\r\n",
        "loss_fn = nn.CrossEntropyLoss().to(device)"
      ],
      "execution_count": null,
      "outputs": []
    },
    {
      "cell_type": "code",
      "metadata": {
        "id": "AgSop3Orp0QT"
      },
      "source": [
        "def train_epoch(model, data_loader, loss_fn, optimizer, device, scheduler, n_examples):\r\n",
        "    model = model.train()\r\n",
        "\r\n",
        "    losses = []\r\n",
        "    correct_predictions = 0\r\n",
        "    \r\n",
        "    for d in data_loader:\r\n",
        "        input_ids = d[\"input_ids\"].to(device)\r\n",
        "        attention_mask = d[\"attention_mask\"].to(device)\r\n",
        "        targets = d[\"genres\"].to(device)\r\n",
        "\r\n",
        "        outputs = model(input_ids=input_ids, attention_mask=attention_mask)\r\n",
        "\r\n",
        "        _, preds = torch.max(outputs, dim=1)\r\n",
        "        loss = loss_fn(outputs, targets)\r\n",
        "\r\n",
        "        correct_predictions += torch.sum(preds == targets)\r\n",
        "        losses.append(loss.item())\r\n",
        "\r\n",
        "        loss.backward()\r\n",
        "        nn.utils.clip_grad_norm_(model.parameters(), max_norm=1.0)\r\n",
        "        optimizer.step()\r\n",
        "        scheduler.step()\r\n",
        "        optimizer.zero_grad()\r\n",
        "\r\n",
        "    return correct_predictions.double() / n_examples, np.mean(losses)"
      ],
      "execution_count": null,
      "outputs": []
    },
    {
      "cell_type": "code",
      "metadata": {
        "id": "yAVSdWVTp7pc"
      },
      "source": [
        "def eval_model(model, data_loader, loss_fn, device, n_examples):\r\n",
        "    model = model.eval()\r\n",
        "\r\n",
        "    losses = []\r\n",
        "    correct_predictions = 0\r\n",
        "\r\n",
        "    with torch.no_grad():\r\n",
        "        for d in data_loader:\r\n",
        "            input_ids = d[\"input_ids\"].to(device)\r\n",
        "            attention_mask = d[\"attention_mask\"].to(device)\r\n",
        "            targets = d[\"genres\"].to(device)\r\n",
        "\r\n",
        "            outputs = model(input_ids=input_ids, attention_mask=attention_mask)\r\n",
        "            _, preds = torch.max(outputs, dim=1)\r\n",
        "\r\n",
        "            loss = loss_fn(outputs, targets)\r\n",
        "\r\n",
        "            correct_predictions += torch.sum(preds == targets)\r\n",
        "            losses.append(loss.item())\r\n",
        "\r\n",
        "    return correct_predictions.double() / n_examples, np.mean(losses)"
      ],
      "execution_count": null,
      "outputs": []
    },
    {
      "cell_type": "code",
      "metadata": {
        "colab": {
          "base_uri": "https://localhost:8080/"
        },
        "id": "5JcOBc_Fp_Dg",
        "outputId": "dd30e157-4ba9-40f1-ff3f-b4d8594d4b36"
      },
      "source": [
        "history = defaultdict(list)\r\n",
        "best_accuracy = 0\r\n",
        "\r\n",
        "for epoch in range(EPOCHS):\r\n",
        "\r\n",
        "    print(f'Epoch {epoch + 1}/{EPOCHS}')\r\n",
        "    print('-' * 10)\r\n",
        "\r\n",
        "    train_acc, train_loss = train_epoch(model,train_data_loader, loss_fn, optimizer, device, scheduler, len(df_train))\r\n",
        "\r\n",
        "    print(f'Train loss {train_loss} accuracy {train_acc}')\r\n",
        "\r\n",
        "    val_acc, val_loss = eval_model(model,val_data_loader,loss_fn, device, len(df_val))\r\n",
        "\r\n",
        "    print(f'Val   loss {val_loss} accuracy {val_acc}')\r\n",
        "    print()\r\n",
        "\r\n",
        "    history['train_acc'].append(train_acc)\r\n",
        "    history['train_loss'].append(train_loss)\r\n",
        "    history['val_acc'].append(val_acc)\r\n",
        "    history['val_loss'].append(val_loss)\r\n",
        "\r\n",
        "    if val_acc > best_accuracy:\r\n",
        "        torch.save(model.state_dict(), 'best_model_state.bin')\r\n",
        "        best_accuracy = val_acc"
      ],
      "execution_count": null,
      "outputs": [
        {
          "output_type": "stream",
          "text": [
            "Epoch 1/4\n",
            "----------\n",
            "Train loss 1.7647588611106726 accuracy 0.383650441149991\n",
            "Val   loss 1.6237767585392655 accuracy 0.42764578833693306\n",
            "\n",
            "Epoch 2/4\n",
            "----------\n",
            "Train loss 1.38611540753187 accuracy 0.5272192545465458\n",
            "Val   loss 1.55461341399571 accuracy 0.4605831533477322\n",
            "\n",
            "Epoch 3/4\n",
            "----------\n",
            "Train loss 1.0834839254789297 accuracy 0.644439109297161\n",
            "Val   loss 1.628732222421416 accuracy 0.45896328293736505\n",
            "\n",
            "Epoch 4/4\n",
            "----------\n",
            "Train loss 0.8656956327796669 accuracy 0.7246263729668087\n",
            "Val   loss 1.7096524279693077 accuracy 0.4573434125269979\n",
            "\n"
          ],
          "name": "stdout"
        }
      ]
    },
    {
      "cell_type": "code",
      "metadata": {
        "colab": {
          "base_uri": "https://localhost:8080/",
          "height": 301
        },
        "id": "YOpwMIeIW2Nr",
        "outputId": "c5a5f976-8759-4ee7-fb92-d90aed91480f"
      },
      "source": [
        "plt.plot(history['train_acc'], label='train accuracy')\r\n",
        "plt.plot(history['val_acc'], label='validation accuracy')\r\n",
        "\r\n",
        "plt.title('Training history')\r\n",
        "plt.ylabel('Accuracy')\r\n",
        "plt.xlabel('Epoch')\r\n",
        "plt.legend()\r\n",
        "plt.ylim([0, 1]);"
      ],
      "execution_count": null,
      "outputs": [
        {
          "output_type": "display_data",
          "data": {
            "image/png": "[encoded data removed]",
            "text/plain": [
              "<Figure size 432x288 with 1 Axes>"
            ]
          },
          "metadata": {
            "tags": []
          }
        }
      ]
    },
    {
      "cell_type": "code",
      "metadata": {
        "colab": {
          "base_uri": "https://localhost:8080/"
        },
        "id": "qyvQa7ugW893",
        "outputId": "49a76e99-1bf9-4448-9f0c-4e372f2546e3"
      },
      "source": [
        "test_acc, _ = eval_model(model, test_data_loader, loss_fn, device, len(df_test))\r\n",
        "\r\n",
        "test_acc.item()"
      ],
      "execution_count": null,
      "outputs": [
        {
          "output_type": "execute_result",
          "data": {
            "text/plain": [
              "0.46212980466288595"
            ]
          },
          "metadata": {
            "tags": []
          },
          "execution_count": 33
        }
      ]
    },
    {
      "cell_type": "markdown",
      "metadata": {
        "id": "SFTMKmXgZqj_"
      },
      "source": [
        "The best accuracy so far, you can still easily see that I do not have a learning curve and that the network has a lot of overfitting. The learning curve is non-existent probably because the lyrics are in several languages, but also because I cut quite a lot out of context (max_len = 350)\r\n",
        "______________________________________________________________________________________________________________________\r\n",
        "\r\n",
        "# TORCHTEXT + EmbeddingBag "
      ]
    },
    {
      "cell_type": "code",
      "metadata": {
        "id": "wkLwjJtQrelu"
      },
      "source": [
        "import torchtext\r\n",
        "\r\n",
        "BATCH_SIZE = 16\r\n",
        "\r\n",
        "\r\n",
        "import torch.nn as nn\r\n",
        "import torch.nn.functional as F\r\n",
        "\r\n",
        "\r\n",
        "class LyricsClasificator(nn.Module):\r\n",
        "    def __init__(self, vocab_size, embed_dim, num_class):\r\n",
        "        super().__init__()\r\n",
        "        self.embedding = nn.EmbeddingBag(vocab_size, embed_dim, sparse=True)\r\n",
        "        self.fc = nn.Linear(embed_dim, num_class)\r\n",
        "        self.init_weights()\r\n",
        "\r\n",
        "    def init_weights(self):\r\n",
        "        initrange = 0.5\r\n",
        "        self.embedding.weight.data.uniform_(-initrange, initrange)\r\n",
        "        self.fc.weight.data.uniform_(-initrange, initrange)\r\n",
        "        self.fc.bias.data.zero_()\r\n",
        "\r\n",
        "    def forward(self, text, offsets):\r\n",
        "        embedded = self.embedding(text, offsets)\r\n",
        "        return self.fc(embedded)"
      ],
      "execution_count": null,
      "outputs": []
    },
    {
      "cell_type": "code",
      "metadata": {
        "id": "m08MG6qysoQn"
      },
      "source": [
        "df = pd.read_csv(data_dir_drive + 'Lyrics-Genre-Train.csv')"
      ],
      "execution_count": null,
      "outputs": []
    },
    {
      "cell_type": "code",
      "metadata": {
        "id": "i6AdLk51soQq"
      },
      "source": [
        "def to_code(genre):\r\n",
        "    if genre  == 'Country':\r\n",
        "        return 0\r\n",
        "    elif genre  == 'Electronic':\r\n",
        "        return 1\r\n",
        "    elif genre  == 'Folk':\r\n",
        "        return 2\r\n",
        "    elif genre  == 'Hip-Hop':\r\n",
        "        return 3\r\n",
        "    elif genre  == 'Indie':\r\n",
        "        return 4\r\n",
        "    elif genre  == 'Jazz':\r\n",
        "        return 5\r\n",
        "    elif genre  == 'Metal':\r\n",
        "        return 6\r\n",
        "    elif genre  == 'Pop':\r\n",
        "        return 7\r\n",
        "    elif genre  == 'R&B':\r\n",
        "        return 8\r\n",
        "    else: \r\n",
        "        return 9\r\n",
        "\r\n",
        "df['Genre'] = df.Genre.apply(to_code)\r\n",
        "del df['Song']\r\n",
        "del df['Song year']\r\n",
        "del df['Artist']\r\n",
        "del df['Track_id']"
      ],
      "execution_count": null,
      "outputs": []
    },
    {
      "cell_type": "code",
      "metadata": {
        "id": "F9jnWCTCsoQr"
      },
      "source": [
        "df_test = pd.read_csv(data_dir_drive + 'Lyrics-Genre-Test-GroundTruth.csv')"
      ],
      "execution_count": null,
      "outputs": []
    },
    {
      "cell_type": "code",
      "metadata": {
        "colab": {
          "base_uri": "https://localhost:8080/",
          "height": 204
        },
        "id": "4u8enGdcsoQs",
        "outputId": "73a39aac-1506-4ae4-ce0d-1417425b4df5"
      },
      "source": [
        "df_test['Genre'] = df_test.Genre.apply(to_code)\r\n",
        "del df_test['Song']\r\n",
        "del df_test['Song year']\r\n",
        "del df_test['Artist']\r\n",
        "del df_test['Track_id']\r\n",
        "df_test.head()"
      ],
      "execution_count": null,
      "outputs": [
        {
          "output_type": "execute_result",
          "data": {
            "text/html": [
              "<div>\n",
              "<style scoped>\n",
              "    .dataframe tbody tr th:only-of-type {\n",
              "        vertical-align: middle;\n",
              "    }\n",
              "\n",
              "    .dataframe tbody tr th {\n",
              "        vertical-align: top;\n",
              "    }\n",
              "\n",
              "    .dataframe thead th {\n",
              "        text-align: right;\n",
              "    }\n",
              "</style>\n",
              "<table border=\"1\" class=\"dataframe\">\n",
              "  <thead>\n",
              "    <tr style=\"text-align: right;\">\n",
              "      <th></th>\n",
              "      <th>Genre</th>\n",
              "      <th>Lyrics</th>\n",
              "    </tr>\n",
              "  </thead>\n",
              "  <tbody>\n",
              "    <tr>\n",
              "      <th>0</th>\n",
              "      <td>3</td>\n",
              "      <td>Most folks spend their days daydreaming of fin...</td>\n",
              "    </tr>\n",
              "    <tr>\n",
              "      <th>1</th>\n",
              "      <td>4</td>\n",
              "      <td>Take your cold hands and put them on my face\\n...</td>\n",
              "    </tr>\n",
              "    <tr>\n",
              "      <th>2</th>\n",
              "      <td>6</td>\n",
              "      <td>Are you ready it's time for war\\nWe'll break d...</td>\n",
              "    </tr>\n",
              "    <tr>\n",
              "      <th>3</th>\n",
              "      <td>7</td>\n",
              "      <td>You ask me why I change the color of my hair\\n...</td>\n",
              "    </tr>\n",
              "    <tr>\n",
              "      <th>4</th>\n",
              "      <td>3</td>\n",
              "      <td>Do you believe in magic in a young girl's hear...</td>\n",
              "    </tr>\n",
              "  </tbody>\n",
              "</table>\n",
              "</div>"
            ],
            "text/plain": [
              "   Genre                                             Lyrics\n",
              "0      3  Most folks spend their days daydreaming of fin...\n",
              "1      4  Take your cold hands and put them on my face\\n...\n",
              "2      6  Are you ready it's time for war\\nWe'll break d...\n",
              "3      7  You ask me why I change the color of my hair\\n...\n",
              "4      3  Do you believe in magic in a young girl's hear..."
            ]
          },
          "metadata": {
            "tags": []
          },
          "execution_count": 116
        }
      ]
    },
    {
      "cell_type": "code",
      "metadata": {
        "colab": {
          "base_uri": "https://localhost:8080/"
        },
        "id": "brpHHHbJ6wR8",
        "outputId": "bdc76e6f-4a89-4aba-cf25-e3446368caf4"
      },
      "source": [
        "!pip install -U torchtext==0.8.0"
      ],
      "execution_count": null,
      "outputs": [
        {
          "output_type": "stream",
          "text": [
            "Requirement already up-to-date: torchtext==0.8.0 in /usr/local/lib/python3.6/dist-packages (0.8.0)\n",
            "Requirement already satisfied, skipping upgrade: torch in /usr/local/lib/python3.6/dist-packages (from torchtext==0.8.0) (1.7.0+cu101)\n",
            "Requirement already satisfied, skipping upgrade: requests in /usr/local/lib/python3.6/dist-packages (from torchtext==0.8.0) (2.23.0)\n",
            "Requirement already satisfied, skipping upgrade: tqdm in /usr/local/lib/python3.6/dist-packages (from torchtext==0.8.0) (4.41.1)\n",
            "Requirement already satisfied, skipping upgrade: numpy in /usr/local/lib/python3.6/dist-packages (from torchtext==0.8.0) (1.19.5)\n",
            "Requirement already satisfied, skipping upgrade: dataclasses in /usr/local/lib/python3.6/dist-packages (from torch->torchtext==0.8.0) (0.8)\n",
            "Requirement already satisfied, skipping upgrade: future in /usr/local/lib/python3.6/dist-packages (from torch->torchtext==0.8.0) (0.16.0)\n",
            "Requirement already satisfied, skipping upgrade: typing-extensions in /usr/local/lib/python3.6/dist-packages (from torch->torchtext==0.8.0) (3.7.4.3)\n",
            "Requirement already satisfied, skipping upgrade: certifi>=2017.4.17 in /usr/local/lib/python3.6/dist-packages (from requests->torchtext==0.8.0) (2020.12.5)\n",
            "Requirement already satisfied, skipping upgrade: chardet<4,>=3.0.2 in /usr/local/lib/python3.6/dist-packages (from requests->torchtext==0.8.0) (3.0.4)\n",
            "Requirement already satisfied, skipping upgrade: idna<3,>=2.5 in /usr/local/lib/python3.6/dist-packages (from requests->torchtext==0.8.0) (2.10)\n",
            "Requirement already satisfied, skipping upgrade: urllib3!=1.25.0,!=1.25.1,<1.26,>=1.21.1 in /usr/local/lib/python3.6/dist-packages (from requests->torchtext==0.8.0) (1.24.3)\n"
          ],
          "name": "stdout"
        }
      ]
    },
    {
      "cell_type": "code",
      "metadata": {
        "colab": {
          "base_uri": "https://localhost:8080/"
        },
        "id": "-4OzgC0yrefr",
        "outputId": "930c61f9-d997-42c4-8433-5aa575cf46da"
      },
      "source": [
        "from torchtext.data.utils import get_tokenizer\r\n",
        "from torchtext.vocab import build_vocab_from_iterator\r\n",
        "\r\n",
        "def build_vocab(data, transforms):\r\n",
        "    def apply_transforms(data):\r\n",
        "        for line in data:\r\n",
        "            tokens = transforms(line)\r\n",
        "            yield tokens\r\n",
        "    return build_vocab_from_iterator(apply_transforms(data), len(data))\r\n",
        "\r\n",
        "tokenizer = get_tokenizer('basic_english')\r\n",
        "vocab = build_vocab(df['Lyrics'], tokenizer)\r\n",
        "vocab_test = build_vocab(df_test['Lyrics'], tokenizer)"
      ],
      "execution_count": null,
      "outputs": [
        {
          "output_type": "stream",
          "text": [
            "100%|██████████| 18513/18513 [00:02<00:00, 7685.67lines/s]\n",
            "100%|██████████| 7935/7935 [00:01<00:00, 7723.82lines/s]\n"
          ],
          "name": "stderr"
        }
      ]
    },
    {
      "cell_type": "code",
      "metadata": {
        "id": "MYiqcKk6-DzY"
      },
      "source": [
        "class LanguageModelingDataset(torch.utils.data.Dataset):\r\n",
        "    \"\"\"Defines a dataset for language modeling.\r\n",
        "       Currently, we only support the following datasets:\r\n",
        "             - WikiText2\r\n",
        "             - WikiText103\r\n",
        "             - PennTreebank\r\n",
        "             - WMTNewsCrawl\r\n",
        "    \"\"\"\r\n",
        "\r\n",
        "    def __init__(self, data, vocab, transform):\r\n",
        "        \"\"\"Initiate language modeling dataset.\r\n",
        "        Args:\r\n",
        "            data: a tensor of tokens. tokens are ids after\r\n",
        "                numericalizing the string tokens.\r\n",
        "                torch.tensor([token_id_1, token_id_2, token_id_3, token_id1]).long()\r\n",
        "            vocab: Vocabulary object used for dataset.\r\n",
        "            transform: Text string transform.\r\n",
        "        \"\"\"\r\n",
        "\r\n",
        "        super(LanguageModelingDataset, self).__init__()\r\n",
        "        self.vocab = vocab\r\n",
        "        self.transform = transform\r\n",
        "        self.data = data\r\n",
        "\r\n",
        "    def __getitem__(self, i):\r\n",
        "        return self.data[i]\r\n",
        "\r\n",
        "    def __len__(self):\r\n",
        "        return len(self.data)\r\n",
        "\r\n",
        "    def __iter__(self):\r\n",
        "        for x in self.data:\r\n",
        "            yield x\r\n",
        "\r\n",
        "    def get_vocab(self):\r\n",
        "        return self.vocab"
      ],
      "execution_count": null,
      "outputs": []
    },
    {
      "cell_type": "code",
      "metadata": {
        "id": "DjooR-Kb_ltX"
      },
      "source": [
        "def text_transform(line):\r\n",
        "    return torch.tensor([vocab[token] for token in tokenizer(line)], dtype=torch.long)"
      ],
      "execution_count": null,
      "outputs": []
    },
    {
      "cell_type": "code",
      "metadata": {
        "colab": {
          "base_uri": "https://localhost:8080/"
        },
        "id": "MbsPar6E_cOv",
        "outputId": "8008f196-38a2-4190-ad81-2d6bb63db29a"
      },
      "source": [
        "DS = LanguageModelingDataset(list(zip(list(map(text_transform, df.Lyrics.tolist())), df.Genre.tolist())), vocab, text_transform)\r\n",
        "DS_test = LanguageModelingDataset(list(zip(list(map(text_transform, df_test.Lyrics.tolist())), df_test.Genre.tolist())), vocab_test, text_transform)\r\n",
        "\r\n",
        "DS[0]"
      ],
      "execution_count": null,
      "outputs": [
        {
          "output_type": "execute_result",
          "data": {
            "text/plain": [
              "(tensor([    4,   144,     9,   104,    15,     8,     5,   576,     3,   115,\n",
              "           227,   220,    30,    11,     3,     4,   233, 13495,     5,   104,\n",
              "            15,     8,     5,  2402,     7,   170,  2613,   347,    11,     3,\n",
              "          2179,   294,    25,   201,   420,    12,    12,    12,    10,  1185,\n",
              "            12,     4,  4057,    13,   131,     3,     4,   290,    25,     5,\n",
              "           213,     3,     4,    60,     5, 18704,    18,   389,     3,   115,\n",
              "           227,    30,    11,     4,   648,    13,  1070,     3,     7,    10,\n",
              "         43501,    13,   232,    12,    12,    12,    13,   232,    12,     4,\n",
              "            60,     5,   174,     3,    13,   137,  4525,   341,    10,     3,\n",
              "         24730,   232,     7,     5,  1102,   673,     3,  2172,  3142,    69,\n",
              "            13,   227,     3,  2179,    29,   273,   194,    35,   122,  3381,\n",
              "             9,   417,    12,    12,    12,  3142,   194,    18,    11,    12,\n",
              "             4,   341,    13,   131,     3,  2179,   920,    25,   213,     3,\n",
              "             7, 13002,  2119,    24,   115,     9,   251,     3,     4,    87,\n",
              "             5,   222,    13,   131,    64,   446,     3,    25,    13,   227,\n",
              "             4,    60,   408,    12]), 6)"
            ]
          },
          "metadata": {
            "tags": []
          },
          "execution_count": 143
        }
      ]
    },
    {
      "cell_type": "code",
      "metadata": {
        "id": "Lq9K4tisrejA"
      },
      "source": [
        "VOCAB_SIZE = len(vocab)\r\n",
        "EMBED_DIM = 32\r\n",
        "NUN_CLASS = 10\r\n",
        "model = LyricsClasificator(VOCAB_SIZE, EMBED_DIM, NUN_CLASS).to(device)"
      ],
      "execution_count": null,
      "outputs": []
    },
    {
      "cell_type": "code",
      "metadata": {
        "id": "z13RiE2a7spT"
      },
      "source": [
        "def generate_batch(batch):\r\n",
        "    label = torch.tensor([entry[1] for entry in batch])\r\n",
        "    text = [entry[0] for entry in batch]\r\n",
        "    offsets = [0] + [len(entry) for entry in text]\r\n",
        "    # torch.Tensor.cumsum returns the cumulative sum\r\n",
        "    # of elements in the dimension dim.\r\n",
        "    # torch.Tensor([1.0, 2.0, 3.0]).cumsum(dim=0)\r\n",
        "\r\n",
        "    offsets = torch.tensor(offsets[:-1]).cumsum(dim=0)\r\n",
        "    text = torch.cat(text)\r\n",
        "    return text, offsets, label"
      ],
      "execution_count": null,
      "outputs": []
    },
    {
      "cell_type": "code",
      "metadata": {
        "id": "YZGwacB37uk1"
      },
      "source": [
        "from torch.utils.data import DataLoader\r\n",
        "\r\n",
        "def train_func(sub_train_):\r\n",
        "\r\n",
        "    # Train the model\r\n",
        "    train_loss = 0\r\n",
        "    train_acc = 0\r\n",
        "    data = DataLoader(sub_train_, batch_size=BATCH_SIZE, shuffle=True,\r\n",
        "                      collate_fn=generate_batch)\r\n",
        "    for i, (text, offsets, cls) in enumerate(data):\r\n",
        "        optimizer.zero_grad()\r\n",
        "        text, offsets, cls = text.to(device), offsets.to(device), cls.to(device)\r\n",
        "        output = model(text, offsets)\r\n",
        "        loss = criterion(output, cls)\r\n",
        "        train_loss += loss.item()\r\n",
        "        loss.backward()\r\n",
        "        optimizer.step()\r\n",
        "        train_acc += (output.argmax(1) == cls).sum().item()\r\n",
        "        \r\n",
        "\r\n",
        "    # Adjust the learning rate\r\n",
        "    scheduler.step()\r\n",
        "\r\n",
        "    return train_loss / len(sub_train_), train_acc / len(sub_train_)\r\n",
        "\r\n",
        "def test(data_):\r\n",
        "    loss = 0\r\n",
        "    acc = 0\r\n",
        "    data = DataLoader(data_, batch_size=BATCH_SIZE, collate_fn=generate_batch)\r\n",
        "    for text, offsets, cls in data:\r\n",
        "        text, offsets, cls = text.to(device), offsets.to(device), cls.to(device)\r\n",
        "        with torch.no_grad():\r\n",
        "            output = model(text, offsets)\r\n",
        "            loss = criterion(output, cls)\r\n",
        "            loss += loss.item()\r\n",
        "            acc += (output.argmax(1) == cls).sum().item()\r\n",
        "\r\n",
        "    return loss / len(data_), acc / len(data_)"
      ],
      "execution_count": null,
      "outputs": []
    },
    {
      "cell_type": "code",
      "metadata": {
        "colab": {
          "base_uri": "https://localhost:8080/"
        },
        "id": "cKMCBOxy7x0b",
        "outputId": "19f711b5-c2ca-45d3-ddbb-e86f827d76c9"
      },
      "source": [
        "from torch.utils.data.dataset import random_split\r\n",
        "import time\r\n",
        "N_EPOCHS = 50\r\n",
        "min_valid_loss = float('inf')\r\n",
        "history = defaultdict(list)\r\n",
        "\r\n",
        "criterion = torch.nn.CrossEntropyLoss().to(device)\r\n",
        "optimizer = torch.optim.SGD(model.parameters(), lr=4.0)\r\n",
        "scheduler = torch.optim.lr_scheduler.StepLR(optimizer, 1, gamma=0.9)\r\n",
        "\r\n",
        "train_dataset = DS\r\n",
        "train_len = int(len(train_dataset) * 0.95)\r\n",
        "sub_train_, sub_valid_ = random_split(train_dataset, [train_len, len(train_dataset) - train_len])\r\n",
        "\r\n",
        "best_model_wts = copy.deepcopy(model.state_dict())\r\n",
        "best_acc = 0\r\n",
        "\r\n",
        "for epoch in range(N_EPOCHS):\r\n",
        "\r\n",
        "    start_time = time.time()\r\n",
        "    train_loss, train_acc = train_func(sub_train_)\r\n",
        "    valid_loss, valid_acc = test(sub_valid_)\r\n",
        "    history['train_acc'].append(train_acc)\r\n",
        "    history['val_acc'].append(valid_acc)\r\n",
        "\r\n",
        "    if valid_acc > best_acc:\r\n",
        "        best_acc = valid_acc\r\n",
        "        best_model_wts = copy.deepcopy(model.state_dict()) #I remember the best model for every epoch\r\n",
        "\r\n",
        "    secs = int(time.time() - start_time)\r\n",
        "    mins = secs / 60\r\n",
        "    secs = secs % 60\r\n",
        "\r\n",
        "    print('Epoch: %d' %(epoch + 1), \" | time in %d minutes, %d seconds\" %(mins, secs))\r\n",
        "    print(f'\\tLoss: {train_loss:.4f}(train)\\t|\\tAcc: {train_acc * 100:.1f}%(train)')\r\n",
        "    print(f'\\tLoss: {valid_loss:.4f}(valid)\\t|\\tAcc: {valid_acc * 100:.1f}%(valid)')"
      ],
      "execution_count": null,
      "outputs": [
        {
          "output_type": "stream",
          "text": [
            "Epoch: 1  | time in 0 minutes, 1 seconds\n",
            "\tLoss: 0.0863(train)\t|\tAcc: 61.8%(train)\n",
            "\tLoss: 0.0035(valid)\t|\tAcc: 57.0%(valid)\n",
            "Epoch: 2  | time in 0 minutes, 1 seconds\n",
            "\tLoss: 0.0528(train)\t|\tAcc: 71.2%(train)\n",
            "\tLoss: 0.0059(valid)\t|\tAcc: 43.0%(valid)\n",
            "Epoch: 3  | time in 0 minutes, 1 seconds\n",
            "\tLoss: 0.0479(train)\t|\tAcc: 74.1%(train)\n",
            "\tLoss: 0.0013(valid)\t|\tAcc: 72.5%(valid)\n",
            "Epoch: 4  | time in 0 minutes, 1 seconds\n",
            "\tLoss: 0.0434(train)\t|\tAcc: 76.6%(train)\n",
            "\tLoss: 0.0015(valid)\t|\tAcc: 67.8%(valid)\n",
            "Epoch: 5  | time in 0 minutes, 1 seconds\n",
            "\tLoss: 0.0402(train)\t|\tAcc: 78.1%(train)\n",
            "\tLoss: 0.0052(valid)\t|\tAcc: 56.8%(valid)\n",
            "Epoch: 6  | time in 0 minutes, 1 seconds\n",
            "\tLoss: 0.0375(train)\t|\tAcc: 79.6%(train)\n",
            "\tLoss: 0.0017(valid)\t|\tAcc: 70.5%(valid)\n",
            "Epoch: 7  | time in 0 minutes, 1 seconds\n",
            "\tLoss: 0.0348(train)\t|\tAcc: 81.3%(train)\n",
            "\tLoss: 0.0010(valid)\t|\tAcc: 67.9%(valid)\n",
            "Epoch: 8  | time in 0 minutes, 1 seconds\n",
            "\tLoss: 0.0323(train)\t|\tAcc: 82.9%(train)\n",
            "\tLoss: 0.0013(valid)\t|\tAcc: 73.2%(valid)\n",
            "Epoch: 9  | time in 0 minutes, 1 seconds\n",
            "\tLoss: 0.0306(train)\t|\tAcc: 84.2%(train)\n",
            "\tLoss: 0.0015(valid)\t|\tAcc: 75.5%(valid)\n",
            "Epoch: 10  | time in 0 minutes, 1 seconds\n",
            "\tLoss: 0.0285(train)\t|\tAcc: 85.2%(train)\n",
            "\tLoss: 0.0015(valid)\t|\tAcc: 68.7%(valid)\n",
            "Epoch: 11  | time in 0 minutes, 1 seconds\n",
            "\tLoss: 0.0272(train)\t|\tAcc: 86.0%(train)\n",
            "\tLoss: 0.0033(valid)\t|\tAcc: 64.8%(valid)\n",
            "Epoch: 12  | time in 0 minutes, 1 seconds\n",
            "\tLoss: 0.0257(train)\t|\tAcc: 87.1%(train)\n",
            "\tLoss: 0.0002(valid)\t|\tAcc: 69.8%(valid)\n",
            "Epoch: 13  | time in 0 minutes, 1 seconds\n",
            "\tLoss: 0.0243(train)\t|\tAcc: 87.8%(train)\n",
            "\tLoss: 0.0024(valid)\t|\tAcc: 62.9%(valid)\n",
            "Epoch: 14  | time in 0 minutes, 1 seconds\n",
            "\tLoss: 0.0234(train)\t|\tAcc: 88.2%(train)\n",
            "\tLoss: 0.0008(valid)\t|\tAcc: 73.8%(valid)\n",
            "Epoch: 15  | time in 0 minutes, 1 seconds\n",
            "\tLoss: 0.0221(train)\t|\tAcc: 89.3%(train)\n",
            "\tLoss: 0.0009(valid)\t|\tAcc: 74.2%(valid)\n",
            "Epoch: 16  | time in 0 minutes, 1 seconds\n",
            "\tLoss: 0.0213(train)\t|\tAcc: 89.6%(train)\n",
            "\tLoss: 0.0020(valid)\t|\tAcc: 70.5%(valid)\n",
            "Epoch: 17  | time in 0 minutes, 1 seconds\n",
            "\tLoss: 0.0206(train)\t|\tAcc: 90.2%(train)\n",
            "\tLoss: 0.0005(valid)\t|\tAcc: 67.6%(valid)\n",
            "Epoch: 18  | time in 0 minutes, 1 seconds\n",
            "\tLoss: 0.0198(train)\t|\tAcc: 90.4%(train)\n",
            "\tLoss: 0.0006(valid)\t|\tAcc: 69.0%(valid)\n",
            "Epoch: 19  | time in 0 minutes, 1 seconds\n",
            "\tLoss: 0.0192(train)\t|\tAcc: 90.9%(train)\n",
            "\tLoss: 0.0006(valid)\t|\tAcc: 74.6%(valid)\n",
            "Epoch: 20  | time in 0 minutes, 1 seconds\n",
            "\tLoss: 0.0185(train)\t|\tAcc: 91.6%(train)\n",
            "\tLoss: 0.0006(valid)\t|\tAcc: 76.1%(valid)\n",
            "Epoch: 21  | time in 0 minutes, 1 seconds\n",
            "\tLoss: 0.0181(train)\t|\tAcc: 91.7%(train)\n",
            "\tLoss: 0.0008(valid)\t|\tAcc: 74.7%(valid)\n",
            "Epoch: 22  | time in 0 minutes, 1 seconds\n",
            "\tLoss: 0.0177(train)\t|\tAcc: 92.0%(train)\n",
            "\tLoss: 0.0006(valid)\t|\tAcc: 75.3%(valid)\n",
            "Epoch: 23  | time in 0 minutes, 1 seconds\n",
            "\tLoss: 0.0172(train)\t|\tAcc: 92.4%(train)\n",
            "\tLoss: 0.0009(valid)\t|\tAcc: 75.5%(valid)\n",
            "Epoch: 24  | time in 0 minutes, 1 seconds\n",
            "\tLoss: 0.0170(train)\t|\tAcc: 92.5%(train)\n",
            "\tLoss: 0.0006(valid)\t|\tAcc: 76.0%(valid)\n",
            "Epoch: 25  | time in 0 minutes, 1 seconds\n",
            "\tLoss: 0.0166(train)\t|\tAcc: 92.9%(train)\n",
            "\tLoss: 0.0009(valid)\t|\tAcc: 75.4%(valid)\n",
            "Epoch: 26  | time in 0 minutes, 1 seconds\n",
            "\tLoss: 0.0163(train)\t|\tAcc: 93.2%(train)\n",
            "\tLoss: 0.0007(valid)\t|\tAcc: 75.3%(valid)\n",
            "Epoch: 27  | time in 0 minutes, 1 seconds\n",
            "\tLoss: 0.0161(train)\t|\tAcc: 93.1%(train)\n",
            "\tLoss: 0.0007(valid)\t|\tAcc: 75.3%(valid)\n",
            "Epoch: 28  | time in 0 minutes, 1 seconds\n",
            "\tLoss: 0.0159(train)\t|\tAcc: 93.2%(train)\n",
            "\tLoss: 0.0007(valid)\t|\tAcc: 75.2%(valid)\n",
            "Epoch: 29  | time in 0 minutes, 1 seconds\n",
            "\tLoss: 0.0156(train)\t|\tAcc: 93.5%(train)\n",
            "\tLoss: 0.0006(valid)\t|\tAcc: 75.2%(valid)\n",
            "Epoch: 30  | time in 0 minutes, 1 seconds\n",
            "\tLoss: 0.0155(train)\t|\tAcc: 93.6%(train)\n",
            "\tLoss: 0.0006(valid)\t|\tAcc: 75.1%(valid)\n",
            "Epoch: 31  | time in 0 minutes, 1 seconds\n",
            "\tLoss: 0.0153(train)\t|\tAcc: 93.8%(train)\n",
            "\tLoss: 0.0006(valid)\t|\tAcc: 74.7%(valid)\n",
            "Epoch: 32  | time in 0 minutes, 1 seconds\n",
            "\tLoss: 0.0152(train)\t|\tAcc: 93.8%(train)\n",
            "\tLoss: 0.0006(valid)\t|\tAcc: 74.8%(valid)\n",
            "Epoch: 33  | time in 0 minutes, 1 seconds\n",
            "\tLoss: 0.0151(train)\t|\tAcc: 93.8%(train)\n",
            "\tLoss: 0.0007(valid)\t|\tAcc: 74.4%(valid)\n",
            "Epoch: 34  | time in 0 minutes, 1 seconds\n",
            "\tLoss: 0.0150(train)\t|\tAcc: 94.0%(train)\n",
            "\tLoss: 0.0007(valid)\t|\tAcc: 74.7%(valid)\n",
            "Epoch: 35  | time in 0 minutes, 1 seconds\n",
            "\tLoss: 0.0149(train)\t|\tAcc: 94.0%(train)\n",
            "\tLoss: 0.0005(valid)\t|\tAcc: 74.2%(valid)\n",
            "Epoch: 36  | time in 0 minutes, 1 seconds\n",
            "\tLoss: 0.0147(train)\t|\tAcc: 94.1%(train)\n",
            "\tLoss: 0.0006(valid)\t|\tAcc: 75.2%(valid)\n",
            "Epoch: 37  | time in 0 minutes, 1 seconds\n",
            "\tLoss: 0.0147(train)\t|\tAcc: 94.1%(train)\n",
            "\tLoss: 0.0005(valid)\t|\tAcc: 74.9%(valid)\n",
            "Epoch: 38  | time in 0 minutes, 1 seconds\n",
            "\tLoss: 0.0146(train)\t|\tAcc: 94.4%(train)\n",
            "\tLoss: 0.0005(valid)\t|\tAcc: 74.6%(valid)\n",
            "Epoch: 39  | time in 0 minutes, 1 seconds\n",
            "\tLoss: 0.0146(train)\t|\tAcc: 94.3%(train)\n",
            "\tLoss: 0.0006(valid)\t|\tAcc: 75.3%(valid)\n",
            "Epoch: 40  | time in 0 minutes, 1 seconds\n",
            "\tLoss: 0.0145(train)\t|\tAcc: 94.3%(train)\n",
            "\tLoss: 0.0006(valid)\t|\tAcc: 74.9%(valid)\n",
            "Epoch: 41  | time in 0 minutes, 1 seconds\n",
            "\tLoss: 0.0144(train)\t|\tAcc: 94.4%(train)\n",
            "\tLoss: 0.0007(valid)\t|\tAcc: 75.2%(valid)\n",
            "Epoch: 42  | time in 0 minutes, 1 seconds\n",
            "\tLoss: 0.0144(train)\t|\tAcc: 94.4%(train)\n",
            "\tLoss: 0.0008(valid)\t|\tAcc: 75.5%(valid)\n",
            "Epoch: 43  | time in 0 minutes, 1 seconds\n",
            "\tLoss: 0.0144(train)\t|\tAcc: 94.4%(train)\n",
            "\tLoss: 0.0006(valid)\t|\tAcc: 74.5%(valid)\n",
            "Epoch: 44  | time in 0 minutes, 1 seconds\n",
            "\tLoss: 0.0143(train)\t|\tAcc: 94.5%(train)\n",
            "\tLoss: 0.0007(valid)\t|\tAcc: 75.3%(valid)\n",
            "Epoch: 45  | time in 0 minutes, 1 seconds\n",
            "\tLoss: 0.0143(train)\t|\tAcc: 94.5%(train)\n",
            "\tLoss: 0.0006(valid)\t|\tAcc: 75.5%(valid)\n",
            "Epoch: 46  | time in 0 minutes, 1 seconds\n",
            "\tLoss: 0.0143(train)\t|\tAcc: 94.5%(train)\n",
            "\tLoss: 0.0006(valid)\t|\tAcc: 74.6%(valid)\n",
            "Epoch: 47  | time in 0 minutes, 1 seconds\n",
            "\tLoss: 0.0142(train)\t|\tAcc: 94.5%(train)\n",
            "\tLoss: 0.0006(valid)\t|\tAcc: 74.6%(valid)\n",
            "Epoch: 48  | time in 0 minutes, 1 seconds\n",
            "\tLoss: 0.0142(train)\t|\tAcc: 94.5%(train)\n",
            "\tLoss: 0.0007(valid)\t|\tAcc: 74.8%(valid)\n",
            "Epoch: 49  | time in 0 minutes, 1 seconds\n",
            "\tLoss: 0.0142(train)\t|\tAcc: 94.6%(train)\n",
            "\tLoss: 0.0006(valid)\t|\tAcc: 74.7%(valid)\n",
            "Epoch: 50  | time in 0 minutes, 1 seconds\n",
            "\tLoss: 0.0141(train)\t|\tAcc: 94.6%(train)\n",
            "\tLoss: 0.0005(valid)\t|\tAcc: 74.7%(valid)\n"
          ],
          "name": "stdout"
        }
      ]
    },
    {
      "cell_type": "code",
      "metadata": {
        "colab": {
          "base_uri": "https://localhost:8080/",
          "height": 301
        },
        "id": "0Sftit4ySqPQ",
        "outputId": "eca057c2-f5c8-458f-c355-6ca4c6b9bda8"
      },
      "source": [
        "plt.plot(history['train_acc'], label='train accuracy')\r\n",
        "plt.plot(history['val_acc'], label='validation accuracy')\r\n",
        "\r\n",
        "plt.title('Training history')\r\n",
        "plt.ylabel('Accuracy')\r\n",
        "plt.xlabel('Epoch')\r\n",
        "plt.legend()\r\n",
        "plt.ylim([0, 1]);"
      ],
      "execution_count": null,
      "outputs": [
        {
          "output_type": "display_data",
          "data": {
            "image/png": "[encoded data removed]",
            "text/plain": [
              "<Figure size 432x288 with 1 Axes>"
            ]
          },
          "metadata": {
            "tags": []
          }
        }
      ]
    },
    {
      "cell_type": "code",
      "metadata": {
        "colab": {
          "base_uri": "https://localhost:8080/"
        },
        "id": "cgHjzXSbLAUa",
        "outputId": "08ac819c-bf72-4187-cfbc-fb78c4e88e1c"
      },
      "source": [
        "model.load_state_dict(best_model_wts)\r\n",
        "print('Checking the results of test dataset...')\r\n",
        "test_loss, test_acc = test(DS_test)\r\n",
        "print(f'\\tLoss: {test_loss:.4f}(test)\\t|\\tAcc: {test_acc * 100:.1f}%(test)')"
      ],
      "execution_count": null,
      "outputs": [
        {
          "output_type": "stream",
          "text": [
            "Checking the results of test dataset...\n",
            "\tLoss: 0.0006(test)\t|\tAcc: 36.2%(test)\n"
          ],
          "name": "stdout"
        }
      ]
    },
    {
      "cell_type": "markdown",
      "metadata": {
        "id": "LT60aLUjTjFO"
      },
      "source": [
        "Although there is a very nice learning curve (we can say that it is the only model so far that has overfitting) the model fails miserably on the test set, because the vacabular from the test set is quite different from the one learned on the train."
      ]
    }
  ]
}